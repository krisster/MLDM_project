{
  "nbformat": 4,
  "nbformat_minor": 0,
  "metadata": {
    "colab": {
      "provenance": [],
      "toc_visible": true,
      "collapsed_sections": [
        "lergJKa_jNMG"
      ]
    },
    "kernelspec": {
      "name": "python3",
      "display_name": "Python 3"
    },
    "language_info": {
      "name": "python"
    },
    "gpuClass": "standard"
  },
  "cells": [
    {
      "cell_type": "code",
      "source": [
        "import pandas as pd\n",
        "import seaborn as sns\n",
        "import os\n",
        "from zipfile import ZipFile\n",
        "from google.colab import files\n",
        "from matplotlib import pyplot as plt\n",
        "!pip install squarify\n",
        "#import squarify\n",
        "from sklearn.model_selection import train_test_split\n",
        "from sklearn.neighbors import KNeighborsClassifier\n",
        "from sklearn.pipeline import make_pipeline\n",
        "from sklearn.preprocessing import PolynomialFeatures\n",
        "from sklearn.metrics import mean_squared_error"
      ],
      "metadata": {
        "id": "5Fzpp800DHFJ",
        "colab": {
          "base_uri": "https://localhost:8080/"
        },
        "outputId": "11e92d2b-07cc-4ece-bc20-d59f7606452c"
      },
      "execution_count": null,
      "outputs": [
        {
          "output_type": "stream",
          "name": "stdout",
          "text": [
            "Looking in indexes: https://pypi.org/simple, https://us-python.pkg.dev/colab-wheels/public/simple/\n",
            "Requirement already satisfied: squarify in /usr/local/lib/python3.8/dist-packages (0.4.3)\n"
          ]
        }
      ]
    },
    {
      "cell_type": "code",
      "source": [
        "# If you don't want to download data from kaggle\n",
        "files.upload() # here choose kaggle.json\n",
        "!pip install kaggle\n",
        "!mkdir -p ~/.kaggle\n",
        "!cp kaggle.json ~/.kaggle/\n",
        "!chmod 600 /root/.kaggle/kaggle.json"
      ],
      "metadata": {
        "colab": {
          "base_uri": "https://localhost:8080/",
          "height": 300
        },
        "id": "yEr2CDMb3Ybm",
        "outputId": "cf466a51-e479-4737-c44a-e71fa53e6d35"
      },
      "execution_count": null,
      "outputs": [
        {
          "output_type": "display_data",
          "data": {
            "text/plain": [
              "<IPython.core.display.HTML object>"
            ],
            "text/html": [
              "\n",
              "     <input type=\"file\" id=\"files-8d438854-2951-46a0-81ec-1e60b82b7f8f\" name=\"files[]\" multiple disabled\n",
              "        style=\"border:none\" />\n",
              "     <output id=\"result-8d438854-2951-46a0-81ec-1e60b82b7f8f\">\n",
              "      Upload widget is only available when the cell has been executed in the\n",
              "      current browser session. Please rerun this cell to enable.\n",
              "      </output>\n",
              "      <script>// Copyright 2017 Google LLC\n",
              "//\n",
              "// Licensed under the Apache License, Version 2.0 (the \"License\");\n",
              "// you may not use this file except in compliance with the License.\n",
              "// You may obtain a copy of the License at\n",
              "//\n",
              "//      http://www.apache.org/licenses/LICENSE-2.0\n",
              "//\n",
              "// Unless required by applicable law or agreed to in writing, software\n",
              "// distributed under the License is distributed on an \"AS IS\" BASIS,\n",
              "// WITHOUT WARRANTIES OR CONDITIONS OF ANY KIND, either express or implied.\n",
              "// See the License for the specific language governing permissions and\n",
              "// limitations under the License.\n",
              "\n",
              "/**\n",
              " * @fileoverview Helpers for google.colab Python module.\n",
              " */\n",
              "(function(scope) {\n",
              "function span(text, styleAttributes = {}) {\n",
              "  const element = document.createElement('span');\n",
              "  element.textContent = text;\n",
              "  for (const key of Object.keys(styleAttributes)) {\n",
              "    element.style[key] = styleAttributes[key];\n",
              "  }\n",
              "  return element;\n",
              "}\n",
              "\n",
              "// Max number of bytes which will be uploaded at a time.\n",
              "const MAX_PAYLOAD_SIZE = 100 * 1024;\n",
              "\n",
              "function _uploadFiles(inputId, outputId) {\n",
              "  const steps = uploadFilesStep(inputId, outputId);\n",
              "  const outputElement = document.getElementById(outputId);\n",
              "  // Cache steps on the outputElement to make it available for the next call\n",
              "  // to uploadFilesContinue from Python.\n",
              "  outputElement.steps = steps;\n",
              "\n",
              "  return _uploadFilesContinue(outputId);\n",
              "}\n",
              "\n",
              "// This is roughly an async generator (not supported in the browser yet),\n",
              "// where there are multiple asynchronous steps and the Python side is going\n",
              "// to poll for completion of each step.\n",
              "// This uses a Promise to block the python side on completion of each step,\n",
              "// then passes the result of the previous step as the input to the next step.\n",
              "function _uploadFilesContinue(outputId) {\n",
              "  const outputElement = document.getElementById(outputId);\n",
              "  const steps = outputElement.steps;\n",
              "\n",
              "  const next = steps.next(outputElement.lastPromiseValue);\n",
              "  return Promise.resolve(next.value.promise).then((value) => {\n",
              "    // Cache the last promise value to make it available to the next\n",
              "    // step of the generator.\n",
              "    outputElement.lastPromiseValue = value;\n",
              "    return next.value.response;\n",
              "  });\n",
              "}\n",
              "\n",
              "/**\n",
              " * Generator function which is called between each async step of the upload\n",
              " * process.\n",
              " * @param {string} inputId Element ID of the input file picker element.\n",
              " * @param {string} outputId Element ID of the output display.\n",
              " * @return {!Iterable<!Object>} Iterable of next steps.\n",
              " */\n",
              "function* uploadFilesStep(inputId, outputId) {\n",
              "  const inputElement = document.getElementById(inputId);\n",
              "  inputElement.disabled = false;\n",
              "\n",
              "  const outputElement = document.getElementById(outputId);\n",
              "  outputElement.innerHTML = '';\n",
              "\n",
              "  const pickedPromise = new Promise((resolve) => {\n",
              "    inputElement.addEventListener('change', (e) => {\n",
              "      resolve(e.target.files);\n",
              "    });\n",
              "  });\n",
              "\n",
              "  const cancel = document.createElement('button');\n",
              "  inputElement.parentElement.appendChild(cancel);\n",
              "  cancel.textContent = 'Cancel upload';\n",
              "  const cancelPromise = new Promise((resolve) => {\n",
              "    cancel.onclick = () => {\n",
              "      resolve(null);\n",
              "    };\n",
              "  });\n",
              "\n",
              "  // Wait for the user to pick the files.\n",
              "  const files = yield {\n",
              "    promise: Promise.race([pickedPromise, cancelPromise]),\n",
              "    response: {\n",
              "      action: 'starting',\n",
              "    }\n",
              "  };\n",
              "\n",
              "  cancel.remove();\n",
              "\n",
              "  // Disable the input element since further picks are not allowed.\n",
              "  inputElement.disabled = true;\n",
              "\n",
              "  if (!files) {\n",
              "    return {\n",
              "      response: {\n",
              "        action: 'complete',\n",
              "      }\n",
              "    };\n",
              "  }\n",
              "\n",
              "  for (const file of files) {\n",
              "    const li = document.createElement('li');\n",
              "    li.append(span(file.name, {fontWeight: 'bold'}));\n",
              "    li.append(span(\n",
              "        `(${file.type || 'n/a'}) - ${file.size} bytes, ` +\n",
              "        `last modified: ${\n",
              "            file.lastModifiedDate ? file.lastModifiedDate.toLocaleDateString() :\n",
              "                                    'n/a'} - `));\n",
              "    const percent = span('0% done');\n",
              "    li.appendChild(percent);\n",
              "\n",
              "    outputElement.appendChild(li);\n",
              "\n",
              "    const fileDataPromise = new Promise((resolve) => {\n",
              "      const reader = new FileReader();\n",
              "      reader.onload = (e) => {\n",
              "        resolve(e.target.result);\n",
              "      };\n",
              "      reader.readAsArrayBuffer(file);\n",
              "    });\n",
              "    // Wait for the data to be ready.\n",
              "    let fileData = yield {\n",
              "      promise: fileDataPromise,\n",
              "      response: {\n",
              "        action: 'continue',\n",
              "      }\n",
              "    };\n",
              "\n",
              "    // Use a chunked sending to avoid message size limits. See b/62115660.\n",
              "    let position = 0;\n",
              "    do {\n",
              "      const length = Math.min(fileData.byteLength - position, MAX_PAYLOAD_SIZE);\n",
              "      const chunk = new Uint8Array(fileData, position, length);\n",
              "      position += length;\n",
              "\n",
              "      const base64 = btoa(String.fromCharCode.apply(null, chunk));\n",
              "      yield {\n",
              "        response: {\n",
              "          action: 'append',\n",
              "          file: file.name,\n",
              "          data: base64,\n",
              "        },\n",
              "      };\n",
              "\n",
              "      let percentDone = fileData.byteLength === 0 ?\n",
              "          100 :\n",
              "          Math.round((position / fileData.byteLength) * 100);\n",
              "      percent.textContent = `${percentDone}% done`;\n",
              "\n",
              "    } while (position < fileData.byteLength);\n",
              "  }\n",
              "\n",
              "  // All done.\n",
              "  yield {\n",
              "    response: {\n",
              "      action: 'complete',\n",
              "    }\n",
              "  };\n",
              "}\n",
              "\n",
              "scope.google = scope.google || {};\n",
              "scope.google.colab = scope.google.colab || {};\n",
              "scope.google.colab._files = {\n",
              "  _uploadFiles,\n",
              "  _uploadFilesContinue,\n",
              "};\n",
              "})(self);\n",
              "</script> "
            ]
          },
          "metadata": {}
        },
        {
          "output_type": "stream",
          "name": "stdout",
          "text": [
            "Saving kaggle.json to kaggle (1).json\n",
            "Looking in indexes: https://pypi.org/simple, https://us-python.pkg.dev/colab-wheels/public/simple/\n",
            "Requirement already satisfied: kaggle in /usr/local/lib/python3.8/dist-packages (1.5.12)\n",
            "Requirement already satisfied: six>=1.10 in /usr/local/lib/python3.8/dist-packages (from kaggle) (1.15.0)\n",
            "Requirement already satisfied: requests in /usr/local/lib/python3.8/dist-packages (from kaggle) (2.23.0)\n",
            "Requirement already satisfied: python-dateutil in /usr/local/lib/python3.8/dist-packages (from kaggle) (2.8.2)\n",
            "Requirement already satisfied: urllib3 in /usr/local/lib/python3.8/dist-packages (from kaggle) (1.24.3)\n",
            "Requirement already satisfied: python-slugify in /usr/local/lib/python3.8/dist-packages (from kaggle) (7.0.0)\n",
            "Requirement already satisfied: certifi in /usr/local/lib/python3.8/dist-packages (from kaggle) (2022.9.24)\n",
            "Requirement already satisfied: tqdm in /usr/local/lib/python3.8/dist-packages (from kaggle) (4.64.1)\n",
            "Requirement already satisfied: text-unidecode>=1.3 in /usr/local/lib/python3.8/dist-packages (from python-slugify->kaggle) (1.3)\n",
            "Requirement already satisfied: chardet<4,>=3.0.2 in /usr/local/lib/python3.8/dist-packages (from requests->kaggle) (3.0.4)\n",
            "Requirement already satisfied: idna<3,>=2.5 in /usr/local/lib/python3.8/dist-packages (from requests->kaggle) (2.10)\n"
          ]
        }
      ]
    },
    {
      "cell_type": "code",
      "source": [
        "#!kaggle datasets list -s h-and-m-personalized-fashion-recommendations"
      ],
      "metadata": {
        "id": "2gkiTsgJzv9Y"
      },
      "execution_count": null,
      "outputs": []
    },
    {
      "cell_type": "code",
      "source": [
        "!kaggle competitions download -c h-and-m-personalized-fashion-recommendations"
      ],
      "metadata": {
        "colab": {
          "base_uri": "https://localhost:8080/"
        },
        "id": "9cBgorWt0EFa",
        "outputId": "68c6f919-d469-4671-d6b4-ad338ca9d9cb"
      },
      "execution_count": null,
      "outputs": [
        {
          "output_type": "stream",
          "name": "stdout",
          "text": [
            "Downloading h-and-m-personalized-fashion-recommendations.zip to /content\n",
            "100% 28.7G/28.7G [16:49<00:00, 39.6MB/s]\n",
            "100% 28.7G/28.7G [16:49<00:00, 30.5MB/s]\n"
          ]
        }
      ]
    },
    {
      "cell_type": "code",
      "source": [
        "# Bad way as there are lots of images\n",
        "#!unzip h-and-m-personalized-fashion-recommendations.zip -d data"
      ],
      "metadata": {
        "id": "xICWKti_93vh"
      },
      "execution_count": null,
      "outputs": []
    },
    {
      "cell_type": "code",
      "source": [
        "# Create a ZipFile Object and load sample.zip in it\n",
        "with ZipFile('h-and-m-personalized-fashion-recommendations.zip', 'r') as zipObj:\n",
        "   # Get a list of all archived file names from the zip\n",
        "   listOfFileNames = zipObj.namelist()\n",
        "   # Iterate over the file names\n",
        "   for fileName in listOfFileNames:\n",
        "       # Check filename ends with csv\n",
        "       if fileName.endswith('.csv'):\n",
        "           # Extract a single file from zip\n",
        "           zipObj.extract(fileName)"
      ],
      "metadata": {
        "id": "2AT6dx2UNcgg"
      },
      "execution_count": null,
      "outputs": []
    },
    {
      "cell_type": "code",
      "source": [
        "# Read data\n",
        "articles = pd.read_csv(\"articles.csv\")\n",
        "customers = pd.read_csv(\"customers.csv\")\n",
        "transactions = pd.read_csv(\"transactions_train.csv\") # or \"new_trans.csv\""
      ],
      "metadata": {
        "id": "WiRVMyfhRZ3g"
      },
      "execution_count": null,
      "outputs": []
    },
    {
      "cell_type": "markdown",
      "source": [
        "# Articles\n",
        "contribution: Kristina"
      ],
      "metadata": {
        "id": "9s4nUSXrizp3"
      }
    },
    {
      "cell_type": "code",
      "source": [
        " articles.head()"
      ],
      "metadata": {
        "colab": {
          "base_uri": "https://localhost:8080/",
          "height": 560
        },
        "id": "zhu705S1SvbL",
        "outputId": "e8451174-ad0f-4cb6-ef3b-617d71905d1d"
      },
      "execution_count": null,
      "outputs": [
        {
          "output_type": "execute_result",
          "data": {
            "text/plain": [
              "   article_id  product_code          prod_name  product_type_no  \\\n",
              "0   108775015        108775          Strap top              253   \n",
              "1   108775044        108775          Strap top              253   \n",
              "2   108775051        108775      Strap top (1)              253   \n",
              "3   110065001        110065  OP T-shirt (Idro)              306   \n",
              "4   110065002        110065  OP T-shirt (Idro)              306   \n",
              "\n",
              "  product_type_name  product_group_name  graphical_appearance_no  \\\n",
              "0          Vest top  Garment Upper body                  1010016   \n",
              "1          Vest top  Garment Upper body                  1010016   \n",
              "2          Vest top  Garment Upper body                  1010017   \n",
              "3               Bra           Underwear                  1010016   \n",
              "4               Bra           Underwear                  1010016   \n",
              "\n",
              "  graphical_appearance_name  colour_group_code colour_group_name  ...  \\\n",
              "0                     Solid                  9             Black  ...   \n",
              "1                     Solid                 10             White  ...   \n",
              "2                    Stripe                 11         Off White  ...   \n",
              "3                     Solid                  9             Black  ...   \n",
              "4                     Solid                 10             White  ...   \n",
              "\n",
              "   department_name index_code        index_name index_group_no  \\\n",
              "0     Jersey Basic          A        Ladieswear              1   \n",
              "1     Jersey Basic          A        Ladieswear              1   \n",
              "2     Jersey Basic          A        Ladieswear              1   \n",
              "3   Clean Lingerie          B  Lingeries/Tights              1   \n",
              "4   Clean Lingerie          B  Lingeries/Tights              1   \n",
              "\n",
              "   index_group_name section_no            section_name garment_group_no  \\\n",
              "0        Ladieswear         16  Womens Everyday Basics             1002   \n",
              "1        Ladieswear         16  Womens Everyday Basics             1002   \n",
              "2        Ladieswear         16  Womens Everyday Basics             1002   \n",
              "3        Ladieswear         61         Womens Lingerie             1017   \n",
              "4        Ladieswear         61         Womens Lingerie             1017   \n",
              "\n",
              "   garment_group_name                                        detail_desc  \n",
              "0        Jersey Basic            Jersey top with narrow shoulder straps.  \n",
              "1        Jersey Basic            Jersey top with narrow shoulder straps.  \n",
              "2        Jersey Basic            Jersey top with narrow shoulder straps.  \n",
              "3   Under-, Nightwear  Microfibre T-shirt bra with underwired, moulde...  \n",
              "4   Under-, Nightwear  Microfibre T-shirt bra with underwired, moulde...  \n",
              "\n",
              "[5 rows x 25 columns]"
            ],
            "text/html": [
              "\n",
              "  <div id=\"df-6e411f28-c768-433d-be0c-59a3ba30b5ce\">\n",
              "    <div class=\"colab-df-container\">\n",
              "      <div>\n",
              "<style scoped>\n",
              "    .dataframe tbody tr th:only-of-type {\n",
              "        vertical-align: middle;\n",
              "    }\n",
              "\n",
              "    .dataframe tbody tr th {\n",
              "        vertical-align: top;\n",
              "    }\n",
              "\n",
              "    .dataframe thead th {\n",
              "        text-align: right;\n",
              "    }\n",
              "</style>\n",
              "<table border=\"1\" class=\"dataframe\">\n",
              "  <thead>\n",
              "    <tr style=\"text-align: right;\">\n",
              "      <th></th>\n",
              "      <th>article_id</th>\n",
              "      <th>product_code</th>\n",
              "      <th>prod_name</th>\n",
              "      <th>product_type_no</th>\n",
              "      <th>product_type_name</th>\n",
              "      <th>product_group_name</th>\n",
              "      <th>graphical_appearance_no</th>\n",
              "      <th>graphical_appearance_name</th>\n",
              "      <th>colour_group_code</th>\n",
              "      <th>colour_group_name</th>\n",
              "      <th>...</th>\n",
              "      <th>department_name</th>\n",
              "      <th>index_code</th>\n",
              "      <th>index_name</th>\n",
              "      <th>index_group_no</th>\n",
              "      <th>index_group_name</th>\n",
              "      <th>section_no</th>\n",
              "      <th>section_name</th>\n",
              "      <th>garment_group_no</th>\n",
              "      <th>garment_group_name</th>\n",
              "      <th>detail_desc</th>\n",
              "    </tr>\n",
              "  </thead>\n",
              "  <tbody>\n",
              "    <tr>\n",
              "      <th>0</th>\n",
              "      <td>108775015</td>\n",
              "      <td>108775</td>\n",
              "      <td>Strap top</td>\n",
              "      <td>253</td>\n",
              "      <td>Vest top</td>\n",
              "      <td>Garment Upper body</td>\n",
              "      <td>1010016</td>\n",
              "      <td>Solid</td>\n",
              "      <td>9</td>\n",
              "      <td>Black</td>\n",
              "      <td>...</td>\n",
              "      <td>Jersey Basic</td>\n",
              "      <td>A</td>\n",
              "      <td>Ladieswear</td>\n",
              "      <td>1</td>\n",
              "      <td>Ladieswear</td>\n",
              "      <td>16</td>\n",
              "      <td>Womens Everyday Basics</td>\n",
              "      <td>1002</td>\n",
              "      <td>Jersey Basic</td>\n",
              "      <td>Jersey top with narrow shoulder straps.</td>\n",
              "    </tr>\n",
              "    <tr>\n",
              "      <th>1</th>\n",
              "      <td>108775044</td>\n",
              "      <td>108775</td>\n",
              "      <td>Strap top</td>\n",
              "      <td>253</td>\n",
              "      <td>Vest top</td>\n",
              "      <td>Garment Upper body</td>\n",
              "      <td>1010016</td>\n",
              "      <td>Solid</td>\n",
              "      <td>10</td>\n",
              "      <td>White</td>\n",
              "      <td>...</td>\n",
              "      <td>Jersey Basic</td>\n",
              "      <td>A</td>\n",
              "      <td>Ladieswear</td>\n",
              "      <td>1</td>\n",
              "      <td>Ladieswear</td>\n",
              "      <td>16</td>\n",
              "      <td>Womens Everyday Basics</td>\n",
              "      <td>1002</td>\n",
              "      <td>Jersey Basic</td>\n",
              "      <td>Jersey top with narrow shoulder straps.</td>\n",
              "    </tr>\n",
              "    <tr>\n",
              "      <th>2</th>\n",
              "      <td>108775051</td>\n",
              "      <td>108775</td>\n",
              "      <td>Strap top (1)</td>\n",
              "      <td>253</td>\n",
              "      <td>Vest top</td>\n",
              "      <td>Garment Upper body</td>\n",
              "      <td>1010017</td>\n",
              "      <td>Stripe</td>\n",
              "      <td>11</td>\n",
              "      <td>Off White</td>\n",
              "      <td>...</td>\n",
              "      <td>Jersey Basic</td>\n",
              "      <td>A</td>\n",
              "      <td>Ladieswear</td>\n",
              "      <td>1</td>\n",
              "      <td>Ladieswear</td>\n",
              "      <td>16</td>\n",
              "      <td>Womens Everyday Basics</td>\n",
              "      <td>1002</td>\n",
              "      <td>Jersey Basic</td>\n",
              "      <td>Jersey top with narrow shoulder straps.</td>\n",
              "    </tr>\n",
              "    <tr>\n",
              "      <th>3</th>\n",
              "      <td>110065001</td>\n",
              "      <td>110065</td>\n",
              "      <td>OP T-shirt (Idro)</td>\n",
              "      <td>306</td>\n",
              "      <td>Bra</td>\n",
              "      <td>Underwear</td>\n",
              "      <td>1010016</td>\n",
              "      <td>Solid</td>\n",
              "      <td>9</td>\n",
              "      <td>Black</td>\n",
              "      <td>...</td>\n",
              "      <td>Clean Lingerie</td>\n",
              "      <td>B</td>\n",
              "      <td>Lingeries/Tights</td>\n",
              "      <td>1</td>\n",
              "      <td>Ladieswear</td>\n",
              "      <td>61</td>\n",
              "      <td>Womens Lingerie</td>\n",
              "      <td>1017</td>\n",
              "      <td>Under-, Nightwear</td>\n",
              "      <td>Microfibre T-shirt bra with underwired, moulde...</td>\n",
              "    </tr>\n",
              "    <tr>\n",
              "      <th>4</th>\n",
              "      <td>110065002</td>\n",
              "      <td>110065</td>\n",
              "      <td>OP T-shirt (Idro)</td>\n",
              "      <td>306</td>\n",
              "      <td>Bra</td>\n",
              "      <td>Underwear</td>\n",
              "      <td>1010016</td>\n",
              "      <td>Solid</td>\n",
              "      <td>10</td>\n",
              "      <td>White</td>\n",
              "      <td>...</td>\n",
              "      <td>Clean Lingerie</td>\n",
              "      <td>B</td>\n",
              "      <td>Lingeries/Tights</td>\n",
              "      <td>1</td>\n",
              "      <td>Ladieswear</td>\n",
              "      <td>61</td>\n",
              "      <td>Womens Lingerie</td>\n",
              "      <td>1017</td>\n",
              "      <td>Under-, Nightwear</td>\n",
              "      <td>Microfibre T-shirt bra with underwired, moulde...</td>\n",
              "    </tr>\n",
              "  </tbody>\n",
              "</table>\n",
              "<p>5 rows × 25 columns</p>\n",
              "</div>\n",
              "      <button class=\"colab-df-convert\" onclick=\"convertToInteractive('df-6e411f28-c768-433d-be0c-59a3ba30b5ce')\"\n",
              "              title=\"Convert this dataframe to an interactive table.\"\n",
              "              style=\"display:none;\">\n",
              "        \n",
              "  <svg xmlns=\"http://www.w3.org/2000/svg\" height=\"24px\"viewBox=\"0 0 24 24\"\n",
              "       width=\"24px\">\n",
              "    <path d=\"M0 0h24v24H0V0z\" fill=\"none\"/>\n",
              "    <path d=\"M18.56 5.44l.94 2.06.94-2.06 2.06-.94-2.06-.94-.94-2.06-.94 2.06-2.06.94zm-11 1L8.5 8.5l.94-2.06 2.06-.94-2.06-.94L8.5 2.5l-.94 2.06-2.06.94zm10 10l.94 2.06.94-2.06 2.06-.94-2.06-.94-.94-2.06-.94 2.06-2.06.94z\"/><path d=\"M17.41 7.96l-1.37-1.37c-.4-.4-.92-.59-1.43-.59-.52 0-1.04.2-1.43.59L10.3 9.45l-7.72 7.72c-.78.78-.78 2.05 0 2.83L4 21.41c.39.39.9.59 1.41.59.51 0 1.02-.2 1.41-.59l7.78-7.78 2.81-2.81c.8-.78.8-2.07 0-2.86zM5.41 20L4 18.59l7.72-7.72 1.47 1.35L5.41 20z\"/>\n",
              "  </svg>\n",
              "      </button>\n",
              "      \n",
              "  <style>\n",
              "    .colab-df-container {\n",
              "      display:flex;\n",
              "      flex-wrap:wrap;\n",
              "      gap: 12px;\n",
              "    }\n",
              "\n",
              "    .colab-df-convert {\n",
              "      background-color: #E8F0FE;\n",
              "      border: none;\n",
              "      border-radius: 50%;\n",
              "      cursor: pointer;\n",
              "      display: none;\n",
              "      fill: #1967D2;\n",
              "      height: 32px;\n",
              "      padding: 0 0 0 0;\n",
              "      width: 32px;\n",
              "    }\n",
              "\n",
              "    .colab-df-convert:hover {\n",
              "      background-color: #E2EBFA;\n",
              "      box-shadow: 0px 1px 2px rgba(60, 64, 67, 0.3), 0px 1px 3px 1px rgba(60, 64, 67, 0.15);\n",
              "      fill: #174EA6;\n",
              "    }\n",
              "\n",
              "    [theme=dark] .colab-df-convert {\n",
              "      background-color: #3B4455;\n",
              "      fill: #D2E3FC;\n",
              "    }\n",
              "\n",
              "    [theme=dark] .colab-df-convert:hover {\n",
              "      background-color: #434B5C;\n",
              "      box-shadow: 0px 1px 3px 1px rgba(0, 0, 0, 0.15);\n",
              "      filter: drop-shadow(0px 1px 2px rgba(0, 0, 0, 0.3));\n",
              "      fill: #FFFFFF;\n",
              "    }\n",
              "  </style>\n",
              "\n",
              "      <script>\n",
              "        const buttonEl =\n",
              "          document.querySelector('#df-6e411f28-c768-433d-be0c-59a3ba30b5ce button.colab-df-convert');\n",
              "        buttonEl.style.display =\n",
              "          google.colab.kernel.accessAllowed ? 'block' : 'none';\n",
              "\n",
              "        async function convertToInteractive(key) {\n",
              "          const element = document.querySelector('#df-6e411f28-c768-433d-be0c-59a3ba30b5ce');\n",
              "          const dataTable =\n",
              "            await google.colab.kernel.invokeFunction('convertToInteractive',\n",
              "                                                     [key], {});\n",
              "          if (!dataTable) return;\n",
              "\n",
              "          const docLinkHtml = 'Like what you see? Visit the ' +\n",
              "            '<a target=\"_blank\" href=https://colab.research.google.com/notebooks/data_table.ipynb>data table notebook</a>'\n",
              "            + ' to learn more about interactive tables.';\n",
              "          element.innerHTML = '';\n",
              "          dataTable['output_type'] = 'display_data';\n",
              "          await google.colab.output.renderOutput(dataTable, element);\n",
              "          const docLink = document.createElement('div');\n",
              "          docLink.innerHTML = docLinkHtml;\n",
              "          element.appendChild(docLink);\n",
              "        }\n",
              "      </script>\n",
              "    </div>\n",
              "  </div>\n",
              "  "
            ]
          },
          "metadata": {},
          "execution_count": 9
        }
      ]
    },
    {
      "cell_type": "code",
      "source": [
        "articles.columns"
      ],
      "metadata": {
        "id": "mqT-mcMWUxck",
        "colab": {
          "base_uri": "https://localhost:8080/"
        },
        "outputId": "761087f9-774d-468a-bf15-1c28e892802c"
      },
      "execution_count": null,
      "outputs": [
        {
          "output_type": "execute_result",
          "data": {
            "text/plain": [
              "Index(['article_id', 'product_code', 'prod_name', 'product_type_no',\n",
              "       'product_type_name', 'product_group_name', 'graphical_appearance_no',\n",
              "       'graphical_appearance_name', 'colour_group_code', 'colour_group_name',\n",
              "       'perceived_colour_value_id', 'perceived_colour_value_name',\n",
              "       'perceived_colour_master_id', 'perceived_colour_master_name',\n",
              "       'department_no', 'department_name', 'index_code', 'index_name',\n",
              "       'index_group_no', 'index_group_name', 'section_no', 'section_name',\n",
              "       'garment_group_no', 'garment_group_name', 'detail_desc'],\n",
              "      dtype='object')"
            ]
          },
          "metadata": {},
          "execution_count": 10
        }
      ]
    },
    {
      "cell_type": "code",
      "source": [
        "# Select the most interesting columns\n",
        "\n",
        "articles = articles[['article_id', 'product_code', 'prod_name',\n",
        "       'product_type_name', 'product_group_name', 'colour_group_name',\n",
        "       'department_name', 'index_name', 'index_group_name', 'section_name']]"
      ],
      "metadata": {
        "id": "sR6uWop1WcAD"
      },
      "execution_count": null,
      "outputs": []
    },
    {
      "cell_type": "code",
      "source": [
        "articles.product_group_name.unique()"
      ],
      "metadata": {
        "colab": {
          "base_uri": "https://localhost:8080/"
        },
        "id": "k25_JjNvauwP",
        "outputId": "088cb54b-e3f3-48b9-9700-0e310e60c643"
      },
      "execution_count": null,
      "outputs": [
        {
          "output_type": "execute_result",
          "data": {
            "text/plain": [
              "array(['Garment Upper body', 'Underwear', 'Socks & Tights',\n",
              "       'Garment Lower body', 'Accessories', 'Items', 'Nightwear',\n",
              "       'Unknown', 'Underwear/nightwear', 'Shoes', 'Swimwear',\n",
              "       'Garment Full body', 'Cosmetic', 'Interior textile', 'Bags',\n",
              "       'Furniture', 'Garment and Shoe care', 'Fun', 'Stationery'],\n",
              "      dtype=object)"
            ]
          },
          "metadata": {},
          "execution_count": 12
        }
      ]
    },
    {
      "cell_type": "code",
      "source": [
        "# Let's analyse what is the most diverse type of cloth in terms of number of items.\n",
        "type_group = articles.groupby(['product_group_name'], as_index = False).count()\n",
        "type_group = type_group.iloc[:,:2]\n",
        "type_group.columns = ['categories', 'number_of_items']\n",
        "type_group['number_of_items'].sum()\n",
        "type_group['share_category, %'] = type_group['number_of_items']/type_group['number_of_items'].sum()*100\n",
        "type_group.sort_values(by=['share_category, %'], ascending=False)"
      ],
      "metadata": {
        "colab": {
          "base_uri": "https://localhost:8080/",
          "height": 645
        },
        "id": "dKr2b0QvYEet",
        "outputId": "0838e8ea-f600-4ede-f664-8acd971a1549"
      },
      "execution_count": null,
      "outputs": [
        {
          "output_type": "execute_result",
          "data": {
            "text/plain": [
              "               categories  number_of_items  share_category, %\n",
              "7      Garment Upper body            42741          40.496674\n",
              "6      Garment Lower body            19812          18.771674\n",
              "5       Garment Full body            13292          12.594038\n",
              "0             Accessories            11158          10.572095\n",
              "16              Underwear             5490           5.201721\n",
              "12                  Shoes             5283           5.005590\n",
              "15               Swimwear             3127           2.962802\n",
              "13         Socks & Tights             2442           2.313771\n",
              "11              Nightwear             1899           1.799284\n",
              "18                Unknown              121           0.114646\n",
              "17    Underwear/nightwear               54           0.051164\n",
              "2                Cosmetic               49           0.046427\n",
              "1                    Bags               25           0.023687\n",
              "10                  Items               17           0.016107\n",
              "4               Furniture               13           0.012317\n",
              "8   Garment and Shoe care                9           0.008527\n",
              "14             Stationery                5           0.004737\n",
              "9        Interior textile                3           0.002842\n",
              "3                     Fun                2           0.001895"
            ],
            "text/html": [
              "\n",
              "  <div id=\"df-477c72b9-95d2-494c-986a-5af57cd5d586\">\n",
              "    <div class=\"colab-df-container\">\n",
              "      <div>\n",
              "<style scoped>\n",
              "    .dataframe tbody tr th:only-of-type {\n",
              "        vertical-align: middle;\n",
              "    }\n",
              "\n",
              "    .dataframe tbody tr th {\n",
              "        vertical-align: top;\n",
              "    }\n",
              "\n",
              "    .dataframe thead th {\n",
              "        text-align: right;\n",
              "    }\n",
              "</style>\n",
              "<table border=\"1\" class=\"dataframe\">\n",
              "  <thead>\n",
              "    <tr style=\"text-align: right;\">\n",
              "      <th></th>\n",
              "      <th>categories</th>\n",
              "      <th>number_of_items</th>\n",
              "      <th>share_category, %</th>\n",
              "    </tr>\n",
              "  </thead>\n",
              "  <tbody>\n",
              "    <tr>\n",
              "      <th>7</th>\n",
              "      <td>Garment Upper body</td>\n",
              "      <td>42741</td>\n",
              "      <td>40.496674</td>\n",
              "    </tr>\n",
              "    <tr>\n",
              "      <th>6</th>\n",
              "      <td>Garment Lower body</td>\n",
              "      <td>19812</td>\n",
              "      <td>18.771674</td>\n",
              "    </tr>\n",
              "    <tr>\n",
              "      <th>5</th>\n",
              "      <td>Garment Full body</td>\n",
              "      <td>13292</td>\n",
              "      <td>12.594038</td>\n",
              "    </tr>\n",
              "    <tr>\n",
              "      <th>0</th>\n",
              "      <td>Accessories</td>\n",
              "      <td>11158</td>\n",
              "      <td>10.572095</td>\n",
              "    </tr>\n",
              "    <tr>\n",
              "      <th>16</th>\n",
              "      <td>Underwear</td>\n",
              "      <td>5490</td>\n",
              "      <td>5.201721</td>\n",
              "    </tr>\n",
              "    <tr>\n",
              "      <th>12</th>\n",
              "      <td>Shoes</td>\n",
              "      <td>5283</td>\n",
              "      <td>5.005590</td>\n",
              "    </tr>\n",
              "    <tr>\n",
              "      <th>15</th>\n",
              "      <td>Swimwear</td>\n",
              "      <td>3127</td>\n",
              "      <td>2.962802</td>\n",
              "    </tr>\n",
              "    <tr>\n",
              "      <th>13</th>\n",
              "      <td>Socks &amp; Tights</td>\n",
              "      <td>2442</td>\n",
              "      <td>2.313771</td>\n",
              "    </tr>\n",
              "    <tr>\n",
              "      <th>11</th>\n",
              "      <td>Nightwear</td>\n",
              "      <td>1899</td>\n",
              "      <td>1.799284</td>\n",
              "    </tr>\n",
              "    <tr>\n",
              "      <th>18</th>\n",
              "      <td>Unknown</td>\n",
              "      <td>121</td>\n",
              "      <td>0.114646</td>\n",
              "    </tr>\n",
              "    <tr>\n",
              "      <th>17</th>\n",
              "      <td>Underwear/nightwear</td>\n",
              "      <td>54</td>\n",
              "      <td>0.051164</td>\n",
              "    </tr>\n",
              "    <tr>\n",
              "      <th>2</th>\n",
              "      <td>Cosmetic</td>\n",
              "      <td>49</td>\n",
              "      <td>0.046427</td>\n",
              "    </tr>\n",
              "    <tr>\n",
              "      <th>1</th>\n",
              "      <td>Bags</td>\n",
              "      <td>25</td>\n",
              "      <td>0.023687</td>\n",
              "    </tr>\n",
              "    <tr>\n",
              "      <th>10</th>\n",
              "      <td>Items</td>\n",
              "      <td>17</td>\n",
              "      <td>0.016107</td>\n",
              "    </tr>\n",
              "    <tr>\n",
              "      <th>4</th>\n",
              "      <td>Furniture</td>\n",
              "      <td>13</td>\n",
              "      <td>0.012317</td>\n",
              "    </tr>\n",
              "    <tr>\n",
              "      <th>8</th>\n",
              "      <td>Garment and Shoe care</td>\n",
              "      <td>9</td>\n",
              "      <td>0.008527</td>\n",
              "    </tr>\n",
              "    <tr>\n",
              "      <th>14</th>\n",
              "      <td>Stationery</td>\n",
              "      <td>5</td>\n",
              "      <td>0.004737</td>\n",
              "    </tr>\n",
              "    <tr>\n",
              "      <th>9</th>\n",
              "      <td>Interior textile</td>\n",
              "      <td>3</td>\n",
              "      <td>0.002842</td>\n",
              "    </tr>\n",
              "    <tr>\n",
              "      <th>3</th>\n",
              "      <td>Fun</td>\n",
              "      <td>2</td>\n",
              "      <td>0.001895</td>\n",
              "    </tr>\n",
              "  </tbody>\n",
              "</table>\n",
              "</div>\n",
              "      <button class=\"colab-df-convert\" onclick=\"convertToInteractive('df-477c72b9-95d2-494c-986a-5af57cd5d586')\"\n",
              "              title=\"Convert this dataframe to an interactive table.\"\n",
              "              style=\"display:none;\">\n",
              "        \n",
              "  <svg xmlns=\"http://www.w3.org/2000/svg\" height=\"24px\"viewBox=\"0 0 24 24\"\n",
              "       width=\"24px\">\n",
              "    <path d=\"M0 0h24v24H0V0z\" fill=\"none\"/>\n",
              "    <path d=\"M18.56 5.44l.94 2.06.94-2.06 2.06-.94-2.06-.94-.94-2.06-.94 2.06-2.06.94zm-11 1L8.5 8.5l.94-2.06 2.06-.94-2.06-.94L8.5 2.5l-.94 2.06-2.06.94zm10 10l.94 2.06.94-2.06 2.06-.94-2.06-.94-.94-2.06-.94 2.06-2.06.94z\"/><path d=\"M17.41 7.96l-1.37-1.37c-.4-.4-.92-.59-1.43-.59-.52 0-1.04.2-1.43.59L10.3 9.45l-7.72 7.72c-.78.78-.78 2.05 0 2.83L4 21.41c.39.39.9.59 1.41.59.51 0 1.02-.2 1.41-.59l7.78-7.78 2.81-2.81c.8-.78.8-2.07 0-2.86zM5.41 20L4 18.59l7.72-7.72 1.47 1.35L5.41 20z\"/>\n",
              "  </svg>\n",
              "      </button>\n",
              "      \n",
              "  <style>\n",
              "    .colab-df-container {\n",
              "      display:flex;\n",
              "      flex-wrap:wrap;\n",
              "      gap: 12px;\n",
              "    }\n",
              "\n",
              "    .colab-df-convert {\n",
              "      background-color: #E8F0FE;\n",
              "      border: none;\n",
              "      border-radius: 50%;\n",
              "      cursor: pointer;\n",
              "      display: none;\n",
              "      fill: #1967D2;\n",
              "      height: 32px;\n",
              "      padding: 0 0 0 0;\n",
              "      width: 32px;\n",
              "    }\n",
              "\n",
              "    .colab-df-convert:hover {\n",
              "      background-color: #E2EBFA;\n",
              "      box-shadow: 0px 1px 2px rgba(60, 64, 67, 0.3), 0px 1px 3px 1px rgba(60, 64, 67, 0.15);\n",
              "      fill: #174EA6;\n",
              "    }\n",
              "\n",
              "    [theme=dark] .colab-df-convert {\n",
              "      background-color: #3B4455;\n",
              "      fill: #D2E3FC;\n",
              "    }\n",
              "\n",
              "    [theme=dark] .colab-df-convert:hover {\n",
              "      background-color: #434B5C;\n",
              "      box-shadow: 0px 1px 3px 1px rgba(0, 0, 0, 0.15);\n",
              "      filter: drop-shadow(0px 1px 2px rgba(0, 0, 0, 0.3));\n",
              "      fill: #FFFFFF;\n",
              "    }\n",
              "  </style>\n",
              "\n",
              "      <script>\n",
              "        const buttonEl =\n",
              "          document.querySelector('#df-477c72b9-95d2-494c-986a-5af57cd5d586 button.colab-df-convert');\n",
              "        buttonEl.style.display =\n",
              "          google.colab.kernel.accessAllowed ? 'block' : 'none';\n",
              "\n",
              "        async function convertToInteractive(key) {\n",
              "          const element = document.querySelector('#df-477c72b9-95d2-494c-986a-5af57cd5d586');\n",
              "          const dataTable =\n",
              "            await google.colab.kernel.invokeFunction('convertToInteractive',\n",
              "                                                     [key], {});\n",
              "          if (!dataTable) return;\n",
              "\n",
              "          const docLinkHtml = 'Like what you see? Visit the ' +\n",
              "            '<a target=\"_blank\" href=https://colab.research.google.com/notebooks/data_table.ipynb>data table notebook</a>'\n",
              "            + ' to learn more about interactive tables.';\n",
              "          element.innerHTML = '';\n",
              "          dataTable['output_type'] = 'display_data';\n",
              "          await google.colab.output.renderOutput(dataTable, element);\n",
              "          const docLink = document.createElement('div');\n",
              "          docLink.innerHTML = docLinkHtml;\n",
              "          element.appendChild(docLink);\n",
              "        }\n",
              "      </script>\n",
              "    </div>\n",
              "  </div>\n",
              "  "
            ]
          },
          "metadata": {},
          "execution_count": 8
        }
      ]
    },
    {
      "cell_type": "code",
      "source": [
        "type_group = type_group[type_group['number_of_items'] > 2000]\n",
        "#type_group['scale'] = (type_group['number_of_items'] - min(type_group['number_of_items']))/min(type_group['number_of_items'])\n",
        "type_group"
      ],
      "metadata": {
        "colab": {
          "base_uri": "https://localhost:8080/",
          "height": 300
        },
        "id": "2lde0LoK5r6o",
        "outputId": "16562fd1-ffc4-4186-96dc-46d144536b8e"
      },
      "execution_count": null,
      "outputs": [
        {
          "output_type": "execute_result",
          "data": {
            "text/plain": [
              "            categories  number_of_items  share_category, %\n",
              "0          Accessories            11158          10.572095\n",
              "5    Garment Full body            13292          12.594038\n",
              "6   Garment Lower body            19812          18.771674\n",
              "7   Garment Upper body            42741          40.496674\n",
              "12               Shoes             5283           5.005590\n",
              "13      Socks & Tights             2442           2.313771\n",
              "15            Swimwear             3127           2.962802\n",
              "16           Underwear             5490           5.201721"
            ],
            "text/html": [
              "\n",
              "  <div id=\"df-374cbee2-8726-4609-8db4-f117851c6d81\">\n",
              "    <div class=\"colab-df-container\">\n",
              "      <div>\n",
              "<style scoped>\n",
              "    .dataframe tbody tr th:only-of-type {\n",
              "        vertical-align: middle;\n",
              "    }\n",
              "\n",
              "    .dataframe tbody tr th {\n",
              "        vertical-align: top;\n",
              "    }\n",
              "\n",
              "    .dataframe thead th {\n",
              "        text-align: right;\n",
              "    }\n",
              "</style>\n",
              "<table border=\"1\" class=\"dataframe\">\n",
              "  <thead>\n",
              "    <tr style=\"text-align: right;\">\n",
              "      <th></th>\n",
              "      <th>categories</th>\n",
              "      <th>number_of_items</th>\n",
              "      <th>share_category, %</th>\n",
              "    </tr>\n",
              "  </thead>\n",
              "  <tbody>\n",
              "    <tr>\n",
              "      <th>0</th>\n",
              "      <td>Accessories</td>\n",
              "      <td>11158</td>\n",
              "      <td>10.572095</td>\n",
              "    </tr>\n",
              "    <tr>\n",
              "      <th>5</th>\n",
              "      <td>Garment Full body</td>\n",
              "      <td>13292</td>\n",
              "      <td>12.594038</td>\n",
              "    </tr>\n",
              "    <tr>\n",
              "      <th>6</th>\n",
              "      <td>Garment Lower body</td>\n",
              "      <td>19812</td>\n",
              "      <td>18.771674</td>\n",
              "    </tr>\n",
              "    <tr>\n",
              "      <th>7</th>\n",
              "      <td>Garment Upper body</td>\n",
              "      <td>42741</td>\n",
              "      <td>40.496674</td>\n",
              "    </tr>\n",
              "    <tr>\n",
              "      <th>12</th>\n",
              "      <td>Shoes</td>\n",
              "      <td>5283</td>\n",
              "      <td>5.005590</td>\n",
              "    </tr>\n",
              "    <tr>\n",
              "      <th>13</th>\n",
              "      <td>Socks &amp; Tights</td>\n",
              "      <td>2442</td>\n",
              "      <td>2.313771</td>\n",
              "    </tr>\n",
              "    <tr>\n",
              "      <th>15</th>\n",
              "      <td>Swimwear</td>\n",
              "      <td>3127</td>\n",
              "      <td>2.962802</td>\n",
              "    </tr>\n",
              "    <tr>\n",
              "      <th>16</th>\n",
              "      <td>Underwear</td>\n",
              "      <td>5490</td>\n",
              "      <td>5.201721</td>\n",
              "    </tr>\n",
              "  </tbody>\n",
              "</table>\n",
              "</div>\n",
              "      <button class=\"colab-df-convert\" onclick=\"convertToInteractive('df-374cbee2-8726-4609-8db4-f117851c6d81')\"\n",
              "              title=\"Convert this dataframe to an interactive table.\"\n",
              "              style=\"display:none;\">\n",
              "        \n",
              "  <svg xmlns=\"http://www.w3.org/2000/svg\" height=\"24px\"viewBox=\"0 0 24 24\"\n",
              "       width=\"24px\">\n",
              "    <path d=\"M0 0h24v24H0V0z\" fill=\"none\"/>\n",
              "    <path d=\"M18.56 5.44l.94 2.06.94-2.06 2.06-.94-2.06-.94-.94-2.06-.94 2.06-2.06.94zm-11 1L8.5 8.5l.94-2.06 2.06-.94-2.06-.94L8.5 2.5l-.94 2.06-2.06.94zm10 10l.94 2.06.94-2.06 2.06-.94-2.06-.94-.94-2.06-.94 2.06-2.06.94z\"/><path d=\"M17.41 7.96l-1.37-1.37c-.4-.4-.92-.59-1.43-.59-.52 0-1.04.2-1.43.59L10.3 9.45l-7.72 7.72c-.78.78-.78 2.05 0 2.83L4 21.41c.39.39.9.59 1.41.59.51 0 1.02-.2 1.41-.59l7.78-7.78 2.81-2.81c.8-.78.8-2.07 0-2.86zM5.41 20L4 18.59l7.72-7.72 1.47 1.35L5.41 20z\"/>\n",
              "  </svg>\n",
              "      </button>\n",
              "      \n",
              "  <style>\n",
              "    .colab-df-container {\n",
              "      display:flex;\n",
              "      flex-wrap:wrap;\n",
              "      gap: 12px;\n",
              "    }\n",
              "\n",
              "    .colab-df-convert {\n",
              "      background-color: #E8F0FE;\n",
              "      border: none;\n",
              "      border-radius: 50%;\n",
              "      cursor: pointer;\n",
              "      display: none;\n",
              "      fill: #1967D2;\n",
              "      height: 32px;\n",
              "      padding: 0 0 0 0;\n",
              "      width: 32px;\n",
              "    }\n",
              "\n",
              "    .colab-df-convert:hover {\n",
              "      background-color: #E2EBFA;\n",
              "      box-shadow: 0px 1px 2px rgba(60, 64, 67, 0.3), 0px 1px 3px 1px rgba(60, 64, 67, 0.15);\n",
              "      fill: #174EA6;\n",
              "    }\n",
              "\n",
              "    [theme=dark] .colab-df-convert {\n",
              "      background-color: #3B4455;\n",
              "      fill: #D2E3FC;\n",
              "    }\n",
              "\n",
              "    [theme=dark] .colab-df-convert:hover {\n",
              "      background-color: #434B5C;\n",
              "      box-shadow: 0px 1px 3px 1px rgba(0, 0, 0, 0.15);\n",
              "      filter: drop-shadow(0px 1px 2px rgba(0, 0, 0, 0.3));\n",
              "      fill: #FFFFFF;\n",
              "    }\n",
              "  </style>\n",
              "\n",
              "      <script>\n",
              "        const buttonEl =\n",
              "          document.querySelector('#df-374cbee2-8726-4609-8db4-f117851c6d81 button.colab-df-convert');\n",
              "        buttonEl.style.display =\n",
              "          google.colab.kernel.accessAllowed ? 'block' : 'none';\n",
              "\n",
              "        async function convertToInteractive(key) {\n",
              "          const element = document.querySelector('#df-374cbee2-8726-4609-8db4-f117851c6d81');\n",
              "          const dataTable =\n",
              "            await google.colab.kernel.invokeFunction('convertToInteractive',\n",
              "                                                     [key], {});\n",
              "          if (!dataTable) return;\n",
              "\n",
              "          const docLinkHtml = 'Like what you see? Visit the ' +\n",
              "            '<a target=\"_blank\" href=https://colab.research.google.com/notebooks/data_table.ipynb>data table notebook</a>'\n",
              "            + ' to learn more about interactive tables.';\n",
              "          element.innerHTML = '';\n",
              "          dataTable['output_type'] = 'display_data';\n",
              "          await google.colab.output.renderOutput(dataTable, element);\n",
              "          const docLink = document.createElement('div');\n",
              "          docLink.innerHTML = docLinkHtml;\n",
              "          element.appendChild(docLink);\n",
              "        }\n",
              "      </script>\n",
              "    </div>\n",
              "  </div>\n",
              "  "
            ]
          },
          "metadata": {},
          "execution_count": 9
        }
      ]
    },
    {
      "cell_type": "code",
      "source": [
        "plt.figure(figsize=(12, 8))\n",
        "plt.bar(type_group['categories'], type_group['number_of_items'], color = \"orange\", edgecolor = \"black\")\n",
        "plt.xticks(rotation = 45)\n",
        "plt.title(\"Categories with the largest number of items\")\n",
        "plt.ylabel(\"Number of items\")\n",
        "plt.show()"
      ],
      "metadata": {
        "colab": {
          "base_uri": "https://localhost:8080/",
          "height": 570
        },
        "id": "dUEuh4sTddjs",
        "outputId": "13dd99e8-c87c-4f83-aa87-ceace6c8078a"
      },
      "execution_count": null,
      "outputs": [
        {
          "output_type": "display_data",
          "data": {
            "text/plain": [
              "<Figure size 864x576 with 1 Axes>"
            ],
            "image/png": "[encoded data removed]"
          },
          "metadata": {
            "needs_background": "light"
          }
        }
      ]
    },
    {
      "cell_type": "markdown",
      "source": [
        "Short conclusion: H&M sells 42741 items of **upper body** clothes, which is 40%  out of all selling items. It means that for this category **the diversity of items is the highest one.**\n",
        "Top categories in terms of number of items: \n",
        "1. Garment Upper body\t\n",
        "2. Garment Lower body\t\n",
        "3. Garment Full body\t"
      ],
      "metadata": {
        "id": "Xg_Fxulvi8_i"
      }
    },
    {
      "cell_type": "markdown",
      "source": [
        "Tatyana's part"
      ],
      "metadata": {
        "id": "i9gUFn5yqiST"
      }
    },
    {
      "cell_type": "code",
      "source": [
        "# Now let's analyse what types of clothes is sold Top categories\n",
        "# Garment Upper body \n",
        "articles_upper = articles.loc[articles['product_group_name'] == 'Garment Upper body']\n",
        "type_upper = articles_upper.groupby(['product_type_name'], as_index = False).count().iloc[:,:2].sort_values(by=['article_id'], ascending=False)\n",
        "type_upper.columns = ['Types', 'number_of_items']\n",
        "plt.bar(type_upper.iloc[:7]['Types'], type_upper.iloc[:7]['number_of_items'], color = \"orange\", edgecolor = \"black\")\n"
      ],
      "metadata": {
        "id": "h4Trm3DAjBHc",
        "colab": {
          "base_uri": "https://localhost:8080/",
          "height": 282
        },
        "outputId": "60324b87-ee9d-4ab3-8897-9ee3e922d69a"
      },
      "execution_count": null,
      "outputs": [
        {
          "output_type": "execute_result",
          "data": {
            "text/plain": [
              "<BarContainer object of 7 artists>"
            ]
          },
          "metadata": {},
          "execution_count": 10
        },
        {
          "output_type": "display_data",
          "data": {
            "text/plain": [
              "<Figure size 432x288 with 1 Axes>"
            ],
            "image/png": "[encoded data removed]"
          },
          "metadata": {
            "needs_background": "light"
          }
        }
      ]
    },
    {
      "cell_type": "code",
      "source": [
        "# Garment Lower body \n",
        "articles_lower = articles.loc[articles['product_group_name'] == 'Garment Lower body']\n",
        "type_lower = articles_lower.groupby(['product_type_name'], as_index = False).count().iloc[:,:2].sort_values(by=['article_id'], ascending=False)\n",
        "type_lower.columns = ['Types', 'number_of_items']\n",
        "plt.bar(type_lower.iloc[:7]['Types'], type_lower.iloc[:7]['number_of_items'], color = \"orange\", edgecolor = \"black\")\n"
      ],
      "metadata": {
        "id": "OWt0wjmTjDz1",
        "colab": {
          "base_uri": "https://localhost:8080/",
          "height": 282
        },
        "outputId": "f8843ecc-8754-486d-ee33-ddd387425a80"
      },
      "execution_count": null,
      "outputs": [
        {
          "output_type": "execute_result",
          "data": {
            "text/plain": [
              "<BarContainer object of 5 artists>"
            ]
          },
          "metadata": {},
          "execution_count": 11
        },
        {
          "output_type": "display_data",
          "data": {
            "text/plain": [
              "<Figure size 432x288 with 1 Axes>"
            ],
            "image/png": "[encoded data removed]"
          },
          "metadata": {
            "needs_background": "light"
          }
        }
      ]
    },
    {
      "cell_type": "code",
      "source": [
        "#Garment Full body\n",
        "articles_lower = articles.loc[articles['product_group_name'] == 'Garment Full body']\n",
        "type_lower = articles_lower.groupby(['product_type_name'], as_index = False).count().iloc[:,:2].sort_values(by=['article_id'], ascending=False)\n",
        "type_lower.columns = ['Types', 'number_of_items']\n",
        "plt.bar(type_lower.iloc[:5]['Types'], type_lower.iloc[:5]['number_of_items'], color = \"orange\", edgecolor = \"black\")\n"
      ],
      "metadata": {
        "id": "Qw4G8meNjLAk",
        "colab": {
          "base_uri": "https://localhost:8080/",
          "height": 282
        },
        "outputId": "d0d6aade-4891-48b6-ce32-4f2377be5f14"
      },
      "execution_count": null,
      "outputs": [
        {
          "output_type": "execute_result",
          "data": {
            "text/plain": [
              "<BarContainer object of 5 artists>"
            ]
          },
          "metadata": {},
          "execution_count": 12
        },
        {
          "output_type": "display_data",
          "data": {
            "text/plain": [
              "<Figure size 432x288 with 1 Axes>"
            ],
            "image/png": "[encoded data removed]"
          },
          "metadata": {
            "needs_background": "light"
          }
        }
      ]
    },
    {
      "cell_type": "markdown",
      "source": [
        "# Customers\n",
        "contribution: Kristina"
      ],
      "metadata": {
        "id": "lergJKa_jNMG"
      }
    },
    {
      "cell_type": "code",
      "source": [
        "customers.head()"
      ],
      "metadata": {
        "colab": {
          "base_uri": "https://localhost:8080/",
          "height": 270
        },
        "id": "vk9p-m8DGMad",
        "outputId": "b8d566ef-2db3-4858-bf4d-f33a50974c14"
      },
      "execution_count": null,
      "outputs": [
        {
          "output_type": "execute_result",
          "data": {
            "text/plain": [
              "                                         customer_id   FN  Active  \\\n",
              "0  00000dbacae5abe5e23885899a1fa44253a17956c6d1c3...  NaN     NaN   \n",
              "1  0000423b00ade91418cceaf3b26c6af3dd342b51fd051e...  NaN     NaN   \n",
              "2  000058a12d5b43e67d225668fa1f8d618c13dc232df0ca...  NaN     NaN   \n",
              "3  00005ca1c9ed5f5146b52ac8639a40ca9d57aeff4d1bd2...  NaN     NaN   \n",
              "4  00006413d8573cd20ed7128e53b7b13819fe5cfc2d801f...  1.0     1.0   \n",
              "\n",
              "  club_member_status fashion_news_frequency   age  \\\n",
              "0             ACTIVE                   NONE  49.0   \n",
              "1             ACTIVE                   NONE  25.0   \n",
              "2             ACTIVE                   NONE  24.0   \n",
              "3             ACTIVE                   NONE  54.0   \n",
              "4             ACTIVE              Regularly  52.0   \n",
              "\n",
              "                                         postal_code  \n",
              "0  52043ee2162cf5aa7ee79974281641c6f11a68d276429a...  \n",
              "1  2973abc54daa8a5f8ccfe9362140c63247c5eee03f1d93...  \n",
              "2  64f17e6a330a85798e4998f62d0930d14db8db1c054af6...  \n",
              "3  5d36574f52495e81f019b680c843c443bd343d5ca5b1c2...  \n",
              "4  25fa5ddee9aac01b35208d01736e57942317d756b32ddd...  "
            ],
            "text/html": [
              "\n",
              "  <div id=\"df-3d5195e6-a741-40b2-bc10-7b20edacb0a0\">\n",
              "    <div class=\"colab-df-container\">\n",
              "      <div>\n",
              "<style scoped>\n",
              "    .dataframe tbody tr th:only-of-type {\n",
              "        vertical-align: middle;\n",
              "    }\n",
              "\n",
              "    .dataframe tbody tr th {\n",
              "        vertical-align: top;\n",
              "    }\n",
              "\n",
              "    .dataframe thead th {\n",
              "        text-align: right;\n",
              "    }\n",
              "</style>\n",
              "<table border=\"1\" class=\"dataframe\">\n",
              "  <thead>\n",
              "    <tr style=\"text-align: right;\">\n",
              "      <th></th>\n",
              "      <th>customer_id</th>\n",
              "      <th>FN</th>\n",
              "      <th>Active</th>\n",
              "      <th>club_member_status</th>\n",
              "      <th>fashion_news_frequency</th>\n",
              "      <th>age</th>\n",
              "      <th>postal_code</th>\n",
              "    </tr>\n",
              "  </thead>\n",
              "  <tbody>\n",
              "    <tr>\n",
              "      <th>0</th>\n",
              "      <td>00000dbacae5abe5e23885899a1fa44253a17956c6d1c3...</td>\n",
              "      <td>NaN</td>\n",
              "      <td>NaN</td>\n",
              "      <td>ACTIVE</td>\n",
              "      <td>NONE</td>\n",
              "      <td>49.0</td>\n",
              "      <td>52043ee2162cf5aa7ee79974281641c6f11a68d276429a...</td>\n",
              "    </tr>\n",
              "    <tr>\n",
              "      <th>1</th>\n",
              "      <td>0000423b00ade91418cceaf3b26c6af3dd342b51fd051e...</td>\n",
              "      <td>NaN</td>\n",
              "      <td>NaN</td>\n",
              "      <td>ACTIVE</td>\n",
              "      <td>NONE</td>\n",
              "      <td>25.0</td>\n",
              "      <td>2973abc54daa8a5f8ccfe9362140c63247c5eee03f1d93...</td>\n",
              "    </tr>\n",
              "    <tr>\n",
              "      <th>2</th>\n",
              "      <td>000058a12d5b43e67d225668fa1f8d618c13dc232df0ca...</td>\n",
              "      <td>NaN</td>\n",
              "      <td>NaN</td>\n",
              "      <td>ACTIVE</td>\n",
              "      <td>NONE</td>\n",
              "      <td>24.0</td>\n",
              "      <td>64f17e6a330a85798e4998f62d0930d14db8db1c054af6...</td>\n",
              "    </tr>\n",
              "    <tr>\n",
              "      <th>3</th>\n",
              "      <td>00005ca1c9ed5f5146b52ac8639a40ca9d57aeff4d1bd2...</td>\n",
              "      <td>NaN</td>\n",
              "      <td>NaN</td>\n",
              "      <td>ACTIVE</td>\n",
              "      <td>NONE</td>\n",
              "      <td>54.0</td>\n",
              "      <td>5d36574f52495e81f019b680c843c443bd343d5ca5b1c2...</td>\n",
              "    </tr>\n",
              "    <tr>\n",
              "      <th>4</th>\n",
              "      <td>00006413d8573cd20ed7128e53b7b13819fe5cfc2d801f...</td>\n",
              "      <td>1.0</td>\n",
              "      <td>1.0</td>\n",
              "      <td>ACTIVE</td>\n",
              "      <td>Regularly</td>\n",
              "      <td>52.0</td>\n",
              "      <td>25fa5ddee9aac01b35208d01736e57942317d756b32ddd...</td>\n",
              "    </tr>\n",
              "  </tbody>\n",
              "</table>\n",
              "</div>\n",
              "      <button class=\"colab-df-convert\" onclick=\"convertToInteractive('df-3d5195e6-a741-40b2-bc10-7b20edacb0a0')\"\n",
              "              title=\"Convert this dataframe to an interactive table.\"\n",
              "              style=\"display:none;\">\n",
              "        \n",
              "  <svg xmlns=\"http://www.w3.org/2000/svg\" height=\"24px\"viewBox=\"0 0 24 24\"\n",
              "       width=\"24px\">\n",
              "    <path d=\"M0 0h24v24H0V0z\" fill=\"none\"/>\n",
              "    <path d=\"M18.56 5.44l.94 2.06.94-2.06 2.06-.94-2.06-.94-.94-2.06-.94 2.06-2.06.94zm-11 1L8.5 8.5l.94-2.06 2.06-.94-2.06-.94L8.5 2.5l-.94 2.06-2.06.94zm10 10l.94 2.06.94-2.06 2.06-.94-2.06-.94-.94-2.06-.94 2.06-2.06.94z\"/><path d=\"M17.41 7.96l-1.37-1.37c-.4-.4-.92-.59-1.43-.59-.52 0-1.04.2-1.43.59L10.3 9.45l-7.72 7.72c-.78.78-.78 2.05 0 2.83L4 21.41c.39.39.9.59 1.41.59.51 0 1.02-.2 1.41-.59l7.78-7.78 2.81-2.81c.8-.78.8-2.07 0-2.86zM5.41 20L4 18.59l7.72-7.72 1.47 1.35L5.41 20z\"/>\n",
              "  </svg>\n",
              "      </button>\n",
              "      \n",
              "  <style>\n",
              "    .colab-df-container {\n",
              "      display:flex;\n",
              "      flex-wrap:wrap;\n",
              "      gap: 12px;\n",
              "    }\n",
              "\n",
              "    .colab-df-convert {\n",
              "      background-color: #E8F0FE;\n",
              "      border: none;\n",
              "      border-radius: 50%;\n",
              "      cursor: pointer;\n",
              "      display: none;\n",
              "      fill: #1967D2;\n",
              "      height: 32px;\n",
              "      padding: 0 0 0 0;\n",
              "      width: 32px;\n",
              "    }\n",
              "\n",
              "    .colab-df-convert:hover {\n",
              "      background-color: #E2EBFA;\n",
              "      box-shadow: 0px 1px 2px rgba(60, 64, 67, 0.3), 0px 1px 3px 1px rgba(60, 64, 67, 0.15);\n",
              "      fill: #174EA6;\n",
              "    }\n",
              "\n",
              "    [theme=dark] .colab-df-convert {\n",
              "      background-color: #3B4455;\n",
              "      fill: #D2E3FC;\n",
              "    }\n",
              "\n",
              "    [theme=dark] .colab-df-convert:hover {\n",
              "      background-color: #434B5C;\n",
              "      box-shadow: 0px 1px 3px 1px rgba(0, 0, 0, 0.15);\n",
              "      filter: drop-shadow(0px 1px 2px rgba(0, 0, 0, 0.3));\n",
              "      fill: #FFFFFF;\n",
              "    }\n",
              "  </style>\n",
              "\n",
              "      <script>\n",
              "        const buttonEl =\n",
              "          document.querySelector('#df-3d5195e6-a741-40b2-bc10-7b20edacb0a0 button.colab-df-convert');\n",
              "        buttonEl.style.display =\n",
              "          google.colab.kernel.accessAllowed ? 'block' : 'none';\n",
              "\n",
              "        async function convertToInteractive(key) {\n",
              "          const element = document.querySelector('#df-3d5195e6-a741-40b2-bc10-7b20edacb0a0');\n",
              "          const dataTable =\n",
              "            await google.colab.kernel.invokeFunction('convertToInteractive',\n",
              "                                                     [key], {});\n",
              "          if (!dataTable) return;\n",
              "\n",
              "          const docLinkHtml = 'Like what you see? Visit the ' +\n",
              "            '<a target=\"_blank\" href=https://colab.research.google.com/notebooks/data_table.ipynb>data table notebook</a>'\n",
              "            + ' to learn more about interactive tables.';\n",
              "          element.innerHTML = '';\n",
              "          dataTable['output_type'] = 'display_data';\n",
              "          await google.colab.output.renderOutput(dataTable, element);\n",
              "          const docLink = document.createElement('div');\n",
              "          docLink.innerHTML = docLinkHtml;\n",
              "          element.appendChild(docLink);\n",
              "        }\n",
              "      </script>\n",
              "    </div>\n",
              "  </div>\n",
              "  "
            ]
          },
          "metadata": {},
          "execution_count": 16
        }
      ]
    },
    {
      "cell_type": "code",
      "source": [
        "plt.figure(figsize=(12, 8))\n",
        "plt.hist(customers.age, edgecolor = 'black', color = 'orange', bins = 50);\n",
        "plt.title(\"Frequency of ages\")\n",
        "plt.xlabel(\"Age of customers\");"
      ],
      "metadata": {
        "colab": {
          "base_uri": "https://localhost:8080/",
          "height": 513
        },
        "id": "v_MFAwwSGYhK",
        "outputId": "a51e052b-60c7-4c32-e209-a2ae12cdcd16"
      },
      "execution_count": null,
      "outputs": [
        {
          "output_type": "display_data",
          "data": {
            "text/plain": [
              "<Figure size 864x576 with 1 Axes>"
            ],
            "image/png": "[encoded data removed]"
          },
          "metadata": {
            "needs_background": "light"
          }
        }
      ]
    },
    {
      "cell_type": "markdown",
      "source": [
        "The histogram shows that the most nuber of purchases are made by people of 20-30 age years old"
      ],
      "metadata": {
        "id": "anwscJ3SkZDJ"
      }
    },
    {
      "cell_type": "code",
      "source": [
        "member = customers.groupby(['club_member_status'], as_index = False).count()\n",
        "y = customers.club_member_status.unique()"
      ],
      "metadata": {
        "id": "OfOe-Y02NsqZ"
      },
      "execution_count": null,
      "outputs": []
    },
    {
      "cell_type": "code",
      "source": [
        "squarify.plot(sizes = member.customer_id,\n",
        "              label = y, alpha = 0.7)\n",
        "plt.axis('off')\n",
        "plt.title(\"Proportion of club members\")\n",
        "plt.show()"
      ],
      "metadata": {
        "colab": {
          "base_uri": "https://localhost:8080/",
          "height": 269
        },
        "id": "v6AoKDpINBvP",
        "outputId": "337547e6-6294-4e5b-f636-d8987b83fa66"
      },
      "execution_count": null,
      "outputs": [
        {
          "output_type": "display_data",
          "data": {
            "text/plain": [
              "<Figure size 432x288 with 1 Axes>"
            ],
            "image/png": "[encoded data removed]"
          },
          "metadata": {
            "needs_background": "light"
          }
        }
      ]
    },
    {
      "cell_type": "markdown",
      "source": [
        "We have a large group of active club memebers. So, these types can have something like a recommendation system or special sales. Also it maybe mean that there is a significant part of regualar customers"
      ],
      "metadata": {
        "id": "QpiK1C0RkrtL"
      }
    },
    {
      "cell_type": "code",
      "source": [
        "news = customers.groupby(['fashion_news_frequency'], as_index = False).count()\n",
        "news = news[news['customer_id'] > 100]  # To avoid None that have 2 persons\n",
        "y = news.fashion_news_frequency.unique()"
      ],
      "metadata": {
        "id": "qdIrv57QPe7b"
      },
      "execution_count": null,
      "outputs": []
    },
    {
      "cell_type": "code",
      "source": [
        "squarify.plot(sizes = news.customer_id,\n",
        "              label = y, alpha = 0.7)\n",
        "plt.axis('off')\n",
        "plt.title(\"Proportion of news subscribers\")\n",
        "plt.show()"
      ],
      "metadata": {
        "colab": {
          "base_uri": "https://localhost:8080/",
          "height": 269
        },
        "id": "WEWlDNLzQAiD",
        "outputId": "eca0f086-669b-4c7c-ac00-783db2d9b69f"
      },
      "execution_count": null,
      "outputs": [
        {
          "output_type": "display_data",
          "data": {
            "text/plain": [
              "<Figure size 432x288 with 1 Axes>"
            ],
            "image/png": "[encoded data removed]"
          },
          "metadata": {
            "needs_background": "light"
          }
        }
      ]
    },
    {
      "cell_type": "markdown",
      "source": [
        "Most part does not recieve recommendations from the cite and maybe potentially is not interested in recommendations"
      ],
      "metadata": {
        "id": "RRsH1DtOlVJM"
      }
    },
    {
      "cell_type": "markdown",
      "source": [
        "# Transactions\n",
        "contribution: Kristina"
      ],
      "metadata": {
        "id": "ENLJ-tW0jdOq"
      }
    },
    {
      "cell_type": "code",
      "source": [
        "transactions.head(10)"
      ],
      "metadata": {
        "colab": {
          "base_uri": "https://localhost:8080/",
          "height": 363
        },
        "id": "3DFlXMhnICGH",
        "outputId": "6d36e184-2af5-430c-c56a-1d7d66f4f00f"
      },
      "execution_count": null,
      "outputs": [
        {
          "output_type": "execute_result",
          "data": {
            "text/plain": [
              "        t_dat                                        customer_id  article_id  \\\n",
              "0  2018-09-20  000058a12d5b43e67d225668fa1f8d618c13dc232df0ca...   663713001   \n",
              "1  2018-09-20  000058a12d5b43e67d225668fa1f8d618c13dc232df0ca...   541518023   \n",
              "2  2018-09-20  00007d2de826758b65a93dd24ce629ed66842531df6699...   505221004   \n",
              "3  2018-09-20  00007d2de826758b65a93dd24ce629ed66842531df6699...   685687003   \n",
              "4  2018-09-20  00007d2de826758b65a93dd24ce629ed66842531df6699...   685687004   \n",
              "5  2018-09-20  00007d2de826758b65a93dd24ce629ed66842531df6699...   685687001   \n",
              "6  2018-09-20  00007d2de826758b65a93dd24ce629ed66842531df6699...   505221001   \n",
              "7  2018-09-20  00083cda041544b2fbb0e0d2905ad17da7cf1007526fb4...   688873012   \n",
              "8  2018-09-20  00083cda041544b2fbb0e0d2905ad17da7cf1007526fb4...   501323011   \n",
              "9  2018-09-20  00083cda041544b2fbb0e0d2905ad17da7cf1007526fb4...   598859003   \n",
              "\n",
              "      price  sales_channel_id  \n",
              "0  0.050831                 2  \n",
              "1  0.030492                 2  \n",
              "2  0.015237                 2  \n",
              "3  0.016932                 2  \n",
              "4  0.016932                 2  \n",
              "5  0.016932                 2  \n",
              "6  0.020322                 2  \n",
              "7  0.030492                 1  \n",
              "8  0.053373                 1  \n",
              "9  0.045746                 2  "
            ],
            "text/html": [
              "\n",
              "  <div id=\"df-e46f5b61-a04c-4624-a585-11e907b4ef5b\">\n",
              "    <div class=\"colab-df-container\">\n",
              "      <div>\n",
              "<style scoped>\n",
              "    .dataframe tbody tr th:only-of-type {\n",
              "        vertical-align: middle;\n",
              "    }\n",
              "\n",
              "    .dataframe tbody tr th {\n",
              "        vertical-align: top;\n",
              "    }\n",
              "\n",
              "    .dataframe thead th {\n",
              "        text-align: right;\n",
              "    }\n",
              "</style>\n",
              "<table border=\"1\" class=\"dataframe\">\n",
              "  <thead>\n",
              "    <tr style=\"text-align: right;\">\n",
              "      <th></th>\n",
              "      <th>t_dat</th>\n",
              "      <th>customer_id</th>\n",
              "      <th>article_id</th>\n",
              "      <th>price</th>\n",
              "      <th>sales_channel_id</th>\n",
              "    </tr>\n",
              "  </thead>\n",
              "  <tbody>\n",
              "    <tr>\n",
              "      <th>0</th>\n",
              "      <td>2018-09-20</td>\n",
              "      <td>000058a12d5b43e67d225668fa1f8d618c13dc232df0ca...</td>\n",
              "      <td>663713001</td>\n",
              "      <td>0.050831</td>\n",
              "      <td>2</td>\n",
              "    </tr>\n",
              "    <tr>\n",
              "      <th>1</th>\n",
              "      <td>2018-09-20</td>\n",
              "      <td>000058a12d5b43e67d225668fa1f8d618c13dc232df0ca...</td>\n",
              "      <td>541518023</td>\n",
              "      <td>0.030492</td>\n",
              "      <td>2</td>\n",
              "    </tr>\n",
              "    <tr>\n",
              "      <th>2</th>\n",
              "      <td>2018-09-20</td>\n",
              "      <td>00007d2de826758b65a93dd24ce629ed66842531df6699...</td>\n",
              "      <td>505221004</td>\n",
              "      <td>0.015237</td>\n",
              "      <td>2</td>\n",
              "    </tr>\n",
              "    <tr>\n",
              "      <th>3</th>\n",
              "      <td>2018-09-20</td>\n",
              "      <td>00007d2de826758b65a93dd24ce629ed66842531df6699...</td>\n",
              "      <td>685687003</td>\n",
              "      <td>0.016932</td>\n",
              "      <td>2</td>\n",
              "    </tr>\n",
              "    <tr>\n",
              "      <th>4</th>\n",
              "      <td>2018-09-20</td>\n",
              "      <td>00007d2de826758b65a93dd24ce629ed66842531df6699...</td>\n",
              "      <td>685687004</td>\n",
              "      <td>0.016932</td>\n",
              "      <td>2</td>\n",
              "    </tr>\n",
              "    <tr>\n",
              "      <th>5</th>\n",
              "      <td>2018-09-20</td>\n",
              "      <td>00007d2de826758b65a93dd24ce629ed66842531df6699...</td>\n",
              "      <td>685687001</td>\n",
              "      <td>0.016932</td>\n",
              "      <td>2</td>\n",
              "    </tr>\n",
              "    <tr>\n",
              "      <th>6</th>\n",
              "      <td>2018-09-20</td>\n",
              "      <td>00007d2de826758b65a93dd24ce629ed66842531df6699...</td>\n",
              "      <td>505221001</td>\n",
              "      <td>0.020322</td>\n",
              "      <td>2</td>\n",
              "    </tr>\n",
              "    <tr>\n",
              "      <th>7</th>\n",
              "      <td>2018-09-20</td>\n",
              "      <td>00083cda041544b2fbb0e0d2905ad17da7cf1007526fb4...</td>\n",
              "      <td>688873012</td>\n",
              "      <td>0.030492</td>\n",
              "      <td>1</td>\n",
              "    </tr>\n",
              "    <tr>\n",
              "      <th>8</th>\n",
              "      <td>2018-09-20</td>\n",
              "      <td>00083cda041544b2fbb0e0d2905ad17da7cf1007526fb4...</td>\n",
              "      <td>501323011</td>\n",
              "      <td>0.053373</td>\n",
              "      <td>1</td>\n",
              "    </tr>\n",
              "    <tr>\n",
              "      <th>9</th>\n",
              "      <td>2018-09-20</td>\n",
              "      <td>00083cda041544b2fbb0e0d2905ad17da7cf1007526fb4...</td>\n",
              "      <td>598859003</td>\n",
              "      <td>0.045746</td>\n",
              "      <td>2</td>\n",
              "    </tr>\n",
              "  </tbody>\n",
              "</table>\n",
              "</div>\n",
              "      <button class=\"colab-df-convert\" onclick=\"convertToInteractive('df-e46f5b61-a04c-4624-a585-11e907b4ef5b')\"\n",
              "              title=\"Convert this dataframe to an interactive table.\"\n",
              "              style=\"display:none;\">\n",
              "        \n",
              "  <svg xmlns=\"http://www.w3.org/2000/svg\" height=\"24px\"viewBox=\"0 0 24 24\"\n",
              "       width=\"24px\">\n",
              "    <path d=\"M0 0h24v24H0V0z\" fill=\"none\"/>\n",
              "    <path d=\"M18.56 5.44l.94 2.06.94-2.06 2.06-.94-2.06-.94-.94-2.06-.94 2.06-2.06.94zm-11 1L8.5 8.5l.94-2.06 2.06-.94-2.06-.94L8.5 2.5l-.94 2.06-2.06.94zm10 10l.94 2.06.94-2.06 2.06-.94-2.06-.94-.94-2.06-.94 2.06-2.06.94z\"/><path d=\"M17.41 7.96l-1.37-1.37c-.4-.4-.92-.59-1.43-.59-.52 0-1.04.2-1.43.59L10.3 9.45l-7.72 7.72c-.78.78-.78 2.05 0 2.83L4 21.41c.39.39.9.59 1.41.59.51 0 1.02-.2 1.41-.59l7.78-7.78 2.81-2.81c.8-.78.8-2.07 0-2.86zM5.41 20L4 18.59l7.72-7.72 1.47 1.35L5.41 20z\"/>\n",
              "  </svg>\n",
              "      </button>\n",
              "      \n",
              "  <style>\n",
              "    .colab-df-container {\n",
              "      display:flex;\n",
              "      flex-wrap:wrap;\n",
              "      gap: 12px;\n",
              "    }\n",
              "\n",
              "    .colab-df-convert {\n",
              "      background-color: #E8F0FE;\n",
              "      border: none;\n",
              "      border-radius: 50%;\n",
              "      cursor: pointer;\n",
              "      display: none;\n",
              "      fill: #1967D2;\n",
              "      height: 32px;\n",
              "      padding: 0 0 0 0;\n",
              "      width: 32px;\n",
              "    }\n",
              "\n",
              "    .colab-df-convert:hover {\n",
              "      background-color: #E2EBFA;\n",
              "      box-shadow: 0px 1px 2px rgba(60, 64, 67, 0.3), 0px 1px 3px 1px rgba(60, 64, 67, 0.15);\n",
              "      fill: #174EA6;\n",
              "    }\n",
              "\n",
              "    [theme=dark] .colab-df-convert {\n",
              "      background-color: #3B4455;\n",
              "      fill: #D2E3FC;\n",
              "    }\n",
              "\n",
              "    [theme=dark] .colab-df-convert:hover {\n",
              "      background-color: #434B5C;\n",
              "      box-shadow: 0px 1px 3px 1px rgba(0, 0, 0, 0.15);\n",
              "      filter: drop-shadow(0px 1px 2px rgba(0, 0, 0, 0.3));\n",
              "      fill: #FFFFFF;\n",
              "    }\n",
              "  </style>\n",
              "\n",
              "      <script>\n",
              "        const buttonEl =\n",
              "          document.querySelector('#df-e46f5b61-a04c-4624-a585-11e907b4ef5b button.colab-df-convert');\n",
              "        buttonEl.style.display =\n",
              "          google.colab.kernel.accessAllowed ? 'block' : 'none';\n",
              "\n",
              "        async function convertToInteractive(key) {\n",
              "          const element = document.querySelector('#df-e46f5b61-a04c-4624-a585-11e907b4ef5b');\n",
              "          const dataTable =\n",
              "            await google.colab.kernel.invokeFunction('convertToInteractive',\n",
              "                                                     [key], {});\n",
              "          if (!dataTable) return;\n",
              "\n",
              "          const docLinkHtml = 'Like what you see? Visit the ' +\n",
              "            '<a target=\"_blank\" href=https://colab.research.google.com/notebooks/data_table.ipynb>data table notebook</a>'\n",
              "            + ' to learn more about interactive tables.';\n",
              "          element.innerHTML = '';\n",
              "          dataTable['output_type'] = 'display_data';\n",
              "          await google.colab.output.renderOutput(dataTable, element);\n",
              "          const docLink = document.createElement('div');\n",
              "          docLink.innerHTML = docLinkHtml;\n",
              "          element.appendChild(docLink);\n",
              "        }\n",
              "      </script>\n",
              "    </div>\n",
              "  </div>\n",
              "  "
            ]
          },
          "metadata": {},
          "execution_count": 6
        }
      ]
    },
    {
      "cell_type": "code",
      "source": [
        "transactions.columns"
      ],
      "metadata": {
        "colab": {
          "base_uri": "https://localhost:8080/"
        },
        "id": "ya3Pj-boKz1q",
        "outputId": "2128ad2d-222f-41de-ebf2-966ec7f05ac3"
      },
      "execution_count": null,
      "outputs": [
        {
          "output_type": "execute_result",
          "data": {
            "text/plain": [
              "Index(['t_dat', 'customer_id', 'article_id', 'price', 'sales_channel_id'], dtype='object')"
            ]
          },
          "metadata": {},
          "execution_count": 7
        }
      ]
    },
    {
      "cell_type": "code",
      "source": [
        "mean_price = transactions.groupby(['t_dat', 'customer_id'], as_index = False)['price'].mean()\n",
        "mean_price"
      ],
      "metadata": {
        "colab": {
          "base_uri": "https://localhost:8080/",
          "height": 328
        },
        "id": "8zCmB0jtKSnX",
        "outputId": "1a6fa921-cc66-438d-efbe-def1b986d793"
      },
      "execution_count": null,
      "outputs": [
        {
          "output_type": "error",
          "ename": "KeyboardInterrupt",
          "evalue": "ignored",
          "traceback": [
            "\u001b[0;31m---------------------------------------------------------------------------\u001b[0m",
            "\u001b[0;31mKeyboardInterrupt\u001b[0m                         Traceback (most recent call last)",
            "\u001b[0;32m<ipython-input-8-2f3aa701f6f8>\u001b[0m in \u001b[0;36m<module>\u001b[0;34m\u001b[0m\n\u001b[0;32m----> 1\u001b[0;31m \u001b[0mmean_price\u001b[0m \u001b[0;34m=\u001b[0m \u001b[0mtransactions\u001b[0m\u001b[0;34m.\u001b[0m\u001b[0mgroupby\u001b[0m\u001b[0;34m(\u001b[0m\u001b[0;34m[\u001b[0m\u001b[0;34m't_dat'\u001b[0m\u001b[0;34m,\u001b[0m \u001b[0;34m'customer_id'\u001b[0m\u001b[0;34m]\u001b[0m\u001b[0;34m,\u001b[0m \u001b[0mas_index\u001b[0m \u001b[0;34m=\u001b[0m \u001b[0;32mFalse\u001b[0m\u001b[0;34m)\u001b[0m\u001b[0;34m[\u001b[0m\u001b[0;34m'price'\u001b[0m\u001b[0;34m]\u001b[0m\u001b[0;34m.\u001b[0m\u001b[0mmean\u001b[0m\u001b[0;34m(\u001b[0m\u001b[0;34m)\u001b[0m\u001b[0;34m\u001b[0m\u001b[0;34m\u001b[0m\u001b[0m\n\u001b[0m\u001b[1;32m      2\u001b[0m \u001b[0mmean_price\u001b[0m\u001b[0;34m\u001b[0m\u001b[0;34m\u001b[0m\u001b[0m\n",
            "\u001b[0;32m/usr/local/lib/python3.7/dist-packages/pandas/core/groupby/groupby.py\u001b[0m in \u001b[0;36mmean\u001b[0;34m(self, numeric_only)\u001b[0m\n\u001b[1;32m   1688\u001b[0m             \u001b[0;34m\"mean\"\u001b[0m\u001b[0;34m,\u001b[0m\u001b[0;34m\u001b[0m\u001b[0;34m\u001b[0m\u001b[0m\n\u001b[1;32m   1689\u001b[0m             \u001b[0malt\u001b[0m\u001b[0;34m=\u001b[0m\u001b[0;32mlambda\u001b[0m \u001b[0mx\u001b[0m\u001b[0;34m:\u001b[0m \u001b[0mSeries\u001b[0m\u001b[0;34m(\u001b[0m\u001b[0mx\u001b[0m\u001b[0;34m)\u001b[0m\u001b[0;34m.\u001b[0m\u001b[0mmean\u001b[0m\u001b[0;34m(\u001b[0m\u001b[0mnumeric_only\u001b[0m\u001b[0;34m=\u001b[0m\u001b[0mnumeric_only\u001b[0m\u001b[0;34m)\u001b[0m\u001b[0;34m,\u001b[0m\u001b[0;34m\u001b[0m\u001b[0;34m\u001b[0m\u001b[0m\n\u001b[0;32m-> 1690\u001b[0;31m             \u001b[0mnumeric_only\u001b[0m\u001b[0;34m=\u001b[0m\u001b[0mnumeric_only\u001b[0m\u001b[0;34m,\u001b[0m\u001b[0;34m\u001b[0m\u001b[0;34m\u001b[0m\u001b[0m\n\u001b[0m\u001b[1;32m   1691\u001b[0m         )\n\u001b[1;32m   1692\u001b[0m         \u001b[0;32mreturn\u001b[0m \u001b[0mresult\u001b[0m\u001b[0;34m.\u001b[0m\u001b[0m__finalize__\u001b[0m\u001b[0;34m(\u001b[0m\u001b[0mself\u001b[0m\u001b[0;34m.\u001b[0m\u001b[0mobj\u001b[0m\u001b[0;34m,\u001b[0m \u001b[0mmethod\u001b[0m\u001b[0;34m=\u001b[0m\u001b[0;34m\"groupby\"\u001b[0m\u001b[0;34m)\u001b[0m\u001b[0;34m\u001b[0m\u001b[0;34m\u001b[0m\u001b[0m\n",
            "\u001b[0;32m/usr/local/lib/python3.7/dist-packages/pandas/core/groupby/generic.py\u001b[0m in \u001b[0;36m_cython_agg_general\u001b[0;34m(self, how, alt, numeric_only, min_count)\u001b[0m\n\u001b[1;32m   1080\u001b[0m         \u001b[0;31m# TypeError -> we may have an exception in trying to aggregate\u001b[0m\u001b[0;34m\u001b[0m\u001b[0;34m\u001b[0m\u001b[0;34m\u001b[0m\u001b[0m\n\u001b[1;32m   1081\u001b[0m         \u001b[0;31m#  continue and exclude the block\u001b[0m\u001b[0;34m\u001b[0m\u001b[0;34m\u001b[0m\u001b[0;34m\u001b[0m\u001b[0m\n\u001b[0;32m-> 1082\u001b[0;31m         \u001b[0mnew_mgr\u001b[0m \u001b[0;34m=\u001b[0m \u001b[0mdata\u001b[0m\u001b[0;34m.\u001b[0m\u001b[0mgrouped_reduce\u001b[0m\u001b[0;34m(\u001b[0m\u001b[0marray_func\u001b[0m\u001b[0;34m,\u001b[0m \u001b[0mignore_failures\u001b[0m\u001b[0;34m=\u001b[0m\u001b[0;32mTrue\u001b[0m\u001b[0;34m)\u001b[0m\u001b[0;34m\u001b[0m\u001b[0;34m\u001b[0m\u001b[0m\n\u001b[0m\u001b[1;32m   1083\u001b[0m \u001b[0;34m\u001b[0m\u001b[0m\n\u001b[1;32m   1084\u001b[0m         \u001b[0;32mif\u001b[0m \u001b[0mlen\u001b[0m\u001b[0;34m(\u001b[0m\u001b[0mnew_mgr\u001b[0m\u001b[0;34m)\u001b[0m \u001b[0;34m<\u001b[0m \u001b[0mlen\u001b[0m\u001b[0;34m(\u001b[0m\u001b[0mdata\u001b[0m\u001b[0;34m)\u001b[0m\u001b[0;34m:\u001b[0m\u001b[0;34m\u001b[0m\u001b[0;34m\u001b[0m\u001b[0m\n",
            "\u001b[0;32m/usr/local/lib/python3.7/dist-packages/pandas/core/internals/managers.py\u001b[0m in \u001b[0;36mgrouped_reduce\u001b[0;34m(self, func, ignore_failures)\u001b[0m\n\u001b[1;32m   1241\u001b[0m             \u001b[0;32melse\u001b[0m\u001b[0;34m:\u001b[0m\u001b[0;34m\u001b[0m\u001b[0;34m\u001b[0m\u001b[0m\n\u001b[1;32m   1242\u001b[0m                 \u001b[0;32mtry\u001b[0m\u001b[0;34m:\u001b[0m\u001b[0;34m\u001b[0m\u001b[0;34m\u001b[0m\u001b[0m\n\u001b[0;32m-> 1243\u001b[0;31m                     \u001b[0mapplied\u001b[0m \u001b[0;34m=\u001b[0m \u001b[0mblk\u001b[0m\u001b[0;34m.\u001b[0m\u001b[0mapply\u001b[0m\u001b[0;34m(\u001b[0m\u001b[0mfunc\u001b[0m\u001b[0;34m)\u001b[0m\u001b[0;34m\u001b[0m\u001b[0;34m\u001b[0m\u001b[0m\n\u001b[0m\u001b[1;32m   1244\u001b[0m                 \u001b[0;32mexcept\u001b[0m \u001b[0;34m(\u001b[0m\u001b[0mTypeError\u001b[0m\u001b[0;34m,\u001b[0m \u001b[0mNotImplementedError\u001b[0m\u001b[0;34m)\u001b[0m\u001b[0;34m:\u001b[0m\u001b[0;34m\u001b[0m\u001b[0;34m\u001b[0m\u001b[0m\n\u001b[1;32m   1245\u001b[0m                     \u001b[0;32mif\u001b[0m \u001b[0;32mnot\u001b[0m \u001b[0mignore_failures\u001b[0m\u001b[0;34m:\u001b[0m\u001b[0;34m\u001b[0m\u001b[0;34m\u001b[0m\u001b[0m\n",
            "\u001b[0;32m/usr/local/lib/python3.7/dist-packages/pandas/core/internals/blocks.py\u001b[0m in \u001b[0;36mapply\u001b[0;34m(self, func, **kwargs)\u001b[0m\n\u001b[1;32m    379\u001b[0m         \"\"\"\n\u001b[1;32m    380\u001b[0m         \u001b[0;32mwith\u001b[0m \u001b[0mnp\u001b[0m\u001b[0;34m.\u001b[0m\u001b[0merrstate\u001b[0m\u001b[0;34m(\u001b[0m\u001b[0mall\u001b[0m\u001b[0;34m=\u001b[0m\u001b[0;34m\"ignore\"\u001b[0m\u001b[0;34m)\u001b[0m\u001b[0;34m:\u001b[0m\u001b[0;34m\u001b[0m\u001b[0;34m\u001b[0m\u001b[0m\n\u001b[0;32m--> 381\u001b[0;31m             \u001b[0mresult\u001b[0m \u001b[0;34m=\u001b[0m \u001b[0mfunc\u001b[0m\u001b[0;34m(\u001b[0m\u001b[0mself\u001b[0m\u001b[0;34m.\u001b[0m\u001b[0mvalues\u001b[0m\u001b[0;34m,\u001b[0m \u001b[0;34m**\u001b[0m\u001b[0mkwargs\u001b[0m\u001b[0;34m)\u001b[0m\u001b[0;34m\u001b[0m\u001b[0;34m\u001b[0m\u001b[0m\n\u001b[0m\u001b[1;32m    382\u001b[0m \u001b[0;34m\u001b[0m\u001b[0m\n\u001b[1;32m    383\u001b[0m         \u001b[0;32mreturn\u001b[0m \u001b[0mself\u001b[0m\u001b[0;34m.\u001b[0m\u001b[0m_split_op_result\u001b[0m\u001b[0;34m(\u001b[0m\u001b[0mresult\u001b[0m\u001b[0;34m)\u001b[0m\u001b[0;34m\u001b[0m\u001b[0;34m\u001b[0m\u001b[0m\n",
            "\u001b[0;32m/usr/local/lib/python3.7/dist-packages/pandas/core/groupby/generic.py\u001b[0m in \u001b[0;36marray_func\u001b[0;34m(values)\u001b[0m\n\u001b[1;32m   1067\u001b[0m             \u001b[0;32mtry\u001b[0m\u001b[0;34m:\u001b[0m\u001b[0;34m\u001b[0m\u001b[0;34m\u001b[0m\u001b[0m\n\u001b[1;32m   1068\u001b[0m                 result = self.grouper._cython_operation(\n\u001b[0;32m-> 1069\u001b[0;31m                     \u001b[0;34m\"aggregate\"\u001b[0m\u001b[0;34m,\u001b[0m \u001b[0mvalues\u001b[0m\u001b[0;34m,\u001b[0m \u001b[0mhow\u001b[0m\u001b[0;34m,\u001b[0m \u001b[0maxis\u001b[0m\u001b[0;34m=\u001b[0m\u001b[0mdata\u001b[0m\u001b[0;34m.\u001b[0m\u001b[0mndim\u001b[0m \u001b[0;34m-\u001b[0m \u001b[0;36m1\u001b[0m\u001b[0;34m,\u001b[0m \u001b[0mmin_count\u001b[0m\u001b[0;34m=\u001b[0m\u001b[0mmin_count\u001b[0m\u001b[0;34m\u001b[0m\u001b[0;34m\u001b[0m\u001b[0m\n\u001b[0m\u001b[1;32m   1070\u001b[0m                 )\n\u001b[1;32m   1071\u001b[0m             \u001b[0;32mexcept\u001b[0m \u001b[0mNotImplementedError\u001b[0m\u001b[0;34m:\u001b[0m\u001b[0;34m\u001b[0m\u001b[0;34m\u001b[0m\u001b[0m\n",
            "\u001b[0;32m/usr/local/lib/python3.7/dist-packages/pandas/core/groupby/ops.py\u001b[0m in \u001b[0;36m_cython_operation\u001b[0;34m(self, kind, values, how, axis, min_count, **kwargs)\u001b[0m\n\u001b[1;32m   1006\u001b[0m         \u001b[0mcy_op\u001b[0m \u001b[0;34m=\u001b[0m \u001b[0mWrappedCythonOp\u001b[0m\u001b[0;34m(\u001b[0m\u001b[0mkind\u001b[0m\u001b[0;34m=\u001b[0m\u001b[0mkind\u001b[0m\u001b[0;34m,\u001b[0m \u001b[0mhow\u001b[0m\u001b[0;34m=\u001b[0m\u001b[0mhow\u001b[0m\u001b[0;34m)\u001b[0m\u001b[0;34m\u001b[0m\u001b[0;34m\u001b[0m\u001b[0m\n\u001b[1;32m   1007\u001b[0m \u001b[0;34m\u001b[0m\u001b[0m\n\u001b[0;32m-> 1008\u001b[0;31m         \u001b[0mids\u001b[0m\u001b[0;34m,\u001b[0m \u001b[0m_\u001b[0m\u001b[0;34m,\u001b[0m \u001b[0m_\u001b[0m \u001b[0;34m=\u001b[0m \u001b[0mself\u001b[0m\u001b[0;34m.\u001b[0m\u001b[0mgroup_info\u001b[0m\u001b[0;34m\u001b[0m\u001b[0;34m\u001b[0m\u001b[0m\n\u001b[0m\u001b[1;32m   1009\u001b[0m         \u001b[0mngroups\u001b[0m \u001b[0;34m=\u001b[0m \u001b[0mself\u001b[0m\u001b[0;34m.\u001b[0m\u001b[0mngroups\u001b[0m\u001b[0;34m\u001b[0m\u001b[0;34m\u001b[0m\u001b[0m\n\u001b[1;32m   1010\u001b[0m         return cy_op.cython_operation(\n",
            "\u001b[0;32m/usr/local/lib/python3.7/dist-packages/pandas/_libs/properties.pyx\u001b[0m in \u001b[0;36mpandas._libs.properties.CachedProperty.__get__\u001b[0;34m()\u001b[0m\n",
            "\u001b[0;32m/usr/local/lib/python3.7/dist-packages/pandas/core/groupby/ops.py\u001b[0m in \u001b[0;36mgroup_info\u001b[0;34m(self)\u001b[0m\n\u001b[1;32m    909\u001b[0m     \u001b[0;34m@\u001b[0m\u001b[0mcache_readonly\u001b[0m\u001b[0;34m\u001b[0m\u001b[0;34m\u001b[0m\u001b[0m\n\u001b[1;32m    910\u001b[0m     \u001b[0;32mdef\u001b[0m \u001b[0mgroup_info\u001b[0m\u001b[0;34m(\u001b[0m\u001b[0mself\u001b[0m\u001b[0;34m)\u001b[0m\u001b[0;34m:\u001b[0m\u001b[0;34m\u001b[0m\u001b[0;34m\u001b[0m\u001b[0m\n\u001b[0;32m--> 911\u001b[0;31m         \u001b[0mcomp_ids\u001b[0m\u001b[0;34m,\u001b[0m \u001b[0mobs_group_ids\u001b[0m \u001b[0;34m=\u001b[0m \u001b[0mself\u001b[0m\u001b[0;34m.\u001b[0m\u001b[0m_get_compressed_codes\u001b[0m\u001b[0;34m(\u001b[0m\u001b[0;34m)\u001b[0m\u001b[0;34m\u001b[0m\u001b[0;34m\u001b[0m\u001b[0m\n\u001b[0m\u001b[1;32m    912\u001b[0m \u001b[0;34m\u001b[0m\u001b[0m\n\u001b[1;32m    913\u001b[0m         \u001b[0mngroups\u001b[0m \u001b[0;34m=\u001b[0m \u001b[0mlen\u001b[0m\u001b[0;34m(\u001b[0m\u001b[0mobs_group_ids\u001b[0m\u001b[0;34m)\u001b[0m\u001b[0;34m\u001b[0m\u001b[0;34m\u001b[0m\u001b[0m\n",
            "\u001b[0;32m/usr/local/lib/python3.7/dist-packages/pandas/core/groupby/ops.py\u001b[0m in \u001b[0;36m_get_compressed_codes\u001b[0;34m(self)\u001b[0m\n\u001b[1;32m    929\u001b[0m     \u001b[0;32mdef\u001b[0m \u001b[0m_get_compressed_codes\u001b[0m\u001b[0;34m(\u001b[0m\u001b[0mself\u001b[0m\u001b[0;34m)\u001b[0m \u001b[0;34m->\u001b[0m \u001b[0mtuple\u001b[0m\u001b[0;34m[\u001b[0m\u001b[0mnp\u001b[0m\u001b[0;34m.\u001b[0m\u001b[0mndarray\u001b[0m\u001b[0;34m,\u001b[0m \u001b[0mnp\u001b[0m\u001b[0;34m.\u001b[0m\u001b[0mndarray\u001b[0m\u001b[0;34m]\u001b[0m\u001b[0;34m:\u001b[0m\u001b[0;34m\u001b[0m\u001b[0;34m\u001b[0m\u001b[0m\n\u001b[1;32m    930\u001b[0m         \u001b[0;32mif\u001b[0m \u001b[0mlen\u001b[0m\u001b[0;34m(\u001b[0m\u001b[0mself\u001b[0m\u001b[0;34m.\u001b[0m\u001b[0mgroupings\u001b[0m\u001b[0;34m)\u001b[0m \u001b[0;34m>\u001b[0m \u001b[0;36m1\u001b[0m\u001b[0;34m:\u001b[0m\u001b[0;34m\u001b[0m\u001b[0;34m\u001b[0m\u001b[0m\n\u001b[0;32m--> 931\u001b[0;31m             \u001b[0mgroup_index\u001b[0m \u001b[0;34m=\u001b[0m \u001b[0mget_group_index\u001b[0m\u001b[0;34m(\u001b[0m\u001b[0mself\u001b[0m\u001b[0;34m.\u001b[0m\u001b[0mcodes\u001b[0m\u001b[0;34m,\u001b[0m \u001b[0mself\u001b[0m\u001b[0;34m.\u001b[0m\u001b[0mshape\u001b[0m\u001b[0;34m,\u001b[0m \u001b[0msort\u001b[0m\u001b[0;34m=\u001b[0m\u001b[0;32mTrue\u001b[0m\u001b[0;34m,\u001b[0m \u001b[0mxnull\u001b[0m\u001b[0;34m=\u001b[0m\u001b[0;32mTrue\u001b[0m\u001b[0;34m)\u001b[0m\u001b[0;34m\u001b[0m\u001b[0;34m\u001b[0m\u001b[0m\n\u001b[0m\u001b[1;32m    932\u001b[0m             \u001b[0;32mreturn\u001b[0m \u001b[0mcompress_group_index\u001b[0m\u001b[0;34m(\u001b[0m\u001b[0mgroup_index\u001b[0m\u001b[0;34m,\u001b[0m \u001b[0msort\u001b[0m\u001b[0;34m=\u001b[0m\u001b[0mself\u001b[0m\u001b[0;34m.\u001b[0m\u001b[0m_sort\u001b[0m\u001b[0;34m)\u001b[0m\u001b[0;34m\u001b[0m\u001b[0;34m\u001b[0m\u001b[0m\n\u001b[1;32m    933\u001b[0m \u001b[0;34m\u001b[0m\u001b[0m\n",
            "\u001b[0;32m/usr/local/lib/python3.7/dist-packages/pandas/core/groupby/ops.py\u001b[0m in \u001b[0;36mcodes\u001b[0;34m(self)\u001b[0m\n\u001b[1;32m    869\u001b[0m     \u001b[0;34m@\u001b[0m\u001b[0mproperty\u001b[0m\u001b[0;34m\u001b[0m\u001b[0;34m\u001b[0m\u001b[0m\n\u001b[1;32m    870\u001b[0m     \u001b[0;32mdef\u001b[0m \u001b[0mcodes\u001b[0m\u001b[0;34m(\u001b[0m\u001b[0mself\u001b[0m\u001b[0;34m)\u001b[0m \u001b[0;34m->\u001b[0m \u001b[0mlist\u001b[0m\u001b[0;34m[\u001b[0m\u001b[0mnp\u001b[0m\u001b[0;34m.\u001b[0m\u001b[0mndarray\u001b[0m\u001b[0;34m]\u001b[0m\u001b[0;34m:\u001b[0m\u001b[0;34m\u001b[0m\u001b[0;34m\u001b[0m\u001b[0m\n\u001b[0;32m--> 871\u001b[0;31m         \u001b[0;32mreturn\u001b[0m \u001b[0;34m[\u001b[0m\u001b[0mping\u001b[0m\u001b[0;34m.\u001b[0m\u001b[0mcodes\u001b[0m \u001b[0;32mfor\u001b[0m \u001b[0mping\u001b[0m \u001b[0;32min\u001b[0m \u001b[0mself\u001b[0m\u001b[0;34m.\u001b[0m\u001b[0mgroupings\u001b[0m\u001b[0;34m]\u001b[0m\u001b[0;34m\u001b[0m\u001b[0;34m\u001b[0m\u001b[0m\n\u001b[0m\u001b[1;32m    872\u001b[0m \u001b[0;34m\u001b[0m\u001b[0m\n\u001b[1;32m    873\u001b[0m     \u001b[0;34m@\u001b[0m\u001b[0mproperty\u001b[0m\u001b[0;34m\u001b[0m\u001b[0;34m\u001b[0m\u001b[0m\n",
            "\u001b[0;32m/usr/local/lib/python3.7/dist-packages/pandas/core/groupby/ops.py\u001b[0m in \u001b[0;36m<listcomp>\u001b[0;34m(.0)\u001b[0m\n\u001b[1;32m    869\u001b[0m     \u001b[0;34m@\u001b[0m\u001b[0mproperty\u001b[0m\u001b[0;34m\u001b[0m\u001b[0;34m\u001b[0m\u001b[0m\n\u001b[1;32m    870\u001b[0m     \u001b[0;32mdef\u001b[0m \u001b[0mcodes\u001b[0m\u001b[0;34m(\u001b[0m\u001b[0mself\u001b[0m\u001b[0;34m)\u001b[0m \u001b[0;34m->\u001b[0m \u001b[0mlist\u001b[0m\u001b[0;34m[\u001b[0m\u001b[0mnp\u001b[0m\u001b[0;34m.\u001b[0m\u001b[0mndarray\u001b[0m\u001b[0;34m]\u001b[0m\u001b[0;34m:\u001b[0m\u001b[0;34m\u001b[0m\u001b[0;34m\u001b[0m\u001b[0m\n\u001b[0;32m--> 871\u001b[0;31m         \u001b[0;32mreturn\u001b[0m \u001b[0;34m[\u001b[0m\u001b[0mping\u001b[0m\u001b[0;34m.\u001b[0m\u001b[0mcodes\u001b[0m \u001b[0;32mfor\u001b[0m \u001b[0mping\u001b[0m \u001b[0;32min\u001b[0m \u001b[0mself\u001b[0m\u001b[0;34m.\u001b[0m\u001b[0mgroupings\u001b[0m\u001b[0;34m]\u001b[0m\u001b[0;34m\u001b[0m\u001b[0;34m\u001b[0m\u001b[0m\n\u001b[0m\u001b[1;32m    872\u001b[0m \u001b[0;34m\u001b[0m\u001b[0m\n\u001b[1;32m    873\u001b[0m     \u001b[0;34m@\u001b[0m\u001b[0mproperty\u001b[0m\u001b[0;34m\u001b[0m\u001b[0;34m\u001b[0m\u001b[0m\n",
            "\u001b[0;32m/usr/local/lib/python3.7/dist-packages/pandas/core/groupby/grouper.py\u001b[0m in \u001b[0;36mcodes\u001b[0;34m(self)\u001b[0m\n\u001b[1;32m    610\u001b[0m             \u001b[0;32mreturn\u001b[0m \u001b[0mself\u001b[0m\u001b[0;34m.\u001b[0m\u001b[0m_codes\u001b[0m\u001b[0;34m\u001b[0m\u001b[0;34m\u001b[0m\u001b[0m\n\u001b[1;32m    611\u001b[0m \u001b[0;34m\u001b[0m\u001b[0m\n\u001b[0;32m--> 612\u001b[0;31m         \u001b[0;32mreturn\u001b[0m \u001b[0mself\u001b[0m\u001b[0;34m.\u001b[0m\u001b[0m_codes_and_uniques\u001b[0m\u001b[0;34m[\u001b[0m\u001b[0;36m0\u001b[0m\u001b[0;34m]\u001b[0m\u001b[0;34m\u001b[0m\u001b[0;34m\u001b[0m\u001b[0m\n\u001b[0m\u001b[1;32m    613\u001b[0m \u001b[0;34m\u001b[0m\u001b[0m\n\u001b[1;32m    614\u001b[0m     \u001b[0;34m@\u001b[0m\u001b[0mcache_readonly\u001b[0m\u001b[0;34m\u001b[0m\u001b[0;34m\u001b[0m\u001b[0m\n",
            "\u001b[0;32m/usr/local/lib/python3.7/dist-packages/pandas/_libs/properties.pyx\u001b[0m in \u001b[0;36mpandas._libs.properties.CachedProperty.__get__\u001b[0;34m()\u001b[0m\n",
            "\u001b[0;32m/usr/local/lib/python3.7/dist-packages/pandas/core/groupby/grouper.py\u001b[0m in \u001b[0;36m_codes_and_uniques\u001b[0;34m(self)\u001b[0m\n\u001b[1;32m    669\u001b[0m                 \u001b[0mna_sentinel\u001b[0m \u001b[0;34m=\u001b[0m \u001b[0;34m-\u001b[0m\u001b[0;36m1\u001b[0m\u001b[0;34m\u001b[0m\u001b[0;34m\u001b[0m\u001b[0m\n\u001b[1;32m    670\u001b[0m             codes, uniques = algorithms.factorize(\n\u001b[0;32m--> 671\u001b[0;31m                 \u001b[0mself\u001b[0m\u001b[0;34m.\u001b[0m\u001b[0mgrouping_vector\u001b[0m\u001b[0;34m,\u001b[0m \u001b[0msort\u001b[0m\u001b[0;34m=\u001b[0m\u001b[0mself\u001b[0m\u001b[0;34m.\u001b[0m\u001b[0m_sort\u001b[0m\u001b[0;34m,\u001b[0m \u001b[0mna_sentinel\u001b[0m\u001b[0;34m=\u001b[0m\u001b[0mna_sentinel\u001b[0m\u001b[0;34m\u001b[0m\u001b[0;34m\u001b[0m\u001b[0m\n\u001b[0m\u001b[1;32m    672\u001b[0m             )\n\u001b[1;32m    673\u001b[0m         \u001b[0;32mreturn\u001b[0m \u001b[0mcodes\u001b[0m\u001b[0;34m,\u001b[0m \u001b[0muniques\u001b[0m\u001b[0;34m\u001b[0m\u001b[0;34m\u001b[0m\u001b[0m\n",
            "\u001b[0;32m/usr/local/lib/python3.7/dist-packages/pandas/core/algorithms.py\u001b[0m in \u001b[0;36mfactorize\u001b[0;34m(values, sort, na_sentinel, size_hint)\u001b[0m\n\u001b[1;32m    760\u001b[0m \u001b[0;34m\u001b[0m\u001b[0m\n\u001b[1;32m    761\u001b[0m         codes, uniques = factorize_array(\n\u001b[0;32m--> 762\u001b[0;31m             \u001b[0mvalues\u001b[0m\u001b[0;34m,\u001b[0m \u001b[0mna_sentinel\u001b[0m\u001b[0;34m=\u001b[0m\u001b[0mna_sentinel\u001b[0m\u001b[0;34m,\u001b[0m \u001b[0msize_hint\u001b[0m\u001b[0;34m=\u001b[0m\u001b[0msize_hint\u001b[0m\u001b[0;34m,\u001b[0m \u001b[0mna_value\u001b[0m\u001b[0;34m=\u001b[0m\u001b[0mna_value\u001b[0m\u001b[0;34m\u001b[0m\u001b[0;34m\u001b[0m\u001b[0m\n\u001b[0m\u001b[1;32m    763\u001b[0m         )\n\u001b[1;32m    764\u001b[0m \u001b[0;34m\u001b[0m\u001b[0m\n",
            "\u001b[0;32m/usr/local/lib/python3.7/dist-packages/pandas/core/algorithms.py\u001b[0m in \u001b[0;36mfactorize_array\u001b[0;34m(values, na_sentinel, size_hint, na_value, mask)\u001b[0m\n\u001b[1;32m    562\u001b[0m     \u001b[0mtable\u001b[0m \u001b[0;34m=\u001b[0m \u001b[0mhash_klass\u001b[0m\u001b[0;34m(\u001b[0m\u001b[0msize_hint\u001b[0m \u001b[0;32mor\u001b[0m \u001b[0mlen\u001b[0m\u001b[0;34m(\u001b[0m\u001b[0mvalues\u001b[0m\u001b[0;34m)\u001b[0m\u001b[0;34m)\u001b[0m\u001b[0;34m\u001b[0m\u001b[0;34m\u001b[0m\u001b[0m\n\u001b[1;32m    563\u001b[0m     uniques, codes = table.factorize(\n\u001b[0;32m--> 564\u001b[0;31m         \u001b[0mvalues\u001b[0m\u001b[0;34m,\u001b[0m \u001b[0mna_sentinel\u001b[0m\u001b[0;34m=\u001b[0m\u001b[0mna_sentinel\u001b[0m\u001b[0;34m,\u001b[0m \u001b[0mna_value\u001b[0m\u001b[0;34m=\u001b[0m\u001b[0mna_value\u001b[0m\u001b[0;34m,\u001b[0m \u001b[0mmask\u001b[0m\u001b[0;34m=\u001b[0m\u001b[0mmask\u001b[0m\u001b[0;34m\u001b[0m\u001b[0;34m\u001b[0m\u001b[0m\n\u001b[0m\u001b[1;32m    565\u001b[0m     )\n\u001b[1;32m    566\u001b[0m \u001b[0;34m\u001b[0m\u001b[0m\n",
            "\u001b[0;31mKeyboardInterrupt\u001b[0m: "
          ]
        }
      ]
    },
    {
      "cell_type": "code",
      "source": [
        "plt.figure(figsize=(12, 8))\n",
        "plt.hist(mean_price.price, edgecolor = 'black', color = 'orange', bins = 50, range = [0.0, 0.2]);\n",
        "plt.title(\"Average price for purchase\")\n",
        "plt.xlabel(\"Price\");  # Unfortunetly, there is no information about units"
      ],
      "metadata": {
        "id": "YCxa-5xvOL3N"
      },
      "execution_count": null,
      "outputs": []
    },
    {
      "cell_type": "code",
      "source": [
        "mean_transactions = transactions.groupby(['t_dat', 'customer_id'], as_index = False)['article_id'].count()\n",
        "mean_transactions.head(10)"
      ],
      "metadata": {
        "id": "lnueODlyPukz",
        "colab": {
          "base_uri": "https://localhost:8080/",
          "height": 424
        },
        "outputId": "6c1a83fc-2f2a-40f5-942a-3e14a90799a5"
      },
      "execution_count": null,
      "outputs": [
        {
          "output_type": "execute_result",
          "data": {
            "text/plain": [
              "              t_dat                                        customer_id  \\\n",
              "4540089  2019-09-07  69a9c5865987addc53e78e2eec1696da82da6ca94feff9...   \n",
              "4567472  2019-09-10  0b598764c77eeca6ef3434f032f4a37e6cd39c8567a704...   \n",
              "4567475  2019-09-10  0b5c3c30b5f894a7f5434de12bc7125da44329b27d86c8...   \n",
              "4567477  2019-09-10  0b6f638ebdc4ef23afda7b590cdb70fe0e67b2c495cf11...   \n",
              "4567479  2019-09-10  0b77cebd3408d6f42b9becfc96de4a5c0f969bad5c4122...   \n",
              "...             ...                                                ...   \n",
              "1869380  2019-02-16  94665b46e194622ccdbcadc0170f13a2f8ede1ff6d057d...   \n",
              "333665   2018-10-15  246734d8f4a4252fcd5c7aa525055a2804b9a6fb3d4210...   \n",
              "1489900  2019-01-13  62fd7d41b587c72a95c31eca5046019ce4e802853397ff...   \n",
              "1161741  2018-12-17  c2f0cdda2dc3042ccd9fcd8253fd8e368769840581e40a...   \n",
              "330656   2018-10-14  d00063b94dcb1342869d4994844a2742b5d62927f36843...   \n",
              "\n",
              "         article_id  \n",
              "4540089           1  \n",
              "4567472           1  \n",
              "4567475           1  \n",
              "4567477           1  \n",
              "4567479           1  \n",
              "...             ...  \n",
              "1869380         199  \n",
              "333665          220  \n",
              "1489900         221  \n",
              "1161741         336  \n",
              "330656          570  \n",
              "\n",
              "[9080179 rows x 3 columns]"
            ],
            "text/html": [
              "\n",
              "  <div id=\"df-6cc69fcf-1483-4495-b770-13fc999bad16\">\n",
              "    <div class=\"colab-df-container\">\n",
              "      <div>\n",
              "<style scoped>\n",
              "    .dataframe tbody tr th:only-of-type {\n",
              "        vertical-align: middle;\n",
              "    }\n",
              "\n",
              "    .dataframe tbody tr th {\n",
              "        vertical-align: top;\n",
              "    }\n",
              "\n",
              "    .dataframe thead th {\n",
              "        text-align: right;\n",
              "    }\n",
              "</style>\n",
              "<table border=\"1\" class=\"dataframe\">\n",
              "  <thead>\n",
              "    <tr style=\"text-align: right;\">\n",
              "      <th></th>\n",
              "      <th>t_dat</th>\n",
              "      <th>customer_id</th>\n",
              "      <th>article_id</th>\n",
              "    </tr>\n",
              "  </thead>\n",
              "  <tbody>\n",
              "    <tr>\n",
              "      <th>4540089</th>\n",
              "      <td>2019-09-07</td>\n",
              "      <td>69a9c5865987addc53e78e2eec1696da82da6ca94feff9...</td>\n",
              "      <td>1</td>\n",
              "    </tr>\n",
              "    <tr>\n",
              "      <th>4567472</th>\n",
              "      <td>2019-09-10</td>\n",
              "      <td>0b598764c77eeca6ef3434f032f4a37e6cd39c8567a704...</td>\n",
              "      <td>1</td>\n",
              "    </tr>\n",
              "    <tr>\n",
              "      <th>4567475</th>\n",
              "      <td>2019-09-10</td>\n",
              "      <td>0b5c3c30b5f894a7f5434de12bc7125da44329b27d86c8...</td>\n",
              "      <td>1</td>\n",
              "    </tr>\n",
              "    <tr>\n",
              "      <th>4567477</th>\n",
              "      <td>2019-09-10</td>\n",
              "      <td>0b6f638ebdc4ef23afda7b590cdb70fe0e67b2c495cf11...</td>\n",
              "      <td>1</td>\n",
              "    </tr>\n",
              "    <tr>\n",
              "      <th>4567479</th>\n",
              "      <td>2019-09-10</td>\n",
              "      <td>0b77cebd3408d6f42b9becfc96de4a5c0f969bad5c4122...</td>\n",
              "      <td>1</td>\n",
              "    </tr>\n",
              "    <tr>\n",
              "      <th>...</th>\n",
              "      <td>...</td>\n",
              "      <td>...</td>\n",
              "      <td>...</td>\n",
              "    </tr>\n",
              "    <tr>\n",
              "      <th>1869380</th>\n",
              "      <td>2019-02-16</td>\n",
              "      <td>94665b46e194622ccdbcadc0170f13a2f8ede1ff6d057d...</td>\n",
              "      <td>199</td>\n",
              "    </tr>\n",
              "    <tr>\n",
              "      <th>333665</th>\n",
              "      <td>2018-10-15</td>\n",
              "      <td>246734d8f4a4252fcd5c7aa525055a2804b9a6fb3d4210...</td>\n",
              "      <td>220</td>\n",
              "    </tr>\n",
              "    <tr>\n",
              "      <th>1489900</th>\n",
              "      <td>2019-01-13</td>\n",
              "      <td>62fd7d41b587c72a95c31eca5046019ce4e802853397ff...</td>\n",
              "      <td>221</td>\n",
              "    </tr>\n",
              "    <tr>\n",
              "      <th>1161741</th>\n",
              "      <td>2018-12-17</td>\n",
              "      <td>c2f0cdda2dc3042ccd9fcd8253fd8e368769840581e40a...</td>\n",
              "      <td>336</td>\n",
              "    </tr>\n",
              "    <tr>\n",
              "      <th>330656</th>\n",
              "      <td>2018-10-14</td>\n",
              "      <td>d00063b94dcb1342869d4994844a2742b5d62927f36843...</td>\n",
              "      <td>570</td>\n",
              "    </tr>\n",
              "  </tbody>\n",
              "</table>\n",
              "<p>9080179 rows × 3 columns</p>\n",
              "</div>\n",
              "      <button class=\"colab-df-convert\" onclick=\"convertToInteractive('df-6cc69fcf-1483-4495-b770-13fc999bad16')\"\n",
              "              title=\"Convert this dataframe to an interactive table.\"\n",
              "              style=\"display:none;\">\n",
              "        \n",
              "  <svg xmlns=\"http://www.w3.org/2000/svg\" height=\"24px\"viewBox=\"0 0 24 24\"\n",
              "       width=\"24px\">\n",
              "    <path d=\"M0 0h24v24H0V0z\" fill=\"none\"/>\n",
              "    <path d=\"M18.56 5.44l.94 2.06.94-2.06 2.06-.94-2.06-.94-.94-2.06-.94 2.06-2.06.94zm-11 1L8.5 8.5l.94-2.06 2.06-.94-2.06-.94L8.5 2.5l-.94 2.06-2.06.94zm10 10l.94 2.06.94-2.06 2.06-.94-2.06-.94-.94-2.06-.94 2.06-2.06.94z\"/><path d=\"M17.41 7.96l-1.37-1.37c-.4-.4-.92-.59-1.43-.59-.52 0-1.04.2-1.43.59L10.3 9.45l-7.72 7.72c-.78.78-.78 2.05 0 2.83L4 21.41c.39.39.9.59 1.41.59.51 0 1.02-.2 1.41-.59l7.78-7.78 2.81-2.81c.8-.78.8-2.07 0-2.86zM5.41 20L4 18.59l7.72-7.72 1.47 1.35L5.41 20z\"/>\n",
              "  </svg>\n",
              "      </button>\n",
              "      \n",
              "  <style>\n",
              "    .colab-df-container {\n",
              "      display:flex;\n",
              "      flex-wrap:wrap;\n",
              "      gap: 12px;\n",
              "    }\n",
              "\n",
              "    .colab-df-convert {\n",
              "      background-color: #E8F0FE;\n",
              "      border: none;\n",
              "      border-radius: 50%;\n",
              "      cursor: pointer;\n",
              "      display: none;\n",
              "      fill: #1967D2;\n",
              "      height: 32px;\n",
              "      padding: 0 0 0 0;\n",
              "      width: 32px;\n",
              "    }\n",
              "\n",
              "    .colab-df-convert:hover {\n",
              "      background-color: #E2EBFA;\n",
              "      box-shadow: 0px 1px 2px rgba(60, 64, 67, 0.3), 0px 1px 3px 1px rgba(60, 64, 67, 0.15);\n",
              "      fill: #174EA6;\n",
              "    }\n",
              "\n",
              "    [theme=dark] .colab-df-convert {\n",
              "      background-color: #3B4455;\n",
              "      fill: #D2E3FC;\n",
              "    }\n",
              "\n",
              "    [theme=dark] .colab-df-convert:hover {\n",
              "      background-color: #434B5C;\n",
              "      box-shadow: 0px 1px 3px 1px rgba(0, 0, 0, 0.15);\n",
              "      filter: drop-shadow(0px 1px 2px rgba(0, 0, 0, 0.3));\n",
              "      fill: #FFFFFF;\n",
              "    }\n",
              "  </style>\n",
              "\n",
              "      <script>\n",
              "        const buttonEl =\n",
              "          document.querySelector('#df-6cc69fcf-1483-4495-b770-13fc999bad16 button.colab-df-convert');\n",
              "        buttonEl.style.display =\n",
              "          google.colab.kernel.accessAllowed ? 'block' : 'none';\n",
              "\n",
              "        async function convertToInteractive(key) {\n",
              "          const element = document.querySelector('#df-6cc69fcf-1483-4495-b770-13fc999bad16');\n",
              "          const dataTable =\n",
              "            await google.colab.kernel.invokeFunction('convertToInteractive',\n",
              "                                                     [key], {});\n",
              "          if (!dataTable) return;\n",
              "\n",
              "          const docLinkHtml = 'Like what you see? Visit the ' +\n",
              "            '<a target=\"_blank\" href=https://colab.research.google.com/notebooks/data_table.ipynb>data table notebook</a>'\n",
              "            + ' to learn more about interactive tables.';\n",
              "          element.innerHTML = '';\n",
              "          dataTable['output_type'] = 'display_data';\n",
              "          await google.colab.output.renderOutput(dataTable, element);\n",
              "          const docLink = document.createElement('div');\n",
              "          docLink.innerHTML = docLinkHtml;\n",
              "          element.appendChild(docLink);\n",
              "        }\n",
              "      </script>\n",
              "    </div>\n",
              "  </div>\n",
              "  "
            ]
          },
          "metadata": {},
          "execution_count": 9
        }
      ]
    },
    {
      "cell_type": "code",
      "source": [
        "# Average number of iteams, that a consumer buys\n",
        "mean_transactions.article_id.mean()"
      ],
      "metadata": {
        "id": "IXFpNLXNRxuf"
      },
      "execution_count": null,
      "outputs": []
    },
    {
      "cell_type": "markdown",
      "source": [
        "On average, a customer buys 3-4 items"
      ],
      "metadata": {
        "id": "vLsAws4nkrz-"
      }
    },
    {
      "cell_type": "code",
      "source": [
        "plt.figure(figsize=(12, 8))\n",
        "plt.hist(mean_transactions.article_id, edgecolor = 'black', color = 'orange', bins = 20, range = [0.0, 30]);\n",
        "plt.xlabel(\"Number of purchases\");\n",
        "# Think how to cut the range of a histogram"
      ],
      "metadata": {
        "id": "Wa24oAF9SNk2"
      },
      "execution_count": null,
      "outputs": []
    },
    {
      "cell_type": "code",
      "source": [
        "popular_items = transactions.groupby(['article_id'], as_index = False)['t_dat'].count()\n",
        "top_items = popular_items.sort_values(['t_dat'], ascending = False)[:20]  # Top 20 items \n",
        "top_items = top_items.rename(columns = {\"t_dat\":\"count\"})"
      ],
      "metadata": {
        "id": "CqIsE2FETLIU"
      },
      "execution_count": null,
      "outputs": []
    },
    {
      "cell_type": "code",
      "source": [
        "result = pd.merge(top_items, articles, on = \"article_id\")\n",
        "result  # We can just recommend customers to buy the most popular items"
      ],
      "metadata": {
        "id": "aNBrINwfV1W3"
      },
      "execution_count": null,
      "outputs": []
    },
    {
      "cell_type": "code",
      "source": [],
      "metadata": {
        "id": "jh7SISw_TvQL"
      },
      "execution_count": null,
      "outputs": []
    },
    {
      "cell_type": "markdown",
      "source": [
        "First of all we should prepare the data. We add some features from customers table to transactions_train data"
      ],
      "metadata": {
        "id": "5RZlKQRob-0V"
      }
    },
    {
      "cell_type": "code",
      "source": [
        "customers.columns"
      ],
      "metadata": {
        "id": "y4pGTT77gJBG"
      },
      "execution_count": null,
      "outputs": []
    },
    {
      "cell_type": "code",
      "source": [
        "customs = customers[['customer_id', 'club_member_status', 'fashion_news_frequency', 'age', 'postal_code']]"
      ],
      "metadata": {
        "id": "z3RochCRgsVh"
      },
      "execution_count": null,
      "outputs": []
    },
    {
      "cell_type": "code",
      "source": [
        "customs.club_member_status.unique()"
      ],
      "metadata": {
        "id": "YbjWS0K2C0V4"
      },
      "execution_count": null,
      "outputs": []
    },
    {
      "cell_type": "code",
      "source": [
        "customs.fashion_news_frequency.unique()"
      ],
      "metadata": {
        "id": "5ZXhOKDs9fPJ"
      },
      "execution_count": null,
      "outputs": []
    },
    {
      "cell_type": "code",
      "source": [
        "# We have some categories that should be noted as 'not defined'\n",
        "# However, we have some different combinations for this category in 'fashion_news_frequency'\n",
        "# And 'nan' in 'club_member_status'\n",
        "\n",
        "customs.club_member_status = customs.club_member_status.fillna(0)\n",
        "customs.club_member_status = customs.club_member_status.replace(0, \"NOT_DEF\")"
      ],
      "metadata": {
        "id": "rZREbFlxAjZd"
      },
      "execution_count": null,
      "outputs": []
    },
    {
      "cell_type": "code",
      "source": [
        "customs.fashion_news_frequency = customs.fashion_news_frequency.fillna(0)\n",
        "customs.fashion_news_frequency = customs.fashion_news_frequency.replace(['None', 0], 'NONE')"
      ],
      "metadata": {
        "id": "1V3Bihuh-J6w"
      },
      "execution_count": null,
      "outputs": []
    },
    {
      "cell_type": "code",
      "source": [
        "customs = pd.get_dummies(customs, columns = ['fashion_news_frequency', 'club_member_status'], drop_first = True)"
      ],
      "metadata": {
        "id": "vFepnp2DEtnh"
      },
      "execution_count": null,
      "outputs": []
    },
    {
      "cell_type": "code",
      "source": [
        "customs"
      ],
      "metadata": {
        "id": "Az-yhHhrF06t"
      },
      "execution_count": null,
      "outputs": []
    },
    {
      "cell_type": "code",
      "source": [
        "transactions.columns"
      ],
      "metadata": {
        "id": "u8T1cMElgG3I"
      },
      "execution_count": null,
      "outputs": []
    },
    {
      "cell_type": "code",
      "source": [
        "transactions.describe()"
      ],
      "metadata": {
        "id": "Qr4_aTEYjIcG"
      },
      "execution_count": null,
      "outputs": []
    },
    {
      "cell_type": "code",
      "source": [
        "transactions.sort_values(\"customer_id\")\n",
        "customs.sort_values(\"customer_id\")"
      ],
      "metadata": {
        "id": "IlvqgAoDNIpp"
      },
      "execution_count": null,
      "outputs": []
    },
    {
      "cell_type": "code",
      "source": [
        "#res = pd.concat([customs, transactions], axis = 1, keys = 'customer_id', join = 'outer')\n",
        "res = pd.merge(transactions, customs, on=['customer_id'], how='inner')"
      ],
      "metadata": {
        "id": "hqojtZ-NiMUy"
      },
      "execution_count": null,
      "outputs": []
    },
    {
      "cell_type": "code",
      "source": [
        "res.head()"
      ],
      "metadata": {
        "id": "hPgAcgiigQ8j"
      },
      "execution_count": null,
      "outputs": []
    },
    {
      "cell_type": "markdown",
      "source": [
        "We tried to model KNN. However, because of memory lack we cannot receive results\n",
        "Also, it is not a good method to desribe recommendations as a predicted variable is not specified correctly\n"
      ],
      "metadata": {
        "id": "XEfm2cGfmTQw"
      }
    },
    {
      "cell_type": "markdown",
      "source": [
        "# Dataset preparation\n",
        "cotribution: Kristina\n",
        "\n"
      ],
      "metadata": {
        "id": "TsYKg2bw25lq"
      }
    },
    {
      "cell_type": "markdown",
      "source": [
        "To simplify our data (problems with model estimation after downloads of files). We decide to model only for the most active users. So, let's try to produce another set of users"
      ],
      "metadata": {
        "id": "L2aOODyAQd8p"
      }
    },
    {
      "cell_type": "code",
      "source": [
        "# Set the top of popular items\n",
        "most_transactions = transactions.groupby([\"article_id\"], as_index = False)[\"customer_id\"].count()\n",
        "most_transactions = most_transactions.rename(columns={\"customer_id\":\"num_transactions\"})\n",
        "most_transactions = most_transactions.sort_values(\"num_transactions\", ascending = False)\n",
        "most_transactions.head(10)"
      ],
      "metadata": {
        "id": "fLuegP_CQdFF",
        "colab": {
          "base_uri": "https://localhost:8080/",
          "height": 363
        },
        "outputId": "0e7eaebb-292b-4aca-e472-2f0ee057d370"
      },
      "execution_count": null,
      "outputs": [
        {
          "output_type": "execute_result",
          "data": {
            "text/plain": [
              "       article_id  num_transactions\n",
              "53832   706016001             50287\n",
              "53833   706016002             35043\n",
              "1711    372860001             31718\n",
              "24808   610776002             30199\n",
              "70124   759871002             26329\n",
              "3706    464297007             25025\n",
              "1712    372860002             24458\n",
              "24807   610776001             22451\n",
              "2233    399223001             22236\n",
              "53834   706016003             21241"
            ],
            "text/html": [
              "\n",
              "  <div id=\"df-b1d3dffc-9f28-4a72-aaeb-d6b1753e27ac\">\n",
              "    <div class=\"colab-df-container\">\n",
              "      <div>\n",
              "<style scoped>\n",
              "    .dataframe tbody tr th:only-of-type {\n",
              "        vertical-align: middle;\n",
              "    }\n",
              "\n",
              "    .dataframe tbody tr th {\n",
              "        vertical-align: top;\n",
              "    }\n",
              "\n",
              "    .dataframe thead th {\n",
              "        text-align: right;\n",
              "    }\n",
              "</style>\n",
              "<table border=\"1\" class=\"dataframe\">\n",
              "  <thead>\n",
              "    <tr style=\"text-align: right;\">\n",
              "      <th></th>\n",
              "      <th>article_id</th>\n",
              "      <th>num_transactions</th>\n",
              "    </tr>\n",
              "  </thead>\n",
              "  <tbody>\n",
              "    <tr>\n",
              "      <th>53832</th>\n",
              "      <td>706016001</td>\n",
              "      <td>50287</td>\n",
              "    </tr>\n",
              "    <tr>\n",
              "      <th>53833</th>\n",
              "      <td>706016002</td>\n",
              "      <td>35043</td>\n",
              "    </tr>\n",
              "    <tr>\n",
              "      <th>1711</th>\n",
              "      <td>372860001</td>\n",
              "      <td>31718</td>\n",
              "    </tr>\n",
              "    <tr>\n",
              "      <th>24808</th>\n",
              "      <td>610776002</td>\n",
              "      <td>30199</td>\n",
              "    </tr>\n",
              "    <tr>\n",
              "      <th>70124</th>\n",
              "      <td>759871002</td>\n",
              "      <td>26329</td>\n",
              "    </tr>\n",
              "    <tr>\n",
              "      <th>3706</th>\n",
              "      <td>464297007</td>\n",
              "      <td>25025</td>\n",
              "    </tr>\n",
              "    <tr>\n",
              "      <th>1712</th>\n",
              "      <td>372860002</td>\n",
              "      <td>24458</td>\n",
              "    </tr>\n",
              "    <tr>\n",
              "      <th>24807</th>\n",
              "      <td>610776001</td>\n",
              "      <td>22451</td>\n",
              "    </tr>\n",
              "    <tr>\n",
              "      <th>2233</th>\n",
              "      <td>399223001</td>\n",
              "      <td>22236</td>\n",
              "    </tr>\n",
              "    <tr>\n",
              "      <th>53834</th>\n",
              "      <td>706016003</td>\n",
              "      <td>21241</td>\n",
              "    </tr>\n",
              "  </tbody>\n",
              "</table>\n",
              "</div>\n",
              "      <button class=\"colab-df-convert\" onclick=\"convertToInteractive('df-b1d3dffc-9f28-4a72-aaeb-d6b1753e27ac')\"\n",
              "              title=\"Convert this dataframe to an interactive table.\"\n",
              "              style=\"display:none;\">\n",
              "        \n",
              "  <svg xmlns=\"http://www.w3.org/2000/svg\" height=\"24px\"viewBox=\"0 0 24 24\"\n",
              "       width=\"24px\">\n",
              "    <path d=\"M0 0h24v24H0V0z\" fill=\"none\"/>\n",
              "    <path d=\"M18.56 5.44l.94 2.06.94-2.06 2.06-.94-2.06-.94-.94-2.06-.94 2.06-2.06.94zm-11 1L8.5 8.5l.94-2.06 2.06-.94-2.06-.94L8.5 2.5l-.94 2.06-2.06.94zm10 10l.94 2.06.94-2.06 2.06-.94-2.06-.94-.94-2.06-.94 2.06-2.06.94z\"/><path d=\"M17.41 7.96l-1.37-1.37c-.4-.4-.92-.59-1.43-.59-.52 0-1.04.2-1.43.59L10.3 9.45l-7.72 7.72c-.78.78-.78 2.05 0 2.83L4 21.41c.39.39.9.59 1.41.59.51 0 1.02-.2 1.41-.59l7.78-7.78 2.81-2.81c.8-.78.8-2.07 0-2.86zM5.41 20L4 18.59l7.72-7.72 1.47 1.35L5.41 20z\"/>\n",
              "  </svg>\n",
              "      </button>\n",
              "      \n",
              "  <style>\n",
              "    .colab-df-container {\n",
              "      display:flex;\n",
              "      flex-wrap:wrap;\n",
              "      gap: 12px;\n",
              "    }\n",
              "\n",
              "    .colab-df-convert {\n",
              "      background-color: #E8F0FE;\n",
              "      border: none;\n",
              "      border-radius: 50%;\n",
              "      cursor: pointer;\n",
              "      display: none;\n",
              "      fill: #1967D2;\n",
              "      height: 32px;\n",
              "      padding: 0 0 0 0;\n",
              "      width: 32px;\n",
              "    }\n",
              "\n",
              "    .colab-df-convert:hover {\n",
              "      background-color: #E2EBFA;\n",
              "      box-shadow: 0px 1px 2px rgba(60, 64, 67, 0.3), 0px 1px 3px 1px rgba(60, 64, 67, 0.15);\n",
              "      fill: #174EA6;\n",
              "    }\n",
              "\n",
              "    [theme=dark] .colab-df-convert {\n",
              "      background-color: #3B4455;\n",
              "      fill: #D2E3FC;\n",
              "    }\n",
              "\n",
              "    [theme=dark] .colab-df-convert:hover {\n",
              "      background-color: #434B5C;\n",
              "      box-shadow: 0px 1px 3px 1px rgba(0, 0, 0, 0.15);\n",
              "      filter: drop-shadow(0px 1px 2px rgba(0, 0, 0, 0.3));\n",
              "      fill: #FFFFFF;\n",
              "    }\n",
              "  </style>\n",
              "\n",
              "      <script>\n",
              "        const buttonEl =\n",
              "          document.querySelector('#df-b1d3dffc-9f28-4a72-aaeb-d6b1753e27ac button.colab-df-convert');\n",
              "        buttonEl.style.display =\n",
              "          google.colab.kernel.accessAllowed ? 'block' : 'none';\n",
              "\n",
              "        async function convertToInteractive(key) {\n",
              "          const element = document.querySelector('#df-b1d3dffc-9f28-4a72-aaeb-d6b1753e27ac');\n",
              "          const dataTable =\n",
              "            await google.colab.kernel.invokeFunction('convertToInteractive',\n",
              "                                                     [key], {});\n",
              "          if (!dataTable) return;\n",
              "\n",
              "          const docLinkHtml = 'Like what you see? Visit the ' +\n",
              "            '<a target=\"_blank\" href=https://colab.research.google.com/notebooks/data_table.ipynb>data table notebook</a>'\n",
              "            + ' to learn more about interactive tables.';\n",
              "          element.innerHTML = '';\n",
              "          dataTable['output_type'] = 'display_data';\n",
              "          await google.colab.output.renderOutput(dataTable, element);\n",
              "          const docLink = document.createElement('div');\n",
              "          docLink.innerHTML = docLinkHtml;\n",
              "          element.appendChild(docLink);\n",
              "        }\n",
              "      </script>\n",
              "    </div>\n",
              "  </div>\n",
              "  "
            ]
          },
          "metadata": {},
          "execution_count": 113
        }
      ]
    },
    {
      "cell_type": "code",
      "source": [
        "most_transactions = most_transactions[:200]\n",
        "# reduce the number to have an opportunity to evaluate the model"
      ],
      "metadata": {
        "id": "kbumPORSsorj"
      },
      "execution_count": null,
      "outputs": []
    },
    {
      "cell_type": "code",
      "source": [
        "most_transactions"
      ],
      "metadata": {
        "colab": {
          "base_uri": "https://localhost:8080/",
          "height": 423
        },
        "id": "bIxaJO5FuMXv",
        "outputId": "53a21098-c3d1-4cd0-cd85-4c2c597a2ba6"
      },
      "execution_count": null,
      "outputs": [
        {
          "output_type": "execute_result",
          "data": {
            "text/plain": [
              "       article_id  num_transactions\n",
              "53832   706016001             50287\n",
              "53833   706016002             35043\n",
              "1711    372860001             31718\n",
              "24808   610776002             30199\n",
              "70124   759871002             26329\n",
              "...           ...               ...\n",
              "33831   640021005              6899\n",
              "95131   866383001              6831\n",
              "23478   605690001              6734\n",
              "38575   658298001              6731\n",
              "12707   554598003              6728\n",
              "\n",
              "[200 rows x 2 columns]"
            ],
            "text/html": [
              "\n",
              "  <div id=\"df-2d41bba0-4699-48bd-964a-af4b4f59e224\">\n",
              "    <div class=\"colab-df-container\">\n",
              "      <div>\n",
              "<style scoped>\n",
              "    .dataframe tbody tr th:only-of-type {\n",
              "        vertical-align: middle;\n",
              "    }\n",
              "\n",
              "    .dataframe tbody tr th {\n",
              "        vertical-align: top;\n",
              "    }\n",
              "\n",
              "    .dataframe thead th {\n",
              "        text-align: right;\n",
              "    }\n",
              "</style>\n",
              "<table border=\"1\" class=\"dataframe\">\n",
              "  <thead>\n",
              "    <tr style=\"text-align: right;\">\n",
              "      <th></th>\n",
              "      <th>article_id</th>\n",
              "      <th>num_transactions</th>\n",
              "    </tr>\n",
              "  </thead>\n",
              "  <tbody>\n",
              "    <tr>\n",
              "      <th>53832</th>\n",
              "      <td>706016001</td>\n",
              "      <td>50287</td>\n",
              "    </tr>\n",
              "    <tr>\n",
              "      <th>53833</th>\n",
              "      <td>706016002</td>\n",
              "      <td>35043</td>\n",
              "    </tr>\n",
              "    <tr>\n",
              "      <th>1711</th>\n",
              "      <td>372860001</td>\n",
              "      <td>31718</td>\n",
              "    </tr>\n",
              "    <tr>\n",
              "      <th>24808</th>\n",
              "      <td>610776002</td>\n",
              "      <td>30199</td>\n",
              "    </tr>\n",
              "    <tr>\n",
              "      <th>70124</th>\n",
              "      <td>759871002</td>\n",
              "      <td>26329</td>\n",
              "    </tr>\n",
              "    <tr>\n",
              "      <th>...</th>\n",
              "      <td>...</td>\n",
              "      <td>...</td>\n",
              "    </tr>\n",
              "    <tr>\n",
              "      <th>33831</th>\n",
              "      <td>640021005</td>\n",
              "      <td>6899</td>\n",
              "    </tr>\n",
              "    <tr>\n",
              "      <th>95131</th>\n",
              "      <td>866383001</td>\n",
              "      <td>6831</td>\n",
              "    </tr>\n",
              "    <tr>\n",
              "      <th>23478</th>\n",
              "      <td>605690001</td>\n",
              "      <td>6734</td>\n",
              "    </tr>\n",
              "    <tr>\n",
              "      <th>38575</th>\n",
              "      <td>658298001</td>\n",
              "      <td>6731</td>\n",
              "    </tr>\n",
              "    <tr>\n",
              "      <th>12707</th>\n",
              "      <td>554598003</td>\n",
              "      <td>6728</td>\n",
              "    </tr>\n",
              "  </tbody>\n",
              "</table>\n",
              "<p>200 rows × 2 columns</p>\n",
              "</div>\n",
              "      <button class=\"colab-df-convert\" onclick=\"convertToInteractive('df-2d41bba0-4699-48bd-964a-af4b4f59e224')\"\n",
              "              title=\"Convert this dataframe to an interactive table.\"\n",
              "              style=\"display:none;\">\n",
              "        \n",
              "  <svg xmlns=\"http://www.w3.org/2000/svg\" height=\"24px\"viewBox=\"0 0 24 24\"\n",
              "       width=\"24px\">\n",
              "    <path d=\"M0 0h24v24H0V0z\" fill=\"none\"/>\n",
              "    <path d=\"M18.56 5.44l.94 2.06.94-2.06 2.06-.94-2.06-.94-.94-2.06-.94 2.06-2.06.94zm-11 1L8.5 8.5l.94-2.06 2.06-.94-2.06-.94L8.5 2.5l-.94 2.06-2.06.94zm10 10l.94 2.06.94-2.06 2.06-.94-2.06-.94-.94-2.06-.94 2.06-2.06.94z\"/><path d=\"M17.41 7.96l-1.37-1.37c-.4-.4-.92-.59-1.43-.59-.52 0-1.04.2-1.43.59L10.3 9.45l-7.72 7.72c-.78.78-.78 2.05 0 2.83L4 21.41c.39.39.9.59 1.41.59.51 0 1.02-.2 1.41-.59l7.78-7.78 2.81-2.81c.8-.78.8-2.07 0-2.86zM5.41 20L4 18.59l7.72-7.72 1.47 1.35L5.41 20z\"/>\n",
              "  </svg>\n",
              "      </button>\n",
              "      \n",
              "  <style>\n",
              "    .colab-df-container {\n",
              "      display:flex;\n",
              "      flex-wrap:wrap;\n",
              "      gap: 12px;\n",
              "    }\n",
              "\n",
              "    .colab-df-convert {\n",
              "      background-color: #E8F0FE;\n",
              "      border: none;\n",
              "      border-radius: 50%;\n",
              "      cursor: pointer;\n",
              "      display: none;\n",
              "      fill: #1967D2;\n",
              "      height: 32px;\n",
              "      padding: 0 0 0 0;\n",
              "      width: 32px;\n",
              "    }\n",
              "\n",
              "    .colab-df-convert:hover {\n",
              "      background-color: #E2EBFA;\n",
              "      box-shadow: 0px 1px 2px rgba(60, 64, 67, 0.3), 0px 1px 3px 1px rgba(60, 64, 67, 0.15);\n",
              "      fill: #174EA6;\n",
              "    }\n",
              "\n",
              "    [theme=dark] .colab-df-convert {\n",
              "      background-color: #3B4455;\n",
              "      fill: #D2E3FC;\n",
              "    }\n",
              "\n",
              "    [theme=dark] .colab-df-convert:hover {\n",
              "      background-color: #434B5C;\n",
              "      box-shadow: 0px 1px 3px 1px rgba(0, 0, 0, 0.15);\n",
              "      filter: drop-shadow(0px 1px 2px rgba(0, 0, 0, 0.3));\n",
              "      fill: #FFFFFF;\n",
              "    }\n",
              "  </style>\n",
              "\n",
              "      <script>\n",
              "        const buttonEl =\n",
              "          document.querySelector('#df-2d41bba0-4699-48bd-964a-af4b4f59e224 button.colab-df-convert');\n",
              "        buttonEl.style.display =\n",
              "          google.colab.kernel.accessAllowed ? 'block' : 'none';\n",
              "\n",
              "        async function convertToInteractive(key) {\n",
              "          const element = document.querySelector('#df-2d41bba0-4699-48bd-964a-af4b4f59e224');\n",
              "          const dataTable =\n",
              "            await google.colab.kernel.invokeFunction('convertToInteractive',\n",
              "                                                     [key], {});\n",
              "          if (!dataTable) return;\n",
              "\n",
              "          const docLinkHtml = 'Like what you see? Visit the ' +\n",
              "            '<a target=\"_blank\" href=https://colab.research.google.com/notebooks/data_table.ipynb>data table notebook</a>'\n",
              "            + ' to learn more about interactive tables.';\n",
              "          element.innerHTML = '';\n",
              "          dataTable['output_type'] = 'display_data';\n",
              "          await google.colab.output.renderOutput(dataTable, element);\n",
              "          const docLink = document.createElement('div');\n",
              "          docLink.innerHTML = docLinkHtml;\n",
              "          element.appendChild(docLink);\n",
              "        }\n",
              "      </script>\n",
              "    </div>\n",
              "  </div>\n",
              "  "
            ]
          },
          "metadata": {},
          "execution_count": 117
        }
      ]
    },
    {
      "cell_type": "code",
      "source": [
        "transactions = transactions[transactions[\"article_id\"].isin(most_transactions.article_id)].reset_index(drop=True)"
      ],
      "metadata": {
        "id": "DBpFbtffrxEM"
      },
      "execution_count": null,
      "outputs": []
    },
    {
      "cell_type": "code",
      "source": [
        "print(\"The number of unique items in a reduced set: \", len(transactions['article_id'].unique()))"
      ],
      "metadata": {
        "colab": {
          "base_uri": "https://localhost:8080/"
        },
        "id": "1G7E_7httVwY",
        "outputId": "01b40d5b-084a-49e6-bf9c-f202272a21c4"
      },
      "execution_count": null,
      "outputs": [
        {
          "output_type": "stream",
          "name": "stdout",
          "text": [
            "The number of unique items in a reduced set:  200\n"
          ]
        }
      ]
    },
    {
      "cell_type": "code",
      "source": [
        "# Top of cutomers\n",
        "most_customers = transactions.groupby([\"t_dat\",\"customer_id\"], as_index = False)[\"article_id\"].count()\n",
        "most_customers = most_customers.rename(columns={\"article_id\":\"num_transactions\"})\n",
        "most_customers = most_customers.sort_values(\"num_transactions\", ascending = False)\n",
        "most_customers = most_customers[most_customers['num_transactions'] > 10]\n",
        "# This allows to delete customers who buy less than 11 items"
      ],
      "metadata": {
        "id": "RORpBzB6Vrcy"
      },
      "execution_count": null,
      "outputs": []
    },
    {
      "cell_type": "code",
      "source": [
        "transactions = transactions[transactions[\"customer_id\"].isin(most_customers.customer_id)].reset_index(drop=True)"
      ],
      "metadata": {
        "id": "SEAAm8c5vEfK"
      },
      "execution_count": null,
      "outputs": []
    },
    {
      "cell_type": "code",
      "source": [
        "print(\"The number of unique customers in a reduced set: \", len(transactions['customer_id'].unique()))"
      ],
      "metadata": {
        "colab": {
          "base_uri": "https://localhost:8080/"
        },
        "id": "4ryoGefOyr_N",
        "outputId": "23c8c570-f018-40b8-914b-16b3dc0f923c"
      },
      "execution_count": null,
      "outputs": [
        {
          "output_type": "stream",
          "name": "stdout",
          "text": [
            "The number of unique customers in a reduced set:  1255\n"
          ]
        }
      ]
    },
    {
      "cell_type": "code",
      "source": [
        "transactions"
      ],
      "metadata": {
        "colab": {
          "base_uri": "https://localhost:8080/",
          "height": 423
        },
        "id": "te6Lp6m40SG3",
        "outputId": "d10b3857-2a5d-4971-d27a-544d96f5d79c"
      },
      "execution_count": null,
      "outputs": [
        {
          "output_type": "execute_result",
          "data": {
            "text/plain": [
              "            t_dat                                        customer_id  \\\n",
              "0      2018-09-20  150e3d09b926dceebb85dddaf506feb6cdbad3c7c8c5e0...   \n",
              "1      2018-09-20  150e3d09b926dceebb85dddaf506feb6cdbad3c7c8c5e0...   \n",
              "2      2018-09-20  150e3d09b926dceebb85dddaf506feb6cdbad3c7c8c5e0...   \n",
              "3      2018-09-20  415a635c833eca2e0525fd673f76015545ad46591e189e...   \n",
              "4      2018-09-20  415a635c833eca2e0525fd673f76015545ad46591e189e...   \n",
              "...           ...                                                ...   \n",
              "30058  2020-09-22  8ba1d5230da686f7eef745d7739f81aa9a55fd6bd9bd65...   \n",
              "30059  2020-09-22  8ba1d5230da686f7eef745d7739f81aa9a55fd6bd9bd65...   \n",
              "30060  2020-09-22  8ba1d5230da686f7eef745d7739f81aa9a55fd6bd9bd65...   \n",
              "30061  2020-09-22  8ba1d5230da686f7eef745d7739f81aa9a55fd6bd9bd65...   \n",
              "30062  2020-09-22  d1a43c9626d2c2ea162bc9346d3b43f1467ca017d37fb0...   \n",
              "\n",
              "       article_id     price  sales_channel_id  \n",
              "0       539723001  0.031051                 2  \n",
              "1       539723001  0.030932                 2  \n",
              "2       539723001  0.031051                 2  \n",
              "3       539723001  0.031271                 1  \n",
              "4       539723005  0.031271                 1  \n",
              "...           ...       ...               ...  \n",
              "30058   673677002  0.025407                 2  \n",
              "30059   673677002  0.025407                 2  \n",
              "30060   673677002  0.025407                 2  \n",
              "30061   673677002  0.025407                 2  \n",
              "30062   729928001  0.025407                 2  \n",
              "\n",
              "[30063 rows x 5 columns]"
            ],
            "text/html": [
              "\n",
              "  <div id=\"df-17c6392b-cb9f-4901-be75-d559e71f4228\">\n",
              "    <div class=\"colab-df-container\">\n",
              "      <div>\n",
              "<style scoped>\n",
              "    .dataframe tbody tr th:only-of-type {\n",
              "        vertical-align: middle;\n",
              "    }\n",
              "\n",
              "    .dataframe tbody tr th {\n",
              "        vertical-align: top;\n",
              "    }\n",
              "\n",
              "    .dataframe thead th {\n",
              "        text-align: right;\n",
              "    }\n",
              "</style>\n",
              "<table border=\"1\" class=\"dataframe\">\n",
              "  <thead>\n",
              "    <tr style=\"text-align: right;\">\n",
              "      <th></th>\n",
              "      <th>t_dat</th>\n",
              "      <th>customer_id</th>\n",
              "      <th>article_id</th>\n",
              "      <th>price</th>\n",
              "      <th>sales_channel_id</th>\n",
              "    </tr>\n",
              "  </thead>\n",
              "  <tbody>\n",
              "    <tr>\n",
              "      <th>0</th>\n",
              "      <td>2018-09-20</td>\n",
              "      <td>150e3d09b926dceebb85dddaf506feb6cdbad3c7c8c5e0...</td>\n",
              "      <td>539723001</td>\n",
              "      <td>0.031051</td>\n",
              "      <td>2</td>\n",
              "    </tr>\n",
              "    <tr>\n",
              "      <th>1</th>\n",
              "      <td>2018-09-20</td>\n",
              "      <td>150e3d09b926dceebb85dddaf506feb6cdbad3c7c8c5e0...</td>\n",
              "      <td>539723001</td>\n",
              "      <td>0.030932</td>\n",
              "      <td>2</td>\n",
              "    </tr>\n",
              "    <tr>\n",
              "      <th>2</th>\n",
              "      <td>2018-09-20</td>\n",
              "      <td>150e3d09b926dceebb85dddaf506feb6cdbad3c7c8c5e0...</td>\n",
              "      <td>539723001</td>\n",
              "      <td>0.031051</td>\n",
              "      <td>2</td>\n",
              "    </tr>\n",
              "    <tr>\n",
              "      <th>3</th>\n",
              "      <td>2018-09-20</td>\n",
              "      <td>415a635c833eca2e0525fd673f76015545ad46591e189e...</td>\n",
              "      <td>539723001</td>\n",
              "      <td>0.031271</td>\n",
              "      <td>1</td>\n",
              "    </tr>\n",
              "    <tr>\n",
              "      <th>4</th>\n",
              "      <td>2018-09-20</td>\n",
              "      <td>415a635c833eca2e0525fd673f76015545ad46591e189e...</td>\n",
              "      <td>539723005</td>\n",
              "      <td>0.031271</td>\n",
              "      <td>1</td>\n",
              "    </tr>\n",
              "    <tr>\n",
              "      <th>...</th>\n",
              "      <td>...</td>\n",
              "      <td>...</td>\n",
              "      <td>...</td>\n",
              "      <td>...</td>\n",
              "      <td>...</td>\n",
              "    </tr>\n",
              "    <tr>\n",
              "      <th>30058</th>\n",
              "      <td>2020-09-22</td>\n",
              "      <td>8ba1d5230da686f7eef745d7739f81aa9a55fd6bd9bd65...</td>\n",
              "      <td>673677002</td>\n",
              "      <td>0.025407</td>\n",
              "      <td>2</td>\n",
              "    </tr>\n",
              "    <tr>\n",
              "      <th>30059</th>\n",
              "      <td>2020-09-22</td>\n",
              "      <td>8ba1d5230da686f7eef745d7739f81aa9a55fd6bd9bd65...</td>\n",
              "      <td>673677002</td>\n",
              "      <td>0.025407</td>\n",
              "      <td>2</td>\n",
              "    </tr>\n",
              "    <tr>\n",
              "      <th>30060</th>\n",
              "      <td>2020-09-22</td>\n",
              "      <td>8ba1d5230da686f7eef745d7739f81aa9a55fd6bd9bd65...</td>\n",
              "      <td>673677002</td>\n",
              "      <td>0.025407</td>\n",
              "      <td>2</td>\n",
              "    </tr>\n",
              "    <tr>\n",
              "      <th>30061</th>\n",
              "      <td>2020-09-22</td>\n",
              "      <td>8ba1d5230da686f7eef745d7739f81aa9a55fd6bd9bd65...</td>\n",
              "      <td>673677002</td>\n",
              "      <td>0.025407</td>\n",
              "      <td>2</td>\n",
              "    </tr>\n",
              "    <tr>\n",
              "      <th>30062</th>\n",
              "      <td>2020-09-22</td>\n",
              "      <td>d1a43c9626d2c2ea162bc9346d3b43f1467ca017d37fb0...</td>\n",
              "      <td>729928001</td>\n",
              "      <td>0.025407</td>\n",
              "      <td>2</td>\n",
              "    </tr>\n",
              "  </tbody>\n",
              "</table>\n",
              "<p>30063 rows × 5 columns</p>\n",
              "</div>\n",
              "      <button class=\"colab-df-convert\" onclick=\"convertToInteractive('df-17c6392b-cb9f-4901-be75-d559e71f4228')\"\n",
              "              title=\"Convert this dataframe to an interactive table.\"\n",
              "              style=\"display:none;\">\n",
              "        \n",
              "  <svg xmlns=\"http://www.w3.org/2000/svg\" height=\"24px\"viewBox=\"0 0 24 24\"\n",
              "       width=\"24px\">\n",
              "    <path d=\"M0 0h24v24H0V0z\" fill=\"none\"/>\n",
              "    <path d=\"M18.56 5.44l.94 2.06.94-2.06 2.06-.94-2.06-.94-.94-2.06-.94 2.06-2.06.94zm-11 1L8.5 8.5l.94-2.06 2.06-.94-2.06-.94L8.5 2.5l-.94 2.06-2.06.94zm10 10l.94 2.06.94-2.06 2.06-.94-2.06-.94-.94-2.06-.94 2.06-2.06.94z\"/><path d=\"M17.41 7.96l-1.37-1.37c-.4-.4-.92-.59-1.43-.59-.52 0-1.04.2-1.43.59L10.3 9.45l-7.72 7.72c-.78.78-.78 2.05 0 2.83L4 21.41c.39.39.9.59 1.41.59.51 0 1.02-.2 1.41-.59l7.78-7.78 2.81-2.81c.8-.78.8-2.07 0-2.86zM5.41 20L4 18.59l7.72-7.72 1.47 1.35L5.41 20z\"/>\n",
              "  </svg>\n",
              "      </button>\n",
              "      \n",
              "  <style>\n",
              "    .colab-df-container {\n",
              "      display:flex;\n",
              "      flex-wrap:wrap;\n",
              "      gap: 12px;\n",
              "    }\n",
              "\n",
              "    .colab-df-convert {\n",
              "      background-color: #E8F0FE;\n",
              "      border: none;\n",
              "      border-radius: 50%;\n",
              "      cursor: pointer;\n",
              "      display: none;\n",
              "      fill: #1967D2;\n",
              "      height: 32px;\n",
              "      padding: 0 0 0 0;\n",
              "      width: 32px;\n",
              "    }\n",
              "\n",
              "    .colab-df-convert:hover {\n",
              "      background-color: #E2EBFA;\n",
              "      box-shadow: 0px 1px 2px rgba(60, 64, 67, 0.3), 0px 1px 3px 1px rgba(60, 64, 67, 0.15);\n",
              "      fill: #174EA6;\n",
              "    }\n",
              "\n",
              "    [theme=dark] .colab-df-convert {\n",
              "      background-color: #3B4455;\n",
              "      fill: #D2E3FC;\n",
              "    }\n",
              "\n",
              "    [theme=dark] .colab-df-convert:hover {\n",
              "      background-color: #434B5C;\n",
              "      box-shadow: 0px 1px 3px 1px rgba(0, 0, 0, 0.15);\n",
              "      filter: drop-shadow(0px 1px 2px rgba(0, 0, 0, 0.3));\n",
              "      fill: #FFFFFF;\n",
              "    }\n",
              "  </style>\n",
              "\n",
              "      <script>\n",
              "        const buttonEl =\n",
              "          document.querySelector('#df-17c6392b-cb9f-4901-be75-d559e71f4228 button.colab-df-convert');\n",
              "        buttonEl.style.display =\n",
              "          google.colab.kernel.accessAllowed ? 'block' : 'none';\n",
              "\n",
              "        async function convertToInteractive(key) {\n",
              "          const element = document.querySelector('#df-17c6392b-cb9f-4901-be75-d559e71f4228');\n",
              "          const dataTable =\n",
              "            await google.colab.kernel.invokeFunction('convertToInteractive',\n",
              "                                                     [key], {});\n",
              "          if (!dataTable) return;\n",
              "\n",
              "          const docLinkHtml = 'Like what you see? Visit the ' +\n",
              "            '<a target=\"_blank\" href=https://colab.research.google.com/notebooks/data_table.ipynb>data table notebook</a>'\n",
              "            + ' to learn more about interactive tables.';\n",
              "          element.innerHTML = '';\n",
              "          dataTable['output_type'] = 'display_data';\n",
              "          await google.colab.output.renderOutput(dataTable, element);\n",
              "          const docLink = document.createElement('div');\n",
              "          docLink.innerHTML = docLinkHtml;\n",
              "          element.appendChild(docLink);\n",
              "        }\n",
              "      </script>\n",
              "    </div>\n",
              "  </div>\n",
              "  "
            ]
          },
          "metadata": {},
          "execution_count": 128
        }
      ]
    },
    {
      "cell_type": "code",
      "source": [
        "new_trans = transactions"
      ],
      "metadata": {
        "id": "xz-Q_i3BZhhL"
      },
      "execution_count": null,
      "outputs": []
    },
    {
      "cell_type": "code",
      "source": [
        "new_trans.to_csv(\"/content/new_trans.csv\")\n",
        "# Create a new file that is less than previous\n",
        "# You can also find it in google disk"
      ],
      "metadata": {
        "id": "KxFvM2-8bpaE"
      },
      "execution_count": null,
      "outputs": []
    },
    {
      "cell_type": "markdown",
      "source": [
        "# Kmeans\n",
        "contribution: Tatyana"
      ],
      "metadata": {
        "id": "WWHPDjD_jz4Q"
      }
    },
    {
      "cell_type": "code",
      "source": [
        "#Selecting the most interesting columns(features are incoded)\n",
        "article_col = articles[['article_id', 'product_code','product_type_no', 'graphical_appearance_no', 'colour_group_code', \n",
        "                     'perceived_colour_value_id', 'perceived_colour_master_id', 'department_no', 'index_group_no',\n",
        "                     'section_no', 'garment_group_no']] "
      ],
      "metadata": {
        "id": "0Ml6DWaEj1IZ"
      },
      "execution_count": null,
      "outputs": []
    },
    {
      "cell_type": "code",
      "source": [
        "from sklearn.preprocessing import LabelEncoder\n",
        "customers_col = customers[['customer_id', 'club_member_status', 'fashion_news_frequency', 'age']]\n",
        "\n",
        "# Creating a instance of label Encoder.\n",
        "le = LabelEncoder()\n",
        "# Using .fit_transform function to fit label\n",
        "# encoder and return encoded label\n",
        "label1 = le.fit_transform(customers_col['club_member_status'])\n",
        "customers_col.drop(\"club_member_status\", axis=1, inplace=True)\n",
        "\n",
        "# Appending the array to our dataFrame\n",
        "# with column name 'Purchased'\n",
        "customers_col[\"club_member_status\"] = label1\n",
        "\n",
        "\n",
        "\n",
        "label2 = le.fit_transform(customers_col['fashion_news_frequency'])\n",
        "customers_col.drop(\"fashion_news_frequency\", axis=1, inplace=True)\n",
        "customers_col[\"fashion_news_frequency\"] = label2\n",
        "customers_col\n",
        "\n",
        "\n"
      ],
      "metadata": {
        "id": "gnom6dEKj-Ev",
        "colab": {
          "base_uri": "https://localhost:8080/",
          "height": 701
        },
        "outputId": "55a74b60-54ba-442b-b5d1-e2b0d4a33986"
      },
      "execution_count": null,
      "outputs": [
        {
          "output_type": "stream",
          "name": "stderr",
          "text": [
            "/usr/local/lib/python3.7/dist-packages/pandas/core/frame.py:4913: SettingWithCopyWarning: \n",
            "A value is trying to be set on a copy of a slice from a DataFrame\n",
            "\n",
            "See the caveats in the documentation: https://pandas.pydata.org/pandas-docs/stable/user_guide/indexing.html#returning-a-view-versus-a-copy\n",
            "  errors=errors,\n",
            "/usr/local/lib/python3.7/dist-packages/ipykernel_launcher.py:13: SettingWithCopyWarning: \n",
            "A value is trying to be set on a copy of a slice from a DataFrame.\n",
            "Try using .loc[row_indexer,col_indexer] = value instead\n",
            "\n",
            "See the caveats in the documentation: https://pandas.pydata.org/pandas-docs/stable/user_guide/indexing.html#returning-a-view-versus-a-copy\n",
            "  del sys.path[0]\n",
            "/usr/local/lib/python3.7/dist-packages/ipykernel_launcher.py:19: SettingWithCopyWarning: \n",
            "A value is trying to be set on a copy of a slice from a DataFrame.\n",
            "Try using .loc[row_indexer,col_indexer] = value instead\n",
            "\n",
            "See the caveats in the documentation: https://pandas.pydata.org/pandas-docs/stable/user_guide/indexing.html#returning-a-view-versus-a-copy\n"
          ]
        },
        {
          "output_type": "execute_result",
          "data": {
            "text/plain": [
              "                                               customer_id   age  \\\n",
              "0        00000dbacae5abe5e23885899a1fa44253a17956c6d1c3...  49.0   \n",
              "1        0000423b00ade91418cceaf3b26c6af3dd342b51fd051e...  25.0   \n",
              "2        000058a12d5b43e67d225668fa1f8d618c13dc232df0ca...  24.0   \n",
              "3        00005ca1c9ed5f5146b52ac8639a40ca9d57aeff4d1bd2...  54.0   \n",
              "4        00006413d8573cd20ed7128e53b7b13819fe5cfc2d801f...  52.0   \n",
              "...                                                    ...   ...   \n",
              "1371975  ffffbbf78b6eaac697a8a5dfbfd2bfa8113ee5b403e474...  24.0   \n",
              "1371976  ffffcd5046a6143d29a04fb8c424ce494a76e5cdf4fab5...  21.0   \n",
              "1371977  ffffcf35913a0bee60e8741cb2b4e78b8a98ee5ff2e6a1...  21.0   \n",
              "1371978  ffffd7744cebcf3aca44ae7049d2a94b87074c3d4ffe38...  18.0   \n",
              "1371979  ffffd9ac14e89946416d80e791d064701994755c3ab686...  65.0   \n",
              "\n",
              "         club_member_status  fashion_news_frequency  \n",
              "0                         0                       1  \n",
              "1                         0                       1  \n",
              "2                         0                       1  \n",
              "3                         0                       1  \n",
              "4                         0                       3  \n",
              "...                     ...                     ...  \n",
              "1371975                   0                       1  \n",
              "1371976                   0                       1  \n",
              "1371977                   0                       3  \n",
              "1371978                   0                       3  \n",
              "1371979                   2                       1  \n",
              "\n",
              "[1371980 rows x 4 columns]"
            ],
            "text/html": [
              "\n",
              "  <div id=\"df-c26b9743-72c2-46b5-b213-32ff3dd4de28\">\n",
              "    <div class=\"colab-df-container\">\n",
              "      <div>\n",
              "<style scoped>\n",
              "    .dataframe tbody tr th:only-of-type {\n",
              "        vertical-align: middle;\n",
              "    }\n",
              "\n",
              "    .dataframe tbody tr th {\n",
              "        vertical-align: top;\n",
              "    }\n",
              "\n",
              "    .dataframe thead th {\n",
              "        text-align: right;\n",
              "    }\n",
              "</style>\n",
              "<table border=\"1\" class=\"dataframe\">\n",
              "  <thead>\n",
              "    <tr style=\"text-align: right;\">\n",
              "      <th></th>\n",
              "      <th>customer_id</th>\n",
              "      <th>age</th>\n",
              "      <th>club_member_status</th>\n",
              "      <th>fashion_news_frequency</th>\n",
              "    </tr>\n",
              "  </thead>\n",
              "  <tbody>\n",
              "    <tr>\n",
              "      <th>0</th>\n",
              "      <td>00000dbacae5abe5e23885899a1fa44253a17956c6d1c3...</td>\n",
              "      <td>49.0</td>\n",
              "      <td>0</td>\n",
              "      <td>1</td>\n",
              "    </tr>\n",
              "    <tr>\n",
              "      <th>1</th>\n",
              "      <td>0000423b00ade91418cceaf3b26c6af3dd342b51fd051e...</td>\n",
              "      <td>25.0</td>\n",
              "      <td>0</td>\n",
              "      <td>1</td>\n",
              "    </tr>\n",
              "    <tr>\n",
              "      <th>2</th>\n",
              "      <td>000058a12d5b43e67d225668fa1f8d618c13dc232df0ca...</td>\n",
              "      <td>24.0</td>\n",
              "      <td>0</td>\n",
              "      <td>1</td>\n",
              "    </tr>\n",
              "    <tr>\n",
              "      <th>3</th>\n",
              "      <td>00005ca1c9ed5f5146b52ac8639a40ca9d57aeff4d1bd2...</td>\n",
              "      <td>54.0</td>\n",
              "      <td>0</td>\n",
              "      <td>1</td>\n",
              "    </tr>\n",
              "    <tr>\n",
              "      <th>4</th>\n",
              "      <td>00006413d8573cd20ed7128e53b7b13819fe5cfc2d801f...</td>\n",
              "      <td>52.0</td>\n",
              "      <td>0</td>\n",
              "      <td>3</td>\n",
              "    </tr>\n",
              "    <tr>\n",
              "      <th>...</th>\n",
              "      <td>...</td>\n",
              "      <td>...</td>\n",
              "      <td>...</td>\n",
              "      <td>...</td>\n",
              "    </tr>\n",
              "    <tr>\n",
              "      <th>1371975</th>\n",
              "      <td>ffffbbf78b6eaac697a8a5dfbfd2bfa8113ee5b403e474...</td>\n",
              "      <td>24.0</td>\n",
              "      <td>0</td>\n",
              "      <td>1</td>\n",
              "    </tr>\n",
              "    <tr>\n",
              "      <th>1371976</th>\n",
              "      <td>ffffcd5046a6143d29a04fb8c424ce494a76e5cdf4fab5...</td>\n",
              "      <td>21.0</td>\n",
              "      <td>0</td>\n",
              "      <td>1</td>\n",
              "    </tr>\n",
              "    <tr>\n",
              "      <th>1371977</th>\n",
              "      <td>ffffcf35913a0bee60e8741cb2b4e78b8a98ee5ff2e6a1...</td>\n",
              "      <td>21.0</td>\n",
              "      <td>0</td>\n",
              "      <td>3</td>\n",
              "    </tr>\n",
              "    <tr>\n",
              "      <th>1371978</th>\n",
              "      <td>ffffd7744cebcf3aca44ae7049d2a94b87074c3d4ffe38...</td>\n",
              "      <td>18.0</td>\n",
              "      <td>0</td>\n",
              "      <td>3</td>\n",
              "    </tr>\n",
              "    <tr>\n",
              "      <th>1371979</th>\n",
              "      <td>ffffd9ac14e89946416d80e791d064701994755c3ab686...</td>\n",
              "      <td>65.0</td>\n",
              "      <td>2</td>\n",
              "      <td>1</td>\n",
              "    </tr>\n",
              "  </tbody>\n",
              "</table>\n",
              "<p>1371980 rows × 4 columns</p>\n",
              "</div>\n",
              "      <button class=\"colab-df-convert\" onclick=\"convertToInteractive('df-c26b9743-72c2-46b5-b213-32ff3dd4de28')\"\n",
              "              title=\"Convert this dataframe to an interactive table.\"\n",
              "              style=\"display:none;\">\n",
              "        \n",
              "  <svg xmlns=\"http://www.w3.org/2000/svg\" height=\"24px\"viewBox=\"0 0 24 24\"\n",
              "       width=\"24px\">\n",
              "    <path d=\"M0 0h24v24H0V0z\" fill=\"none\"/>\n",
              "    <path d=\"M18.56 5.44l.94 2.06.94-2.06 2.06-.94-2.06-.94-.94-2.06-.94 2.06-2.06.94zm-11 1L8.5 8.5l.94-2.06 2.06-.94-2.06-.94L8.5 2.5l-.94 2.06-2.06.94zm10 10l.94 2.06.94-2.06 2.06-.94-2.06-.94-.94-2.06-.94 2.06-2.06.94z\"/><path d=\"M17.41 7.96l-1.37-1.37c-.4-.4-.92-.59-1.43-.59-.52 0-1.04.2-1.43.59L10.3 9.45l-7.72 7.72c-.78.78-.78 2.05 0 2.83L4 21.41c.39.39.9.59 1.41.59.51 0 1.02-.2 1.41-.59l7.78-7.78 2.81-2.81c.8-.78.8-2.07 0-2.86zM5.41 20L4 18.59l7.72-7.72 1.47 1.35L5.41 20z\"/>\n",
              "  </svg>\n",
              "      </button>\n",
              "      \n",
              "  <style>\n",
              "    .colab-df-container {\n",
              "      display:flex;\n",
              "      flex-wrap:wrap;\n",
              "      gap: 12px;\n",
              "    }\n",
              "\n",
              "    .colab-df-convert {\n",
              "      background-color: #E8F0FE;\n",
              "      border: none;\n",
              "      border-radius: 50%;\n",
              "      cursor: pointer;\n",
              "      display: none;\n",
              "      fill: #1967D2;\n",
              "      height: 32px;\n",
              "      padding: 0 0 0 0;\n",
              "      width: 32px;\n",
              "    }\n",
              "\n",
              "    .colab-df-convert:hover {\n",
              "      background-color: #E2EBFA;\n",
              "      box-shadow: 0px 1px 2px rgba(60, 64, 67, 0.3), 0px 1px 3px 1px rgba(60, 64, 67, 0.15);\n",
              "      fill: #174EA6;\n",
              "    }\n",
              "\n",
              "    [theme=dark] .colab-df-convert {\n",
              "      background-color: #3B4455;\n",
              "      fill: #D2E3FC;\n",
              "    }\n",
              "\n",
              "    [theme=dark] .colab-df-convert:hover {\n",
              "      background-color: #434B5C;\n",
              "      box-shadow: 0px 1px 3px 1px rgba(0, 0, 0, 0.15);\n",
              "      filter: drop-shadow(0px 1px 2px rgba(0, 0, 0, 0.3));\n",
              "      fill: #FFFFFF;\n",
              "    }\n",
              "  </style>\n",
              "\n",
              "      <script>\n",
              "        const buttonEl =\n",
              "          document.querySelector('#df-c26b9743-72c2-46b5-b213-32ff3dd4de28 button.colab-df-convert');\n",
              "        buttonEl.style.display =\n",
              "          google.colab.kernel.accessAllowed ? 'block' : 'none';\n",
              "\n",
              "        async function convertToInteractive(key) {\n",
              "          const element = document.querySelector('#df-c26b9743-72c2-46b5-b213-32ff3dd4de28');\n",
              "          const dataTable =\n",
              "            await google.colab.kernel.invokeFunction('convertToInteractive',\n",
              "                                                     [key], {});\n",
              "          if (!dataTable) return;\n",
              "\n",
              "          const docLinkHtml = 'Like what you see? Visit the ' +\n",
              "            '<a target=\"_blank\" href=https://colab.research.google.com/notebooks/data_table.ipynb>data table notebook</a>'\n",
              "            + ' to learn more about interactive tables.';\n",
              "          element.innerHTML = '';\n",
              "          dataTable['output_type'] = 'display_data';\n",
              "          await google.colab.output.renderOutput(dataTable, element);\n",
              "          const docLink = document.createElement('div');\n",
              "          docLink.innerHTML = docLinkHtml;\n",
              "          element.appendChild(docLink);\n",
              "        }\n",
              "      </script>\n",
              "    </div>\n",
              "  </div>\n",
              "  "
            ]
          },
          "metadata": {},
          "execution_count": 10
        }
      ]
    },
    {
      "cell_type": "code",
      "source": [
        "data1 = pd.merge(transactions,article_col, on = ['article_id'])\n",
        "data2 = pd.merge(data1,customers_col, on = ['customer_id'])"
      ],
      "metadata": {
        "id": "Af5B_l9ckAfU"
      },
      "execution_count": null,
      "outputs": []
    },
    {
      "cell_type": "code",
      "source": [
        "x = data2 [['product_code','product_type_no', 'graphical_appearance_no', 'colour_group_code', \n",
        "                     'perceived_colour_value_id', 'perceived_colour_master_id', 'index_group_no',\n",
        "                     'section_no', 'garment_group_no', 'age', 'club_member_status','fashion_news_frequency' ]]"
      ],
      "metadata": {
        "id": "jpIzuKlMkC3Z"
      },
      "execution_count": null,
      "outputs": []
    },
    {
      "cell_type": "code",
      "source": [
        "xx = x.dropna()\n",
        "from sklearn.cluster import KMeans\n",
        "from sklearn import metrics\n",
        "from scipy.spatial.distance import cdist \n",
        "\n",
        "rg = range(1, 20)\n",
        "inertia = []\n",
        "for k in rg: \n",
        "  kmeans = KMeans(n_clusters = k, random_state = 1).fit(X)\n",
        "  inertia.append(np.sqrt(kmeans.inertia_))\n",
        "\n",
        "plt.plot(rg, inertia, marker = 's'); \n",
        "plt.xlabel('$k$')\n",
        "plt.ylabel('$J(C)$')\n"
      ],
      "metadata": {
        "id": "eq7U0OhCkDVM"
      },
      "execution_count": null,
      "outputs": []
    },
    {
      "cell_type": "markdown",
      "source": [
        "# Recommendation System. Preparation"
      ],
      "metadata": {
        "id": "pe1qF4LvfRfK"
      }
    },
    {
      "cell_type": "code",
      "source": [
        "!pip install turicreate\n",
        "import turicreate as tc"
      ],
      "metadata": {
        "id": "9srzZ6dbkKF4",
        "colab": {
          "base_uri": "https://localhost:8080/"
        },
        "outputId": "059cb2a7-5e67-41ec-c0ab-ae1ee0e365f5"
      },
      "execution_count": 139,
      "outputs": [
        {
          "output_type": "stream",
          "name": "stdout",
          "text": [
            "Looking in indexes: https://pypi.org/simple, https://us-python.pkg.dev/colab-wheels/public/simple/\n",
            "Collecting turicreate\n",
            "  Downloading turicreate-6.4.1-cp38-cp38-manylinux1_x86_64.whl (92.0 MB)\n",
            "\u001b[K     |████████████████████████████████| 92.0 MB 1.3 MB/s \n",
            "\u001b[?25hRequirement already satisfied: tensorflow>=2.0.0 in /usr/local/lib/python3.8/dist-packages (from turicreate) (2.9.2)\n",
            "Requirement already satisfied: requests>=2.9.1 in /usr/local/lib/python3.8/dist-packages (from turicreate) (2.23.0)\n",
            "Requirement already satisfied: pandas>=0.23.2 in /usr/local/lib/python3.8/dist-packages (from turicreate) (1.3.5)\n",
            "Requirement already satisfied: scipy>=1.1.0 in /usr/local/lib/python3.8/dist-packages (from turicreate) (1.7.3)\n",
            "Requirement already satisfied: six>=1.10.0 in /usr/local/lib/python3.8/dist-packages (from turicreate) (1.15.0)\n",
            "Collecting prettytable==0.7.2\n",
            "  Downloading prettytable-0.7.2.zip (28 kB)\n",
            "Collecting coremltools==4.0b3\n",
            "  Downloading coremltools-4.0b3-py3-none-any.whl (4.6 MB)\n",
            "\u001b[K     |████████████████████████████████| 4.6 MB 63.6 MB/s \n",
            "\u001b[?25hCollecting numba<0.51.0\n",
            "  Downloading numba-0.50.1-cp38-cp38-manylinux2014_x86_64.whl (3.6 MB)\n",
            "\u001b[K     |████████████████████████████████| 3.6 MB 48.5 MB/s \n",
            "\u001b[?25hRequirement already satisfied: decorator>=4.0.9 in /usr/local/lib/python3.8/dist-packages (from turicreate) (4.4.2)\n",
            "Collecting resampy==0.2.1\n",
            "  Downloading resampy-0.2.1.tar.gz (322 kB)\n",
            "\u001b[K     |████████████████████████████████| 322 kB 77.8 MB/s \n",
            "\u001b[?25hRequirement already satisfied: numpy in /usr/local/lib/python3.8/dist-packages (from turicreate) (1.21.6)\n",
            "Requirement already satisfied: pillow>=5.2.0 in /usr/local/lib/python3.8/dist-packages (from turicreate) (7.1.2)\n",
            "Requirement already satisfied: tqdm in /usr/local/lib/python3.8/dist-packages (from coremltools==4.0b3->turicreate) (4.64.1)\n",
            "Requirement already satisfied: sympy in /usr/local/lib/python3.8/dist-packages (from coremltools==4.0b3->turicreate) (1.7.1)\n",
            "Requirement already satisfied: protobuf>=3.1.0 in /usr/local/lib/python3.8/dist-packages (from coremltools==4.0b3->turicreate) (3.19.6)\n",
            "Collecting attr\n",
            "  Downloading attr-0.3.2-py2.py3-none-any.whl (3.3 kB)\n",
            "Requirement already satisfied: attrs in /usr/local/lib/python3.8/dist-packages (from coremltools==4.0b3->turicreate) (22.1.0)\n",
            "Requirement already satisfied: setuptools in /usr/local/lib/python3.8/dist-packages (from numba<0.51.0->turicreate) (57.4.0)\n",
            "Collecting llvmlite<0.34,>=0.33.0.dev0\n",
            "  Downloading llvmlite-0.33.0-cp38-cp38-manylinux1_x86_64.whl (18.3 MB)\n",
            "\u001b[K     |████████████████████████████████| 18.3 MB 368 kB/s \n",
            "\u001b[?25hRequirement already satisfied: pytz>=2017.3 in /usr/local/lib/python3.8/dist-packages (from pandas>=0.23.2->turicreate) (2022.6)\n",
            "Requirement already satisfied: python-dateutil>=2.7.3 in /usr/local/lib/python3.8/dist-packages (from pandas>=0.23.2->turicreate) (2.8.2)\n",
            "Requirement already satisfied: chardet<4,>=3.0.2 in /usr/local/lib/python3.8/dist-packages (from requests>=2.9.1->turicreate) (3.0.4)\n",
            "Requirement already satisfied: idna<3,>=2.5 in /usr/local/lib/python3.8/dist-packages (from requests>=2.9.1->turicreate) (2.10)\n",
            "Requirement already satisfied: urllib3!=1.25.0,!=1.25.1,<1.26,>=1.21.1 in /usr/local/lib/python3.8/dist-packages (from requests>=2.9.1->turicreate) (1.24.3)\n",
            "Requirement already satisfied: certifi>=2017.4.17 in /usr/local/lib/python3.8/dist-packages (from requests>=2.9.1->turicreate) (2022.9.24)\n",
            "Requirement already satisfied: wrapt>=1.11.0 in /usr/local/lib/python3.8/dist-packages (from tensorflow>=2.0.0->turicreate) (1.14.1)\n",
            "Requirement already satisfied: h5py>=2.9.0 in /usr/local/lib/python3.8/dist-packages (from tensorflow>=2.0.0->turicreate) (3.1.0)\n",
            "Requirement already satisfied: typing-extensions>=3.6.6 in /usr/local/lib/python3.8/dist-packages (from tensorflow>=2.0.0->turicreate) (4.1.1)\n",
            "Requirement already satisfied: libclang>=13.0.0 in /usr/local/lib/python3.8/dist-packages (from tensorflow>=2.0.0->turicreate) (14.0.6)\n",
            "Requirement already satisfied: packaging in /usr/local/lib/python3.8/dist-packages (from tensorflow>=2.0.0->turicreate) (21.3)\n",
            "Requirement already satisfied: grpcio<2.0,>=1.24.3 in /usr/local/lib/python3.8/dist-packages (from tensorflow>=2.0.0->turicreate) (1.50.0)\n",
            "Requirement already satisfied: google-pasta>=0.1.1 in /usr/local/lib/python3.8/dist-packages (from tensorflow>=2.0.0->turicreate) (0.2.0)\n",
            "Requirement already satisfied: termcolor>=1.1.0 in /usr/local/lib/python3.8/dist-packages (from tensorflow>=2.0.0->turicreate) (2.1.1)\n",
            "Requirement already satisfied: astunparse>=1.6.0 in /usr/local/lib/python3.8/dist-packages (from tensorflow>=2.0.0->turicreate) (1.6.3)\n",
            "Requirement already satisfied: gast<=0.4.0,>=0.2.1 in /usr/local/lib/python3.8/dist-packages (from tensorflow>=2.0.0->turicreate) (0.4.0)\n",
            "Requirement already satisfied: opt-einsum>=2.3.2 in /usr/local/lib/python3.8/dist-packages (from tensorflow>=2.0.0->turicreate) (3.3.0)\n",
            "Requirement already satisfied: tensorboard<2.10,>=2.9 in /usr/local/lib/python3.8/dist-packages (from tensorflow>=2.0.0->turicreate) (2.9.1)\n",
            "Requirement already satisfied: keras-preprocessing>=1.1.1 in /usr/local/lib/python3.8/dist-packages (from tensorflow>=2.0.0->turicreate) (1.1.2)\n",
            "Requirement already satisfied: absl-py>=1.0.0 in /usr/local/lib/python3.8/dist-packages (from tensorflow>=2.0.0->turicreate) (1.3.0)\n",
            "Requirement already satisfied: flatbuffers<2,>=1.12 in /usr/local/lib/python3.8/dist-packages (from tensorflow>=2.0.0->turicreate) (1.12)\n",
            "Requirement already satisfied: tensorflow-estimator<2.10.0,>=2.9.0rc0 in /usr/local/lib/python3.8/dist-packages (from tensorflow>=2.0.0->turicreate) (2.9.0)\n",
            "Requirement already satisfied: tensorflow-io-gcs-filesystem>=0.23.1 in /usr/local/lib/python3.8/dist-packages (from tensorflow>=2.0.0->turicreate) (0.28.0)\n",
            "Requirement already satisfied: keras<2.10.0,>=2.9.0rc0 in /usr/local/lib/python3.8/dist-packages (from tensorflow>=2.0.0->turicreate) (2.9.0)\n",
            "Requirement already satisfied: wheel<1.0,>=0.23.0 in /usr/local/lib/python3.8/dist-packages (from astunparse>=1.6.0->tensorflow>=2.0.0->turicreate) (0.38.4)\n",
            "Requirement already satisfied: google-auth-oauthlib<0.5,>=0.4.1 in /usr/local/lib/python3.8/dist-packages (from tensorboard<2.10,>=2.9->tensorflow>=2.0.0->turicreate) (0.4.6)\n",
            "Requirement already satisfied: tensorboard-data-server<0.7.0,>=0.6.0 in /usr/local/lib/python3.8/dist-packages (from tensorboard<2.10,>=2.9->tensorflow>=2.0.0->turicreate) (0.6.1)\n",
            "Requirement already satisfied: tensorboard-plugin-wit>=1.6.0 in /usr/local/lib/python3.8/dist-packages (from tensorboard<2.10,>=2.9->tensorflow>=2.0.0->turicreate) (1.8.1)\n",
            "Requirement already satisfied: markdown>=2.6.8 in /usr/local/lib/python3.8/dist-packages (from tensorboard<2.10,>=2.9->tensorflow>=2.0.0->turicreate) (3.4.1)\n",
            "Requirement already satisfied: werkzeug>=1.0.1 in /usr/local/lib/python3.8/dist-packages (from tensorboard<2.10,>=2.9->tensorflow>=2.0.0->turicreate) (1.0.1)\n",
            "Requirement already satisfied: google-auth<3,>=1.6.3 in /usr/local/lib/python3.8/dist-packages (from tensorboard<2.10,>=2.9->tensorflow>=2.0.0->turicreate) (2.14.1)\n",
            "Requirement already satisfied: cachetools<6.0,>=2.0.0 in /usr/local/lib/python3.8/dist-packages (from google-auth<3,>=1.6.3->tensorboard<2.10,>=2.9->tensorflow>=2.0.0->turicreate) (5.2.0)\n",
            "Requirement already satisfied: rsa<5,>=3.1.4 in /usr/local/lib/python3.8/dist-packages (from google-auth<3,>=1.6.3->tensorboard<2.10,>=2.9->tensorflow>=2.0.0->turicreate) (4.9)\n",
            "Requirement already satisfied: pyasn1-modules>=0.2.1 in /usr/local/lib/python3.8/dist-packages (from google-auth<3,>=1.6.3->tensorboard<2.10,>=2.9->tensorflow>=2.0.0->turicreate) (0.2.8)\n",
            "Requirement already satisfied: requests-oauthlib>=0.7.0 in /usr/local/lib/python3.8/dist-packages (from google-auth-oauthlib<0.5,>=0.4.1->tensorboard<2.10,>=2.9->tensorflow>=2.0.0->turicreate) (1.3.1)\n",
            "Requirement already satisfied: importlib-metadata>=4.4 in /usr/local/lib/python3.8/dist-packages (from markdown>=2.6.8->tensorboard<2.10,>=2.9->tensorflow>=2.0.0->turicreate) (4.13.0)\n",
            "Requirement already satisfied: zipp>=0.5 in /usr/local/lib/python3.8/dist-packages (from importlib-metadata>=4.4->markdown>=2.6.8->tensorboard<2.10,>=2.9->tensorflow>=2.0.0->turicreate) (3.10.0)\n",
            "Requirement already satisfied: pyasn1<0.5.0,>=0.4.6 in /usr/local/lib/python3.8/dist-packages (from pyasn1-modules>=0.2.1->google-auth<3,>=1.6.3->tensorboard<2.10,>=2.9->tensorflow>=2.0.0->turicreate) (0.4.8)\n",
            "Requirement already satisfied: oauthlib>=3.0.0 in /usr/local/lib/python3.8/dist-packages (from requests-oauthlib>=0.7.0->google-auth-oauthlib<0.5,>=0.4.1->tensorboard<2.10,>=2.9->tensorflow>=2.0.0->turicreate) (3.2.2)\n",
            "Requirement already satisfied: pyparsing!=3.0.5,>=2.0.2 in /usr/local/lib/python3.8/dist-packages (from packaging->tensorflow>=2.0.0->turicreate) (3.0.9)\n",
            "Requirement already satisfied: mpmath>=0.19 in /usr/local/lib/python3.8/dist-packages (from sympy->coremltools==4.0b3->turicreate) (1.2.1)\n",
            "Building wheels for collected packages: prettytable, resampy\n",
            "  Building wheel for prettytable (setup.py) ... \u001b[?25l\u001b[?25hdone\n",
            "  Created wheel for prettytable: filename=prettytable-0.7.2-py3-none-any.whl size=13714 sha256=7127047fc2400df5d12d9d270a5af768f46db8cb9b048fe3adbfc8a7db6c2349\n",
            "  Stored in directory: /root/.cache/pip/wheels/48/6d/77/9517cb933af254f51a446f1a5ec9c2be3e45f17384940bce68\n",
            "  Building wheel for resampy (setup.py) ... \u001b[?25l\u001b[?25hdone\n",
            "  Created wheel for resampy: filename=resampy-0.2.1-py3-none-any.whl size=320859 sha256=9f9ee1c6eec7f59cebd38a9f4020501d4c904b06c657826c0103f6698e8003fe\n",
            "  Stored in directory: /root/.cache/pip/wheels/2b/a9/15/89e0e4544c36f50e4e8d54d546f2331c461f505d3b55d3f358\n",
            "Successfully built prettytable resampy\n",
            "Installing collected packages: llvmlite, numba, attr, resampy, prettytable, coremltools, turicreate\n",
            "  Attempting uninstall: llvmlite\n",
            "    Found existing installation: llvmlite 0.39.1\n",
            "    Uninstalling llvmlite-0.39.1:\n",
            "      Successfully uninstalled llvmlite-0.39.1\n",
            "  Attempting uninstall: numba\n",
            "    Found existing installation: numba 0.56.4\n",
            "    Uninstalling numba-0.56.4:\n",
            "      Successfully uninstalled numba-0.56.4\n",
            "  Attempting uninstall: resampy\n",
            "    Found existing installation: resampy 0.4.2\n",
            "    Uninstalling resampy-0.4.2:\n",
            "      Successfully uninstalled resampy-0.4.2\n",
            "  Attempting uninstall: prettytable\n",
            "    Found existing installation: prettytable 3.5.0\n",
            "    Uninstalling prettytable-3.5.0:\n",
            "      Successfully uninstalled prettytable-3.5.0\n",
            "\u001b[31mERROR: pip's dependency resolver does not currently take into account all the packages that are installed. This behaviour is the source of the following dependency conflicts.\n",
            "librosa 0.8.1 requires resampy>=0.2.2, but you have resampy 0.2.1 which is incompatible.\u001b[0m\n",
            "Successfully installed attr-0.3.2 coremltools-4.0b3 llvmlite-0.33.0 numba-0.50.1 prettytable-0.7.2 resampy-0.2.1 turicreate-6.4.1\n"
          ]
        }
      ]
    },
    {
      "cell_type": "markdown",
      "source": [
        "To analyze what we should recommend to customers we should understand what kind of items they find most appropriate. We need to scale each item from 0 to 1. For this purpose we will produce several tables\n",
        "\n",
        "\n",
        "1.   Define how many times an item was bought by a customer\n",
        "2.   Define what items were bought by a customer\n",
        "3.   Normalize these purchases\n",
        "\n"
      ],
      "metadata": {
        "id": "5C4aYzI3fhvt"
      }
    },
    {
      "cell_type": "code",
      "source": [
        "new_trans = pd.read_csv(\"new_trans.csv\")\n",
        "train = new_trans.groupby([\"customer_id\",\"article_id\"])[\"t_dat\"].count().reset_index()\n",
        "train = train.rename(columns={\"t_dat\":\"purchase_count\"})\n",
        "train[50:70]"
      ],
      "metadata": {
        "id": "Q1-xL3MXkDXn",
        "colab": {
          "base_uri": "https://localhost:8080/",
          "height": 676
        },
        "outputId": "1206b340-1535-4668-e3e7-738f1493e8b5"
      },
      "execution_count": 133,
      "outputs": [
        {
          "output_type": "execute_result",
          "data": {
            "text/plain": [
              "                                          customer_id  article_id  \\\n",
              "50  0193ecf5897f8ea030012a4b5142c99139db58a410b1e7...   108775015   \n",
              "51  0193ecf5897f8ea030012a4b5142c99139db58a410b1e7...   179950001   \n",
              "52  0193ecf5897f8ea030012a4b5142c99139db58a410b1e7...   464297007   \n",
              "53  0193ecf5897f8ea030012a4b5142c99139db58a410b1e7...   507909001   \n",
              "54  0193ecf5897f8ea030012a4b5142c99139db58a410b1e7...   579302001   \n",
              "55  0193ecf5897f8ea030012a4b5142c99139db58a410b1e7...   590928001   \n",
              "56  0193ecf5897f8ea030012a4b5142c99139db58a410b1e7...   599580017   \n",
              "57  0193ecf5897f8ea030012a4b5142c99139db58a410b1e7...   599580020   \n",
              "58  0193ecf5897f8ea030012a4b5142c99139db58a410b1e7...   610776001   \n",
              "59  0193ecf5897f8ea030012a4b5142c99139db58a410b1e7...   610776002   \n",
              "60  0193ecf5897f8ea030012a4b5142c99139db58a410b1e7...   611415001   \n",
              "61  0193ecf5897f8ea030012a4b5142c99139db58a410b1e7...   656763001   \n",
              "62  0193ecf5897f8ea030012a4b5142c99139db58a410b1e7...   684209001   \n",
              "63  0193ecf5897f8ea030012a4b5142c99139db58a410b1e7...   685813001   \n",
              "64  0193ecf5897f8ea030012a4b5142c99139db58a410b1e7...   685814001   \n",
              "65  0193ecf5897f8ea030012a4b5142c99139db58a410b1e7...   685816001   \n",
              "66  0193ecf5897f8ea030012a4b5142c99139db58a410b1e7...   685816002   \n",
              "67  0193ecf5897f8ea030012a4b5142c99139db58a410b1e7...   688558001   \n",
              "68  0193ecf5897f8ea030012a4b5142c99139db58a410b1e7...   736530007   \n",
              "69  0193ecf5897f8ea030012a4b5142c99139db58a410b1e7...   736870001   \n",
              "\n",
              "    purchase_count  \n",
              "50               3  \n",
              "51               1  \n",
              "52               2  \n",
              "53               1  \n",
              "54               1  \n",
              "55               1  \n",
              "56               3  \n",
              "57               2  \n",
              "58               1  \n",
              "59               1  \n",
              "60               1  \n",
              "61               1  \n",
              "62               1  \n",
              "63               1  \n",
              "64               2  \n",
              "65               1  \n",
              "66               2  \n",
              "67               1  \n",
              "68               1  \n",
              "69               4  "
            ],
            "text/html": [
              "\n",
              "  <div id=\"df-02980154-1204-4072-983f-bc807b0ece85\">\n",
              "    <div class=\"colab-df-container\">\n",
              "      <div>\n",
              "<style scoped>\n",
              "    .dataframe tbody tr th:only-of-type {\n",
              "        vertical-align: middle;\n",
              "    }\n",
              "\n",
              "    .dataframe tbody tr th {\n",
              "        vertical-align: top;\n",
              "    }\n",
              "\n",
              "    .dataframe thead th {\n",
              "        text-align: right;\n",
              "    }\n",
              "</style>\n",
              "<table border=\"1\" class=\"dataframe\">\n",
              "  <thead>\n",
              "    <tr style=\"text-align: right;\">\n",
              "      <th></th>\n",
              "      <th>customer_id</th>\n",
              "      <th>article_id</th>\n",
              "      <th>purchase_count</th>\n",
              "    </tr>\n",
              "  </thead>\n",
              "  <tbody>\n",
              "    <tr>\n",
              "      <th>50</th>\n",
              "      <td>0193ecf5897f8ea030012a4b5142c99139db58a410b1e7...</td>\n",
              "      <td>108775015</td>\n",
              "      <td>3</td>\n",
              "    </tr>\n",
              "    <tr>\n",
              "      <th>51</th>\n",
              "      <td>0193ecf5897f8ea030012a4b5142c99139db58a410b1e7...</td>\n",
              "      <td>179950001</td>\n",
              "      <td>1</td>\n",
              "    </tr>\n",
              "    <tr>\n",
              "      <th>52</th>\n",
              "      <td>0193ecf5897f8ea030012a4b5142c99139db58a410b1e7...</td>\n",
              "      <td>464297007</td>\n",
              "      <td>2</td>\n",
              "    </tr>\n",
              "    <tr>\n",
              "      <th>53</th>\n",
              "      <td>0193ecf5897f8ea030012a4b5142c99139db58a410b1e7...</td>\n",
              "      <td>507909001</td>\n",
              "      <td>1</td>\n",
              "    </tr>\n",
              "    <tr>\n",
              "      <th>54</th>\n",
              "      <td>0193ecf5897f8ea030012a4b5142c99139db58a410b1e7...</td>\n",
              "      <td>579302001</td>\n",
              "      <td>1</td>\n",
              "    </tr>\n",
              "    <tr>\n",
              "      <th>55</th>\n",
              "      <td>0193ecf5897f8ea030012a4b5142c99139db58a410b1e7...</td>\n",
              "      <td>590928001</td>\n",
              "      <td>1</td>\n",
              "    </tr>\n",
              "    <tr>\n",
              "      <th>56</th>\n",
              "      <td>0193ecf5897f8ea030012a4b5142c99139db58a410b1e7...</td>\n",
              "      <td>599580017</td>\n",
              "      <td>3</td>\n",
              "    </tr>\n",
              "    <tr>\n",
              "      <th>57</th>\n",
              "      <td>0193ecf5897f8ea030012a4b5142c99139db58a410b1e7...</td>\n",
              "      <td>599580020</td>\n",
              "      <td>2</td>\n",
              "    </tr>\n",
              "    <tr>\n",
              "      <th>58</th>\n",
              "      <td>0193ecf5897f8ea030012a4b5142c99139db58a410b1e7...</td>\n",
              "      <td>610776001</td>\n",
              "      <td>1</td>\n",
              "    </tr>\n",
              "    <tr>\n",
              "      <th>59</th>\n",
              "      <td>0193ecf5897f8ea030012a4b5142c99139db58a410b1e7...</td>\n",
              "      <td>610776002</td>\n",
              "      <td>1</td>\n",
              "    </tr>\n",
              "    <tr>\n",
              "      <th>60</th>\n",
              "      <td>0193ecf5897f8ea030012a4b5142c99139db58a410b1e7...</td>\n",
              "      <td>611415001</td>\n",
              "      <td>1</td>\n",
              "    </tr>\n",
              "    <tr>\n",
              "      <th>61</th>\n",
              "      <td>0193ecf5897f8ea030012a4b5142c99139db58a410b1e7...</td>\n",
              "      <td>656763001</td>\n",
              "      <td>1</td>\n",
              "    </tr>\n",
              "    <tr>\n",
              "      <th>62</th>\n",
              "      <td>0193ecf5897f8ea030012a4b5142c99139db58a410b1e7...</td>\n",
              "      <td>684209001</td>\n",
              "      <td>1</td>\n",
              "    </tr>\n",
              "    <tr>\n",
              "      <th>63</th>\n",
              "      <td>0193ecf5897f8ea030012a4b5142c99139db58a410b1e7...</td>\n",
              "      <td>685813001</td>\n",
              "      <td>1</td>\n",
              "    </tr>\n",
              "    <tr>\n",
              "      <th>64</th>\n",
              "      <td>0193ecf5897f8ea030012a4b5142c99139db58a410b1e7...</td>\n",
              "      <td>685814001</td>\n",
              "      <td>2</td>\n",
              "    </tr>\n",
              "    <tr>\n",
              "      <th>65</th>\n",
              "      <td>0193ecf5897f8ea030012a4b5142c99139db58a410b1e7...</td>\n",
              "      <td>685816001</td>\n",
              "      <td>1</td>\n",
              "    </tr>\n",
              "    <tr>\n",
              "      <th>66</th>\n",
              "      <td>0193ecf5897f8ea030012a4b5142c99139db58a410b1e7...</td>\n",
              "      <td>685816002</td>\n",
              "      <td>2</td>\n",
              "    </tr>\n",
              "    <tr>\n",
              "      <th>67</th>\n",
              "      <td>0193ecf5897f8ea030012a4b5142c99139db58a410b1e7...</td>\n",
              "      <td>688558001</td>\n",
              "      <td>1</td>\n",
              "    </tr>\n",
              "    <tr>\n",
              "      <th>68</th>\n",
              "      <td>0193ecf5897f8ea030012a4b5142c99139db58a410b1e7...</td>\n",
              "      <td>736530007</td>\n",
              "      <td>1</td>\n",
              "    </tr>\n",
              "    <tr>\n",
              "      <th>69</th>\n",
              "      <td>0193ecf5897f8ea030012a4b5142c99139db58a410b1e7...</td>\n",
              "      <td>736870001</td>\n",
              "      <td>4</td>\n",
              "    </tr>\n",
              "  </tbody>\n",
              "</table>\n",
              "</div>\n",
              "      <button class=\"colab-df-convert\" onclick=\"convertToInteractive('df-02980154-1204-4072-983f-bc807b0ece85')\"\n",
              "              title=\"Convert this dataframe to an interactive table.\"\n",
              "              style=\"display:none;\">\n",
              "        \n",
              "  <svg xmlns=\"http://www.w3.org/2000/svg\" height=\"24px\"viewBox=\"0 0 24 24\"\n",
              "       width=\"24px\">\n",
              "    <path d=\"M0 0h24v24H0V0z\" fill=\"none\"/>\n",
              "    <path d=\"M18.56 5.44l.94 2.06.94-2.06 2.06-.94-2.06-.94-.94-2.06-.94 2.06-2.06.94zm-11 1L8.5 8.5l.94-2.06 2.06-.94-2.06-.94L8.5 2.5l-.94 2.06-2.06.94zm10 10l.94 2.06.94-2.06 2.06-.94-2.06-.94-.94-2.06-.94 2.06-2.06.94z\"/><path d=\"M17.41 7.96l-1.37-1.37c-.4-.4-.92-.59-1.43-.59-.52 0-1.04.2-1.43.59L10.3 9.45l-7.72 7.72c-.78.78-.78 2.05 0 2.83L4 21.41c.39.39.9.59 1.41.59.51 0 1.02-.2 1.41-.59l7.78-7.78 2.81-2.81c.8-.78.8-2.07 0-2.86zM5.41 20L4 18.59l7.72-7.72 1.47 1.35L5.41 20z\"/>\n",
              "  </svg>\n",
              "      </button>\n",
              "      \n",
              "  <style>\n",
              "    .colab-df-container {\n",
              "      display:flex;\n",
              "      flex-wrap:wrap;\n",
              "      gap: 12px;\n",
              "    }\n",
              "\n",
              "    .colab-df-convert {\n",
              "      background-color: #E8F0FE;\n",
              "      border: none;\n",
              "      border-radius: 50%;\n",
              "      cursor: pointer;\n",
              "      display: none;\n",
              "      fill: #1967D2;\n",
              "      height: 32px;\n",
              "      padding: 0 0 0 0;\n",
              "      width: 32px;\n",
              "    }\n",
              "\n",
              "    .colab-df-convert:hover {\n",
              "      background-color: #E2EBFA;\n",
              "      box-shadow: 0px 1px 2px rgba(60, 64, 67, 0.3), 0px 1px 3px 1px rgba(60, 64, 67, 0.15);\n",
              "      fill: #174EA6;\n",
              "    }\n",
              "\n",
              "    [theme=dark] .colab-df-convert {\n",
              "      background-color: #3B4455;\n",
              "      fill: #D2E3FC;\n",
              "    }\n",
              "\n",
              "    [theme=dark] .colab-df-convert:hover {\n",
              "      background-color: #434B5C;\n",
              "      box-shadow: 0px 1px 3px 1px rgba(0, 0, 0, 0.15);\n",
              "      filter: drop-shadow(0px 1px 2px rgba(0, 0, 0, 0.3));\n",
              "      fill: #FFFFFF;\n",
              "    }\n",
              "  </style>\n",
              "\n",
              "      <script>\n",
              "        const buttonEl =\n",
              "          document.querySelector('#df-02980154-1204-4072-983f-bc807b0ece85 button.colab-df-convert');\n",
              "        buttonEl.style.display =\n",
              "          google.colab.kernel.accessAllowed ? 'block' : 'none';\n",
              "\n",
              "        async function convertToInteractive(key) {\n",
              "          const element = document.querySelector('#df-02980154-1204-4072-983f-bc807b0ece85');\n",
              "          const dataTable =\n",
              "            await google.colab.kernel.invokeFunction('convertToInteractive',\n",
              "                                                     [key], {});\n",
              "          if (!dataTable) return;\n",
              "\n",
              "          const docLinkHtml = 'Like what you see? Visit the ' +\n",
              "            '<a target=\"_blank\" href=https://colab.research.google.com/notebooks/data_table.ipynb>data table notebook</a>'\n",
              "            + ' to learn more about interactive tables.';\n",
              "          element.innerHTML = '';\n",
              "          dataTable['output_type'] = 'display_data';\n",
              "          await google.colab.output.renderOutput(dataTable, element);\n",
              "          const docLink = document.createElement('div');\n",
              "          docLink.innerHTML = docLinkHtml;\n",
              "          element.appendChild(docLink);\n",
              "        }\n",
              "      </script>\n",
              "    </div>\n",
              "  </div>\n",
              "  "
            ]
          },
          "metadata": {},
          "execution_count": 133
        }
      ]
    },
    {
      "cell_type": "markdown",
      "source": [
        "An example what it looks like. We will use another method to scale as a matriz is too big"
      ],
      "metadata": {
        "id": "2afhpsh0jXIp"
      }
    },
    {
      "cell_type": "code",
      "source": [
        "df_matrix = pd.pivot_table(train, values='purchase_count', index='customer_id', columns='article_id')\n",
        "df_matrix.head(6)"
      ],
      "metadata": {
        "colab": {
          "base_uri": "https://localhost:8080/",
          "height": 362
        },
        "id": "NfiKk5fPipEL",
        "outputId": "08cfb5e4-e5b2-4c14-c89e-1a3de074b7d9"
      },
      "execution_count": 134,
      "outputs": [
        {
          "output_type": "execute_result",
          "data": {
            "text/plain": [
              "article_id                                          108775015  108775044  \\\n",
              "customer_id                                                                \n",
              "00750c6950d9a61ee44ed4520ef7262841a2e497956874e...        NaN        NaN   \n",
              "00847ed06bb8bd9e10108eedc2757efd9d2871870314f15...        NaN        NaN   \n",
              "008fdadc3b5a58957554f466266bd9e601867b76b6a5067...        NaN        NaN   \n",
              "009a108ccf2356ced0561494ed3ef3597f7f75e1150c58b...        NaN        NaN   \n",
              "009db236b68cde5b1005d66332f96d86d075e57fe6c3c98...        NaN        NaN   \n",
              "00f3cf84e96a1c17c0bf0806926c6d8b6b024c6d43a8545...        NaN        NaN   \n",
              "\n",
              "article_id                                          111586001  111593001  \\\n",
              "customer_id                                                                \n",
              "00750c6950d9a61ee44ed4520ef7262841a2e497956874e...        NaN        NaN   \n",
              "00847ed06bb8bd9e10108eedc2757efd9d2871870314f15...        NaN        NaN   \n",
              "008fdadc3b5a58957554f466266bd9e601867b76b6a5067...        NaN        NaN   \n",
              "009a108ccf2356ced0561494ed3ef3597f7f75e1150c58b...        NaN        NaN   \n",
              "009db236b68cde5b1005d66332f96d86d075e57fe6c3c98...        NaN        NaN   \n",
              "00f3cf84e96a1c17c0bf0806926c6d8b6b024c6d43a8545...        NaN        NaN   \n",
              "\n",
              "article_id                                          156231001  158340001  \\\n",
              "customer_id                                                                \n",
              "00750c6950d9a61ee44ed4520ef7262841a2e497956874e...        NaN       21.0   \n",
              "00847ed06bb8bd9e10108eedc2757efd9d2871870314f15...        NaN        NaN   \n",
              "008fdadc3b5a58957554f466266bd9e601867b76b6a5067...        NaN        NaN   \n",
              "009a108ccf2356ced0561494ed3ef3597f7f75e1150c58b...        NaN        NaN   \n",
              "009db236b68cde5b1005d66332f96d86d075e57fe6c3c98...        NaN        NaN   \n",
              "00f3cf84e96a1c17c0bf0806926c6d8b6b024c6d43a8545...        NaN        NaN   \n",
              "\n",
              "article_id                                          160442007  160442010  \\\n",
              "customer_id                                                                \n",
              "00750c6950d9a61ee44ed4520ef7262841a2e497956874e...        NaN        NaN   \n",
              "00847ed06bb8bd9e10108eedc2757efd9d2871870314f15...        NaN        NaN   \n",
              "008fdadc3b5a58957554f466266bd9e601867b76b6a5067...        NaN        NaN   \n",
              "009a108ccf2356ced0561494ed3ef3597f7f75e1150c58b...        NaN        NaN   \n",
              "009db236b68cde5b1005d66332f96d86d075e57fe6c3c98...        NaN        NaN   \n",
              "00f3cf84e96a1c17c0bf0806926c6d8b6b024c6d43a8545...        NaN        NaN   \n",
              "\n",
              "article_id                                          179123001  179950001  ...  \\\n",
              "customer_id                                                               ...   \n",
              "00750c6950d9a61ee44ed4520ef7262841a2e497956874e...        NaN        NaN  ...   \n",
              "00847ed06bb8bd9e10108eedc2757efd9d2871870314f15...        NaN        NaN  ...   \n",
              "008fdadc3b5a58957554f466266bd9e601867b76b6a5067...        NaN        NaN  ...   \n",
              "009a108ccf2356ced0561494ed3ef3597f7f75e1150c58b...        NaN        NaN  ...   \n",
              "009db236b68cde5b1005d66332f96d86d075e57fe6c3c98...        NaN        NaN  ...   \n",
              "00f3cf84e96a1c17c0bf0806926c6d8b6b024c6d43a8545...        NaN        NaN  ...   \n",
              "\n",
              "article_id                                          796210001  799365002  \\\n",
              "customer_id                                                                \n",
              "00750c6950d9a61ee44ed4520ef7262841a2e497956874e...        NaN        NaN   \n",
              "00847ed06bb8bd9e10108eedc2757efd9d2871870314f15...        NaN        NaN   \n",
              "008fdadc3b5a58957554f466266bd9e601867b76b6a5067...        NaN        NaN   \n",
              "009a108ccf2356ced0561494ed3ef3597f7f75e1150c58b...        NaN        NaN   \n",
              "009db236b68cde5b1005d66332f96d86d075e57fe6c3c98...        NaN        NaN   \n",
              "00f3cf84e96a1c17c0bf0806926c6d8b6b024c6d43a8545...        NaN        NaN   \n",
              "\n",
              "article_id                                          803757001  806388001  \\\n",
              "customer_id                                                                \n",
              "00750c6950d9a61ee44ed4520ef7262841a2e497956874e...        NaN        NaN   \n",
              "00847ed06bb8bd9e10108eedc2757efd9d2871870314f15...        NaN        NaN   \n",
              "008fdadc3b5a58957554f466266bd9e601867b76b6a5067...        NaN        NaN   \n",
              "009a108ccf2356ced0561494ed3ef3597f7f75e1150c58b...        NaN        NaN   \n",
              "009db236b68cde5b1005d66332f96d86d075e57fe6c3c98...        NaN        NaN   \n",
              "00f3cf84e96a1c17c0bf0806926c6d8b6b024c6d43a8545...        NaN        NaN   \n",
              "\n",
              "article_id                                          806388002  806388003  \\\n",
              "customer_id                                                                \n",
              "00750c6950d9a61ee44ed4520ef7262841a2e497956874e...        NaN        NaN   \n",
              "00847ed06bb8bd9e10108eedc2757efd9d2871870314f15...        NaN        NaN   \n",
              "008fdadc3b5a58957554f466266bd9e601867b76b6a5067...        NaN        NaN   \n",
              "009a108ccf2356ced0561494ed3ef3597f7f75e1150c58b...        NaN        NaN   \n",
              "009db236b68cde5b1005d66332f96d86d075e57fe6c3c98...        NaN        NaN   \n",
              "00f3cf84e96a1c17c0bf0806926c6d8b6b024c6d43a8545...        NaN        NaN   \n",
              "\n",
              "article_id                                          841383002  841383003  \\\n",
              "customer_id                                                                \n",
              "00750c6950d9a61ee44ed4520ef7262841a2e497956874e...        NaN        NaN   \n",
              "00847ed06bb8bd9e10108eedc2757efd9d2871870314f15...        NaN        NaN   \n",
              "008fdadc3b5a58957554f466266bd9e601867b76b6a5067...        NaN        NaN   \n",
              "009a108ccf2356ced0561494ed3ef3597f7f75e1150c58b...        4.0        NaN   \n",
              "009db236b68cde5b1005d66332f96d86d075e57fe6c3c98...        NaN        NaN   \n",
              "00f3cf84e96a1c17c0bf0806926c6d8b6b024c6d43a8545...        NaN        NaN   \n",
              "\n",
              "article_id                                          850917001  866383001  \n",
              "customer_id                                                               \n",
              "00750c6950d9a61ee44ed4520ef7262841a2e497956874e...        NaN        NaN  \n",
              "00847ed06bb8bd9e10108eedc2757efd9d2871870314f15...        NaN        NaN  \n",
              "008fdadc3b5a58957554f466266bd9e601867b76b6a5067...        NaN        NaN  \n",
              "009a108ccf2356ced0561494ed3ef3597f7f75e1150c58b...        NaN        NaN  \n",
              "009db236b68cde5b1005d66332f96d86d075e57fe6c3c98...        NaN        NaN  \n",
              "00f3cf84e96a1c17c0bf0806926c6d8b6b024c6d43a8545...        NaN        NaN  \n",
              "\n",
              "[6 rows x 200 columns]"
            ],
            "text/html": [
              "\n",
              "  <div id=\"df-b3764aa5-76f7-4247-8346-5a9d82bf2f8d\">\n",
              "    <div class=\"colab-df-container\">\n",
              "      <div>\n",
              "<style scoped>\n",
              "    .dataframe tbody tr th:only-of-type {\n",
              "        vertical-align: middle;\n",
              "    }\n",
              "\n",
              "    .dataframe tbody tr th {\n",
              "        vertical-align: top;\n",
              "    }\n",
              "\n",
              "    .dataframe thead th {\n",
              "        text-align: right;\n",
              "    }\n",
              "</style>\n",
              "<table border=\"1\" class=\"dataframe\">\n",
              "  <thead>\n",
              "    <tr style=\"text-align: right;\">\n",
              "      <th>article_id</th>\n",
              "      <th>108775015</th>\n",
              "      <th>108775044</th>\n",
              "      <th>111586001</th>\n",
              "      <th>111593001</th>\n",
              "      <th>156231001</th>\n",
              "      <th>158340001</th>\n",
              "      <th>160442007</th>\n",
              "      <th>160442010</th>\n",
              "      <th>179123001</th>\n",
              "      <th>179950001</th>\n",
              "      <th>...</th>\n",
              "      <th>796210001</th>\n",
              "      <th>799365002</th>\n",
              "      <th>803757001</th>\n",
              "      <th>806388001</th>\n",
              "      <th>806388002</th>\n",
              "      <th>806388003</th>\n",
              "      <th>841383002</th>\n",
              "      <th>841383003</th>\n",
              "      <th>850917001</th>\n",
              "      <th>866383001</th>\n",
              "    </tr>\n",
              "    <tr>\n",
              "      <th>customer_id</th>\n",
              "      <th></th>\n",
              "      <th></th>\n",
              "      <th></th>\n",
              "      <th></th>\n",
              "      <th></th>\n",
              "      <th></th>\n",
              "      <th></th>\n",
              "      <th></th>\n",
              "      <th></th>\n",
              "      <th></th>\n",
              "      <th></th>\n",
              "      <th></th>\n",
              "      <th></th>\n",
              "      <th></th>\n",
              "      <th></th>\n",
              "      <th></th>\n",
              "      <th></th>\n",
              "      <th></th>\n",
              "      <th></th>\n",
              "      <th></th>\n",
              "      <th></th>\n",
              "    </tr>\n",
              "  </thead>\n",
              "  <tbody>\n",
              "    <tr>\n",
              "      <th>00750c6950d9a61ee44ed4520ef7262841a2e497956874e39136526163f34524</th>\n",
              "      <td>NaN</td>\n",
              "      <td>NaN</td>\n",
              "      <td>NaN</td>\n",
              "      <td>NaN</td>\n",
              "      <td>NaN</td>\n",
              "      <td>21.0</td>\n",
              "      <td>NaN</td>\n",
              "      <td>NaN</td>\n",
              "      <td>NaN</td>\n",
              "      <td>NaN</td>\n",
              "      <td>...</td>\n",
              "      <td>NaN</td>\n",
              "      <td>NaN</td>\n",
              "      <td>NaN</td>\n",
              "      <td>NaN</td>\n",
              "      <td>NaN</td>\n",
              "      <td>NaN</td>\n",
              "      <td>NaN</td>\n",
              "      <td>NaN</td>\n",
              "      <td>NaN</td>\n",
              "      <td>NaN</td>\n",
              "    </tr>\n",
              "    <tr>\n",
              "      <th>00847ed06bb8bd9e10108eedc2757efd9d2871870314f1574d2ee23c342d1583</th>\n",
              "      <td>NaN</td>\n",
              "      <td>NaN</td>\n",
              "      <td>NaN</td>\n",
              "      <td>NaN</td>\n",
              "      <td>NaN</td>\n",
              "      <td>NaN</td>\n",
              "      <td>NaN</td>\n",
              "      <td>NaN</td>\n",
              "      <td>NaN</td>\n",
              "      <td>NaN</td>\n",
              "      <td>...</td>\n",
              "      <td>NaN</td>\n",
              "      <td>NaN</td>\n",
              "      <td>NaN</td>\n",
              "      <td>NaN</td>\n",
              "      <td>NaN</td>\n",
              "      <td>NaN</td>\n",
              "      <td>NaN</td>\n",
              "      <td>NaN</td>\n",
              "      <td>NaN</td>\n",
              "      <td>NaN</td>\n",
              "    </tr>\n",
              "    <tr>\n",
              "      <th>008fdadc3b5a58957554f466266bd9e601867b76b6a5067c462331d2807c1e3f</th>\n",
              "      <td>NaN</td>\n",
              "      <td>NaN</td>\n",
              "      <td>NaN</td>\n",
              "      <td>NaN</td>\n",
              "      <td>NaN</td>\n",
              "      <td>NaN</td>\n",
              "      <td>NaN</td>\n",
              "      <td>NaN</td>\n",
              "      <td>NaN</td>\n",
              "      <td>NaN</td>\n",
              "      <td>...</td>\n",
              "      <td>NaN</td>\n",
              "      <td>NaN</td>\n",
              "      <td>NaN</td>\n",
              "      <td>NaN</td>\n",
              "      <td>NaN</td>\n",
              "      <td>NaN</td>\n",
              "      <td>NaN</td>\n",
              "      <td>NaN</td>\n",
              "      <td>NaN</td>\n",
              "      <td>NaN</td>\n",
              "    </tr>\n",
              "    <tr>\n",
              "      <th>009a108ccf2356ced0561494ed3ef3597f7f75e1150c58bc63e45c2059cdaf16</th>\n",
              "      <td>NaN</td>\n",
              "      <td>NaN</td>\n",
              "      <td>NaN</td>\n",
              "      <td>NaN</td>\n",
              "      <td>NaN</td>\n",
              "      <td>NaN</td>\n",
              "      <td>NaN</td>\n",
              "      <td>NaN</td>\n",
              "      <td>NaN</td>\n",
              "      <td>NaN</td>\n",
              "      <td>...</td>\n",
              "      <td>NaN</td>\n",
              "      <td>NaN</td>\n",
              "      <td>NaN</td>\n",
              "      <td>NaN</td>\n",
              "      <td>NaN</td>\n",
              "      <td>NaN</td>\n",
              "      <td>4.0</td>\n",
              "      <td>NaN</td>\n",
              "      <td>NaN</td>\n",
              "      <td>NaN</td>\n",
              "    </tr>\n",
              "    <tr>\n",
              "      <th>009db236b68cde5b1005d66332f96d86d075e57fe6c3c9867bb4374a851cfac0</th>\n",
              "      <td>NaN</td>\n",
              "      <td>NaN</td>\n",
              "      <td>NaN</td>\n",
              "      <td>NaN</td>\n",
              "      <td>NaN</td>\n",
              "      <td>NaN</td>\n",
              "      <td>NaN</td>\n",
              "      <td>NaN</td>\n",
              "      <td>NaN</td>\n",
              "      <td>NaN</td>\n",
              "      <td>...</td>\n",
              "      <td>NaN</td>\n",
              "      <td>NaN</td>\n",
              "      <td>NaN</td>\n",
              "      <td>NaN</td>\n",
              "      <td>NaN</td>\n",
              "      <td>NaN</td>\n",
              "      <td>NaN</td>\n",
              "      <td>NaN</td>\n",
              "      <td>NaN</td>\n",
              "      <td>NaN</td>\n",
              "    </tr>\n",
              "    <tr>\n",
              "      <th>00f3cf84e96a1c17c0bf0806926c6d8b6b024c6d43a8545e3c9c9fea6a0ed37b</th>\n",
              "      <td>NaN</td>\n",
              "      <td>NaN</td>\n",
              "      <td>NaN</td>\n",
              "      <td>NaN</td>\n",
              "      <td>NaN</td>\n",
              "      <td>NaN</td>\n",
              "      <td>NaN</td>\n",
              "      <td>NaN</td>\n",
              "      <td>NaN</td>\n",
              "      <td>NaN</td>\n",
              "      <td>...</td>\n",
              "      <td>NaN</td>\n",
              "      <td>NaN</td>\n",
              "      <td>NaN</td>\n",
              "      <td>NaN</td>\n",
              "      <td>NaN</td>\n",
              "      <td>NaN</td>\n",
              "      <td>NaN</td>\n",
              "      <td>NaN</td>\n",
              "      <td>NaN</td>\n",
              "      <td>NaN</td>\n",
              "    </tr>\n",
              "  </tbody>\n",
              "</table>\n",
              "<p>6 rows × 200 columns</p>\n",
              "</div>\n",
              "      <button class=\"colab-df-convert\" onclick=\"convertToInteractive('df-b3764aa5-76f7-4247-8346-5a9d82bf2f8d')\"\n",
              "              title=\"Convert this dataframe to an interactive table.\"\n",
              "              style=\"display:none;\">\n",
              "        \n",
              "  <svg xmlns=\"http://www.w3.org/2000/svg\" height=\"24px\"viewBox=\"0 0 24 24\"\n",
              "       width=\"24px\">\n",
              "    <path d=\"M0 0h24v24H0V0z\" fill=\"none\"/>\n",
              "    <path d=\"M18.56 5.44l.94 2.06.94-2.06 2.06-.94-2.06-.94-.94-2.06-.94 2.06-2.06.94zm-11 1L8.5 8.5l.94-2.06 2.06-.94-2.06-.94L8.5 2.5l-.94 2.06-2.06.94zm10 10l.94 2.06.94-2.06 2.06-.94-2.06-.94-.94-2.06-.94 2.06-2.06.94z\"/><path d=\"M17.41 7.96l-1.37-1.37c-.4-.4-.92-.59-1.43-.59-.52 0-1.04.2-1.43.59L10.3 9.45l-7.72 7.72c-.78.78-.78 2.05 0 2.83L4 21.41c.39.39.9.59 1.41.59.51 0 1.02-.2 1.41-.59l7.78-7.78 2.81-2.81c.8-.78.8-2.07 0-2.86zM5.41 20L4 18.59l7.72-7.72 1.47 1.35L5.41 20z\"/>\n",
              "  </svg>\n",
              "      </button>\n",
              "      \n",
              "  <style>\n",
              "    .colab-df-container {\n",
              "      display:flex;\n",
              "      flex-wrap:wrap;\n",
              "      gap: 12px;\n",
              "    }\n",
              "\n",
              "    .colab-df-convert {\n",
              "      background-color: #E8F0FE;\n",
              "      border: none;\n",
              "      border-radius: 50%;\n",
              "      cursor: pointer;\n",
              "      display: none;\n",
              "      fill: #1967D2;\n",
              "      height: 32px;\n",
              "      padding: 0 0 0 0;\n",
              "      width: 32px;\n",
              "    }\n",
              "\n",
              "    .colab-df-convert:hover {\n",
              "      background-color: #E2EBFA;\n",
              "      box-shadow: 0px 1px 2px rgba(60, 64, 67, 0.3), 0px 1px 3px 1px rgba(60, 64, 67, 0.15);\n",
              "      fill: #174EA6;\n",
              "    }\n",
              "\n",
              "    [theme=dark] .colab-df-convert {\n",
              "      background-color: #3B4455;\n",
              "      fill: #D2E3FC;\n",
              "    }\n",
              "\n",
              "    [theme=dark] .colab-df-convert:hover {\n",
              "      background-color: #434B5C;\n",
              "      box-shadow: 0px 1px 3px 1px rgba(0, 0, 0, 0.15);\n",
              "      filter: drop-shadow(0px 1px 2px rgba(0, 0, 0, 0.3));\n",
              "      fill: #FFFFFF;\n",
              "    }\n",
              "  </style>\n",
              "\n",
              "      <script>\n",
              "        const buttonEl =\n",
              "          document.querySelector('#df-b3764aa5-76f7-4247-8346-5a9d82bf2f8d button.colab-df-convert');\n",
              "        buttonEl.style.display =\n",
              "          google.colab.kernel.accessAllowed ? 'block' : 'none';\n",
              "\n",
              "        async function convertToInteractive(key) {\n",
              "          const element = document.querySelector('#df-b3764aa5-76f7-4247-8346-5a9d82bf2f8d');\n",
              "          const dataTable =\n",
              "            await google.colab.kernel.invokeFunction('convertToInteractive',\n",
              "                                                     [key], {});\n",
              "          if (!dataTable) return;\n",
              "\n",
              "          const docLinkHtml = 'Like what you see? Visit the ' +\n",
              "            '<a target=\"_blank\" href=https://colab.research.google.com/notebooks/data_table.ipynb>data table notebook</a>'\n",
              "            + ' to learn more about interactive tables.';\n",
              "          element.innerHTML = '';\n",
              "          dataTable['output_type'] = 'display_data';\n",
              "          await google.colab.output.renderOutput(dataTable, element);\n",
              "          const docLink = document.createElement('div');\n",
              "          docLink.innerHTML = docLinkHtml;\n",
              "          element.appendChild(docLink);\n",
              "        }\n",
              "      </script>\n",
              "    </div>\n",
              "  </div>\n",
              "  "
            ]
          },
          "metadata": {},
          "execution_count": 134
        }
      ]
    },
    {
      "cell_type": "code",
      "source": [
        "df_matrix_norm = (df_matrix-df_matrix.min())/(df_matrix.max()-df_matrix.min())\n",
        "df_matrix_norm.head(6)"
      ],
      "metadata": {
        "colab": {
          "base_uri": "https://localhost:8080/",
          "height": 362
        },
        "id": "gywkpc4WhPEz",
        "outputId": "a3201ed1-e156-4e9f-db6d-c49de71dfed7"
      },
      "execution_count": 135,
      "outputs": [
        {
          "output_type": "execute_result",
          "data": {
            "text/plain": [
              "article_id                                          108775015  108775044  \\\n",
              "customer_id                                                                \n",
              "00750c6950d9a61ee44ed4520ef7262841a2e497956874e...        NaN        NaN   \n",
              "00847ed06bb8bd9e10108eedc2757efd9d2871870314f15...        NaN        NaN   \n",
              "008fdadc3b5a58957554f466266bd9e601867b76b6a5067...        NaN        NaN   \n",
              "009a108ccf2356ced0561494ed3ef3597f7f75e1150c58b...        NaN        NaN   \n",
              "009db236b68cde5b1005d66332f96d86d075e57fe6c3c98...        NaN        NaN   \n",
              "00f3cf84e96a1c17c0bf0806926c6d8b6b024c6d43a8545...        NaN        NaN   \n",
              "\n",
              "article_id                                          111586001  111593001  \\\n",
              "customer_id                                                                \n",
              "00750c6950d9a61ee44ed4520ef7262841a2e497956874e...        NaN        NaN   \n",
              "00847ed06bb8bd9e10108eedc2757efd9d2871870314f15...        NaN        NaN   \n",
              "008fdadc3b5a58957554f466266bd9e601867b76b6a5067...        NaN        NaN   \n",
              "009a108ccf2356ced0561494ed3ef3597f7f75e1150c58b...        NaN        NaN   \n",
              "009db236b68cde5b1005d66332f96d86d075e57fe6c3c98...        NaN        NaN   \n",
              "00f3cf84e96a1c17c0bf0806926c6d8b6b024c6d43a8545...        NaN        NaN   \n",
              "\n",
              "article_id                                          156231001  158340001  \\\n",
              "customer_id                                                                \n",
              "00750c6950d9a61ee44ed4520ef7262841a2e497956874e...        NaN        1.0   \n",
              "00847ed06bb8bd9e10108eedc2757efd9d2871870314f15...        NaN        NaN   \n",
              "008fdadc3b5a58957554f466266bd9e601867b76b6a5067...        NaN        NaN   \n",
              "009a108ccf2356ced0561494ed3ef3597f7f75e1150c58b...        NaN        NaN   \n",
              "009db236b68cde5b1005d66332f96d86d075e57fe6c3c98...        NaN        NaN   \n",
              "00f3cf84e96a1c17c0bf0806926c6d8b6b024c6d43a8545...        NaN        NaN   \n",
              "\n",
              "article_id                                          160442007  160442010  \\\n",
              "customer_id                                                                \n",
              "00750c6950d9a61ee44ed4520ef7262841a2e497956874e...        NaN        NaN   \n",
              "00847ed06bb8bd9e10108eedc2757efd9d2871870314f15...        NaN        NaN   \n",
              "008fdadc3b5a58957554f466266bd9e601867b76b6a5067...        NaN        NaN   \n",
              "009a108ccf2356ced0561494ed3ef3597f7f75e1150c58b...        NaN        NaN   \n",
              "009db236b68cde5b1005d66332f96d86d075e57fe6c3c98...        NaN        NaN   \n",
              "00f3cf84e96a1c17c0bf0806926c6d8b6b024c6d43a8545...        NaN        NaN   \n",
              "\n",
              "article_id                                          179123001  179950001  ...  \\\n",
              "customer_id                                                               ...   \n",
              "00750c6950d9a61ee44ed4520ef7262841a2e497956874e...        NaN        NaN  ...   \n",
              "00847ed06bb8bd9e10108eedc2757efd9d2871870314f15...        NaN        NaN  ...   \n",
              "008fdadc3b5a58957554f466266bd9e601867b76b6a5067...        NaN        NaN  ...   \n",
              "009a108ccf2356ced0561494ed3ef3597f7f75e1150c58b...        NaN        NaN  ...   \n",
              "009db236b68cde5b1005d66332f96d86d075e57fe6c3c98...        NaN        NaN  ...   \n",
              "00f3cf84e96a1c17c0bf0806926c6d8b6b024c6d43a8545...        NaN        NaN  ...   \n",
              "\n",
              "article_id                                          796210001  799365002  \\\n",
              "customer_id                                                                \n",
              "00750c6950d9a61ee44ed4520ef7262841a2e497956874e...        NaN        NaN   \n",
              "00847ed06bb8bd9e10108eedc2757efd9d2871870314f15...        NaN        NaN   \n",
              "008fdadc3b5a58957554f466266bd9e601867b76b6a5067...        NaN        NaN   \n",
              "009a108ccf2356ced0561494ed3ef3597f7f75e1150c58b...        NaN        NaN   \n",
              "009db236b68cde5b1005d66332f96d86d075e57fe6c3c98...        NaN        NaN   \n",
              "00f3cf84e96a1c17c0bf0806926c6d8b6b024c6d43a8545...        NaN        NaN   \n",
              "\n",
              "article_id                                          803757001  806388001  \\\n",
              "customer_id                                                                \n",
              "00750c6950d9a61ee44ed4520ef7262841a2e497956874e...        NaN        NaN   \n",
              "00847ed06bb8bd9e10108eedc2757efd9d2871870314f15...        NaN        NaN   \n",
              "008fdadc3b5a58957554f466266bd9e601867b76b6a5067...        NaN        NaN   \n",
              "009a108ccf2356ced0561494ed3ef3597f7f75e1150c58b...        NaN        NaN   \n",
              "009db236b68cde5b1005d66332f96d86d075e57fe6c3c98...        NaN        NaN   \n",
              "00f3cf84e96a1c17c0bf0806926c6d8b6b024c6d43a8545...        NaN        NaN   \n",
              "\n",
              "article_id                                          806388002  806388003  \\\n",
              "customer_id                                                                \n",
              "00750c6950d9a61ee44ed4520ef7262841a2e497956874e...        NaN        NaN   \n",
              "00847ed06bb8bd9e10108eedc2757efd9d2871870314f15...        NaN        NaN   \n",
              "008fdadc3b5a58957554f466266bd9e601867b76b6a5067...        NaN        NaN   \n",
              "009a108ccf2356ced0561494ed3ef3597f7f75e1150c58b...        NaN        NaN   \n",
              "009db236b68cde5b1005d66332f96d86d075e57fe6c3c98...        NaN        NaN   \n",
              "00f3cf84e96a1c17c0bf0806926c6d8b6b024c6d43a8545...        NaN        NaN   \n",
              "\n",
              "article_id                                          841383002  841383003  \\\n",
              "customer_id                                                                \n",
              "00750c6950d9a61ee44ed4520ef7262841a2e497956874e...        NaN        NaN   \n",
              "00847ed06bb8bd9e10108eedc2757efd9d2871870314f15...        NaN        NaN   \n",
              "008fdadc3b5a58957554f466266bd9e601867b76b6a5067...        NaN        NaN   \n",
              "009a108ccf2356ced0561494ed3ef3597f7f75e1150c58b...   0.130435        NaN   \n",
              "009db236b68cde5b1005d66332f96d86d075e57fe6c3c98...        NaN        NaN   \n",
              "00f3cf84e96a1c17c0bf0806926c6d8b6b024c6d43a8545...        NaN        NaN   \n",
              "\n",
              "article_id                                          850917001  866383001  \n",
              "customer_id                                                               \n",
              "00750c6950d9a61ee44ed4520ef7262841a2e497956874e...        NaN        NaN  \n",
              "00847ed06bb8bd9e10108eedc2757efd9d2871870314f15...        NaN        NaN  \n",
              "008fdadc3b5a58957554f466266bd9e601867b76b6a5067...        NaN        NaN  \n",
              "009a108ccf2356ced0561494ed3ef3597f7f75e1150c58b...        NaN        NaN  \n",
              "009db236b68cde5b1005d66332f96d86d075e57fe6c3c98...        NaN        NaN  \n",
              "00f3cf84e96a1c17c0bf0806926c6d8b6b024c6d43a8545...        NaN        NaN  \n",
              "\n",
              "[6 rows x 200 columns]"
            ],
            "text/html": [
              "\n",
              "  <div id=\"df-a01103e8-afab-48b2-af1b-b39930cd7478\">\n",
              "    <div class=\"colab-df-container\">\n",
              "      <div>\n",
              "<style scoped>\n",
              "    .dataframe tbody tr th:only-of-type {\n",
              "        vertical-align: middle;\n",
              "    }\n",
              "\n",
              "    .dataframe tbody tr th {\n",
              "        vertical-align: top;\n",
              "    }\n",
              "\n",
              "    .dataframe thead th {\n",
              "        text-align: right;\n",
              "    }\n",
              "</style>\n",
              "<table border=\"1\" class=\"dataframe\">\n",
              "  <thead>\n",
              "    <tr style=\"text-align: right;\">\n",
              "      <th>article_id</th>\n",
              "      <th>108775015</th>\n",
              "      <th>108775044</th>\n",
              "      <th>111586001</th>\n",
              "      <th>111593001</th>\n",
              "      <th>156231001</th>\n",
              "      <th>158340001</th>\n",
              "      <th>160442007</th>\n",
              "      <th>160442010</th>\n",
              "      <th>179123001</th>\n",
              "      <th>179950001</th>\n",
              "      <th>...</th>\n",
              "      <th>796210001</th>\n",
              "      <th>799365002</th>\n",
              "      <th>803757001</th>\n",
              "      <th>806388001</th>\n",
              "      <th>806388002</th>\n",
              "      <th>806388003</th>\n",
              "      <th>841383002</th>\n",
              "      <th>841383003</th>\n",
              "      <th>850917001</th>\n",
              "      <th>866383001</th>\n",
              "    </tr>\n",
              "    <tr>\n",
              "      <th>customer_id</th>\n",
              "      <th></th>\n",
              "      <th></th>\n",
              "      <th></th>\n",
              "      <th></th>\n",
              "      <th></th>\n",
              "      <th></th>\n",
              "      <th></th>\n",
              "      <th></th>\n",
              "      <th></th>\n",
              "      <th></th>\n",
              "      <th></th>\n",
              "      <th></th>\n",
              "      <th></th>\n",
              "      <th></th>\n",
              "      <th></th>\n",
              "      <th></th>\n",
              "      <th></th>\n",
              "      <th></th>\n",
              "      <th></th>\n",
              "      <th></th>\n",
              "      <th></th>\n",
              "    </tr>\n",
              "  </thead>\n",
              "  <tbody>\n",
              "    <tr>\n",
              "      <th>00750c6950d9a61ee44ed4520ef7262841a2e497956874e39136526163f34524</th>\n",
              "      <td>NaN</td>\n",
              "      <td>NaN</td>\n",
              "      <td>NaN</td>\n",
              "      <td>NaN</td>\n",
              "      <td>NaN</td>\n",
              "      <td>1.0</td>\n",
              "      <td>NaN</td>\n",
              "      <td>NaN</td>\n",
              "      <td>NaN</td>\n",
              "      <td>NaN</td>\n",
              "      <td>...</td>\n",
              "      <td>NaN</td>\n",
              "      <td>NaN</td>\n",
              "      <td>NaN</td>\n",
              "      <td>NaN</td>\n",
              "      <td>NaN</td>\n",
              "      <td>NaN</td>\n",
              "      <td>NaN</td>\n",
              "      <td>NaN</td>\n",
              "      <td>NaN</td>\n",
              "      <td>NaN</td>\n",
              "    </tr>\n",
              "    <tr>\n",
              "      <th>00847ed06bb8bd9e10108eedc2757efd9d2871870314f1574d2ee23c342d1583</th>\n",
              "      <td>NaN</td>\n",
              "      <td>NaN</td>\n",
              "      <td>NaN</td>\n",
              "      <td>NaN</td>\n",
              "      <td>NaN</td>\n",
              "      <td>NaN</td>\n",
              "      <td>NaN</td>\n",
              "      <td>NaN</td>\n",
              "      <td>NaN</td>\n",
              "      <td>NaN</td>\n",
              "      <td>...</td>\n",
              "      <td>NaN</td>\n",
              "      <td>NaN</td>\n",
              "      <td>NaN</td>\n",
              "      <td>NaN</td>\n",
              "      <td>NaN</td>\n",
              "      <td>NaN</td>\n",
              "      <td>NaN</td>\n",
              "      <td>NaN</td>\n",
              "      <td>NaN</td>\n",
              "      <td>NaN</td>\n",
              "    </tr>\n",
              "    <tr>\n",
              "      <th>008fdadc3b5a58957554f466266bd9e601867b76b6a5067c462331d2807c1e3f</th>\n",
              "      <td>NaN</td>\n",
              "      <td>NaN</td>\n",
              "      <td>NaN</td>\n",
              "      <td>NaN</td>\n",
              "      <td>NaN</td>\n",
              "      <td>NaN</td>\n",
              "      <td>NaN</td>\n",
              "      <td>NaN</td>\n",
              "      <td>NaN</td>\n",
              "      <td>NaN</td>\n",
              "      <td>...</td>\n",
              "      <td>NaN</td>\n",
              "      <td>NaN</td>\n",
              "      <td>NaN</td>\n",
              "      <td>NaN</td>\n",
              "      <td>NaN</td>\n",
              "      <td>NaN</td>\n",
              "      <td>NaN</td>\n",
              "      <td>NaN</td>\n",
              "      <td>NaN</td>\n",
              "      <td>NaN</td>\n",
              "    </tr>\n",
              "    <tr>\n",
              "      <th>009a108ccf2356ced0561494ed3ef3597f7f75e1150c58bc63e45c2059cdaf16</th>\n",
              "      <td>NaN</td>\n",
              "      <td>NaN</td>\n",
              "      <td>NaN</td>\n",
              "      <td>NaN</td>\n",
              "      <td>NaN</td>\n",
              "      <td>NaN</td>\n",
              "      <td>NaN</td>\n",
              "      <td>NaN</td>\n",
              "      <td>NaN</td>\n",
              "      <td>NaN</td>\n",
              "      <td>...</td>\n",
              "      <td>NaN</td>\n",
              "      <td>NaN</td>\n",
              "      <td>NaN</td>\n",
              "      <td>NaN</td>\n",
              "      <td>NaN</td>\n",
              "      <td>NaN</td>\n",
              "      <td>0.130435</td>\n",
              "      <td>NaN</td>\n",
              "      <td>NaN</td>\n",
              "      <td>NaN</td>\n",
              "    </tr>\n",
              "    <tr>\n",
              "      <th>009db236b68cde5b1005d66332f96d86d075e57fe6c3c9867bb4374a851cfac0</th>\n",
              "      <td>NaN</td>\n",
              "      <td>NaN</td>\n",
              "      <td>NaN</td>\n",
              "      <td>NaN</td>\n",
              "      <td>NaN</td>\n",
              "      <td>NaN</td>\n",
              "      <td>NaN</td>\n",
              "      <td>NaN</td>\n",
              "      <td>NaN</td>\n",
              "      <td>NaN</td>\n",
              "      <td>...</td>\n",
              "      <td>NaN</td>\n",
              "      <td>NaN</td>\n",
              "      <td>NaN</td>\n",
              "      <td>NaN</td>\n",
              "      <td>NaN</td>\n",
              "      <td>NaN</td>\n",
              "      <td>NaN</td>\n",
              "      <td>NaN</td>\n",
              "      <td>NaN</td>\n",
              "      <td>NaN</td>\n",
              "    </tr>\n",
              "    <tr>\n",
              "      <th>00f3cf84e96a1c17c0bf0806926c6d8b6b024c6d43a8545e3c9c9fea6a0ed37b</th>\n",
              "      <td>NaN</td>\n",
              "      <td>NaN</td>\n",
              "      <td>NaN</td>\n",
              "      <td>NaN</td>\n",
              "      <td>NaN</td>\n",
              "      <td>NaN</td>\n",
              "      <td>NaN</td>\n",
              "      <td>NaN</td>\n",
              "      <td>NaN</td>\n",
              "      <td>NaN</td>\n",
              "      <td>...</td>\n",
              "      <td>NaN</td>\n",
              "      <td>NaN</td>\n",
              "      <td>NaN</td>\n",
              "      <td>NaN</td>\n",
              "      <td>NaN</td>\n",
              "      <td>NaN</td>\n",
              "      <td>NaN</td>\n",
              "      <td>NaN</td>\n",
              "      <td>NaN</td>\n",
              "      <td>NaN</td>\n",
              "    </tr>\n",
              "  </tbody>\n",
              "</table>\n",
              "<p>6 rows × 200 columns</p>\n",
              "</div>\n",
              "      <button class=\"colab-df-convert\" onclick=\"convertToInteractive('df-a01103e8-afab-48b2-af1b-b39930cd7478')\"\n",
              "              title=\"Convert this dataframe to an interactive table.\"\n",
              "              style=\"display:none;\">\n",
              "        \n",
              "  <svg xmlns=\"http://www.w3.org/2000/svg\" height=\"24px\"viewBox=\"0 0 24 24\"\n",
              "       width=\"24px\">\n",
              "    <path d=\"M0 0h24v24H0V0z\" fill=\"none\"/>\n",
              "    <path d=\"M18.56 5.44l.94 2.06.94-2.06 2.06-.94-2.06-.94-.94-2.06-.94 2.06-2.06.94zm-11 1L8.5 8.5l.94-2.06 2.06-.94-2.06-.94L8.5 2.5l-.94 2.06-2.06.94zm10 10l.94 2.06.94-2.06 2.06-.94-2.06-.94-.94-2.06-.94 2.06-2.06.94z\"/><path d=\"M17.41 7.96l-1.37-1.37c-.4-.4-.92-.59-1.43-.59-.52 0-1.04.2-1.43.59L10.3 9.45l-7.72 7.72c-.78.78-.78 2.05 0 2.83L4 21.41c.39.39.9.59 1.41.59.51 0 1.02-.2 1.41-.59l7.78-7.78 2.81-2.81c.8-.78.8-2.07 0-2.86zM5.41 20L4 18.59l7.72-7.72 1.47 1.35L5.41 20z\"/>\n",
              "  </svg>\n",
              "      </button>\n",
              "      \n",
              "  <style>\n",
              "    .colab-df-container {\n",
              "      display:flex;\n",
              "      flex-wrap:wrap;\n",
              "      gap: 12px;\n",
              "    }\n",
              "\n",
              "    .colab-df-convert {\n",
              "      background-color: #E8F0FE;\n",
              "      border: none;\n",
              "      border-radius: 50%;\n",
              "      cursor: pointer;\n",
              "      display: none;\n",
              "      fill: #1967D2;\n",
              "      height: 32px;\n",
              "      padding: 0 0 0 0;\n",
              "      width: 32px;\n",
              "    }\n",
              "\n",
              "    .colab-df-convert:hover {\n",
              "      background-color: #E2EBFA;\n",
              "      box-shadow: 0px 1px 2px rgba(60, 64, 67, 0.3), 0px 1px 3px 1px rgba(60, 64, 67, 0.15);\n",
              "      fill: #174EA6;\n",
              "    }\n",
              "\n",
              "    [theme=dark] .colab-df-convert {\n",
              "      background-color: #3B4455;\n",
              "      fill: #D2E3FC;\n",
              "    }\n",
              "\n",
              "    [theme=dark] .colab-df-convert:hover {\n",
              "      background-color: #434B5C;\n",
              "      box-shadow: 0px 1px 3px 1px rgba(0, 0, 0, 0.15);\n",
              "      filter: drop-shadow(0px 1px 2px rgba(0, 0, 0, 0.3));\n",
              "      fill: #FFFFFF;\n",
              "    }\n",
              "  </style>\n",
              "\n",
              "      <script>\n",
              "        const buttonEl =\n",
              "          document.querySelector('#df-a01103e8-afab-48b2-af1b-b39930cd7478 button.colab-df-convert');\n",
              "        buttonEl.style.display =\n",
              "          google.colab.kernel.accessAllowed ? 'block' : 'none';\n",
              "\n",
              "        async function convertToInteractive(key) {\n",
              "          const element = document.querySelector('#df-a01103e8-afab-48b2-af1b-b39930cd7478');\n",
              "          const dataTable =\n",
              "            await google.colab.kernel.invokeFunction('convertToInteractive',\n",
              "                                                     [key], {});\n",
              "          if (!dataTable) return;\n",
              "\n",
              "          const docLinkHtml = 'Like what you see? Visit the ' +\n",
              "            '<a target=\"_blank\" href=https://colab.research.google.com/notebooks/data_table.ipynb>data table notebook</a>'\n",
              "            + ' to learn more about interactive tables.';\n",
              "          element.innerHTML = '';\n",
              "          dataTable['output_type'] = 'display_data';\n",
              "          await google.colab.output.renderOutput(dataTable, element);\n",
              "          const docLink = document.createElement('div');\n",
              "          docLink.innerHTML = docLinkHtml;\n",
              "          element.appendChild(docLink);\n",
              "        }\n",
              "      </script>\n",
              "    </div>\n",
              "  </div>\n",
              "  "
            ]
          },
          "metadata": {},
          "execution_count": 135
        }
      ]
    },
    {
      "cell_type": "code",
      "source": [
        "d = df_matrix_norm.reset_index()\n",
        "d.index.names = ['scaled_purchase_freq']\n",
        "data_norm = pd.melt(d, id_vars=['customer_id'], value_name='scaled_purchase_freq').dropna()\n",
        "data_norm"
      ],
      "metadata": {
        "colab": {
          "base_uri": "https://localhost:8080/",
          "height": 363
        },
        "id": "_Adyl9J_jOlZ",
        "outputId": "e75426c6-a1eb-4ab4-9138-0aa320de6c4e"
      },
      "execution_count": 136,
      "outputs": [
        {
          "output_type": "execute_result",
          "data": {
            "text/plain": [
              "                                           customer_id article_id  \\\n",
              "137  17a24088bfabda1ba8748f25b0a7564f41350941ddf87e...  108775015   \n",
              "153  19ecf2a8d5bd35fcdbf40f92a593403fbd78a9567049d4...  108775015   \n",
              "192  20852813d0fb957b31bbc28b663b3ec6873a22760d9176...  108775015   \n",
              "200  21dc541f04d2e07c098fe65c6d5de0c585dd9c15a338ca...  108775015   \n",
              "246  2978e892483fe98de2a753f2e134a1dfa072594a81bb7d...  108775015   \n",
              "250  29e2a3ecff264c4c3dfad1f5d24046de1c1f71f01eb851...  108775015   \n",
              "282  3018b87674288984445da2ccbb2371e66e5e16d5210abf...  108775015   \n",
              "288  317dbe35f2338d5b07861bb1ac4914958170dfc4d9c870...  108775015   \n",
              "299  33b183c597426013003a2fcce66da4722b8596a3a37331...  108775015   \n",
              "306  34ca4c4cf3587299b1dc9f782d9f76df1233abb0cb13e3...  108775015   \n",
              "\n",
              "     scaled_purchase_freq  \n",
              "137              0.461538  \n",
              "153              0.230769  \n",
              "192              0.307692  \n",
              "200              0.384615  \n",
              "246              0.307692  \n",
              "250              0.230769  \n",
              "282              0.384615  \n",
              "288              0.230769  \n",
              "299              0.538462  \n",
              "306              0.000000  "
            ],
            "text/html": [
              "\n",
              "  <div id=\"df-fa39deef-8dae-4553-b7c2-184c8dd71983\">\n",
              "    <div class=\"colab-df-container\">\n",
              "      <div>\n",
              "<style scoped>\n",
              "    .dataframe tbody tr th:only-of-type {\n",
              "        vertical-align: middle;\n",
              "    }\n",
              "\n",
              "    .dataframe tbody tr th {\n",
              "        vertical-align: top;\n",
              "    }\n",
              "\n",
              "    .dataframe thead th {\n",
              "        text-align: right;\n",
              "    }\n",
              "</style>\n",
              "<table border=\"1\" class=\"dataframe\">\n",
              "  <thead>\n",
              "    <tr style=\"text-align: right;\">\n",
              "      <th></th>\n",
              "      <th>customer_id</th>\n",
              "      <th>article_id</th>\n",
              "      <th>scaled_purchase_freq</th>\n",
              "    </tr>\n",
              "  </thead>\n",
              "  <tbody>\n",
              "    <tr>\n",
              "      <th>137</th>\n",
              "      <td>17a24088bfabda1ba8748f25b0a7564f41350941ddf87e...</td>\n",
              "      <td>108775015</td>\n",
              "      <td>0.461538</td>\n",
              "    </tr>\n",
              "    <tr>\n",
              "      <th>153</th>\n",
              "      <td>19ecf2a8d5bd35fcdbf40f92a593403fbd78a9567049d4...</td>\n",
              "      <td>108775015</td>\n",
              "      <td>0.230769</td>\n",
              "    </tr>\n",
              "    <tr>\n",
              "      <th>192</th>\n",
              "      <td>20852813d0fb957b31bbc28b663b3ec6873a22760d9176...</td>\n",
              "      <td>108775015</td>\n",
              "      <td>0.307692</td>\n",
              "    </tr>\n",
              "    <tr>\n",
              "      <th>200</th>\n",
              "      <td>21dc541f04d2e07c098fe65c6d5de0c585dd9c15a338ca...</td>\n",
              "      <td>108775015</td>\n",
              "      <td>0.384615</td>\n",
              "    </tr>\n",
              "    <tr>\n",
              "      <th>246</th>\n",
              "      <td>2978e892483fe98de2a753f2e134a1dfa072594a81bb7d...</td>\n",
              "      <td>108775015</td>\n",
              "      <td>0.307692</td>\n",
              "    </tr>\n",
              "    <tr>\n",
              "      <th>250</th>\n",
              "      <td>29e2a3ecff264c4c3dfad1f5d24046de1c1f71f01eb851...</td>\n",
              "      <td>108775015</td>\n",
              "      <td>0.230769</td>\n",
              "    </tr>\n",
              "    <tr>\n",
              "      <th>282</th>\n",
              "      <td>3018b87674288984445da2ccbb2371e66e5e16d5210abf...</td>\n",
              "      <td>108775015</td>\n",
              "      <td>0.384615</td>\n",
              "    </tr>\n",
              "    <tr>\n",
              "      <th>288</th>\n",
              "      <td>317dbe35f2338d5b07861bb1ac4914958170dfc4d9c870...</td>\n",
              "      <td>108775015</td>\n",
              "      <td>0.230769</td>\n",
              "    </tr>\n",
              "    <tr>\n",
              "      <th>299</th>\n",
              "      <td>33b183c597426013003a2fcce66da4722b8596a3a37331...</td>\n",
              "      <td>108775015</td>\n",
              "      <td>0.538462</td>\n",
              "    </tr>\n",
              "    <tr>\n",
              "      <th>306</th>\n",
              "      <td>34ca4c4cf3587299b1dc9f782d9f76df1233abb0cb13e3...</td>\n",
              "      <td>108775015</td>\n",
              "      <td>0.000000</td>\n",
              "    </tr>\n",
              "  </tbody>\n",
              "</table>\n",
              "</div>\n",
              "      <button class=\"colab-df-convert\" onclick=\"convertToInteractive('df-fa39deef-8dae-4553-b7c2-184c8dd71983')\"\n",
              "              title=\"Convert this dataframe to an interactive table.\"\n",
              "              style=\"display:none;\">\n",
              "        \n",
              "  <svg xmlns=\"http://www.w3.org/2000/svg\" height=\"24px\"viewBox=\"0 0 24 24\"\n",
              "       width=\"24px\">\n",
              "    <path d=\"M0 0h24v24H0V0z\" fill=\"none\"/>\n",
              "    <path d=\"M18.56 5.44l.94 2.06.94-2.06 2.06-.94-2.06-.94-.94-2.06-.94 2.06-2.06.94zm-11 1L8.5 8.5l.94-2.06 2.06-.94-2.06-.94L8.5 2.5l-.94 2.06-2.06.94zm10 10l.94 2.06.94-2.06 2.06-.94-2.06-.94-.94-2.06-.94 2.06-2.06.94z\"/><path d=\"M17.41 7.96l-1.37-1.37c-.4-.4-.92-.59-1.43-.59-.52 0-1.04.2-1.43.59L10.3 9.45l-7.72 7.72c-.78.78-.78 2.05 0 2.83L4 21.41c.39.39.9.59 1.41.59.51 0 1.02-.2 1.41-.59l7.78-7.78 2.81-2.81c.8-.78.8-2.07 0-2.86zM5.41 20L4 18.59l7.72-7.72 1.47 1.35L5.41 20z\"/>\n",
              "  </svg>\n",
              "      </button>\n",
              "      \n",
              "  <style>\n",
              "    .colab-df-container {\n",
              "      display:flex;\n",
              "      flex-wrap:wrap;\n",
              "      gap: 12px;\n",
              "    }\n",
              "\n",
              "    .colab-df-convert {\n",
              "      background-color: #E8F0FE;\n",
              "      border: none;\n",
              "      border-radius: 50%;\n",
              "      cursor: pointer;\n",
              "      display: none;\n",
              "      fill: #1967D2;\n",
              "      height: 32px;\n",
              "      padding: 0 0 0 0;\n",
              "      width: 32px;\n",
              "    }\n",
              "\n",
              "    .colab-df-convert:hover {\n",
              "      background-color: #E2EBFA;\n",
              "      box-shadow: 0px 1px 2px rgba(60, 64, 67, 0.3), 0px 1px 3px 1px rgba(60, 64, 67, 0.15);\n",
              "      fill: #174EA6;\n",
              "    }\n",
              "\n",
              "    [theme=dark] .colab-df-convert {\n",
              "      background-color: #3B4455;\n",
              "      fill: #D2E3FC;\n",
              "    }\n",
              "\n",
              "    [theme=dark] .colab-df-convert:hover {\n",
              "      background-color: #434B5C;\n",
              "      box-shadow: 0px 1px 3px 1px rgba(0, 0, 0, 0.15);\n",
              "      filter: drop-shadow(0px 1px 2px rgba(0, 0, 0, 0.3));\n",
              "      fill: #FFFFFF;\n",
              "    }\n",
              "  </style>\n",
              "\n",
              "      <script>\n",
              "        const buttonEl =\n",
              "          document.querySelector('#df-fa39deef-8dae-4553-b7c2-184c8dd71983 button.colab-df-convert');\n",
              "        buttonEl.style.display =\n",
              "          google.colab.kernel.accessAllowed ? 'block' : 'none';\n",
              "\n",
              "        async function convertToInteractive(key) {\n",
              "          const element = document.querySelector('#df-fa39deef-8dae-4553-b7c2-184c8dd71983');\n",
              "          const dataTable =\n",
              "            await google.colab.kernel.invokeFunction('convertToInteractive',\n",
              "                                                     [key], {});\n",
              "          if (!dataTable) return;\n",
              "\n",
              "          const docLinkHtml = 'Like what you see? Visit the ' +\n",
              "            '<a target=\"_blank\" href=https://colab.research.google.com/notebooks/data_table.ipynb>data table notebook</a>'\n",
              "            + ' to learn more about interactive tables.';\n",
              "          element.innerHTML = '';\n",
              "          dataTable['output_type'] = 'display_data';\n",
              "          await google.colab.output.renderOutput(dataTable, element);\n",
              "          const docLink = document.createElement('div');\n",
              "          docLink.innerHTML = docLinkHtml;\n",
              "          element.appendChild(docLink);\n",
              "        }\n",
              "      </script>\n",
              "    </div>\n",
              "  </div>\n",
              "  "
            ]
          },
          "metadata": {},
          "execution_count": 136
        }
      ]
    },
    {
      "cell_type": "markdown",
      "source": [
        "### Split the data"
      ],
      "metadata": {
        "id": "1wVs_l8J1MS7"
      }
    },
    {
      "cell_type": "code",
      "source": [
        "# We will use two data splits and train according to these modifications\n",
        "train, test = train_test_split(train, test_size = .2)\n",
        "train_data = tc.SFrame(train)\n",
        "test_data = tc.SFrame(test)\n",
        "\n",
        "train_norm, test_norm = train_test_split(data_norm, test_size = .2)\n",
        "train_data_norm = tc.SFrame(train_norm)\n",
        "test_data_norm = tc.SFrame(test_norm)"
      ],
      "metadata": {
        "id": "EKxgnKQF1Ny6"
      },
      "execution_count": 140,
      "outputs": []
    },
    {
      "cell_type": "markdown",
      "source": [
        "### Baseline Model (the same recommendation for all)"
      ],
      "metadata": {
        "id": "U2qYeGKlEGWi"
      }
    },
    {
      "cell_type": "code",
      "source": [
        "# First one is to use \"purchase_count\"\n",
        "# So, we will analyze what is the most popular item among customers\n",
        "\n",
        "# variables to define field names\n",
        "user_id = 'customer_id'\n",
        "item_id = 'article_id'\n",
        "target = 'purchase_count'\n",
        "users_to_recommend = list(train[user_id])\n",
        "n_rec = 12 # number of items to recommend according to 'sample_submission' file\n",
        "n_display = 30 "
      ],
      "metadata": {
        "id": "jTEAq4PE3sS9"
      },
      "execution_count": 141,
      "outputs": []
    },
    {
      "cell_type": "code",
      "source": [
        "popularity_model = tc.popularity_recommender.create(train_data, \n",
        "                                                    user_id=user_id, \n",
        "                                                    item_id=item_id, \n",
        "                                                    target=target)"
      ],
      "metadata": {
        "id": "y4Uiwpo68PHq"
      },
      "execution_count": null,
      "outputs": []
    },
    {
      "cell_type": "code",
      "source": [
        "# Second one is about normalized data\n",
        "\n",
        "target = 'scaled_purchase_freq'\n",
        "pop_norm_model = tc.popularity_recommender.create(train_data_norm, \n",
        "                                                    user_id=user_id, \n",
        "                                                    item_id=item_id, \n",
        "                                                    target=target)"
      ],
      "metadata": {
        "id": "dl-8xXslVJC9"
      },
      "execution_count": null,
      "outputs": []
    },
    {
      "cell_type": "markdown",
      "source": [
        "###Results"
      ],
      "metadata": {
        "id": "0jQMpqgcEL-c"
      }
    },
    {
      "cell_type": "code",
      "source": [
        "popularity_recomm = popularity_model.recommend(users=users_to_recommend, k=n_rec)\n",
        "popularity_recomm.print_rows(n_display)"
      ],
      "metadata": {
        "id": "TKYmG6g-8QNc"
      },
      "execution_count": null,
      "outputs": []
    },
    {
      "cell_type": "markdown",
      "source": [
        "According to results of this model we can recommend the most popular (most freaquently bought) items among all consumers "
      ],
      "metadata": {
        "id": "WLYtTlUx8yJ5"
      }
    },
    {
      "cell_type": "code",
      "source": [
        "articles[(articles[\"article_id\" ] == 507909003) | (articles[\"article_id\" ] == 399087014) | (articles[\"article_id\" ] == 685813001)  | (articles[\"article_id\" ] == 561445005)]"
      ],
      "metadata": {
        "id": "LddNVpDn8W3H"
      },
      "execution_count": null,
      "outputs": []
    },
    {
      "cell_type": "markdown",
      "source": [
        "One of the disadvantage of this method is that we do not personalize our recommendations. So, items are the same for all customers. Second is that according to our data cuts we throw away a lot of observations. However, it is the model with simpliest equations and our baseline"
      ],
      "metadata": {
        "id": "yMNqWHJMA8zR"
      }
    },
    {
      "cell_type": "code",
      "source": [
        "regularization_recomm = pop_norm_model.recommend(users=users_to_recommend, k=n_rec)\n",
        "regularization_recomm.print_rows(n_display)"
      ],
      "metadata": {
        "id": "Yyik930Y9iCW"
      },
      "execution_count": null,
      "outputs": []
    },
    {
      "cell_type": "markdown",
      "source": [
        "The results are again the same for all customers. But we have different recommendations, because in the case of normalization we do not take into account the frequency of purchases. \n",
        "\n",
        "In purchase_count the most popular items more probably are from customers who are the most active. In scaled_purchase_freq we have scale this situaiton and just compare the normalize score"
      ],
      "metadata": {
        "id": "7aXC4OwGYtlZ"
      }
    },
    {
      "cell_type": "code",
      "source": [
        "articles[(articles[\"article_id\" ] == 573085043) | (articles[\"article_id\" ] == 783346018) | (articles[\"article_id\" ] == 655784001)  | (articles[\"article_id\" ] == 866383001)]"
      ],
      "metadata": {
        "id": "GpX-I338YaK_"
      },
      "execution_count": null,
      "outputs": []
    },
    {
      "cell_type": "code",
      "source": [],
      "metadata": {
        "id": "t6ibtCdHcGkU"
      },
      "execution_count": null,
      "outputs": []
    },
    {
      "cell_type": "markdown",
      "source": [
        "# Collaborative Filtering Model"
      ],
      "metadata": {
        "id": "RMbn2W3odZBu"
      }
    },
    {
      "cell_type": "markdown",
      "source": [
        "Here we repeat the idea to find similar customers according their purchases and recommend items that they haven't bought yet\n",
        "\n",
        "To realize this idea we will construct the similarity matrix (according to cosine similarity)\n",
        "\n",
        "MAYBE ALSO USE Alternative Least Squares algorithm (ALS)"
      ],
      "metadata": {
        "id": "2bass26Eemzs"
      }
    },
    {
      "cell_type": "code",
      "source": [
        "# Again start from the purchase count\n",
        "target = 'purchase_count'\n",
        "count_pears = tc.item_similarity_recommender.create(train_data, \n",
        "                                                    user_id=user_id, \n",
        "                                                    item_id=item_id, \n",
        "                                                    target=target, \n",
        "                                                    similarity_type='cosine')\n",
        "        \n",
        "count_recom = count_pears.recommend(users=users_to_recommend, k=n_rec)\n",
        "count_recom.print_rows(n_display)"
      ],
      "metadata": {
        "id": "O_xLVj0tdfx7"
      },
      "execution_count": null,
      "outputs": []
    },
    {
      "cell_type": "markdown",
      "source": [
        "I have alsotriedd to use pearson similarity. But the results are not so heterogenious and all users have nearly the same recommendations"
      ],
      "metadata": {
        "id": "px1Wk9V4nJup"
      }
    },
    {
      "cell_type": "code",
      "source": [
        "# And then take a look on the normalized data\n",
        "target = 'scaled_purchase_freq'\n",
        "count_pears_norm = tc.item_similarity_recommender.create(train_data_norm, \n",
        "                                                    user_id=user_id, \n",
        "                                                    item_id=item_id, \n",
        "                                                    target=target, \n",
        "                                                    similarity_type='cosine')\n",
        "        \n",
        "recom = count_pears_norm.recommend(users=users_to_recommend, k=n_rec)\n",
        "recom.print_rows(n_display)"
      ],
      "metadata": {
        "id": "s9I_34qpdr5G"
      },
      "execution_count": null,
      "outputs": []
    },
    {
      "cell_type": "markdown",
      "source": [
        "### Model Evaluation"
      ],
      "metadata": {
        "id": "HP_ttt3hqw7L"
      }
    },
    {
      "cell_type": "markdown",
      "source": [
        "We will use\n",
        "- RMSE\n",
        "- Precision\n",
        "- Recall"
      ],
      "metadata": {
        "id": "B5PUMEdZq1Px"
      }
    },
    {
      "cell_type": "code",
      "source": [
        "models = [popularity_model, count_pears]\n",
        "names = [\"Baseline Purchase count model\", \"Filttering model with Purchase count\"]"
      ],
      "metadata": {
        "id": "MD8XGT7Npdcl"
      },
      "execution_count": 186,
      "outputs": []
    },
    {
      "cell_type": "code",
      "source": [
        "eval_counts = tc.recommender.util.compare_models(test_data, models, model_names=names)"
      ],
      "metadata": {
        "colab": {
          "base_uri": "https://localhost:8080/"
        },
        "id": "rDRP1ue0rAzk",
        "outputId": "5d0b61ba-6eb1-43d3-f02a-fb1dbfd9c3a8"
      },
      "execution_count": 187,
      "outputs": [
        {
          "output_type": "stream",
          "name": "stdout",
          "text": [
            "PROGRESS: Evaluate model Baseline Purchase count model\n",
            "\n",
            "Precision and recall summary statistics by cutoff\n",
            "+--------+----------------------+----------------------+\n",
            "| cutoff |    mean_precision    |     mean_recall      |\n",
            "+--------+----------------------+----------------------+\n",
            "|   1    | 0.014084507042253527 | 0.013380281690140848 |\n",
            "|   2    | 0.009154929577464787 | 0.015375586854460095 |\n",
            "|   3    | 0.01032863849765258  | 0.023591549295774655 |\n",
            "|   4    | 0.01161971830985916  | 0.03368544600938968  |\n",
            "|   5    | 0.010704225352112684 | 0.03787726358148895  |\n",
            "|   6    | 0.011737089201877937 | 0.04989604292421196  |\n",
            "|   7    | 0.012072434607645878 | 0.05963782696177062  |\n",
            "|   8    | 0.011971830985915493 | 0.06660965794768611  |\n",
            "|   9    | 0.011424100156494517 | 0.07165660630449364  |\n",
            "|   10   | 0.010563380281690144 | 0.07376928236083166  |\n",
            "+--------+----------------------+----------------------+\n",
            "[10 rows x 3 columns]\n",
            "\n",
            "\n",
            "Overall RMSE: 5.001762022614471\n",
            "\n",
            "Per User RMSE (best)\n",
            "+-------------------------------+----------------------+-------+\n",
            "|          customer_id          |         rmse         | count |\n",
            "+-------------------------------+----------------------+-------+\n",
            "| 338408cf0459ca065d20c8ae5f... | 0.030303030303030276 |   1   |\n",
            "+-------------------------------+----------------------+-------+\n",
            "[1 rows x 3 columns]\n",
            "\n",
            "\n",
            "Per User RMSE (worst)\n",
            "+-------------------------------+-------------------+-------+\n",
            "|          customer_id          |        rmse       | count |\n",
            "+-------------------------------+-------------------+-------+\n",
            "| f29ceb51b850338601136bcc6c... | 62.59090909090909 |   1   |\n",
            "+-------------------------------+-------------------+-------+\n",
            "[1 rows x 3 columns]\n",
            "\n",
            "\n",
            "Per Item RMSE (best)\n",
            "+------------+---------------------+-------+\n",
            "| article_id |         rmse        | count |\n",
            "+------------+---------------------+-------+\n",
            "| 539723005  | 0.05555555555555558 |   1   |\n",
            "+------------+---------------------+-------+\n",
            "[1 rows x 3 columns]\n",
            "\n",
            "\n",
            "Per Item RMSE (worst)\n",
            "+------------+--------------------+-------+\n",
            "| article_id |        rmse        | count |\n",
            "+------------+--------------------+-------+\n",
            "| 561445005  | 23.560442365211323 |   10  |\n",
            "+------------+--------------------+-------+\n",
            "[1 rows x 3 columns]\n",
            "\n",
            "PROGRESS: Evaluate model Filttering model with Purchase count\n",
            "\n",
            "Precision and recall summary statistics by cutoff\n",
            "+--------+----------------------+---------------------+\n",
            "| cutoff |    mean_precision    |     mean_recall     |\n",
            "+--------+----------------------+---------------------+\n",
            "|   1    | 0.11126760563380288  | 0.06914486921529175 |\n",
            "|   2    | 0.08309859154929579  | 0.09912139503688801 |\n",
            "|   3    | 0.07230046948356811  |  0.1270690811535882 |\n",
            "|   4    | 0.06443661971830986  | 0.14927565392354117 |\n",
            "|   5    | 0.05859154929577464  | 0.16580482897384308 |\n",
            "|   6    | 0.053286384976525804 | 0.18223675385647214 |\n",
            "|   7    | 0.04849094567404426  | 0.19452716297786715 |\n",
            "|   8    | 0.04454225352112675  |  0.2030751173708919 |\n",
            "|   9    | 0.042253521126760535 | 0.21865191146881277 |\n",
            "|   10   | 0.04056338028169015  | 0.23305499664654594 |\n",
            "+--------+----------------------+---------------------+\n",
            "[10 rows x 3 columns]\n",
            "\n",
            "\n",
            "Overall RMSE: 6.470807989928055\n",
            "\n",
            "Per User RMSE (best)\n",
            "+-------------------------------+--------------------+-------+\n",
            "|          customer_id          |        rmse        | count |\n",
            "+-------------------------------+--------------------+-------+\n",
            "| 2f8a0b24cc2e69082ba92ac83f... | 0.3262169361114502 |   1   |\n",
            "+-------------------------------+--------------------+-------+\n",
            "[1 rows x 3 columns]\n",
            "\n",
            "\n",
            "Per User RMSE (worst)\n",
            "+-------------------------------+-------------------+-------+\n",
            "|          customer_id          |        rmse       | count |\n",
            "+-------------------------------+-------------------+-------+\n",
            "| f29ceb51b850338601136bcc6c... | 72.99950700879097 |   1   |\n",
            "+-------------------------------+-------------------+-------+\n",
            "[1 rows x 3 columns]\n",
            "\n",
            "\n",
            "Per Item RMSE (best)\n",
            "+------------+--------------------+-------+\n",
            "| article_id |        rmse        | count |\n",
            "+------------+--------------------+-------+\n",
            "| 399087014  | 0.8949891118545986 |   3   |\n",
            "+------------+--------------------+-------+\n",
            "[1 rows x 3 columns]\n",
            "\n",
            "\n",
            "Per Item RMSE (worst)\n",
            "+------------+--------------------+-------+\n",
            "| article_id |        rmse        | count |\n",
            "+------------+--------------------+-------+\n",
            "| 561445005  | 29.320681556215728 |   10  |\n",
            "+------------+--------------------+-------+\n",
            "[1 rows x 3 columns]\n",
            "\n"
          ]
        }
      ]
    },
    {
      "cell_type": "code",
      "source": [
        "models = [pop_norm_model, count_pears_norm]\n",
        "names = [\"Baseline Purchase normalization model\", \"Filttering model with Purchase normalization\"]"
      ],
      "metadata": {
        "id": "R9j1C1Ehrqku"
      },
      "execution_count": 184,
      "outputs": []
    },
    {
      "cell_type": "code",
      "source": [
        "eval_counts = tc.recommender.util.compare_models(test_data_norm, models, model_names=names)"
      ],
      "metadata": {
        "colab": {
          "base_uri": "https://localhost:8080/"
        },
        "id": "lk5UDKaTuAH2",
        "outputId": "4fe7df05-2524-4996-a103-1a93147fe9c1"
      },
      "execution_count": 185,
      "outputs": [
        {
          "output_type": "stream",
          "name": "stdout",
          "text": [
            "PROGRESS: Evaluate model Baseline Purchase normalization model\n",
            "\n",
            "Precision and recall summary statistics by cutoff\n",
            "+--------+-----------------------+-----------------------+\n",
            "| cutoff |     mean_precision    |      mean_recall      |\n",
            "+--------+-----------------------+-----------------------+\n",
            "|   1    | 0.0025348542458808617 | 0.0016899028305872414 |\n",
            "|   2    |  0.008871989860583018 |  0.009442332065906212 |\n",
            "|   3    |  0.008449514152936207 |  0.012970004224757083 |\n",
            "|   4    | 0.0076045627376425855 |  0.01438529784537389  |\n",
            "|   5    |  0.008111533586818763 |  0.01854668356569497  |\n",
            "|   6    |  0.008027038445289403 |  0.02072243346007605  |\n",
            "|   7    |  0.009053050878145941 |  0.02877059569074778  |\n",
            "|   8    |  0.009980988593155894 |  0.036375158428390356 |\n",
            "|   9    |  0.009857766511758896 |  0.040536544148711454 |\n",
            "|   10   |  0.009505703422053225 |   0.0456062526404732  |\n",
            "+--------+-----------------------+-----------------------+\n",
            "[10 rows x 3 columns]\n",
            "\n",
            "\n",
            "Overall RMSE: 0.22101851442647\n",
            "\n",
            "Per User RMSE (best)\n",
            "+-------------------------------+-----------------------+-------+\n",
            "|          customer_id          |          rmse         | count |\n",
            "+-------------------------------+-----------------------+-------+\n",
            "| 49387903e1f9dcc5783829d0a9... | 0.0007233273056058143 |   1   |\n",
            "+-------------------------------+-----------------------+-------+\n",
            "[1 rows x 3 columns]\n",
            "\n",
            "\n",
            "Per User RMSE (worst)\n",
            "+-------------------------------+--------------------+-------+\n",
            "|          customer_id          |        rmse        | count |\n",
            "+-------------------------------+--------------------+-------+\n",
            "| d32c7df44416d5711b3579ddbb... | 0.9655172413793104 |   1   |\n",
            "+-------------------------------+--------------------+-------+\n",
            "[1 rows x 3 columns]\n",
            "\n",
            "\n",
            "Per Item RMSE (best)\n",
            "+------------+----------------------+-------+\n",
            "| article_id |         rmse         | count |\n",
            "+------------+----------------------+-------+\n",
            "| 538699001  | 0.012121212121212144 |   1   |\n",
            "+------------+----------------------+-------+\n",
            "[1 rows x 3 columns]\n",
            "\n",
            "\n",
            "Per Item RMSE (worst)\n",
            "+------------+-------------------+-------+\n",
            "| article_id |        rmse       | count |\n",
            "+------------+-------------------+-------+\n",
            "| 783346018  | 0.611111111111111 |   2   |\n",
            "+------------+-------------------+-------+\n",
            "[1 rows x 3 columns]\n",
            "\n",
            "PROGRESS: Evaluate model Filttering model with Purchase normalization\n",
            "\n",
            "Precision and recall summary statistics by cutoff\n",
            "+--------+-----------------------+-----------------------+\n",
            "| cutoff |     mean_precision    |      mean_recall      |\n",
            "+--------+-----------------------+-----------------------+\n",
            "|   1    | 0.0025348542458808617 | 0.0016899028305872412 |\n",
            "|   2    |  0.008871989860583018 |  0.00944233206590621  |\n",
            "|   3    |  0.008449514152936207 |  0.012970004224757078 |\n",
            "|   4    |  0.007604562737642588 |  0.014385297845373896 |\n",
            "|   5    |  0.007858048162230673 |  0.01822982678495986  |\n",
            "|   6    |  0.008027038445289406 |  0.020722433460076056 |\n",
            "|   7    |  0.00941517291327178  |  0.029721166032953092 |\n",
            "|   8    |  0.009980988593155894 |  0.035635825940008435 |\n",
            "|   9    |  0.010280242219405706 |  0.042754541613857215 |\n",
            "|   10   |  0.009885931558935357 |  0.04782425010561892  |\n",
            "+--------+-----------------------+-----------------------+\n",
            "[10 rows x 3 columns]\n",
            "\n",
            "\n",
            "Overall RMSE: 0.21983528856525542\n",
            "\n",
            "Per User RMSE (best)\n",
            "+-------------------------------+-----------------------+-------+\n",
            "|          customer_id          |          rmse         | count |\n",
            "+-------------------------------+-----------------------+-------+\n",
            "| 49387903e1f9dcc5783829d0a9... | 0.0005138575103787735 |   1   |\n",
            "+-------------------------------+-----------------------+-------+\n",
            "[1 rows x 3 columns]\n",
            "\n",
            "\n",
            "Per User RMSE (worst)\n",
            "+-------------------------------+-------------------+-------+\n",
            "|          customer_id          |        rmse       | count |\n",
            "+-------------------------------+-------------------+-------+\n",
            "| d32c7df44416d5711b3579ddbb... | 0.965789873024513 |   1   |\n",
            "+-------------------------------+-------------------+-------+\n",
            "[1 rows x 3 columns]\n",
            "\n",
            "\n",
            "Per Item RMSE (best)\n",
            "+------------+----------------------+-------+\n",
            "| article_id |         rmse         | count |\n",
            "+------------+----------------------+-------+\n",
            "| 538699001  | 0.011031603451931105 |   1   |\n",
            "+------------+----------------------+-------+\n",
            "[1 rows x 3 columns]\n",
            "\n",
            "\n",
            "Per Item RMSE (worst)\n",
            "+------------+--------------------+-------+\n",
            "| article_id |        rmse        | count |\n",
            "+------------+--------------------+-------+\n",
            "| 783346018  | 0.6094953797333218 |   2   |\n",
            "+------------+--------------------+-------+\n",
            "[1 rows x 3 columns]\n",
            "\n"
          ]
        }
      ]
    },
    {
      "cell_type": "markdown",
      "source": [
        "According to RMSE we should choose the last evaluated model: normalized purchases according to cosine similarity. However, we have very bad precision and recall"
      ],
      "metadata": {
        "id": "_Haf9fzJvSvu"
      }
    },
    {
      "cell_type": "code",
      "source": [],
      "metadata": {
        "id": "_ruhOnaK5C5P"
      },
      "execution_count": null,
      "outputs": []
    },
    {
      "cell_type": "markdown",
      "source": [
        "### Prediction"
      ],
      "metadata": {
        "id": "TTzPLLMX5Dh7"
      }
    },
    {
      "cell_type": "code",
      "source": [
        "users_to_recommend = list(customers[user_id])\n",
        "n_rec = 12\n",
        "\n",
        "final_model = tc.item_similarity_recommender.create(tc.SFrame(data_norm), \n",
        "                                            user_id=user_id, \n",
        "                                            item_id=item_id, \n",
        "                                            target='scaled_purchase_freq', \n",
        "                                            similarity_type='cosine')\n",
        "\n",
        "recom = final_model.recommend(users=users_to_recommend, k=n_rec)\n",
        "recom.print_rows(n_display)"
      ],
      "metadata": {
        "colab": {
          "base_uri": "https://localhost:8080/",
          "height": 1000
        },
        "id": "8I4LIQZC5Kdx",
        "outputId": "6e07f273-1fd6-43c1-e6b6-b27ad7e4efca"
      },
      "execution_count": 189,
      "outputs": [
        {
          "output_type": "display_data",
          "data": {
            "text/plain": [
              "Preparing data set."
            ],
            "text/html": [
              "<pre>Preparing data set.</pre>"
            ]
          },
          "metadata": {}
        },
        {
          "output_type": "display_data",
          "data": {
            "text/plain": [
              "    Data has 8025 observations with 1255 users and 200 items."
            ],
            "text/html": [
              "<pre>    Data has 8025 observations with 1255 users and 200 items.</pre>"
            ]
          },
          "metadata": {}
        },
        {
          "output_type": "display_data",
          "data": {
            "text/plain": [
              "    Data prepared in: 0.028586s"
            ],
            "text/html": [
              "<pre>    Data prepared in: 0.028586s</pre>"
            ]
          },
          "metadata": {}
        },
        {
          "output_type": "display_data",
          "data": {
            "text/plain": [
              "Training model from provided data."
            ],
            "text/html": [
              "<pre>Training model from provided data.</pre>"
            ]
          },
          "metadata": {}
        },
        {
          "output_type": "display_data",
          "data": {
            "text/plain": [
              "Gathering per-item and per-user statistics."
            ],
            "text/html": [
              "<pre>Gathering per-item and per-user statistics.</pre>"
            ]
          },
          "metadata": {}
        },
        {
          "output_type": "display_data",
          "data": {
            "text/plain": [
              "+--------------------------------+------------+"
            ],
            "text/html": [
              "<pre>+--------------------------------+------------+</pre>"
            ]
          },
          "metadata": {}
        },
        {
          "output_type": "display_data",
          "data": {
            "text/plain": [
              "| Elapsed Time (Item Statistics) | % Complete |"
            ],
            "text/html": [
              "<pre>| Elapsed Time (Item Statistics) | % Complete |</pre>"
            ]
          },
          "metadata": {}
        },
        {
          "output_type": "display_data",
          "data": {
            "text/plain": [
              "+--------------------------------+------------+"
            ],
            "text/html": [
              "<pre>+--------------------------------+------------+</pre>"
            ]
          },
          "metadata": {}
        },
        {
          "output_type": "display_data",
          "data": {
            "text/plain": [
              "| 1.058ms                        | 79.5       |"
            ],
            "text/html": [
              "<pre>| 1.058ms                        | 79.5       |</pre>"
            ]
          },
          "metadata": {}
        },
        {
          "output_type": "display_data",
          "data": {
            "text/plain": [
              "| 1.22ms                         | 100        |"
            ],
            "text/html": [
              "<pre>| 1.22ms                         | 100        |</pre>"
            ]
          },
          "metadata": {}
        },
        {
          "output_type": "display_data",
          "data": {
            "text/plain": [
              "+--------------------------------+------------+"
            ],
            "text/html": [
              "<pre>+--------------------------------+------------+</pre>"
            ]
          },
          "metadata": {}
        },
        {
          "output_type": "display_data",
          "data": {
            "text/plain": [
              "Setting up lookup tables."
            ],
            "text/html": [
              "<pre>Setting up lookup tables.</pre>"
            ]
          },
          "metadata": {}
        },
        {
          "output_type": "display_data",
          "data": {
            "text/plain": [
              "Processing data in one pass using dense lookup tables."
            ],
            "text/html": [
              "<pre>Processing data in one pass using dense lookup tables.</pre>"
            ]
          },
          "metadata": {}
        },
        {
          "output_type": "display_data",
          "data": {
            "text/plain": [
              "+-------------------------------------+------------------+-----------------+"
            ],
            "text/html": [
              "<pre>+-------------------------------------+------------------+-----------------+</pre>"
            ]
          },
          "metadata": {}
        },
        {
          "output_type": "display_data",
          "data": {
            "text/plain": [
              "| Elapsed Time (Constructing Lookups) | Total % Complete | Items Processed |"
            ],
            "text/html": [
              "<pre>| Elapsed Time (Constructing Lookups) | Total % Complete | Items Processed |</pre>"
            ]
          },
          "metadata": {}
        },
        {
          "output_type": "display_data",
          "data": {
            "text/plain": [
              "+-------------------------------------+------------------+-----------------+"
            ],
            "text/html": [
              "<pre>+-------------------------------------+------------------+-----------------+</pre>"
            ]
          },
          "metadata": {}
        },
        {
          "output_type": "display_data",
          "data": {
            "text/plain": [
              "| 1.552ms                             | 0.5              | 1               |"
            ],
            "text/html": [
              "<pre>| 1.552ms                             | 0.5              | 1               |</pre>"
            ]
          },
          "metadata": {}
        },
        {
          "output_type": "display_data",
          "data": {
            "text/plain": [
              "| 5.711ms                             | 100              | 200             |"
            ],
            "text/html": [
              "<pre>| 5.711ms                             | 100              | 200             |</pre>"
            ]
          },
          "metadata": {}
        },
        {
          "output_type": "display_data",
          "data": {
            "text/plain": [
              "+-------------------------------------+------------------+-----------------+"
            ],
            "text/html": [
              "<pre>+-------------------------------------+------------------+-----------------+</pre>"
            ]
          },
          "metadata": {}
        },
        {
          "output_type": "display_data",
          "data": {
            "text/plain": [
              "Finalizing lookup tables."
            ],
            "text/html": [
              "<pre>Finalizing lookup tables.</pre>"
            ]
          },
          "metadata": {}
        },
        {
          "output_type": "display_data",
          "data": {
            "text/plain": [
              "Generating candidate set for working with new users."
            ],
            "text/html": [
              "<pre>Generating candidate set for working with new users.</pre>"
            ]
          },
          "metadata": {}
        },
        {
          "output_type": "display_data",
          "data": {
            "text/plain": [
              "Finished training in 0.011668s"
            ],
            "text/html": [
              "<pre>Finished training in 0.011668s</pre>"
            ]
          },
          "metadata": {}
        },
        {
          "output_type": "display_data",
          "data": {
            "text/plain": [
              "recommendations finished on 1000/1371980 queries. users per second: 73621.4"
            ],
            "text/html": [
              "<pre>recommendations finished on 1000/1371980 queries. users per second: 73621.4</pre>"
            ]
          },
          "metadata": {}
        },
        {
          "output_type": "display_data",
          "data": {
            "text/plain": [
              "recommendations finished on 2000/1371980 queries. users per second: 64139.6"
            ],
            "text/html": [
              "<pre>recommendations finished on 2000/1371980 queries. users per second: 64139.6</pre>"
            ]
          },
          "metadata": {}
        },
        {
          "output_type": "display_data",
          "data": {
            "text/plain": [
              "recommendations finished on 3000/1371980 queries. users per second: 61855.7"
            ],
            "text/html": [
              "<pre>recommendations finished on 3000/1371980 queries. users per second: 61855.7</pre>"
            ]
          },
          "metadata": {}
        },
        {
          "output_type": "display_data",
          "data": {
            "text/plain": [
              "recommendations finished on 4000/1371980 queries. users per second: 61292.3"
            ],
            "text/html": [
              "<pre>recommendations finished on 4000/1371980 queries. users per second: 61292.3</pre>"
            ]
          },
          "metadata": {}
        },
        {
          "output_type": "display_data",
          "data": {
            "text/plain": [
              "recommendations finished on 5000/1371980 queries. users per second: 59781.4"
            ],
            "text/html": [
              "<pre>recommendations finished on 5000/1371980 queries. users per second: 59781.4</pre>"
            ]
          },
          "metadata": {}
        },
        {
          "output_type": "display_data",
          "data": {
            "text/plain": [
              "recommendations finished on 6000/1371980 queries. users per second: 60190.2"
            ],
            "text/html": [
              "<pre>recommendations finished on 6000/1371980 queries. users per second: 60190.2</pre>"
            ]
          },
          "metadata": {}
        },
        {
          "output_type": "display_data",
          "data": {
            "text/plain": [
              "recommendations finished on 7000/1371980 queries. users per second: 59106.6"
            ],
            "text/html": [
              "<pre>recommendations finished on 7000/1371980 queries. users per second: 59106.6</pre>"
            ]
          },
          "metadata": {}
        },
        {
          "output_type": "display_data",
          "data": {
            "text/plain": [
              "recommendations finished on 8000/1371980 queries. users per second: 58771.2"
            ],
            "text/html": [
              "<pre>recommendations finished on 8000/1371980 queries. users per second: 58771.2</pre>"
            ]
          },
          "metadata": {}
        },
        {
          "output_type": "display_data",
          "data": {
            "text/plain": [
              "recommendations finished on 9000/1371980 queries. users per second: 59223.4"
            ],
            "text/html": [
              "<pre>recommendations finished on 9000/1371980 queries. users per second: 59223.4</pre>"
            ]
          },
          "metadata": {}
        },
        {
          "output_type": "display_data",
          "data": {
            "text/plain": [
              "recommendations finished on 10000/1371980 queries. users per second: 59102"
            ],
            "text/html": [
              "<pre>recommendations finished on 10000/1371980 queries. users per second: 59102</pre>"
            ]
          },
          "metadata": {}
        },
        {
          "output_type": "display_data",
          "data": {
            "text/plain": [
              "recommendations finished on 11000/1371980 queries. users per second: 59309.7"
            ],
            "text/html": [
              "<pre>recommendations finished on 11000/1371980 queries. users per second: 59309.7</pre>"
            ]
          },
          "metadata": {}
        },
        {
          "output_type": "display_data",
          "data": {
            "text/plain": [
              "recommendations finished on 12000/1371980 queries. users per second: 59233.5"
            ],
            "text/html": [
              "<pre>recommendations finished on 12000/1371980 queries. users per second: 59233.5</pre>"
            ]
          },
          "metadata": {}
        },
        {
          "output_type": "display_data",
          "data": {
            "text/plain": [
              "recommendations finished on 13000/1371980 queries. users per second: 59104.1"
            ],
            "text/html": [
              "<pre>recommendations finished on 13000/1371980 queries. users per second: 59104.1</pre>"
            ]
          },
          "metadata": {}
        },
        {
          "output_type": "display_data",
          "data": {
            "text/plain": [
              "recommendations finished on 14000/1371980 queries. users per second: 59075.2"
            ],
            "text/html": [
              "<pre>recommendations finished on 14000/1371980 queries. users per second: 59075.2</pre>"
            ]
          },
          "metadata": {}
        },
        {
          "output_type": "display_data",
          "data": {
            "text/plain": [
              "recommendations finished on 15000/1371980 queries. users per second: 58850.3"
            ],
            "text/html": [
              "<pre>recommendations finished on 15000/1371980 queries. users per second: 58850.3</pre>"
            ]
          },
          "metadata": {}
        },
        {
          "output_type": "display_data",
          "data": {
            "text/plain": [
              "recommendations finished on 16000/1371980 queries. users per second: 57808.5"
            ],
            "text/html": [
              "<pre>recommendations finished on 16000/1371980 queries. users per second: 57808.5</pre>"
            ]
          },
          "metadata": {}
        },
        {
          "output_type": "display_data",
          "data": {
            "text/plain": [
              "recommendations finished on 17000/1371980 queries. users per second: 56699.4"
            ],
            "text/html": [
              "<pre>recommendations finished on 17000/1371980 queries. users per second: 56699.4</pre>"
            ]
          },
          "metadata": {}
        },
        {
          "output_type": "display_data",
          "data": {
            "text/plain": [
              "recommendations finished on 18000/1371980 queries. users per second: 56729"
            ],
            "text/html": [
              "<pre>recommendations finished on 18000/1371980 queries. users per second: 56729</pre>"
            ]
          },
          "metadata": {}
        },
        {
          "output_type": "display_data",
          "data": {
            "text/plain": [
              "recommendations finished on 19000/1371980 queries. users per second: 57012.5"
            ],
            "text/html": [
              "<pre>recommendations finished on 19000/1371980 queries. users per second: 57012.5</pre>"
            ]
          },
          "metadata": {}
        },
        {
          "output_type": "display_data",
          "data": {
            "text/plain": [
              "recommendations finished on 20000/1371980 queries. users per second: 57003.3"
            ],
            "text/html": [
              "<pre>recommendations finished on 20000/1371980 queries. users per second: 57003.3</pre>"
            ]
          },
          "metadata": {}
        },
        {
          "output_type": "display_data",
          "data": {
            "text/plain": [
              "recommendations finished on 21000/1371980 queries. users per second: 57022.1"
            ],
            "text/html": [
              "<pre>recommendations finished on 21000/1371980 queries. users per second: 57022.1</pre>"
            ]
          },
          "metadata": {}
        },
        {
          "output_type": "display_data",
          "data": {
            "text/plain": [
              "recommendations finished on 22000/1371980 queries. users per second: 57336.6"
            ],
            "text/html": [
              "<pre>recommendations finished on 22000/1371980 queries. users per second: 57336.6</pre>"
            ]
          },
          "metadata": {}
        },
        {
          "output_type": "display_data",
          "data": {
            "text/plain": [
              "recommendations finished on 23000/1371980 queries. users per second: 57046.3"
            ],
            "text/html": [
              "<pre>recommendations finished on 23000/1371980 queries. users per second: 57046.3</pre>"
            ]
          },
          "metadata": {}
        },
        {
          "output_type": "display_data",
          "data": {
            "text/plain": [
              "recommendations finished on 24000/1371980 queries. users per second: 57325.8"
            ],
            "text/html": [
              "<pre>recommendations finished on 24000/1371980 queries. users per second: 57325.8</pre>"
            ]
          },
          "metadata": {}
        },
        {
          "output_type": "display_data",
          "data": {
            "text/plain": [
              "recommendations finished on 25000/1371980 queries. users per second: 56711.3"
            ],
            "text/html": [
              "<pre>recommendations finished on 25000/1371980 queries. users per second: 56711.3</pre>"
            ]
          },
          "metadata": {}
        },
        {
          "output_type": "display_data",
          "data": {
            "text/plain": [
              "recommendations finished on 26000/1371980 queries. users per second: 56887.6"
            ],
            "text/html": [
              "<pre>recommendations finished on 26000/1371980 queries. users per second: 56887.6</pre>"
            ]
          },
          "metadata": {}
        },
        {
          "output_type": "display_data",
          "data": {
            "text/plain": [
              "recommendations finished on 27000/1371980 queries. users per second: 56538.7"
            ],
            "text/html": [
              "<pre>recommendations finished on 27000/1371980 queries. users per second: 56538.7</pre>"
            ]
          },
          "metadata": {}
        },
        {
          "output_type": "display_data",
          "data": {
            "text/plain": [
              "recommendations finished on 28000/1371980 queries. users per second: 56606.3"
            ],
            "text/html": [
              "<pre>recommendations finished on 28000/1371980 queries. users per second: 56606.3</pre>"
            ]
          },
          "metadata": {}
        },
        {
          "output_type": "display_data",
          "data": {
            "text/plain": [
              "recommendations finished on 29000/1371980 queries. users per second: 56576.2"
            ],
            "text/html": [
              "<pre>recommendations finished on 29000/1371980 queries. users per second: 56576.2</pre>"
            ]
          },
          "metadata": {}
        },
        {
          "output_type": "display_data",
          "data": {
            "text/plain": [
              "recommendations finished on 30000/1371980 queries. users per second: 56672.1"
            ],
            "text/html": [
              "<pre>recommendations finished on 30000/1371980 queries. users per second: 56672.1</pre>"
            ]
          },
          "metadata": {}
        },
        {
          "output_type": "display_data",
          "data": {
            "text/plain": [
              "recommendations finished on 31000/1371980 queries. users per second: 56752"
            ],
            "text/html": [
              "<pre>recommendations finished on 31000/1371980 queries. users per second: 56752</pre>"
            ]
          },
          "metadata": {}
        },
        {
          "output_type": "display_data",
          "data": {
            "text/plain": [
              "recommendations finished on 32000/1371980 queries. users per second: 56846.4"
            ],
            "text/html": [
              "<pre>recommendations finished on 32000/1371980 queries. users per second: 56846.4</pre>"
            ]
          },
          "metadata": {}
        },
        {
          "output_type": "display_data",
          "data": {
            "text/plain": [
              "recommendations finished on 33000/1371980 queries. users per second: 56820.9"
            ],
            "text/html": [
              "<pre>recommendations finished on 33000/1371980 queries. users per second: 56820.9</pre>"
            ]
          },
          "metadata": {}
        },
        {
          "output_type": "display_data",
          "data": {
            "text/plain": [
              "recommendations finished on 34000/1371980 queries. users per second: 56973.9"
            ],
            "text/html": [
              "<pre>recommendations finished on 34000/1371980 queries. users per second: 56973.9</pre>"
            ]
          },
          "metadata": {}
        },
        {
          "output_type": "display_data",
          "data": {
            "text/plain": [
              "recommendations finished on 35000/1371980 queries. users per second: 56285.6"
            ],
            "text/html": [
              "<pre>recommendations finished on 35000/1371980 queries. users per second: 56285.6</pre>"
            ]
          },
          "metadata": {}
        },
        {
          "output_type": "display_data",
          "data": {
            "text/plain": [
              "recommendations finished on 36000/1371980 queries. users per second: 56374.5"
            ],
            "text/html": [
              "<pre>recommendations finished on 36000/1371980 queries. users per second: 56374.5</pre>"
            ]
          },
          "metadata": {}
        },
        {
          "output_type": "display_data",
          "data": {
            "text/plain": [
              "recommendations finished on 37000/1371980 queries. users per second: 56505"
            ],
            "text/html": [
              "<pre>recommendations finished on 37000/1371980 queries. users per second: 56505</pre>"
            ]
          },
          "metadata": {}
        },
        {
          "output_type": "display_data",
          "data": {
            "text/plain": [
              "recommendations finished on 38000/1371980 queries. users per second: 56503.7"
            ],
            "text/html": [
              "<pre>recommendations finished on 38000/1371980 queries. users per second: 56503.7</pre>"
            ]
          },
          "metadata": {}
        },
        {
          "output_type": "display_data",
          "data": {
            "text/plain": [
              "recommendations finished on 39000/1371980 queries. users per second: 56634.8"
            ],
            "text/html": [
              "<pre>recommendations finished on 39000/1371980 queries. users per second: 56634.8</pre>"
            ]
          },
          "metadata": {}
        },
        {
          "output_type": "display_data",
          "data": {
            "text/plain": [
              "recommendations finished on 40000/1371980 queries. users per second: 56265.8"
            ],
            "text/html": [
              "<pre>recommendations finished on 40000/1371980 queries. users per second: 56265.8</pre>"
            ]
          },
          "metadata": {}
        },
        {
          "output_type": "display_data",
          "data": {
            "text/plain": [
              "recommendations finished on 41000/1371980 queries. users per second: 56097.8"
            ],
            "text/html": [
              "<pre>recommendations finished on 41000/1371980 queries. users per second: 56097.8</pre>"
            ]
          },
          "metadata": {}
        },
        {
          "output_type": "display_data",
          "data": {
            "text/plain": [
              "recommendations finished on 42000/1371980 queries. users per second: 55963.7"
            ],
            "text/html": [
              "<pre>recommendations finished on 42000/1371980 queries. users per second: 55963.7</pre>"
            ]
          },
          "metadata": {}
        },
        {
          "output_type": "display_data",
          "data": {
            "text/plain": [
              "recommendations finished on 43000/1371980 queries. users per second: 55952.6"
            ],
            "text/html": [
              "<pre>recommendations finished on 43000/1371980 queries. users per second: 55952.6</pre>"
            ]
          },
          "metadata": {}
        },
        {
          "output_type": "display_data",
          "data": {
            "text/plain": [
              "recommendations finished on 44000/1371980 queries. users per second: 55959.6"
            ],
            "text/html": [
              "<pre>recommendations finished on 44000/1371980 queries. users per second: 55959.6</pre>"
            ]
          },
          "metadata": {}
        },
        {
          "output_type": "display_data",
          "data": {
            "text/plain": [
              "recommendations finished on 45000/1371980 queries. users per second: 56117.6"
            ],
            "text/html": [
              "<pre>recommendations finished on 45000/1371980 queries. users per second: 56117.6</pre>"
            ]
          },
          "metadata": {}
        },
        {
          "output_type": "display_data",
          "data": {
            "text/plain": [
              "recommendations finished on 46000/1371980 queries. users per second: 56069.7"
            ],
            "text/html": [
              "<pre>recommendations finished on 46000/1371980 queries. users per second: 56069.7</pre>"
            ]
          },
          "metadata": {}
        },
        {
          "output_type": "display_data",
          "data": {
            "text/plain": [
              "recommendations finished on 47000/1371980 queries. users per second: 56219.9"
            ],
            "text/html": [
              "<pre>recommendations finished on 47000/1371980 queries. users per second: 56219.9</pre>"
            ]
          },
          "metadata": {}
        },
        {
          "output_type": "display_data",
          "data": {
            "text/plain": [
              "recommendations finished on 48000/1371980 queries. users per second: 56343.3"
            ],
            "text/html": [
              "<pre>recommendations finished on 48000/1371980 queries. users per second: 56343.3</pre>"
            ]
          },
          "metadata": {}
        },
        {
          "output_type": "display_data",
          "data": {
            "text/plain": [
              "recommendations finished on 49000/1371980 queries. users per second: 56102.3"
            ],
            "text/html": [
              "<pre>recommendations finished on 49000/1371980 queries. users per second: 56102.3</pre>"
            ]
          },
          "metadata": {}
        },
        {
          "output_type": "display_data",
          "data": {
            "text/plain": [
              "recommendations finished on 50000/1371980 queries. users per second: 56122"
            ],
            "text/html": [
              "<pre>recommendations finished on 50000/1371980 queries. users per second: 56122</pre>"
            ]
          },
          "metadata": {}
        },
        {
          "output_type": "display_data",
          "data": {
            "text/plain": [
              "recommendations finished on 51000/1371980 queries. users per second: 55959.2"
            ],
            "text/html": [
              "<pre>recommendations finished on 51000/1371980 queries. users per second: 55959.2</pre>"
            ]
          },
          "metadata": {}
        },
        {
          "output_type": "display_data",
          "data": {
            "text/plain": [
              "recommendations finished on 52000/1371980 queries. users per second: 56073.9"
            ],
            "text/html": [
              "<pre>recommendations finished on 52000/1371980 queries. users per second: 56073.9</pre>"
            ]
          },
          "metadata": {}
        },
        {
          "output_type": "display_data",
          "data": {
            "text/plain": [
              "recommendations finished on 53000/1371980 queries. users per second: 55973.4"
            ],
            "text/html": [
              "<pre>recommendations finished on 53000/1371980 queries. users per second: 55973.4</pre>"
            ]
          },
          "metadata": {}
        },
        {
          "output_type": "display_data",
          "data": {
            "text/plain": [
              "recommendations finished on 54000/1371980 queries. users per second: 56083.7"
            ],
            "text/html": [
              "<pre>recommendations finished on 54000/1371980 queries. users per second: 56083.7</pre>"
            ]
          },
          "metadata": {}
        },
        {
          "output_type": "display_data",
          "data": {
            "text/plain": [
              "recommendations finished on 55000/1371980 queries. users per second: 56057.1"
            ],
            "text/html": [
              "<pre>recommendations finished on 55000/1371980 queries. users per second: 56057.1</pre>"
            ]
          },
          "metadata": {}
        },
        {
          "output_type": "display_data",
          "data": {
            "text/plain": [
              "recommendations finished on 56000/1371980 queries. users per second: 55807.2"
            ],
            "text/html": [
              "<pre>recommendations finished on 56000/1371980 queries. users per second: 55807.2</pre>"
            ]
          },
          "metadata": {}
        },
        {
          "output_type": "display_data",
          "data": {
            "text/plain": [
              "recommendations finished on 57000/1371980 queries. users per second: 55851.3"
            ],
            "text/html": [
              "<pre>recommendations finished on 57000/1371980 queries. users per second: 55851.3</pre>"
            ]
          },
          "metadata": {}
        },
        {
          "output_type": "display_data",
          "data": {
            "text/plain": [
              "recommendations finished on 58000/1371980 queries. users per second: 55923.1"
            ],
            "text/html": [
              "<pre>recommendations finished on 58000/1371980 queries. users per second: 55923.1</pre>"
            ]
          },
          "metadata": {}
        },
        {
          "output_type": "display_data",
          "data": {
            "text/plain": [
              "recommendations finished on 59000/1371980 queries. users per second: 55964.2"
            ],
            "text/html": [
              "<pre>recommendations finished on 59000/1371980 queries. users per second: 55964.2</pre>"
            ]
          },
          "metadata": {}
        },
        {
          "output_type": "display_data",
          "data": {
            "text/plain": [
              "recommendations finished on 60000/1371980 queries. users per second: 56019"
            ],
            "text/html": [
              "<pre>recommendations finished on 60000/1371980 queries. users per second: 56019</pre>"
            ]
          },
          "metadata": {}
        },
        {
          "output_type": "display_data",
          "data": {
            "text/plain": [
              "recommendations finished on 61000/1371980 queries. users per second: 56150.7"
            ],
            "text/html": [
              "<pre>recommendations finished on 61000/1371980 queries. users per second: 56150.7</pre>"
            ]
          },
          "metadata": {}
        },
        {
          "output_type": "display_data",
          "data": {
            "text/plain": [
              "recommendations finished on 62000/1371980 queries. users per second: 56083.3"
            ],
            "text/html": [
              "<pre>recommendations finished on 62000/1371980 queries. users per second: 56083.3</pre>"
            ]
          },
          "metadata": {}
        },
        {
          "output_type": "display_data",
          "data": {
            "text/plain": [
              "recommendations finished on 63000/1371980 queries. users per second: 56095.3"
            ],
            "text/html": [
              "<pre>recommendations finished on 63000/1371980 queries. users per second: 56095.3</pre>"
            ]
          },
          "metadata": {}
        },
        {
          "output_type": "display_data",
          "data": {
            "text/plain": [
              "recommendations finished on 64000/1371980 queries. users per second: 56160.9"
            ],
            "text/html": [
              "<pre>recommendations finished on 64000/1371980 queries. users per second: 56160.9</pre>"
            ]
          },
          "metadata": {}
        },
        {
          "output_type": "display_data",
          "data": {
            "text/plain": [
              "recommendations finished on 65000/1371980 queries. users per second: 56174.4"
            ],
            "text/html": [
              "<pre>recommendations finished on 65000/1371980 queries. users per second: 56174.4</pre>"
            ]
          },
          "metadata": {}
        },
        {
          "output_type": "display_data",
          "data": {
            "text/plain": [
              "recommendations finished on 66000/1371980 queries. users per second: 56237.3"
            ],
            "text/html": [
              "<pre>recommendations finished on 66000/1371980 queries. users per second: 56237.3</pre>"
            ]
          },
          "metadata": {}
        },
        {
          "output_type": "display_data",
          "data": {
            "text/plain": [
              "recommendations finished on 67000/1371980 queries. users per second: 56322.9"
            ],
            "text/html": [
              "<pre>recommendations finished on 67000/1371980 queries. users per second: 56322.9</pre>"
            ]
          },
          "metadata": {}
        },
        {
          "output_type": "display_data",
          "data": {
            "text/plain": [
              "recommendations finished on 68000/1371980 queries. users per second: 56293.3"
            ],
            "text/html": [
              "<pre>recommendations finished on 68000/1371980 queries. users per second: 56293.3</pre>"
            ]
          },
          "metadata": {}
        },
        {
          "output_type": "display_data",
          "data": {
            "text/plain": [
              "recommendations finished on 69000/1371980 queries. users per second: 56329.3"
            ],
            "text/html": [
              "<pre>recommendations finished on 69000/1371980 queries. users per second: 56329.3</pre>"
            ]
          },
          "metadata": {}
        },
        {
          "output_type": "display_data",
          "data": {
            "text/plain": [
              "recommendations finished on 70000/1371980 queries. users per second: 56235.7"
            ],
            "text/html": [
              "<pre>recommendations finished on 70000/1371980 queries. users per second: 56235.7</pre>"
            ]
          },
          "metadata": {}
        },
        {
          "output_type": "display_data",
          "data": {
            "text/plain": [
              "recommendations finished on 71000/1371980 queries. users per second: 56294.8"
            ],
            "text/html": [
              "<pre>recommendations finished on 71000/1371980 queries. users per second: 56294.8</pre>"
            ]
          },
          "metadata": {}
        },
        {
          "output_type": "display_data",
          "data": {
            "text/plain": [
              "recommendations finished on 72000/1371980 queries. users per second: 56266.7"
            ],
            "text/html": [
              "<pre>recommendations finished on 72000/1371980 queries. users per second: 56266.7</pre>"
            ]
          },
          "metadata": {}
        },
        {
          "output_type": "display_data",
          "data": {
            "text/plain": [
              "recommendations finished on 73000/1371980 queries. users per second: 56293.9"
            ],
            "text/html": [
              "<pre>recommendations finished on 73000/1371980 queries. users per second: 56293.9</pre>"
            ]
          },
          "metadata": {}
        },
        {
          "output_type": "display_data",
          "data": {
            "text/plain": [
              "recommendations finished on 74000/1371980 queries. users per second: 56273.6"
            ],
            "text/html": [
              "<pre>recommendations finished on 74000/1371980 queries. users per second: 56273.6</pre>"
            ]
          },
          "metadata": {}
        },
        {
          "output_type": "display_data",
          "data": {
            "text/plain": [
              "recommendations finished on 75000/1371980 queries. users per second: 56350.8"
            ],
            "text/html": [
              "<pre>recommendations finished on 75000/1371980 queries. users per second: 56350.8</pre>"
            ]
          },
          "metadata": {}
        },
        {
          "output_type": "display_data",
          "data": {
            "text/plain": [
              "recommendations finished on 76000/1371980 queries. users per second: 56267.2"
            ],
            "text/html": [
              "<pre>recommendations finished on 76000/1371980 queries. users per second: 56267.2</pre>"
            ]
          },
          "metadata": {}
        },
        {
          "output_type": "display_data",
          "data": {
            "text/plain": [
              "recommendations finished on 77000/1371980 queries. users per second: 56228.2"
            ],
            "text/html": [
              "<pre>recommendations finished on 77000/1371980 queries. users per second: 56228.2</pre>"
            ]
          },
          "metadata": {}
        },
        {
          "output_type": "display_data",
          "data": {
            "text/plain": [
              "recommendations finished on 78000/1371980 queries. users per second: 56195.8"
            ],
            "text/html": [
              "<pre>recommendations finished on 78000/1371980 queries. users per second: 56195.8</pre>"
            ]
          },
          "metadata": {}
        },
        {
          "output_type": "display_data",
          "data": {
            "text/plain": [
              "recommendations finished on 79000/1371980 queries. users per second: 56274.1"
            ],
            "text/html": [
              "<pre>recommendations finished on 79000/1371980 queries. users per second: 56274.1</pre>"
            ]
          },
          "metadata": {}
        },
        {
          "output_type": "display_data",
          "data": {
            "text/plain": [
              "recommendations finished on 80000/1371980 queries. users per second: 56352.3"
            ],
            "text/html": [
              "<pre>recommendations finished on 80000/1371980 queries. users per second: 56352.3</pre>"
            ]
          },
          "metadata": {}
        },
        {
          "output_type": "display_data",
          "data": {
            "text/plain": [
              "recommendations finished on 81000/1371980 queries. users per second: 56312.5"
            ],
            "text/html": [
              "<pre>recommendations finished on 81000/1371980 queries. users per second: 56312.5</pre>"
            ]
          },
          "metadata": {}
        },
        {
          "output_type": "display_data",
          "data": {
            "text/plain": [
              "recommendations finished on 82000/1371980 queries. users per second: 56395.9"
            ],
            "text/html": [
              "<pre>recommendations finished on 82000/1371980 queries. users per second: 56395.9</pre>"
            ]
          },
          "metadata": {}
        },
        {
          "output_type": "display_data",
          "data": {
            "text/plain": [
              "recommendations finished on 83000/1371980 queries. users per second: 56312.6"
            ],
            "text/html": [
              "<pre>recommendations finished on 83000/1371980 queries. users per second: 56312.6</pre>"
            ]
          },
          "metadata": {}
        },
        {
          "output_type": "display_data",
          "data": {
            "text/plain": [
              "recommendations finished on 84000/1371980 queries. users per second: 56281.7"
            ],
            "text/html": [
              "<pre>recommendations finished on 84000/1371980 queries. users per second: 56281.7</pre>"
            ]
          },
          "metadata": {}
        },
        {
          "output_type": "display_data",
          "data": {
            "text/plain": [
              "recommendations finished on 85000/1371980 queries. users per second: 56263.4"
            ],
            "text/html": [
              "<pre>recommendations finished on 85000/1371980 queries. users per second: 56263.4</pre>"
            ]
          },
          "metadata": {}
        },
        {
          "output_type": "display_data",
          "data": {
            "text/plain": [
              "recommendations finished on 86000/1371980 queries. users per second: 56342.1"
            ],
            "text/html": [
              "<pre>recommendations finished on 86000/1371980 queries. users per second: 56342.1</pre>"
            ]
          },
          "metadata": {}
        },
        {
          "output_type": "display_data",
          "data": {
            "text/plain": [
              "recommendations finished on 87000/1371980 queries. users per second: 56190"
            ],
            "text/html": [
              "<pre>recommendations finished on 87000/1371980 queries. users per second: 56190</pre>"
            ]
          },
          "metadata": {}
        },
        {
          "output_type": "display_data",
          "data": {
            "text/plain": [
              "recommendations finished on 88000/1371980 queries. users per second: 56220.2"
            ],
            "text/html": [
              "<pre>recommendations finished on 88000/1371980 queries. users per second: 56220.2</pre>"
            ]
          },
          "metadata": {}
        },
        {
          "output_type": "display_data",
          "data": {
            "text/plain": [
              "recommendations finished on 89000/1371980 queries. users per second: 56025.8"
            ],
            "text/html": [
              "<pre>recommendations finished on 89000/1371980 queries. users per second: 56025.8</pre>"
            ]
          },
          "metadata": {}
        },
        {
          "output_type": "display_data",
          "data": {
            "text/plain": [
              "recommendations finished on 90000/1371980 queries. users per second: 55999.6"
            ],
            "text/html": [
              "<pre>recommendations finished on 90000/1371980 queries. users per second: 55999.6</pre>"
            ]
          },
          "metadata": {}
        },
        {
          "output_type": "display_data",
          "data": {
            "text/plain": [
              "recommendations finished on 91000/1371980 queries. users per second: 55986.9"
            ],
            "text/html": [
              "<pre>recommendations finished on 91000/1371980 queries. users per second: 55986.9</pre>"
            ]
          },
          "metadata": {}
        },
        {
          "output_type": "display_data",
          "data": {
            "text/plain": [
              "recommendations finished on 92000/1371980 queries. users per second: 55794.5"
            ],
            "text/html": [
              "<pre>recommendations finished on 92000/1371980 queries. users per second: 55794.5</pre>"
            ]
          },
          "metadata": {}
        },
        {
          "output_type": "display_data",
          "data": {
            "text/plain": [
              "recommendations finished on 93000/1371980 queries. users per second: 55827.2"
            ],
            "text/html": [
              "<pre>recommendations finished on 93000/1371980 queries. users per second: 55827.2</pre>"
            ]
          },
          "metadata": {}
        },
        {
          "output_type": "display_data",
          "data": {
            "text/plain": [
              "recommendations finished on 94000/1371980 queries. users per second: 55895.6"
            ],
            "text/html": [
              "<pre>recommendations finished on 94000/1371980 queries. users per second: 55895.6</pre>"
            ]
          },
          "metadata": {}
        },
        {
          "output_type": "display_data",
          "data": {
            "text/plain": [
              "recommendations finished on 95000/1371980 queries. users per second: 55859.8"
            ],
            "text/html": [
              "<pre>recommendations finished on 95000/1371980 queries. users per second: 55859.8</pre>"
            ]
          },
          "metadata": {}
        },
        {
          "output_type": "display_data",
          "data": {
            "text/plain": [
              "recommendations finished on 96000/1371980 queries. users per second: 55932"
            ],
            "text/html": [
              "<pre>recommendations finished on 96000/1371980 queries. users per second: 55932</pre>"
            ]
          },
          "metadata": {}
        },
        {
          "output_type": "display_data",
          "data": {
            "text/plain": [
              "recommendations finished on 97000/1371980 queries. users per second: 55990.2"
            ],
            "text/html": [
              "<pre>recommendations finished on 97000/1371980 queries. users per second: 55990.2</pre>"
            ]
          },
          "metadata": {}
        },
        {
          "output_type": "display_data",
          "data": {
            "text/plain": [
              "recommendations finished on 98000/1371980 queries. users per second: 55831.7"
            ],
            "text/html": [
              "<pre>recommendations finished on 98000/1371980 queries. users per second: 55831.7</pre>"
            ]
          },
          "metadata": {}
        },
        {
          "output_type": "display_data",
          "data": {
            "text/plain": [
              "recommendations finished on 99000/1371980 queries. users per second: 55861"
            ],
            "text/html": [
              "<pre>recommendations finished on 99000/1371980 queries. users per second: 55861</pre>"
            ]
          },
          "metadata": {}
        },
        {
          "output_type": "display_data",
          "data": {
            "text/plain": [
              "recommendations finished on 100000/1371980 queries. users per second: 55879.4"
            ],
            "text/html": [
              "<pre>recommendations finished on 100000/1371980 queries. users per second: 55879.4</pre>"
            ]
          },
          "metadata": {}
        },
        {
          "output_type": "display_data",
          "data": {
            "text/plain": [
              "recommendations finished on 101000/1371980 queries. users per second: 55881.8"
            ],
            "text/html": [
              "<pre>recommendations finished on 101000/1371980 queries. users per second: 55881.8</pre>"
            ]
          },
          "metadata": {}
        },
        {
          "output_type": "display_data",
          "data": {
            "text/plain": [
              "recommendations finished on 102000/1371980 queries. users per second: 55930.8"
            ],
            "text/html": [
              "<pre>recommendations finished on 102000/1371980 queries. users per second: 55930.8</pre>"
            ]
          },
          "metadata": {}
        },
        {
          "output_type": "display_data",
          "data": {
            "text/plain": [
              "recommendations finished on 103000/1371980 queries. users per second: 56010.8"
            ],
            "text/html": [
              "<pre>recommendations finished on 103000/1371980 queries. users per second: 56010.8</pre>"
            ]
          },
          "metadata": {}
        },
        {
          "output_type": "display_data",
          "data": {
            "text/plain": [
              "recommendations finished on 104000/1371980 queries. users per second: 55968.5"
            ],
            "text/html": [
              "<pre>recommendations finished on 104000/1371980 queries. users per second: 55968.5</pre>"
            ]
          },
          "metadata": {}
        },
        {
          "output_type": "display_data",
          "data": {
            "text/plain": [
              "recommendations finished on 105000/1371980 queries. users per second: 56044.7"
            ],
            "text/html": [
              "<pre>recommendations finished on 105000/1371980 queries. users per second: 56044.7</pre>"
            ]
          },
          "metadata": {}
        },
        {
          "output_type": "display_data",
          "data": {
            "text/plain": [
              "recommendations finished on 106000/1371980 queries. users per second: 55994.2"
            ],
            "text/html": [
              "<pre>recommendations finished on 106000/1371980 queries. users per second: 55994.2</pre>"
            ]
          },
          "metadata": {}
        },
        {
          "output_type": "display_data",
          "data": {
            "text/plain": [
              "recommendations finished on 107000/1371980 queries. users per second: 55926"
            ],
            "text/html": [
              "<pre>recommendations finished on 107000/1371980 queries. users per second: 55926</pre>"
            ]
          },
          "metadata": {}
        },
        {
          "output_type": "display_data",
          "data": {
            "text/plain": [
              "recommendations finished on 108000/1371980 queries. users per second: 55888.4"
            ],
            "text/html": [
              "<pre>recommendations finished on 108000/1371980 queries. users per second: 55888.4</pre>"
            ]
          },
          "metadata": {}
        },
        {
          "output_type": "display_data",
          "data": {
            "text/plain": [
              "recommendations finished on 109000/1371980 queries. users per second: 55922.4"
            ],
            "text/html": [
              "<pre>recommendations finished on 109000/1371980 queries. users per second: 55922.4</pre>"
            ]
          },
          "metadata": {}
        },
        {
          "output_type": "display_data",
          "data": {
            "text/plain": [
              "recommendations finished on 110000/1371980 queries. users per second: 55922.6"
            ],
            "text/html": [
              "<pre>recommendations finished on 110000/1371980 queries. users per second: 55922.6</pre>"
            ]
          },
          "metadata": {}
        },
        {
          "output_type": "display_data",
          "data": {
            "text/plain": [
              "recommendations finished on 111000/1371980 queries. users per second: 55988.8"
            ],
            "text/html": [
              "<pre>recommendations finished on 111000/1371980 queries. users per second: 55988.8</pre>"
            ]
          },
          "metadata": {}
        },
        {
          "output_type": "display_data",
          "data": {
            "text/plain": [
              "recommendations finished on 112000/1371980 queries. users per second: 55964.1"
            ],
            "text/html": [
              "<pre>recommendations finished on 112000/1371980 queries. users per second: 55964.1</pre>"
            ]
          },
          "metadata": {}
        },
        {
          "output_type": "display_data",
          "data": {
            "text/plain": [
              "recommendations finished on 113000/1371980 queries. users per second: 56009.4"
            ],
            "text/html": [
              "<pre>recommendations finished on 113000/1371980 queries. users per second: 56009.4</pre>"
            ]
          },
          "metadata": {}
        },
        {
          "output_type": "display_data",
          "data": {
            "text/plain": [
              "recommendations finished on 114000/1371980 queries. users per second: 56057.6"
            ],
            "text/html": [
              "<pre>recommendations finished on 114000/1371980 queries. users per second: 56057.6</pre>"
            ]
          },
          "metadata": {}
        },
        {
          "output_type": "display_data",
          "data": {
            "text/plain": [
              "recommendations finished on 115000/1371980 queries. users per second: 56033.1"
            ],
            "text/html": [
              "<pre>recommendations finished on 115000/1371980 queries. users per second: 56033.1</pre>"
            ]
          },
          "metadata": {}
        },
        {
          "output_type": "display_data",
          "data": {
            "text/plain": [
              "recommendations finished on 116000/1371980 queries. users per second: 56082.2"
            ],
            "text/html": [
              "<pre>recommendations finished on 116000/1371980 queries. users per second: 56082.2</pre>"
            ]
          },
          "metadata": {}
        },
        {
          "output_type": "display_data",
          "data": {
            "text/plain": [
              "recommendations finished on 117000/1371980 queries. users per second: 56030.5"
            ],
            "text/html": [
              "<pre>recommendations finished on 117000/1371980 queries. users per second: 56030.5</pre>"
            ]
          },
          "metadata": {}
        },
        {
          "output_type": "display_data",
          "data": {
            "text/plain": [
              "recommendations finished on 118000/1371980 queries. users per second: 56072.7"
            ],
            "text/html": [
              "<pre>recommendations finished on 118000/1371980 queries. users per second: 56072.7</pre>"
            ]
          },
          "metadata": {}
        },
        {
          "output_type": "display_data",
          "data": {
            "text/plain": [
              "recommendations finished on 119000/1371980 queries. users per second: 55952.4"
            ],
            "text/html": [
              "<pre>recommendations finished on 119000/1371980 queries. users per second: 55952.4</pre>"
            ]
          },
          "metadata": {}
        },
        {
          "output_type": "display_data",
          "data": {
            "text/plain": [
              "recommendations finished on 120000/1371980 queries. users per second: 55990.7"
            ],
            "text/html": [
              "<pre>recommendations finished on 120000/1371980 queries. users per second: 55990.7</pre>"
            ]
          },
          "metadata": {}
        },
        {
          "output_type": "display_data",
          "data": {
            "text/plain": [
              "recommendations finished on 121000/1371980 queries. users per second: 55981.4"
            ],
            "text/html": [
              "<pre>recommendations finished on 121000/1371980 queries. users per second: 55981.4</pre>"
            ]
          },
          "metadata": {}
        },
        {
          "output_type": "display_data",
          "data": {
            "text/plain": [
              "recommendations finished on 122000/1371980 queries. users per second: 56027.1"
            ],
            "text/html": [
              "<pre>recommendations finished on 122000/1371980 queries. users per second: 56027.1</pre>"
            ]
          },
          "metadata": {}
        },
        {
          "output_type": "display_data",
          "data": {
            "text/plain": [
              "recommendations finished on 123000/1371980 queries. users per second: 56024.6"
            ],
            "text/html": [
              "<pre>recommendations finished on 123000/1371980 queries. users per second: 56024.6</pre>"
            ]
          },
          "metadata": {}
        },
        {
          "output_type": "display_data",
          "data": {
            "text/plain": [
              "recommendations finished on 124000/1371980 queries. users per second: 55999.4"
            ],
            "text/html": [
              "<pre>recommendations finished on 124000/1371980 queries. users per second: 55999.4</pre>"
            ]
          },
          "metadata": {}
        },
        {
          "output_type": "display_data",
          "data": {
            "text/plain": [
              "recommendations finished on 125000/1371980 queries. users per second: 56029.5"
            ],
            "text/html": [
              "<pre>recommendations finished on 125000/1371980 queries. users per second: 56029.5</pre>"
            ]
          },
          "metadata": {}
        },
        {
          "output_type": "display_data",
          "data": {
            "text/plain": [
              "recommendations finished on 126000/1371980 queries. users per second: 55964.1"
            ],
            "text/html": [
              "<pre>recommendations finished on 126000/1371980 queries. users per second: 55964.1</pre>"
            ]
          },
          "metadata": {}
        },
        {
          "output_type": "display_data",
          "data": {
            "text/plain": [
              "recommendations finished on 127000/1371980 queries. users per second: 56022.7"
            ],
            "text/html": [
              "<pre>recommendations finished on 127000/1371980 queries. users per second: 56022.7</pre>"
            ]
          },
          "metadata": {}
        },
        {
          "output_type": "display_data",
          "data": {
            "text/plain": [
              "recommendations finished on 128000/1371980 queries. users per second: 55989.6"
            ],
            "text/html": [
              "<pre>recommendations finished on 128000/1371980 queries. users per second: 55989.6</pre>"
            ]
          },
          "metadata": {}
        },
        {
          "output_type": "display_data",
          "data": {
            "text/plain": [
              "recommendations finished on 129000/1371980 queries. users per second: 56047.7"
            ],
            "text/html": [
              "<pre>recommendations finished on 129000/1371980 queries. users per second: 56047.7</pre>"
            ]
          },
          "metadata": {}
        },
        {
          "output_type": "display_data",
          "data": {
            "text/plain": [
              "recommendations finished on 130000/1371980 queries. users per second: 55943.4"
            ],
            "text/html": [
              "<pre>recommendations finished on 130000/1371980 queries. users per second: 55943.4</pre>"
            ]
          },
          "metadata": {}
        },
        {
          "output_type": "display_data",
          "data": {
            "text/plain": [
              "recommendations finished on 131000/1371980 queries. users per second: 55968.3"
            ],
            "text/html": [
              "<pre>recommendations finished on 131000/1371980 queries. users per second: 55968.3</pre>"
            ]
          },
          "metadata": {}
        },
        {
          "output_type": "display_data",
          "data": {
            "text/plain": [
              "recommendations finished on 132000/1371980 queries. users per second: 55927.5"
            ],
            "text/html": [
              "<pre>recommendations finished on 132000/1371980 queries. users per second: 55927.5</pre>"
            ]
          },
          "metadata": {}
        },
        {
          "output_type": "display_data",
          "data": {
            "text/plain": [
              "recommendations finished on 133000/1371980 queries. users per second: 55842.2"
            ],
            "text/html": [
              "<pre>recommendations finished on 133000/1371980 queries. users per second: 55842.2</pre>"
            ]
          },
          "metadata": {}
        },
        {
          "output_type": "display_data",
          "data": {
            "text/plain": [
              "recommendations finished on 134000/1371980 queries. users per second: 55834.8"
            ],
            "text/html": [
              "<pre>recommendations finished on 134000/1371980 queries. users per second: 55834.8</pre>"
            ]
          },
          "metadata": {}
        },
        {
          "output_type": "display_data",
          "data": {
            "text/plain": [
              "recommendations finished on 135000/1371980 queries. users per second: 55897.2"
            ],
            "text/html": [
              "<pre>recommendations finished on 135000/1371980 queries. users per second: 55897.2</pre>"
            ]
          },
          "metadata": {}
        },
        {
          "output_type": "display_data",
          "data": {
            "text/plain": [
              "recommendations finished on 136000/1371980 queries. users per second: 55876"
            ],
            "text/html": [
              "<pre>recommendations finished on 136000/1371980 queries. users per second: 55876</pre>"
            ]
          },
          "metadata": {}
        },
        {
          "output_type": "display_data",
          "data": {
            "text/plain": [
              "recommendations finished on 137000/1371980 queries. users per second: 55784.5"
            ],
            "text/html": [
              "<pre>recommendations finished on 137000/1371980 queries. users per second: 55784.5</pre>"
            ]
          },
          "metadata": {}
        },
        {
          "output_type": "display_data",
          "data": {
            "text/plain": [
              "recommendations finished on 138000/1371980 queries. users per second: 55724.2"
            ],
            "text/html": [
              "<pre>recommendations finished on 138000/1371980 queries. users per second: 55724.2</pre>"
            ]
          },
          "metadata": {}
        },
        {
          "output_type": "display_data",
          "data": {
            "text/plain": [
              "recommendations finished on 139000/1371980 queries. users per second: 55750.2"
            ],
            "text/html": [
              "<pre>recommendations finished on 139000/1371980 queries. users per second: 55750.2</pre>"
            ]
          },
          "metadata": {}
        },
        {
          "output_type": "display_data",
          "data": {
            "text/plain": [
              "recommendations finished on 140000/1371980 queries. users per second: 55754.4"
            ],
            "text/html": [
              "<pre>recommendations finished on 140000/1371980 queries. users per second: 55754.4</pre>"
            ]
          },
          "metadata": {}
        },
        {
          "output_type": "display_data",
          "data": {
            "text/plain": [
              "recommendations finished on 141000/1371980 queries. users per second: 55804.2"
            ],
            "text/html": [
              "<pre>recommendations finished on 141000/1371980 queries. users per second: 55804.2</pre>"
            ]
          },
          "metadata": {}
        },
        {
          "output_type": "display_data",
          "data": {
            "text/plain": [
              "recommendations finished on 142000/1371980 queries. users per second: 55780.2"
            ],
            "text/html": [
              "<pre>recommendations finished on 142000/1371980 queries. users per second: 55780.2</pre>"
            ]
          },
          "metadata": {}
        },
        {
          "output_type": "display_data",
          "data": {
            "text/plain": [
              "recommendations finished on 143000/1371980 queries. users per second: 55831.2"
            ],
            "text/html": [
              "<pre>recommendations finished on 143000/1371980 queries. users per second: 55831.2</pre>"
            ]
          },
          "metadata": {}
        },
        {
          "output_type": "display_data",
          "data": {
            "text/plain": [
              "recommendations finished on 144000/1371980 queries. users per second: 55851.8"
            ],
            "text/html": [
              "<pre>recommendations finished on 144000/1371980 queries. users per second: 55851.8</pre>"
            ]
          },
          "metadata": {}
        },
        {
          "output_type": "display_data",
          "data": {
            "text/plain": [
              "recommendations finished on 145000/1371980 queries. users per second: 55836.8"
            ],
            "text/html": [
              "<pre>recommendations finished on 145000/1371980 queries. users per second: 55836.8</pre>"
            ]
          },
          "metadata": {}
        },
        {
          "output_type": "display_data",
          "data": {
            "text/plain": [
              "recommendations finished on 146000/1371980 queries. users per second: 55874.7"
            ],
            "text/html": [
              "<pre>recommendations finished on 146000/1371980 queries. users per second: 55874.7</pre>"
            ]
          },
          "metadata": {}
        },
        {
          "output_type": "display_data",
          "data": {
            "text/plain": [
              "recommendations finished on 147000/1371980 queries. users per second: 55775.1"
            ],
            "text/html": [
              "<pre>recommendations finished on 147000/1371980 queries. users per second: 55775.1</pre>"
            ]
          },
          "metadata": {}
        },
        {
          "output_type": "display_data",
          "data": {
            "text/plain": [
              "recommendations finished on 148000/1371980 queries. users per second: 55732.6"
            ],
            "text/html": [
              "<pre>recommendations finished on 148000/1371980 queries. users per second: 55732.6</pre>"
            ]
          },
          "metadata": {}
        },
        {
          "output_type": "display_data",
          "data": {
            "text/plain": [
              "recommendations finished on 149000/1371980 queries. users per second: 55641.5"
            ],
            "text/html": [
              "<pre>recommendations finished on 149000/1371980 queries. users per second: 55641.5</pre>"
            ]
          },
          "metadata": {}
        },
        {
          "output_type": "display_data",
          "data": {
            "text/plain": [
              "recommendations finished on 150000/1371980 queries. users per second: 55687"
            ],
            "text/html": [
              "<pre>recommendations finished on 150000/1371980 queries. users per second: 55687</pre>"
            ]
          },
          "metadata": {}
        },
        {
          "output_type": "display_data",
          "data": {
            "text/plain": [
              "recommendations finished on 151000/1371980 queries. users per second: 55678.5"
            ],
            "text/html": [
              "<pre>recommendations finished on 151000/1371980 queries. users per second: 55678.5</pre>"
            ]
          },
          "metadata": {}
        },
        {
          "output_type": "display_data",
          "data": {
            "text/plain": [
              "recommendations finished on 152000/1371980 queries. users per second: 55699.5"
            ],
            "text/html": [
              "<pre>recommendations finished on 152000/1371980 queries. users per second: 55699.5</pre>"
            ]
          },
          "metadata": {}
        },
        {
          "output_type": "display_data",
          "data": {
            "text/plain": [
              "recommendations finished on 153000/1371980 queries. users per second: 55709.3"
            ],
            "text/html": [
              "<pre>recommendations finished on 153000/1371980 queries. users per second: 55709.3</pre>"
            ]
          },
          "metadata": {}
        },
        {
          "output_type": "display_data",
          "data": {
            "text/plain": [
              "recommendations finished on 154000/1371980 queries. users per second: 55688.2"
            ],
            "text/html": [
              "<pre>recommendations finished on 154000/1371980 queries. users per second: 55688.2</pre>"
            ]
          },
          "metadata": {}
        },
        {
          "output_type": "display_data",
          "data": {
            "text/plain": [
              "recommendations finished on 155000/1371980 queries. users per second: 55704.4"
            ],
            "text/html": [
              "<pre>recommendations finished on 155000/1371980 queries. users per second: 55704.4</pre>"
            ]
          },
          "metadata": {}
        },
        {
          "output_type": "display_data",
          "data": {
            "text/plain": [
              "recommendations finished on 156000/1371980 queries. users per second: 55599"
            ],
            "text/html": [
              "<pre>recommendations finished on 156000/1371980 queries. users per second: 55599</pre>"
            ]
          },
          "metadata": {}
        },
        {
          "output_type": "display_data",
          "data": {
            "text/plain": [
              "recommendations finished on 157000/1371980 queries. users per second: 55616.8"
            ],
            "text/html": [
              "<pre>recommendations finished on 157000/1371980 queries. users per second: 55616.8</pre>"
            ]
          },
          "metadata": {}
        },
        {
          "output_type": "display_data",
          "data": {
            "text/plain": [
              "recommendations finished on 158000/1371980 queries. users per second: 55551.2"
            ],
            "text/html": [
              "<pre>recommendations finished on 158000/1371980 queries. users per second: 55551.2</pre>"
            ]
          },
          "metadata": {}
        },
        {
          "output_type": "display_data",
          "data": {
            "text/plain": [
              "recommendations finished on 159000/1371980 queries. users per second: 55528.8"
            ],
            "text/html": [
              "<pre>recommendations finished on 159000/1371980 queries. users per second: 55528.8</pre>"
            ]
          },
          "metadata": {}
        },
        {
          "output_type": "display_data",
          "data": {
            "text/plain": [
              "recommendations finished on 160000/1371980 queries. users per second: 55537"
            ],
            "text/html": [
              "<pre>recommendations finished on 160000/1371980 queries. users per second: 55537</pre>"
            ]
          },
          "metadata": {}
        },
        {
          "output_type": "display_data",
          "data": {
            "text/plain": [
              "recommendations finished on 161000/1371980 queries. users per second: 55513.5"
            ],
            "text/html": [
              "<pre>recommendations finished on 161000/1371980 queries. users per second: 55513.5</pre>"
            ]
          },
          "metadata": {}
        },
        {
          "output_type": "display_data",
          "data": {
            "text/plain": [
              "recommendations finished on 162000/1371980 queries. users per second: 55542.9"
            ],
            "text/html": [
              "<pre>recommendations finished on 162000/1371980 queries. users per second: 55542.9</pre>"
            ]
          },
          "metadata": {}
        },
        {
          "output_type": "display_data",
          "data": {
            "text/plain": [
              "recommendations finished on 163000/1371980 queries. users per second: 55495.5"
            ],
            "text/html": [
              "<pre>recommendations finished on 163000/1371980 queries. users per second: 55495.5</pre>"
            ]
          },
          "metadata": {}
        },
        {
          "output_type": "display_data",
          "data": {
            "text/plain": [
              "recommendations finished on 164000/1371980 queries. users per second: 55518.3"
            ],
            "text/html": [
              "<pre>recommendations finished on 164000/1371980 queries. users per second: 55518.3</pre>"
            ]
          },
          "metadata": {}
        },
        {
          "output_type": "display_data",
          "data": {
            "text/plain": [
              "recommendations finished on 165000/1371980 queries. users per second: 55542.9"
            ],
            "text/html": [
              "<pre>recommendations finished on 165000/1371980 queries. users per second: 55542.9</pre>"
            ]
          },
          "metadata": {}
        },
        {
          "output_type": "display_data",
          "data": {
            "text/plain": [
              "recommendations finished on 166000/1371980 queries. users per second: 55430.9"
            ],
            "text/html": [
              "<pre>recommendations finished on 166000/1371980 queries. users per second: 55430.9</pre>"
            ]
          },
          "metadata": {}
        },
        {
          "output_type": "display_data",
          "data": {
            "text/plain": [
              "recommendations finished on 167000/1371980 queries. users per second: 55457.1"
            ],
            "text/html": [
              "<pre>recommendations finished on 167000/1371980 queries. users per second: 55457.1</pre>"
            ]
          },
          "metadata": {}
        },
        {
          "output_type": "display_data",
          "data": {
            "text/plain": [
              "recommendations finished on 168000/1371980 queries. users per second: 55454.8"
            ],
            "text/html": [
              "<pre>recommendations finished on 168000/1371980 queries. users per second: 55454.8</pre>"
            ]
          },
          "metadata": {}
        },
        {
          "output_type": "display_data",
          "data": {
            "text/plain": [
              "recommendations finished on 169000/1371980 queries. users per second: 55485.1"
            ],
            "text/html": [
              "<pre>recommendations finished on 169000/1371980 queries. users per second: 55485.1</pre>"
            ]
          },
          "metadata": {}
        },
        {
          "output_type": "display_data",
          "data": {
            "text/plain": [
              "recommendations finished on 170000/1371980 queries. users per second: 55453.4"
            ],
            "text/html": [
              "<pre>recommendations finished on 170000/1371980 queries. users per second: 55453.4</pre>"
            ]
          },
          "metadata": {}
        },
        {
          "output_type": "display_data",
          "data": {
            "text/plain": [
              "recommendations finished on 171000/1371980 queries. users per second: 55468.6"
            ],
            "text/html": [
              "<pre>recommendations finished on 171000/1371980 queries. users per second: 55468.6</pre>"
            ]
          },
          "metadata": {}
        },
        {
          "output_type": "display_data",
          "data": {
            "text/plain": [
              "recommendations finished on 172000/1371980 queries. users per second: 55438.5"
            ],
            "text/html": [
              "<pre>recommendations finished on 172000/1371980 queries. users per second: 55438.5</pre>"
            ]
          },
          "metadata": {}
        },
        {
          "output_type": "display_data",
          "data": {
            "text/plain": [
              "recommendations finished on 173000/1371980 queries. users per second: 55445.5"
            ],
            "text/html": [
              "<pre>recommendations finished on 173000/1371980 queries. users per second: 55445.5</pre>"
            ]
          },
          "metadata": {}
        },
        {
          "output_type": "display_data",
          "data": {
            "text/plain": [
              "recommendations finished on 174000/1371980 queries. users per second: 55430.1"
            ],
            "text/html": [
              "<pre>recommendations finished on 174000/1371980 queries. users per second: 55430.1</pre>"
            ]
          },
          "metadata": {}
        },
        {
          "output_type": "display_data",
          "data": {
            "text/plain": [
              "recommendations finished on 175000/1371980 queries. users per second: 55454.9"
            ],
            "text/html": [
              "<pre>recommendations finished on 175000/1371980 queries. users per second: 55454.9</pre>"
            ]
          },
          "metadata": {}
        },
        {
          "output_type": "display_data",
          "data": {
            "text/plain": [
              "recommendations finished on 176000/1371980 queries. users per second: 55300.1"
            ],
            "text/html": [
              "<pre>recommendations finished on 176000/1371980 queries. users per second: 55300.1</pre>"
            ]
          },
          "metadata": {}
        },
        {
          "output_type": "display_data",
          "data": {
            "text/plain": [
              "recommendations finished on 177000/1371980 queries. users per second: 55325.6"
            ],
            "text/html": [
              "<pre>recommendations finished on 177000/1371980 queries. users per second: 55325.6</pre>"
            ]
          },
          "metadata": {}
        },
        {
          "output_type": "display_data",
          "data": {
            "text/plain": [
              "recommendations finished on 178000/1371980 queries. users per second: 55266.3"
            ],
            "text/html": [
              "<pre>recommendations finished on 178000/1371980 queries. users per second: 55266.3</pre>"
            ]
          },
          "metadata": {}
        },
        {
          "output_type": "display_data",
          "data": {
            "text/plain": [
              "recommendations finished on 179000/1371980 queries. users per second: 55313.2"
            ],
            "text/html": [
              "<pre>recommendations finished on 179000/1371980 queries. users per second: 55313.2</pre>"
            ]
          },
          "metadata": {}
        },
        {
          "output_type": "display_data",
          "data": {
            "text/plain": [
              "recommendations finished on 180000/1371980 queries. users per second: 55296.8"
            ],
            "text/html": [
              "<pre>recommendations finished on 180000/1371980 queries. users per second: 55296.8</pre>"
            ]
          },
          "metadata": {}
        },
        {
          "output_type": "display_data",
          "data": {
            "text/plain": [
              "recommendations finished on 181000/1371980 queries. users per second: 55331.2"
            ],
            "text/html": [
              "<pre>recommendations finished on 181000/1371980 queries. users per second: 55331.2</pre>"
            ]
          },
          "metadata": {}
        },
        {
          "output_type": "display_data",
          "data": {
            "text/plain": [
              "recommendations finished on 182000/1371980 queries. users per second: 55368.7"
            ],
            "text/html": [
              "<pre>recommendations finished on 182000/1371980 queries. users per second: 55368.7</pre>"
            ]
          },
          "metadata": {}
        },
        {
          "output_type": "display_data",
          "data": {
            "text/plain": [
              "recommendations finished on 183000/1371980 queries. users per second: 55321.9"
            ],
            "text/html": [
              "<pre>recommendations finished on 183000/1371980 queries. users per second: 55321.9</pre>"
            ]
          },
          "metadata": {}
        },
        {
          "output_type": "display_data",
          "data": {
            "text/plain": [
              "recommendations finished on 184000/1371980 queries. users per second: 55363.1"
            ],
            "text/html": [
              "<pre>recommendations finished on 184000/1371980 queries. users per second: 55363.1</pre>"
            ]
          },
          "metadata": {}
        },
        {
          "output_type": "display_data",
          "data": {
            "text/plain": [
              "recommendations finished on 185000/1371980 queries. users per second: 55313.5"
            ],
            "text/html": [
              "<pre>recommendations finished on 185000/1371980 queries. users per second: 55313.5</pre>"
            ]
          },
          "metadata": {}
        },
        {
          "output_type": "display_data",
          "data": {
            "text/plain": [
              "recommendations finished on 186000/1371980 queries. users per second: 55345.2"
            ],
            "text/html": [
              "<pre>recommendations finished on 186000/1371980 queries. users per second: 55345.2</pre>"
            ]
          },
          "metadata": {}
        },
        {
          "output_type": "display_data",
          "data": {
            "text/plain": [
              "recommendations finished on 187000/1371980 queries. users per second: 55320.3"
            ],
            "text/html": [
              "<pre>recommendations finished on 187000/1371980 queries. users per second: 55320.3</pre>"
            ]
          },
          "metadata": {}
        },
        {
          "output_type": "display_data",
          "data": {
            "text/plain": [
              "recommendations finished on 188000/1371980 queries. users per second: 55340.8"
            ],
            "text/html": [
              "<pre>recommendations finished on 188000/1371980 queries. users per second: 55340.8</pre>"
            ]
          },
          "metadata": {}
        },
        {
          "output_type": "display_data",
          "data": {
            "text/plain": [
              "recommendations finished on 189000/1371980 queries. users per second: 55312.5"
            ],
            "text/html": [
              "<pre>recommendations finished on 189000/1371980 queries. users per second: 55312.5</pre>"
            ]
          },
          "metadata": {}
        },
        {
          "output_type": "display_data",
          "data": {
            "text/plain": [
              "recommendations finished on 190000/1371980 queries. users per second: 55337.6"
            ],
            "text/html": [
              "<pre>recommendations finished on 190000/1371980 queries. users per second: 55337.6</pre>"
            ]
          },
          "metadata": {}
        },
        {
          "output_type": "display_data",
          "data": {
            "text/plain": [
              "recommendations finished on 191000/1371980 queries. users per second: 55313.3"
            ],
            "text/html": [
              "<pre>recommendations finished on 191000/1371980 queries. users per second: 55313.3</pre>"
            ]
          },
          "metadata": {}
        },
        {
          "output_type": "display_data",
          "data": {
            "text/plain": [
              "recommendations finished on 192000/1371980 queries. users per second: 55348.8"
            ],
            "text/html": [
              "<pre>recommendations finished on 192000/1371980 queries. users per second: 55348.8</pre>"
            ]
          },
          "metadata": {}
        },
        {
          "output_type": "display_data",
          "data": {
            "text/plain": [
              "recommendations finished on 193000/1371980 queries. users per second: 55308.7"
            ],
            "text/html": [
              "<pre>recommendations finished on 193000/1371980 queries. users per second: 55308.7</pre>"
            ]
          },
          "metadata": {}
        },
        {
          "output_type": "display_data",
          "data": {
            "text/plain": [
              "recommendations finished on 194000/1371980 queries. users per second: 55334.3"
            ],
            "text/html": [
              "<pre>recommendations finished on 194000/1371980 queries. users per second: 55334.3</pre>"
            ]
          },
          "metadata": {}
        },
        {
          "output_type": "display_data",
          "data": {
            "text/plain": [
              "recommendations finished on 195000/1371980 queries. users per second: 55360.9"
            ],
            "text/html": [
              "<pre>recommendations finished on 195000/1371980 queries. users per second: 55360.9</pre>"
            ]
          },
          "metadata": {}
        },
        {
          "output_type": "display_data",
          "data": {
            "text/plain": [
              "recommendations finished on 196000/1371980 queries. users per second: 55353.5"
            ],
            "text/html": [
              "<pre>recommendations finished on 196000/1371980 queries. users per second: 55353.5</pre>"
            ]
          },
          "metadata": {}
        },
        {
          "output_type": "display_data",
          "data": {
            "text/plain": [
              "recommendations finished on 197000/1371980 queries. users per second: 55412.9"
            ],
            "text/html": [
              "<pre>recommendations finished on 197000/1371980 queries. users per second: 55412.9</pre>"
            ]
          },
          "metadata": {}
        },
        {
          "output_type": "display_data",
          "data": {
            "text/plain": [
              "recommendations finished on 198000/1371980 queries. users per second: 55325.8"
            ],
            "text/html": [
              "<pre>recommendations finished on 198000/1371980 queries. users per second: 55325.8</pre>"
            ]
          },
          "metadata": {}
        },
        {
          "output_type": "display_data",
          "data": {
            "text/plain": [
              "recommendations finished on 199000/1371980 queries. users per second: 55345.1"
            ],
            "text/html": [
              "<pre>recommendations finished on 199000/1371980 queries. users per second: 55345.1</pre>"
            ]
          },
          "metadata": {}
        },
        {
          "output_type": "display_data",
          "data": {
            "text/plain": [
              "recommendations finished on 200000/1371980 queries. users per second: 55346.5"
            ],
            "text/html": [
              "<pre>recommendations finished on 200000/1371980 queries. users per second: 55346.5</pre>"
            ]
          },
          "metadata": {}
        },
        {
          "output_type": "display_data",
          "data": {
            "text/plain": [
              "recommendations finished on 201000/1371980 queries. users per second: 55367.4"
            ],
            "text/html": [
              "<pre>recommendations finished on 201000/1371980 queries. users per second: 55367.4</pre>"
            ]
          },
          "metadata": {}
        },
        {
          "output_type": "display_data",
          "data": {
            "text/plain": [
              "recommendations finished on 202000/1371980 queries. users per second: 55377.7"
            ],
            "text/html": [
              "<pre>recommendations finished on 202000/1371980 queries. users per second: 55377.7</pre>"
            ]
          },
          "metadata": {}
        },
        {
          "output_type": "display_data",
          "data": {
            "text/plain": [
              "recommendations finished on 203000/1371980 queries. users per second: 55424.1"
            ],
            "text/html": [
              "<pre>recommendations finished on 203000/1371980 queries. users per second: 55424.1</pre>"
            ]
          },
          "metadata": {}
        },
        {
          "output_type": "display_data",
          "data": {
            "text/plain": [
              "recommendations finished on 204000/1371980 queries. users per second: 55335.8"
            ],
            "text/html": [
              "<pre>recommendations finished on 204000/1371980 queries. users per second: 55335.8</pre>"
            ]
          },
          "metadata": {}
        },
        {
          "output_type": "display_data",
          "data": {
            "text/plain": [
              "recommendations finished on 205000/1371980 queries. users per second: 55372.4"
            ],
            "text/html": [
              "<pre>recommendations finished on 205000/1371980 queries. users per second: 55372.4</pre>"
            ]
          },
          "metadata": {}
        },
        {
          "output_type": "display_data",
          "data": {
            "text/plain": [
              "recommendations finished on 206000/1371980 queries. users per second: 55355.3"
            ],
            "text/html": [
              "<pre>recommendations finished on 206000/1371980 queries. users per second: 55355.3</pre>"
            ]
          },
          "metadata": {}
        },
        {
          "output_type": "display_data",
          "data": {
            "text/plain": [
              "recommendations finished on 207000/1371980 queries. users per second: 55361.6"
            ],
            "text/html": [
              "<pre>recommendations finished on 207000/1371980 queries. users per second: 55361.6</pre>"
            ]
          },
          "metadata": {}
        },
        {
          "output_type": "display_data",
          "data": {
            "text/plain": [
              "recommendations finished on 208000/1371980 queries. users per second: 55395.5"
            ],
            "text/html": [
              "<pre>recommendations finished on 208000/1371980 queries. users per second: 55395.5</pre>"
            ]
          },
          "metadata": {}
        },
        {
          "output_type": "display_data",
          "data": {
            "text/plain": [
              "recommendations finished on 209000/1371980 queries. users per second: 55354.6"
            ],
            "text/html": [
              "<pre>recommendations finished on 209000/1371980 queries. users per second: 55354.6</pre>"
            ]
          },
          "metadata": {}
        },
        {
          "output_type": "display_data",
          "data": {
            "text/plain": [
              "recommendations finished on 210000/1371980 queries. users per second: 55383.7"
            ],
            "text/html": [
              "<pre>recommendations finished on 210000/1371980 queries. users per second: 55383.7</pre>"
            ]
          },
          "metadata": {}
        },
        {
          "output_type": "display_data",
          "data": {
            "text/plain": [
              "recommendations finished on 211000/1371980 queries. users per second: 55342.3"
            ],
            "text/html": [
              "<pre>recommendations finished on 211000/1371980 queries. users per second: 55342.3</pre>"
            ]
          },
          "metadata": {}
        },
        {
          "output_type": "display_data",
          "data": {
            "text/plain": [
              "recommendations finished on 212000/1371980 queries. users per second: 55369"
            ],
            "text/html": [
              "<pre>recommendations finished on 212000/1371980 queries. users per second: 55369</pre>"
            ]
          },
          "metadata": {}
        },
        {
          "output_type": "display_data",
          "data": {
            "text/plain": [
              "recommendations finished on 213000/1371980 queries. users per second: 55286"
            ],
            "text/html": [
              "<pre>recommendations finished on 213000/1371980 queries. users per second: 55286</pre>"
            ]
          },
          "metadata": {}
        },
        {
          "output_type": "display_data",
          "data": {
            "text/plain": [
              "recommendations finished on 214000/1371980 queries. users per second: 55259.4"
            ],
            "text/html": [
              "<pre>recommendations finished on 214000/1371980 queries. users per second: 55259.4</pre>"
            ]
          },
          "metadata": {}
        },
        {
          "output_type": "display_data",
          "data": {
            "text/plain": [
              "recommendations finished on 215000/1371980 queries. users per second: 55182.1"
            ],
            "text/html": [
              "<pre>recommendations finished on 215000/1371980 queries. users per second: 55182.1</pre>"
            ]
          },
          "metadata": {}
        },
        {
          "output_type": "display_data",
          "data": {
            "text/plain": [
              "recommendations finished on 216000/1371980 queries. users per second: 55141.2"
            ],
            "text/html": [
              "<pre>recommendations finished on 216000/1371980 queries. users per second: 55141.2</pre>"
            ]
          },
          "metadata": {}
        },
        {
          "output_type": "display_data",
          "data": {
            "text/plain": [
              "recommendations finished on 217000/1371980 queries. users per second: 55168.9"
            ],
            "text/html": [
              "<pre>recommendations finished on 217000/1371980 queries. users per second: 55168.9</pre>"
            ]
          },
          "metadata": {}
        },
        {
          "output_type": "display_data",
          "data": {
            "text/plain": [
              "recommendations finished on 218000/1371980 queries. users per second: 55068.4"
            ],
            "text/html": [
              "<pre>recommendations finished on 218000/1371980 queries. users per second: 55068.4</pre>"
            ]
          },
          "metadata": {}
        },
        {
          "output_type": "display_data",
          "data": {
            "text/plain": [
              "recommendations finished on 219000/1371980 queries. users per second: 55088.3"
            ],
            "text/html": [
              "<pre>recommendations finished on 219000/1371980 queries. users per second: 55088.3</pre>"
            ]
          },
          "metadata": {}
        },
        {
          "output_type": "display_data",
          "data": {
            "text/plain": [
              "recommendations finished on 220000/1371980 queries. users per second: 55067.9"
            ],
            "text/html": [
              "<pre>recommendations finished on 220000/1371980 queries. users per second: 55067.9</pre>"
            ]
          },
          "metadata": {}
        },
        {
          "output_type": "display_data",
          "data": {
            "text/plain": [
              "recommendations finished on 221000/1371980 queries. users per second: 55097"
            ],
            "text/html": [
              "<pre>recommendations finished on 221000/1371980 queries. users per second: 55097</pre>"
            ]
          },
          "metadata": {}
        },
        {
          "output_type": "display_data",
          "data": {
            "text/plain": [
              "recommendations finished on 222000/1371980 queries. users per second: 55056.7"
            ],
            "text/html": [
              "<pre>recommendations finished on 222000/1371980 queries. users per second: 55056.7</pre>"
            ]
          },
          "metadata": {}
        },
        {
          "output_type": "display_data",
          "data": {
            "text/plain": [
              "recommendations finished on 223000/1371980 queries. users per second: 55051.2"
            ],
            "text/html": [
              "<pre>recommendations finished on 223000/1371980 queries. users per second: 55051.2</pre>"
            ]
          },
          "metadata": {}
        },
        {
          "output_type": "display_data",
          "data": {
            "text/plain": [
              "recommendations finished on 224000/1371980 queries. users per second: 55029.3"
            ],
            "text/html": [
              "<pre>recommendations finished on 224000/1371980 queries. users per second: 55029.3</pre>"
            ]
          },
          "metadata": {}
        },
        {
          "output_type": "display_data",
          "data": {
            "text/plain": [
              "recommendations finished on 225000/1371980 queries. users per second: 55068.9"
            ],
            "text/html": [
              "<pre>recommendations finished on 225000/1371980 queries. users per second: 55068.9</pre>"
            ]
          },
          "metadata": {}
        },
        {
          "output_type": "display_data",
          "data": {
            "text/plain": [
              "recommendations finished on 226000/1371980 queries. users per second: 55027.9"
            ],
            "text/html": [
              "<pre>recommendations finished on 226000/1371980 queries. users per second: 55027.9</pre>"
            ]
          },
          "metadata": {}
        },
        {
          "output_type": "display_data",
          "data": {
            "text/plain": [
              "recommendations finished on 227000/1371980 queries. users per second: 55010.6"
            ],
            "text/html": [
              "<pre>recommendations finished on 227000/1371980 queries. users per second: 55010.6</pre>"
            ]
          },
          "metadata": {}
        },
        {
          "output_type": "display_data",
          "data": {
            "text/plain": [
              "recommendations finished on 228000/1371980 queries. users per second: 54997.5"
            ],
            "text/html": [
              "<pre>recommendations finished on 228000/1371980 queries. users per second: 54997.5</pre>"
            ]
          },
          "metadata": {}
        },
        {
          "output_type": "display_data",
          "data": {
            "text/plain": [
              "recommendations finished on 229000/1371980 queries. users per second: 55026.5"
            ],
            "text/html": [
              "<pre>recommendations finished on 229000/1371980 queries. users per second: 55026.5</pre>"
            ]
          },
          "metadata": {}
        },
        {
          "output_type": "display_data",
          "data": {
            "text/plain": [
              "recommendations finished on 230000/1371980 queries. users per second: 55057.1"
            ],
            "text/html": [
              "<pre>recommendations finished on 230000/1371980 queries. users per second: 55057.1</pre>"
            ]
          },
          "metadata": {}
        },
        {
          "output_type": "display_data",
          "data": {
            "text/plain": [
              "recommendations finished on 231000/1371980 queries. users per second: 55043.4"
            ],
            "text/html": [
              "<pre>recommendations finished on 231000/1371980 queries. users per second: 55043.4</pre>"
            ]
          },
          "metadata": {}
        },
        {
          "output_type": "display_data",
          "data": {
            "text/plain": [
              "recommendations finished on 232000/1371980 queries. users per second: 55078"
            ],
            "text/html": [
              "<pre>recommendations finished on 232000/1371980 queries. users per second: 55078</pre>"
            ]
          },
          "metadata": {}
        },
        {
          "output_type": "display_data",
          "data": {
            "text/plain": [
              "recommendations finished on 233000/1371980 queries. users per second: 55062.4"
            ],
            "text/html": [
              "<pre>recommendations finished on 233000/1371980 queries. users per second: 55062.4</pre>"
            ]
          },
          "metadata": {}
        },
        {
          "output_type": "display_data",
          "data": {
            "text/plain": [
              "recommendations finished on 234000/1371980 queries. users per second: 55063.1"
            ],
            "text/html": [
              "<pre>recommendations finished on 234000/1371980 queries. users per second: 55063.1</pre>"
            ]
          },
          "metadata": {}
        },
        {
          "output_type": "display_data",
          "data": {
            "text/plain": [
              "recommendations finished on 235000/1371980 queries. users per second: 55070.7"
            ],
            "text/html": [
              "<pre>recommendations finished on 235000/1371980 queries. users per second: 55070.7</pre>"
            ]
          },
          "metadata": {}
        },
        {
          "output_type": "display_data",
          "data": {
            "text/plain": [
              "recommendations finished on 236000/1371980 queries. users per second: 55030.6"
            ],
            "text/html": [
              "<pre>recommendations finished on 236000/1371980 queries. users per second: 55030.6</pre>"
            ]
          },
          "metadata": {}
        },
        {
          "output_type": "display_data",
          "data": {
            "text/plain": [
              "recommendations finished on 237000/1371980 queries. users per second: 55037.7"
            ],
            "text/html": [
              "<pre>recommendations finished on 237000/1371980 queries. users per second: 55037.7</pre>"
            ]
          },
          "metadata": {}
        },
        {
          "output_type": "display_data",
          "data": {
            "text/plain": [
              "recommendations finished on 238000/1371980 queries. users per second: 55022.3"
            ],
            "text/html": [
              "<pre>recommendations finished on 238000/1371980 queries. users per second: 55022.3</pre>"
            ]
          },
          "metadata": {}
        },
        {
          "output_type": "display_data",
          "data": {
            "text/plain": [
              "recommendations finished on 239000/1371980 queries. users per second: 55008.9"
            ],
            "text/html": [
              "<pre>recommendations finished on 239000/1371980 queries. users per second: 55008.9</pre>"
            ]
          },
          "metadata": {}
        },
        {
          "output_type": "display_data",
          "data": {
            "text/plain": [
              "recommendations finished on 240000/1371980 queries. users per second: 54920"
            ],
            "text/html": [
              "<pre>recommendations finished on 240000/1371980 queries. users per second: 54920</pre>"
            ]
          },
          "metadata": {}
        },
        {
          "output_type": "display_data",
          "data": {
            "text/plain": [
              "recommendations finished on 241000/1371980 queries. users per second: 54891.8"
            ],
            "text/html": [
              "<pre>recommendations finished on 241000/1371980 queries. users per second: 54891.8</pre>"
            ]
          },
          "metadata": {}
        },
        {
          "output_type": "display_data",
          "data": {
            "text/plain": [
              "recommendations finished on 242000/1371980 queries. users per second: 54882.7"
            ],
            "text/html": [
              "<pre>recommendations finished on 242000/1371980 queries. users per second: 54882.7</pre>"
            ]
          },
          "metadata": {}
        },
        {
          "output_type": "display_data",
          "data": {
            "text/plain": [
              "recommendations finished on 243000/1371980 queries. users per second: 54883.9"
            ],
            "text/html": [
              "<pre>recommendations finished on 243000/1371980 queries. users per second: 54883.9</pre>"
            ]
          },
          "metadata": {}
        },
        {
          "output_type": "display_data",
          "data": {
            "text/plain": [
              "recommendations finished on 244000/1371980 queries. users per second: 54900.4"
            ],
            "text/html": [
              "<pre>recommendations finished on 244000/1371980 queries. users per second: 54900.4</pre>"
            ]
          },
          "metadata": {}
        },
        {
          "output_type": "display_data",
          "data": {
            "text/plain": [
              "recommendations finished on 245000/1371980 queries. users per second: 54861.6"
            ],
            "text/html": [
              "<pre>recommendations finished on 245000/1371980 queries. users per second: 54861.6</pre>"
            ]
          },
          "metadata": {}
        },
        {
          "output_type": "display_data",
          "data": {
            "text/plain": [
              "recommendations finished on 246000/1371980 queries. users per second: 54860.8"
            ],
            "text/html": [
              "<pre>recommendations finished on 246000/1371980 queries. users per second: 54860.8</pre>"
            ]
          },
          "metadata": {}
        },
        {
          "output_type": "display_data",
          "data": {
            "text/plain": [
              "recommendations finished on 247000/1371980 queries. users per second: 54842"
            ],
            "text/html": [
              "<pre>recommendations finished on 247000/1371980 queries. users per second: 54842</pre>"
            ]
          },
          "metadata": {}
        },
        {
          "output_type": "display_data",
          "data": {
            "text/plain": [
              "recommendations finished on 248000/1371980 queries. users per second: 54867.1"
            ],
            "text/html": [
              "<pre>recommendations finished on 248000/1371980 queries. users per second: 54867.1</pre>"
            ]
          },
          "metadata": {}
        },
        {
          "output_type": "display_data",
          "data": {
            "text/plain": [
              "recommendations finished on 249000/1371980 queries. users per second: 54894.5"
            ],
            "text/html": [
              "<pre>recommendations finished on 249000/1371980 queries. users per second: 54894.5</pre>"
            ]
          },
          "metadata": {}
        },
        {
          "output_type": "display_data",
          "data": {
            "text/plain": [
              "recommendations finished on 250000/1371980 queries. users per second: 54838.3"
            ],
            "text/html": [
              "<pre>recommendations finished on 250000/1371980 queries. users per second: 54838.3</pre>"
            ]
          },
          "metadata": {}
        },
        {
          "output_type": "display_data",
          "data": {
            "text/plain": [
              "recommendations finished on 251000/1371980 queries. users per second: 54807.3"
            ],
            "text/html": [
              "<pre>recommendations finished on 251000/1371980 queries. users per second: 54807.3</pre>"
            ]
          },
          "metadata": {}
        },
        {
          "output_type": "display_data",
          "data": {
            "text/plain": [
              "recommendations finished on 252000/1371980 queries. users per second: 54834.7"
            ],
            "text/html": [
              "<pre>recommendations finished on 252000/1371980 queries. users per second: 54834.7</pre>"
            ]
          },
          "metadata": {}
        },
        {
          "output_type": "display_data",
          "data": {
            "text/plain": [
              "recommendations finished on 253000/1371980 queries. users per second: 54817.5"
            ],
            "text/html": [
              "<pre>recommendations finished on 253000/1371980 queries. users per second: 54817.5</pre>"
            ]
          },
          "metadata": {}
        },
        {
          "output_type": "display_data",
          "data": {
            "text/plain": [
              "recommendations finished on 254000/1371980 queries. users per second: 54854.4"
            ],
            "text/html": [
              "<pre>recommendations finished on 254000/1371980 queries. users per second: 54854.4</pre>"
            ]
          },
          "metadata": {}
        },
        {
          "output_type": "display_data",
          "data": {
            "text/plain": [
              "recommendations finished on 255000/1371980 queries. users per second: 54828.8"
            ],
            "text/html": [
              "<pre>recommendations finished on 255000/1371980 queries. users per second: 54828.8</pre>"
            ]
          },
          "metadata": {}
        },
        {
          "output_type": "display_data",
          "data": {
            "text/plain": [
              "recommendations finished on 256000/1371980 queries. users per second: 54846.8"
            ],
            "text/html": [
              "<pre>recommendations finished on 256000/1371980 queries. users per second: 54846.8</pre>"
            ]
          },
          "metadata": {}
        },
        {
          "output_type": "display_data",
          "data": {
            "text/plain": [
              "recommendations finished on 257000/1371980 queries. users per second: 54866.8"
            ],
            "text/html": [
              "<pre>recommendations finished on 257000/1371980 queries. users per second: 54866.8</pre>"
            ]
          },
          "metadata": {}
        },
        {
          "output_type": "display_data",
          "data": {
            "text/plain": [
              "recommendations finished on 258000/1371980 queries. users per second: 54779.4"
            ],
            "text/html": [
              "<pre>recommendations finished on 258000/1371980 queries. users per second: 54779.4</pre>"
            ]
          },
          "metadata": {}
        },
        {
          "output_type": "display_data",
          "data": {
            "text/plain": [
              "recommendations finished on 259000/1371980 queries. users per second: 54644.9"
            ],
            "text/html": [
              "<pre>recommendations finished on 259000/1371980 queries. users per second: 54644.9</pre>"
            ]
          },
          "metadata": {}
        },
        {
          "output_type": "display_data",
          "data": {
            "text/plain": [
              "recommendations finished on 260000/1371980 queries. users per second: 54671.1"
            ],
            "text/html": [
              "<pre>recommendations finished on 260000/1371980 queries. users per second: 54671.1</pre>"
            ]
          },
          "metadata": {}
        },
        {
          "output_type": "display_data",
          "data": {
            "text/plain": [
              "recommendations finished on 261000/1371980 queries. users per second: 54652.9"
            ],
            "text/html": [
              "<pre>recommendations finished on 261000/1371980 queries. users per second: 54652.9</pre>"
            ]
          },
          "metadata": {}
        },
        {
          "output_type": "display_data",
          "data": {
            "text/plain": [
              "recommendations finished on 262000/1371980 queries. users per second: 54682.4"
            ],
            "text/html": [
              "<pre>recommendations finished on 262000/1371980 queries. users per second: 54682.4</pre>"
            ]
          },
          "metadata": {}
        },
        {
          "output_type": "display_data",
          "data": {
            "text/plain": [
              "recommendations finished on 263000/1371980 queries. users per second: 54710.1"
            ],
            "text/html": [
              "<pre>recommendations finished on 263000/1371980 queries. users per second: 54710.1</pre>"
            ]
          },
          "metadata": {}
        },
        {
          "output_type": "display_data",
          "data": {
            "text/plain": [
              "recommendations finished on 264000/1371980 queries. users per second: 54692.1"
            ],
            "text/html": [
              "<pre>recommendations finished on 264000/1371980 queries. users per second: 54692.1</pre>"
            ]
          },
          "metadata": {}
        },
        {
          "output_type": "display_data",
          "data": {
            "text/plain": [
              "recommendations finished on 265000/1371980 queries. users per second: 54725.5"
            ],
            "text/html": [
              "<pre>recommendations finished on 265000/1371980 queries. users per second: 54725.5</pre>"
            ]
          },
          "metadata": {}
        },
        {
          "output_type": "display_data",
          "data": {
            "text/plain": [
              "recommendations finished on 266000/1371980 queries. users per second: 54662.9"
            ],
            "text/html": [
              "<pre>recommendations finished on 266000/1371980 queries. users per second: 54662.9</pre>"
            ]
          },
          "metadata": {}
        },
        {
          "output_type": "display_data",
          "data": {
            "text/plain": [
              "recommendations finished on 267000/1371980 queries. users per second: 54674.8"
            ],
            "text/html": [
              "<pre>recommendations finished on 267000/1371980 queries. users per second: 54674.8</pre>"
            ]
          },
          "metadata": {}
        },
        {
          "output_type": "display_data",
          "data": {
            "text/plain": [
              "recommendations finished on 268000/1371980 queries. users per second: 54641.3"
            ],
            "text/html": [
              "<pre>recommendations finished on 268000/1371980 queries. users per second: 54641.3</pre>"
            ]
          },
          "metadata": {}
        },
        {
          "output_type": "display_data",
          "data": {
            "text/plain": [
              "recommendations finished on 269000/1371980 queries. users per second: 54565.1"
            ],
            "text/html": [
              "<pre>recommendations finished on 269000/1371980 queries. users per second: 54565.1</pre>"
            ]
          },
          "metadata": {}
        },
        {
          "output_type": "display_data",
          "data": {
            "text/plain": [
              "recommendations finished on 270000/1371980 queries. users per second: 54570.6"
            ],
            "text/html": [
              "<pre>recommendations finished on 270000/1371980 queries. users per second: 54570.6</pre>"
            ]
          },
          "metadata": {}
        },
        {
          "output_type": "display_data",
          "data": {
            "text/plain": [
              "recommendations finished on 271000/1371980 queries. users per second: 54594.9"
            ],
            "text/html": [
              "<pre>recommendations finished on 271000/1371980 queries. users per second: 54594.9</pre>"
            ]
          },
          "metadata": {}
        },
        {
          "output_type": "display_data",
          "data": {
            "text/plain": [
              "recommendations finished on 272000/1371980 queries. users per second: 54572.5"
            ],
            "text/html": [
              "<pre>recommendations finished on 272000/1371980 queries. users per second: 54572.5</pre>"
            ]
          },
          "metadata": {}
        },
        {
          "output_type": "display_data",
          "data": {
            "text/plain": [
              "recommendations finished on 273000/1371980 queries. users per second: 54603.5"
            ],
            "text/html": [
              "<pre>recommendations finished on 273000/1371980 queries. users per second: 54603.5</pre>"
            ]
          },
          "metadata": {}
        },
        {
          "output_type": "display_data",
          "data": {
            "text/plain": [
              "recommendations finished on 274000/1371980 queries. users per second: 54598.7"
            ],
            "text/html": [
              "<pre>recommendations finished on 274000/1371980 queries. users per second: 54598.7</pre>"
            ]
          },
          "metadata": {}
        },
        {
          "output_type": "display_data",
          "data": {
            "text/plain": [
              "recommendations finished on 275000/1371980 queries. users per second: 54542.8"
            ],
            "text/html": [
              "<pre>recommendations finished on 275000/1371980 queries. users per second: 54542.8</pre>"
            ]
          },
          "metadata": {}
        },
        {
          "output_type": "display_data",
          "data": {
            "text/plain": [
              "recommendations finished on 276000/1371980 queries. users per second: 54535"
            ],
            "text/html": [
              "<pre>recommendations finished on 276000/1371980 queries. users per second: 54535</pre>"
            ]
          },
          "metadata": {}
        },
        {
          "output_type": "display_data",
          "data": {
            "text/plain": [
              "recommendations finished on 277000/1371980 queries. users per second: 54549.7"
            ],
            "text/html": [
              "<pre>recommendations finished on 277000/1371980 queries. users per second: 54549.7</pre>"
            ]
          },
          "metadata": {}
        },
        {
          "output_type": "display_data",
          "data": {
            "text/plain": [
              "recommendations finished on 278000/1371980 queries. users per second: 54576"
            ],
            "text/html": [
              "<pre>recommendations finished on 278000/1371980 queries. users per second: 54576</pre>"
            ]
          },
          "metadata": {}
        },
        {
          "output_type": "display_data",
          "data": {
            "text/plain": [
              "recommendations finished on 279000/1371980 queries. users per second: 54513.7"
            ],
            "text/html": [
              "<pre>recommendations finished on 279000/1371980 queries. users per second: 54513.7</pre>"
            ]
          },
          "metadata": {}
        },
        {
          "output_type": "display_data",
          "data": {
            "text/plain": [
              "recommendations finished on 280000/1371980 queries. users per second: 54486.1"
            ],
            "text/html": [
              "<pre>recommendations finished on 280000/1371980 queries. users per second: 54486.1</pre>"
            ]
          },
          "metadata": {}
        },
        {
          "output_type": "display_data",
          "data": {
            "text/plain": [
              "recommendations finished on 281000/1371980 queries. users per second: 54484.2"
            ],
            "text/html": [
              "<pre>recommendations finished on 281000/1371980 queries. users per second: 54484.2</pre>"
            ]
          },
          "metadata": {}
        },
        {
          "output_type": "display_data",
          "data": {
            "text/plain": [
              "recommendations finished on 282000/1371980 queries. users per second: 54500"
            ],
            "text/html": [
              "<pre>recommendations finished on 282000/1371980 queries. users per second: 54500</pre>"
            ]
          },
          "metadata": {}
        },
        {
          "output_type": "display_data",
          "data": {
            "text/plain": [
              "recommendations finished on 283000/1371980 queries. users per second: 54488.9"
            ],
            "text/html": [
              "<pre>recommendations finished on 283000/1371980 queries. users per second: 54488.9</pre>"
            ]
          },
          "metadata": {}
        },
        {
          "output_type": "display_data",
          "data": {
            "text/plain": [
              "recommendations finished on 284000/1371980 queries. users per second: 54507.2"
            ],
            "text/html": [
              "<pre>recommendations finished on 284000/1371980 queries. users per second: 54507.2</pre>"
            ]
          },
          "metadata": {}
        },
        {
          "output_type": "display_data",
          "data": {
            "text/plain": [
              "recommendations finished on 285000/1371980 queries. users per second: 54513.3"
            ],
            "text/html": [
              "<pre>recommendations finished on 285000/1371980 queries. users per second: 54513.3</pre>"
            ]
          },
          "metadata": {}
        },
        {
          "output_type": "display_data",
          "data": {
            "text/plain": [
              "recommendations finished on 286000/1371980 queries. users per second: 54494"
            ],
            "text/html": [
              "<pre>recommendations finished on 286000/1371980 queries. users per second: 54494</pre>"
            ]
          },
          "metadata": {}
        },
        {
          "output_type": "display_data",
          "data": {
            "text/plain": [
              "recommendations finished on 287000/1371980 queries. users per second: 54497.6"
            ],
            "text/html": [
              "<pre>recommendations finished on 287000/1371980 queries. users per second: 54497.6</pre>"
            ]
          },
          "metadata": {}
        },
        {
          "output_type": "display_data",
          "data": {
            "text/plain": [
              "recommendations finished on 288000/1371980 queries. users per second: 54451.1"
            ],
            "text/html": [
              "<pre>recommendations finished on 288000/1371980 queries. users per second: 54451.1</pre>"
            ]
          },
          "metadata": {}
        },
        {
          "output_type": "display_data",
          "data": {
            "text/plain": [
              "recommendations finished on 289000/1371980 queries. users per second: 54454.9"
            ],
            "text/html": [
              "<pre>recommendations finished on 289000/1371980 queries. users per second: 54454.9</pre>"
            ]
          },
          "metadata": {}
        },
        {
          "output_type": "display_data",
          "data": {
            "text/plain": [
              "recommendations finished on 290000/1371980 queries. users per second: 54470.9"
            ],
            "text/html": [
              "<pre>recommendations finished on 290000/1371980 queries. users per second: 54470.9</pre>"
            ]
          },
          "metadata": {}
        },
        {
          "output_type": "display_data",
          "data": {
            "text/plain": [
              "recommendations finished on 291000/1371980 queries. users per second: 54437.7"
            ],
            "text/html": [
              "<pre>recommendations finished on 291000/1371980 queries. users per second: 54437.7</pre>"
            ]
          },
          "metadata": {}
        },
        {
          "output_type": "display_data",
          "data": {
            "text/plain": [
              "recommendations finished on 292000/1371980 queries. users per second: 54452.5"
            ],
            "text/html": [
              "<pre>recommendations finished on 292000/1371980 queries. users per second: 54452.5</pre>"
            ]
          },
          "metadata": {}
        },
        {
          "output_type": "display_data",
          "data": {
            "text/plain": [
              "recommendations finished on 293000/1371980 queries. users per second: 54440.9"
            ],
            "text/html": [
              "<pre>recommendations finished on 293000/1371980 queries. users per second: 54440.9</pre>"
            ]
          },
          "metadata": {}
        },
        {
          "output_type": "display_data",
          "data": {
            "text/plain": [
              "recommendations finished on 294000/1371980 queries. users per second: 54422.4"
            ],
            "text/html": [
              "<pre>recommendations finished on 294000/1371980 queries. users per second: 54422.4</pre>"
            ]
          },
          "metadata": {}
        },
        {
          "output_type": "display_data",
          "data": {
            "text/plain": [
              "recommendations finished on 295000/1371980 queries. users per second: 54428.1"
            ],
            "text/html": [
              "<pre>recommendations finished on 295000/1371980 queries. users per second: 54428.1</pre>"
            ]
          },
          "metadata": {}
        },
        {
          "output_type": "display_data",
          "data": {
            "text/plain": [
              "recommendations finished on 296000/1371980 queries. users per second: 54413.6"
            ],
            "text/html": [
              "<pre>recommendations finished on 296000/1371980 queries. users per second: 54413.6</pre>"
            ]
          },
          "metadata": {}
        },
        {
          "output_type": "display_data",
          "data": {
            "text/plain": [
              "recommendations finished on 297000/1371980 queries. users per second: 54437.2"
            ],
            "text/html": [
              "<pre>recommendations finished on 297000/1371980 queries. users per second: 54437.2</pre>"
            ]
          },
          "metadata": {}
        },
        {
          "output_type": "display_data",
          "data": {
            "text/plain": [
              "recommendations finished on 298000/1371980 queries. users per second: 54399.9"
            ],
            "text/html": [
              "<pre>recommendations finished on 298000/1371980 queries. users per second: 54399.9</pre>"
            ]
          },
          "metadata": {}
        },
        {
          "output_type": "display_data",
          "data": {
            "text/plain": [
              "recommendations finished on 299000/1371980 queries. users per second: 54421.9"
            ],
            "text/html": [
              "<pre>recommendations finished on 299000/1371980 queries. users per second: 54421.9</pre>"
            ]
          },
          "metadata": {}
        },
        {
          "output_type": "display_data",
          "data": {
            "text/plain": [
              "recommendations finished on 300000/1371980 queries. users per second: 54382.5"
            ],
            "text/html": [
              "<pre>recommendations finished on 300000/1371980 queries. users per second: 54382.5</pre>"
            ]
          },
          "metadata": {}
        },
        {
          "output_type": "display_data",
          "data": {
            "text/plain": [
              "recommendations finished on 301000/1371980 queries. users per second: 54372.7"
            ],
            "text/html": [
              "<pre>recommendations finished on 301000/1371980 queries. users per second: 54372.7</pre>"
            ]
          },
          "metadata": {}
        },
        {
          "output_type": "display_data",
          "data": {
            "text/plain": [
              "recommendations finished on 302000/1371980 queries. users per second: 54325.8"
            ],
            "text/html": [
              "<pre>recommendations finished on 302000/1371980 queries. users per second: 54325.8</pre>"
            ]
          },
          "metadata": {}
        },
        {
          "output_type": "display_data",
          "data": {
            "text/plain": [
              "recommendations finished on 303000/1371980 queries. users per second: 54350.9"
            ],
            "text/html": [
              "<pre>recommendations finished on 303000/1371980 queries. users per second: 54350.9</pre>"
            ]
          },
          "metadata": {}
        },
        {
          "output_type": "display_data",
          "data": {
            "text/plain": [
              "recommendations finished on 304000/1371980 queries. users per second: 54336.4"
            ],
            "text/html": [
              "<pre>recommendations finished on 304000/1371980 queries. users per second: 54336.4</pre>"
            ]
          },
          "metadata": {}
        },
        {
          "output_type": "display_data",
          "data": {
            "text/plain": [
              "recommendations finished on 305000/1371980 queries. users per second: 54361.3"
            ],
            "text/html": [
              "<pre>recommendations finished on 305000/1371980 queries. users per second: 54361.3</pre>"
            ]
          },
          "metadata": {}
        },
        {
          "output_type": "display_data",
          "data": {
            "text/plain": [
              "recommendations finished on 306000/1371980 queries. users per second: 54338.2"
            ],
            "text/html": [
              "<pre>recommendations finished on 306000/1371980 queries. users per second: 54338.2</pre>"
            ]
          },
          "metadata": {}
        },
        {
          "output_type": "display_data",
          "data": {
            "text/plain": [
              "recommendations finished on 307000/1371980 queries. users per second: 54354.5"
            ],
            "text/html": [
              "<pre>recommendations finished on 307000/1371980 queries. users per second: 54354.5</pre>"
            ]
          },
          "metadata": {}
        },
        {
          "output_type": "display_data",
          "data": {
            "text/plain": [
              "recommendations finished on 308000/1371980 queries. users per second: 54364.6"
            ],
            "text/html": [
              "<pre>recommendations finished on 308000/1371980 queries. users per second: 54364.6</pre>"
            ]
          },
          "metadata": {}
        },
        {
          "output_type": "display_data",
          "data": {
            "text/plain": [
              "recommendations finished on 309000/1371980 queries. users per second: 54355"
            ],
            "text/html": [
              "<pre>recommendations finished on 309000/1371980 queries. users per second: 54355</pre>"
            ]
          },
          "metadata": {}
        },
        {
          "output_type": "display_data",
          "data": {
            "text/plain": [
              "recommendations finished on 310000/1371980 queries. users per second: 54379.6"
            ],
            "text/html": [
              "<pre>recommendations finished on 310000/1371980 queries. users per second: 54379.6</pre>"
            ]
          },
          "metadata": {}
        },
        {
          "output_type": "display_data",
          "data": {
            "text/plain": [
              "recommendations finished on 311000/1371980 queries. users per second: 54277"
            ],
            "text/html": [
              "<pre>recommendations finished on 311000/1371980 queries. users per second: 54277</pre>"
            ]
          },
          "metadata": {}
        },
        {
          "output_type": "display_data",
          "data": {
            "text/plain": [
              "recommendations finished on 312000/1371980 queries. users per second: 54222.8"
            ],
            "text/html": [
              "<pre>recommendations finished on 312000/1371980 queries. users per second: 54222.8</pre>"
            ]
          },
          "metadata": {}
        },
        {
          "output_type": "display_data",
          "data": {
            "text/plain": [
              "recommendations finished on 313000/1371980 queries. users per second: 54203.9"
            ],
            "text/html": [
              "<pre>recommendations finished on 313000/1371980 queries. users per second: 54203.9</pre>"
            ]
          },
          "metadata": {}
        },
        {
          "output_type": "display_data",
          "data": {
            "text/plain": [
              "recommendations finished on 314000/1371980 queries. users per second: 54145.4"
            ],
            "text/html": [
              "<pre>recommendations finished on 314000/1371980 queries. users per second: 54145.4</pre>"
            ]
          },
          "metadata": {}
        },
        {
          "output_type": "display_data",
          "data": {
            "text/plain": [
              "recommendations finished on 315000/1371980 queries. users per second: 54151.1"
            ],
            "text/html": [
              "<pre>recommendations finished on 315000/1371980 queries. users per second: 54151.1</pre>"
            ]
          },
          "metadata": {}
        },
        {
          "output_type": "display_data",
          "data": {
            "text/plain": [
              "recommendations finished on 316000/1371980 queries. users per second: 54144.8"
            ],
            "text/html": [
              "<pre>recommendations finished on 316000/1371980 queries. users per second: 54144.8</pre>"
            ]
          },
          "metadata": {}
        },
        {
          "output_type": "display_data",
          "data": {
            "text/plain": [
              "recommendations finished on 317000/1371980 queries. users per second: 54166.4"
            ],
            "text/html": [
              "<pre>recommendations finished on 317000/1371980 queries. users per second: 54166.4</pre>"
            ]
          },
          "metadata": {}
        },
        {
          "output_type": "display_data",
          "data": {
            "text/plain": [
              "recommendations finished on 318000/1371980 queries. users per second: 54128.7"
            ],
            "text/html": [
              "<pre>recommendations finished on 318000/1371980 queries. users per second: 54128.7</pre>"
            ]
          },
          "metadata": {}
        },
        {
          "output_type": "display_data",
          "data": {
            "text/plain": [
              "recommendations finished on 319000/1371980 queries. users per second: 54108.2"
            ],
            "text/html": [
              "<pre>recommendations finished on 319000/1371980 queries. users per second: 54108.2</pre>"
            ]
          },
          "metadata": {}
        },
        {
          "output_type": "display_data",
          "data": {
            "text/plain": [
              "recommendations finished on 320000/1371980 queries. users per second: 54092.1"
            ],
            "text/html": [
              "<pre>recommendations finished on 320000/1371980 queries. users per second: 54092.1</pre>"
            ]
          },
          "metadata": {}
        },
        {
          "output_type": "display_data",
          "data": {
            "text/plain": [
              "recommendations finished on 321000/1371980 queries. users per second: 54091.8"
            ],
            "text/html": [
              "<pre>recommendations finished on 321000/1371980 queries. users per second: 54091.8</pre>"
            ]
          },
          "metadata": {}
        },
        {
          "output_type": "display_data",
          "data": {
            "text/plain": [
              "recommendations finished on 322000/1371980 queries. users per second: 54073.1"
            ],
            "text/html": [
              "<pre>recommendations finished on 322000/1371980 queries. users per second: 54073.1</pre>"
            ]
          },
          "metadata": {}
        },
        {
          "output_type": "display_data",
          "data": {
            "text/plain": [
              "recommendations finished on 323000/1371980 queries. users per second: 54096.7"
            ],
            "text/html": [
              "<pre>recommendations finished on 323000/1371980 queries. users per second: 54096.7</pre>"
            ]
          },
          "metadata": {}
        },
        {
          "output_type": "display_data",
          "data": {
            "text/plain": [
              "recommendations finished on 324000/1371980 queries. users per second: 54080"
            ],
            "text/html": [
              "<pre>recommendations finished on 324000/1371980 queries. users per second: 54080</pre>"
            ]
          },
          "metadata": {}
        },
        {
          "output_type": "display_data",
          "data": {
            "text/plain": [
              "recommendations finished on 325000/1371980 queries. users per second: 54104.1"
            ],
            "text/html": [
              "<pre>recommendations finished on 325000/1371980 queries. users per second: 54104.1</pre>"
            ]
          },
          "metadata": {}
        },
        {
          "output_type": "display_data",
          "data": {
            "text/plain": [
              "recommendations finished on 326000/1371980 queries. users per second: 54090.2"
            ],
            "text/html": [
              "<pre>recommendations finished on 326000/1371980 queries. users per second: 54090.2</pre>"
            ]
          },
          "metadata": {}
        },
        {
          "output_type": "display_data",
          "data": {
            "text/plain": [
              "recommendations finished on 327000/1371980 queries. users per second: 54061.7"
            ],
            "text/html": [
              "<pre>recommendations finished on 327000/1371980 queries. users per second: 54061.7</pre>"
            ]
          },
          "metadata": {}
        },
        {
          "output_type": "display_data",
          "data": {
            "text/plain": [
              "recommendations finished on 328000/1371980 queries. users per second: 54059.5"
            ],
            "text/html": [
              "<pre>recommendations finished on 328000/1371980 queries. users per second: 54059.5</pre>"
            ]
          },
          "metadata": {}
        },
        {
          "output_type": "display_data",
          "data": {
            "text/plain": [
              "recommendations finished on 329000/1371980 queries. users per second: 54080.5"
            ],
            "text/html": [
              "<pre>recommendations finished on 329000/1371980 queries. users per second: 54080.5</pre>"
            ]
          },
          "metadata": {}
        },
        {
          "output_type": "display_data",
          "data": {
            "text/plain": [
              "recommendations finished on 330000/1371980 queries. users per second: 54009.9"
            ],
            "text/html": [
              "<pre>recommendations finished on 330000/1371980 queries. users per second: 54009.9</pre>"
            ]
          },
          "metadata": {}
        },
        {
          "output_type": "display_data",
          "data": {
            "text/plain": [
              "recommendations finished on 331000/1371980 queries. users per second: 54021.2"
            ],
            "text/html": [
              "<pre>recommendations finished on 331000/1371980 queries. users per second: 54021.2</pre>"
            ]
          },
          "metadata": {}
        },
        {
          "output_type": "display_data",
          "data": {
            "text/plain": [
              "recommendations finished on 332000/1371980 queries. users per second: 53992.7"
            ],
            "text/html": [
              "<pre>recommendations finished on 332000/1371980 queries. users per second: 53992.7</pre>"
            ]
          },
          "metadata": {}
        },
        {
          "output_type": "display_data",
          "data": {
            "text/plain": [
              "recommendations finished on 333000/1371980 queries. users per second: 54006.8"
            ],
            "text/html": [
              "<pre>recommendations finished on 333000/1371980 queries. users per second: 54006.8</pre>"
            ]
          },
          "metadata": {}
        },
        {
          "output_type": "display_data",
          "data": {
            "text/plain": [
              "recommendations finished on 334000/1371980 queries. users per second: 53994"
            ],
            "text/html": [
              "<pre>recommendations finished on 334000/1371980 queries. users per second: 53994</pre>"
            ]
          },
          "metadata": {}
        },
        {
          "output_type": "display_data",
          "data": {
            "text/plain": [
              "recommendations finished on 335000/1371980 queries. users per second: 54010.3"
            ],
            "text/html": [
              "<pre>recommendations finished on 335000/1371980 queries. users per second: 54010.3</pre>"
            ]
          },
          "metadata": {}
        },
        {
          "output_type": "display_data",
          "data": {
            "text/plain": [
              "recommendations finished on 336000/1371980 queries. users per second: 54019.9"
            ],
            "text/html": [
              "<pre>recommendations finished on 336000/1371980 queries. users per second: 54019.9</pre>"
            ]
          },
          "metadata": {}
        },
        {
          "output_type": "display_data",
          "data": {
            "text/plain": [
              "recommendations finished on 337000/1371980 queries. users per second: 53979.2"
            ],
            "text/html": [
              "<pre>recommendations finished on 337000/1371980 queries. users per second: 53979.2</pre>"
            ]
          },
          "metadata": {}
        },
        {
          "output_type": "display_data",
          "data": {
            "text/plain": [
              "recommendations finished on 338000/1371980 queries. users per second: 53962.5"
            ],
            "text/html": [
              "<pre>recommendations finished on 338000/1371980 queries. users per second: 53962.5</pre>"
            ]
          },
          "metadata": {}
        },
        {
          "output_type": "display_data",
          "data": {
            "text/plain": [
              "recommendations finished on 339000/1371980 queries. users per second: 53984.7"
            ],
            "text/html": [
              "<pre>recommendations finished on 339000/1371980 queries. users per second: 53984.7</pre>"
            ]
          },
          "metadata": {}
        },
        {
          "output_type": "display_data",
          "data": {
            "text/plain": [
              "recommendations finished on 340000/1371980 queries. users per second: 53940.3"
            ],
            "text/html": [
              "<pre>recommendations finished on 340000/1371980 queries. users per second: 53940.3</pre>"
            ]
          },
          "metadata": {}
        },
        {
          "output_type": "display_data",
          "data": {
            "text/plain": [
              "recommendations finished on 341000/1371980 queries. users per second: 53967.8"
            ],
            "text/html": [
              "<pre>recommendations finished on 341000/1371980 queries. users per second: 53967.8</pre>"
            ]
          },
          "metadata": {}
        },
        {
          "output_type": "display_data",
          "data": {
            "text/plain": [
              "recommendations finished on 342000/1371980 queries. users per second: 53906.9"
            ],
            "text/html": [
              "<pre>recommendations finished on 342000/1371980 queries. users per second: 53906.9</pre>"
            ]
          },
          "metadata": {}
        },
        {
          "output_type": "display_data",
          "data": {
            "text/plain": [
              "recommendations finished on 343000/1371980 queries. users per second: 53934.6"
            ],
            "text/html": [
              "<pre>recommendations finished on 343000/1371980 queries. users per second: 53934.6</pre>"
            ]
          },
          "metadata": {}
        },
        {
          "output_type": "display_data",
          "data": {
            "text/plain": [
              "recommendations finished on 344000/1371980 queries. users per second: 53907.5"
            ],
            "text/html": [
              "<pre>recommendations finished on 344000/1371980 queries. users per second: 53907.5</pre>"
            ]
          },
          "metadata": {}
        },
        {
          "output_type": "display_data",
          "data": {
            "text/plain": [
              "recommendations finished on 345000/1371980 queries. users per second: 53925.5"
            ],
            "text/html": [
              "<pre>recommendations finished on 345000/1371980 queries. users per second: 53925.5</pre>"
            ]
          },
          "metadata": {}
        },
        {
          "output_type": "display_data",
          "data": {
            "text/plain": [
              "recommendations finished on 346000/1371980 queries. users per second: 53912.7"
            ],
            "text/html": [
              "<pre>recommendations finished on 346000/1371980 queries. users per second: 53912.7</pre>"
            ]
          },
          "metadata": {}
        },
        {
          "output_type": "display_data",
          "data": {
            "text/plain": [
              "recommendations finished on 347000/1371980 queries. users per second: 53910"
            ],
            "text/html": [
              "<pre>recommendations finished on 347000/1371980 queries. users per second: 53910</pre>"
            ]
          },
          "metadata": {}
        },
        {
          "output_type": "display_data",
          "data": {
            "text/plain": [
              "recommendations finished on 348000/1371980 queries. users per second: 53910.5"
            ],
            "text/html": [
              "<pre>recommendations finished on 348000/1371980 queries. users per second: 53910.5</pre>"
            ]
          },
          "metadata": {}
        },
        {
          "output_type": "display_data",
          "data": {
            "text/plain": [
              "recommendations finished on 349000/1371980 queries. users per second: 53848"
            ],
            "text/html": [
              "<pre>recommendations finished on 349000/1371980 queries. users per second: 53848</pre>"
            ]
          },
          "metadata": {}
        },
        {
          "output_type": "display_data",
          "data": {
            "text/plain": [
              "recommendations finished on 350000/1371980 queries. users per second: 53840.6"
            ],
            "text/html": [
              "<pre>recommendations finished on 350000/1371980 queries. users per second: 53840.6</pre>"
            ]
          },
          "metadata": {}
        },
        {
          "output_type": "display_data",
          "data": {
            "text/plain": [
              "recommendations finished on 351000/1371980 queries. users per second: 53828.6"
            ],
            "text/html": [
              "<pre>recommendations finished on 351000/1371980 queries. users per second: 53828.6</pre>"
            ]
          },
          "metadata": {}
        },
        {
          "output_type": "display_data",
          "data": {
            "text/plain": [
              "recommendations finished on 352000/1371980 queries. users per second: 53819.2"
            ],
            "text/html": [
              "<pre>recommendations finished on 352000/1371980 queries. users per second: 53819.2</pre>"
            ]
          },
          "metadata": {}
        },
        {
          "output_type": "display_data",
          "data": {
            "text/plain": [
              "recommendations finished on 353000/1371980 queries. users per second: 53838.9"
            ],
            "text/html": [
              "<pre>recommendations finished on 353000/1371980 queries. users per second: 53838.9</pre>"
            ]
          },
          "metadata": {}
        },
        {
          "output_type": "display_data",
          "data": {
            "text/plain": [
              "recommendations finished on 354000/1371980 queries. users per second: 53821.5"
            ],
            "text/html": [
              "<pre>recommendations finished on 354000/1371980 queries. users per second: 53821.5</pre>"
            ]
          },
          "metadata": {}
        },
        {
          "output_type": "display_data",
          "data": {
            "text/plain": [
              "recommendations finished on 355000/1371980 queries. users per second: 53814.4"
            ],
            "text/html": [
              "<pre>recommendations finished on 355000/1371980 queries. users per second: 53814.4</pre>"
            ]
          },
          "metadata": {}
        },
        {
          "output_type": "display_data",
          "data": {
            "text/plain": [
              "recommendations finished on 356000/1371980 queries. users per second: 53831.7"
            ],
            "text/html": [
              "<pre>recommendations finished on 356000/1371980 queries. users per second: 53831.7</pre>"
            ]
          },
          "metadata": {}
        },
        {
          "output_type": "display_data",
          "data": {
            "text/plain": [
              "recommendations finished on 357000/1371980 queries. users per second: 53823.1"
            ],
            "text/html": [
              "<pre>recommendations finished on 357000/1371980 queries. users per second: 53823.1</pre>"
            ]
          },
          "metadata": {}
        },
        {
          "output_type": "display_data",
          "data": {
            "text/plain": [
              "recommendations finished on 358000/1371980 queries. users per second: 53827.8"
            ],
            "text/html": [
              "<pre>recommendations finished on 358000/1371980 queries. users per second: 53827.8</pre>"
            ]
          },
          "metadata": {}
        },
        {
          "output_type": "display_data",
          "data": {
            "text/plain": [
              "recommendations finished on 359000/1371980 queries. users per second: 53804.3"
            ],
            "text/html": [
              "<pre>recommendations finished on 359000/1371980 queries. users per second: 53804.3</pre>"
            ]
          },
          "metadata": {}
        },
        {
          "output_type": "display_data",
          "data": {
            "text/plain": [
              "recommendations finished on 360000/1371980 queries. users per second: 53825.4"
            ],
            "text/html": [
              "<pre>recommendations finished on 360000/1371980 queries. users per second: 53825.4</pre>"
            ]
          },
          "metadata": {}
        },
        {
          "output_type": "display_data",
          "data": {
            "text/plain": [
              "recommendations finished on 361000/1371980 queries. users per second: 53783.1"
            ],
            "text/html": [
              "<pre>recommendations finished on 361000/1371980 queries. users per second: 53783.1</pre>"
            ]
          },
          "metadata": {}
        },
        {
          "output_type": "display_data",
          "data": {
            "text/plain": [
              "recommendations finished on 362000/1371980 queries. users per second: 53791.1"
            ],
            "text/html": [
              "<pre>recommendations finished on 362000/1371980 queries. users per second: 53791.1</pre>"
            ]
          },
          "metadata": {}
        },
        {
          "output_type": "display_data",
          "data": {
            "text/plain": [
              "recommendations finished on 363000/1371980 queries. users per second: 53709.2"
            ],
            "text/html": [
              "<pre>recommendations finished on 363000/1371980 queries. users per second: 53709.2</pre>"
            ]
          },
          "metadata": {}
        },
        {
          "output_type": "display_data",
          "data": {
            "text/plain": [
              "recommendations finished on 364000/1371980 queries. users per second: 53671.8"
            ],
            "text/html": [
              "<pre>recommendations finished on 364000/1371980 queries. users per second: 53671.8</pre>"
            ]
          },
          "metadata": {}
        },
        {
          "output_type": "display_data",
          "data": {
            "text/plain": [
              "recommendations finished on 365000/1371980 queries. users per second: 53675.6"
            ],
            "text/html": [
              "<pre>recommendations finished on 365000/1371980 queries. users per second: 53675.6</pre>"
            ]
          },
          "metadata": {}
        },
        {
          "output_type": "display_data",
          "data": {
            "text/plain": [
              "recommendations finished on 366000/1371980 queries. users per second: 53646.3"
            ],
            "text/html": [
              "<pre>recommendations finished on 366000/1371980 queries. users per second: 53646.3</pre>"
            ]
          },
          "metadata": {}
        },
        {
          "output_type": "display_data",
          "data": {
            "text/plain": [
              "recommendations finished on 367000/1371980 queries. users per second: 53669.5"
            ],
            "text/html": [
              "<pre>recommendations finished on 367000/1371980 queries. users per second: 53669.5</pre>"
            ]
          },
          "metadata": {}
        },
        {
          "output_type": "display_data",
          "data": {
            "text/plain": [
              "recommendations finished on 368000/1371980 queries. users per second: 53689.5"
            ],
            "text/html": [
              "<pre>recommendations finished on 368000/1371980 queries. users per second: 53689.5</pre>"
            ]
          },
          "metadata": {}
        },
        {
          "output_type": "display_data",
          "data": {
            "text/plain": [
              "recommendations finished on 369000/1371980 queries. users per second: 53660.6"
            ],
            "text/html": [
              "<pre>recommendations finished on 369000/1371980 queries. users per second: 53660.6</pre>"
            ]
          },
          "metadata": {}
        },
        {
          "output_type": "display_data",
          "data": {
            "text/plain": [
              "recommendations finished on 370000/1371980 queries. users per second: 53683.1"
            ],
            "text/html": [
              "<pre>recommendations finished on 370000/1371980 queries. users per second: 53683.1</pre>"
            ]
          },
          "metadata": {}
        },
        {
          "output_type": "display_data",
          "data": {
            "text/plain": [
              "recommendations finished on 371000/1371980 queries. users per second: 53664.8"
            ],
            "text/html": [
              "<pre>recommendations finished on 371000/1371980 queries. users per second: 53664.8</pre>"
            ]
          },
          "metadata": {}
        },
        {
          "output_type": "display_data",
          "data": {
            "text/plain": [
              "recommendations finished on 372000/1371980 queries. users per second: 53681.9"
            ],
            "text/html": [
              "<pre>recommendations finished on 372000/1371980 queries. users per second: 53681.9</pre>"
            ]
          },
          "metadata": {}
        },
        {
          "output_type": "display_data",
          "data": {
            "text/plain": [
              "recommendations finished on 373000/1371980 queries. users per second: 53609.5"
            ],
            "text/html": [
              "<pre>recommendations finished on 373000/1371980 queries. users per second: 53609.5</pre>"
            ]
          },
          "metadata": {}
        },
        {
          "output_type": "display_data",
          "data": {
            "text/plain": [
              "recommendations finished on 374000/1371980 queries. users per second: 53589.8"
            ],
            "text/html": [
              "<pre>recommendations finished on 374000/1371980 queries. users per second: 53589.8</pre>"
            ]
          },
          "metadata": {}
        },
        {
          "output_type": "display_data",
          "data": {
            "text/plain": [
              "recommendations finished on 375000/1371980 queries. users per second: 53551.9"
            ],
            "text/html": [
              "<pre>recommendations finished on 375000/1371980 queries. users per second: 53551.9</pre>"
            ]
          },
          "metadata": {}
        },
        {
          "output_type": "display_data",
          "data": {
            "text/plain": [
              "recommendations finished on 376000/1371980 queries. users per second: 53568.5"
            ],
            "text/html": [
              "<pre>recommendations finished on 376000/1371980 queries. users per second: 53568.5</pre>"
            ]
          },
          "metadata": {}
        },
        {
          "output_type": "display_data",
          "data": {
            "text/plain": [
              "recommendations finished on 377000/1371980 queries. users per second: 53531.3"
            ],
            "text/html": [
              "<pre>recommendations finished on 377000/1371980 queries. users per second: 53531.3</pre>"
            ]
          },
          "metadata": {}
        },
        {
          "output_type": "display_data",
          "data": {
            "text/plain": [
              "recommendations finished on 378000/1371980 queries. users per second: 53555.6"
            ],
            "text/html": [
              "<pre>recommendations finished on 378000/1371980 queries. users per second: 53555.6</pre>"
            ]
          },
          "metadata": {}
        },
        {
          "output_type": "display_data",
          "data": {
            "text/plain": [
              "recommendations finished on 379000/1371980 queries. users per second: 53529.9"
            ],
            "text/html": [
              "<pre>recommendations finished on 379000/1371980 queries. users per second: 53529.9</pre>"
            ]
          },
          "metadata": {}
        },
        {
          "output_type": "display_data",
          "data": {
            "text/plain": [
              "recommendations finished on 380000/1371980 queries. users per second: 53554.2"
            ],
            "text/html": [
              "<pre>recommendations finished on 380000/1371980 queries. users per second: 53554.2</pre>"
            ]
          },
          "metadata": {}
        },
        {
          "output_type": "display_data",
          "data": {
            "text/plain": [
              "recommendations finished on 381000/1371980 queries. users per second: 53510"
            ],
            "text/html": [
              "<pre>recommendations finished on 381000/1371980 queries. users per second: 53510</pre>"
            ]
          },
          "metadata": {}
        },
        {
          "output_type": "display_data",
          "data": {
            "text/plain": [
              "recommendations finished on 382000/1371980 queries. users per second: 53509.1"
            ],
            "text/html": [
              "<pre>recommendations finished on 382000/1371980 queries. users per second: 53509.1</pre>"
            ]
          },
          "metadata": {}
        },
        {
          "output_type": "display_data",
          "data": {
            "text/plain": [
              "recommendations finished on 383000/1371980 queries. users per second: 53483.1"
            ],
            "text/html": [
              "<pre>recommendations finished on 383000/1371980 queries. users per second: 53483.1</pre>"
            ]
          },
          "metadata": {}
        },
        {
          "output_type": "display_data",
          "data": {
            "text/plain": [
              "recommendations finished on 384000/1371980 queries. users per second: 53433.1"
            ],
            "text/html": [
              "<pre>recommendations finished on 384000/1371980 queries. users per second: 53433.1</pre>"
            ]
          },
          "metadata": {}
        },
        {
          "output_type": "display_data",
          "data": {
            "text/plain": [
              "recommendations finished on 385000/1371980 queries. users per second: 53445.3"
            ],
            "text/html": [
              "<pre>recommendations finished on 385000/1371980 queries. users per second: 53445.3</pre>"
            ]
          },
          "metadata": {}
        },
        {
          "output_type": "display_data",
          "data": {
            "text/plain": [
              "recommendations finished on 386000/1371980 queries. users per second: 53450.3"
            ],
            "text/html": [
              "<pre>recommendations finished on 386000/1371980 queries. users per second: 53450.3</pre>"
            ]
          },
          "metadata": {}
        },
        {
          "output_type": "display_data",
          "data": {
            "text/plain": [
              "recommendations finished on 387000/1371980 queries. users per second: 53461.9"
            ],
            "text/html": [
              "<pre>recommendations finished on 387000/1371980 queries. users per second: 53461.9</pre>"
            ]
          },
          "metadata": {}
        },
        {
          "output_type": "display_data",
          "data": {
            "text/plain": [
              "recommendations finished on 388000/1371980 queries. users per second: 53448.3"
            ],
            "text/html": [
              "<pre>recommendations finished on 388000/1371980 queries. users per second: 53448.3</pre>"
            ]
          },
          "metadata": {}
        },
        {
          "output_type": "display_data",
          "data": {
            "text/plain": [
              "recommendations finished on 389000/1371980 queries. users per second: 53429.4"
            ],
            "text/html": [
              "<pre>recommendations finished on 389000/1371980 queries. users per second: 53429.4</pre>"
            ]
          },
          "metadata": {}
        },
        {
          "output_type": "display_data",
          "data": {
            "text/plain": [
              "recommendations finished on 390000/1371980 queries. users per second: 53410.3"
            ],
            "text/html": [
              "<pre>recommendations finished on 390000/1371980 queries. users per second: 53410.3</pre>"
            ]
          },
          "metadata": {}
        },
        {
          "output_type": "display_data",
          "data": {
            "text/plain": [
              "recommendations finished on 391000/1371980 queries. users per second: 53399.6"
            ],
            "text/html": [
              "<pre>recommendations finished on 391000/1371980 queries. users per second: 53399.6</pre>"
            ]
          },
          "metadata": {}
        },
        {
          "output_type": "display_data",
          "data": {
            "text/plain": [
              "recommendations finished on 392000/1371980 queries. users per second: 53380.8"
            ],
            "text/html": [
              "<pre>recommendations finished on 392000/1371980 queries. users per second: 53380.8</pre>"
            ]
          },
          "metadata": {}
        },
        {
          "output_type": "display_data",
          "data": {
            "text/plain": [
              "recommendations finished on 393000/1371980 queries. users per second: 53409.5"
            ],
            "text/html": [
              "<pre>recommendations finished on 393000/1371980 queries. users per second: 53409.5</pre>"
            ]
          },
          "metadata": {}
        },
        {
          "output_type": "display_data",
          "data": {
            "text/plain": [
              "recommendations finished on 394000/1371980 queries. users per second: 53431.3"
            ],
            "text/html": [
              "<pre>recommendations finished on 394000/1371980 queries. users per second: 53431.3</pre>"
            ]
          },
          "metadata": {}
        },
        {
          "output_type": "display_data",
          "data": {
            "text/plain": [
              "recommendations finished on 395000/1371980 queries. users per second: 53407.9"
            ],
            "text/html": [
              "<pre>recommendations finished on 395000/1371980 queries. users per second: 53407.9</pre>"
            ]
          },
          "metadata": {}
        },
        {
          "output_type": "display_data",
          "data": {
            "text/plain": [
              "recommendations finished on 396000/1371980 queries. users per second: 53435.2"
            ],
            "text/html": [
              "<pre>recommendations finished on 396000/1371980 queries. users per second: 53435.2</pre>"
            ]
          },
          "metadata": {}
        },
        {
          "output_type": "display_data",
          "data": {
            "text/plain": [
              "recommendations finished on 397000/1371980 queries. users per second: 53432.1"
            ],
            "text/html": [
              "<pre>recommendations finished on 397000/1371980 queries. users per second: 53432.1</pre>"
            ]
          },
          "metadata": {}
        },
        {
          "output_type": "display_data",
          "data": {
            "text/plain": [
              "recommendations finished on 398000/1371980 queries. users per second: 53450.3"
            ],
            "text/html": [
              "<pre>recommendations finished on 398000/1371980 queries. users per second: 53450.3</pre>"
            ]
          },
          "metadata": {}
        },
        {
          "output_type": "display_data",
          "data": {
            "text/plain": [
              "recommendations finished on 399000/1371980 queries. users per second: 53418.7"
            ],
            "text/html": [
              "<pre>recommendations finished on 399000/1371980 queries. users per second: 53418.7</pre>"
            ]
          },
          "metadata": {}
        },
        {
          "output_type": "display_data",
          "data": {
            "text/plain": [
              "recommendations finished on 400000/1371980 queries. users per second: 53399.7"
            ],
            "text/html": [
              "<pre>recommendations finished on 400000/1371980 queries. users per second: 53399.7</pre>"
            ]
          },
          "metadata": {}
        },
        {
          "output_type": "display_data",
          "data": {
            "text/plain": [
              "recommendations finished on 401000/1371980 queries. users per second: 53366.2"
            ],
            "text/html": [
              "<pre>recommendations finished on 401000/1371980 queries. users per second: 53366.2</pre>"
            ]
          },
          "metadata": {}
        },
        {
          "output_type": "display_data",
          "data": {
            "text/plain": [
              "recommendations finished on 402000/1371980 queries. users per second: 53367.5"
            ],
            "text/html": [
              "<pre>recommendations finished on 402000/1371980 queries. users per second: 53367.5</pre>"
            ]
          },
          "metadata": {}
        },
        {
          "output_type": "display_data",
          "data": {
            "text/plain": [
              "recommendations finished on 403000/1371980 queries. users per second: 53374"
            ],
            "text/html": [
              "<pre>recommendations finished on 403000/1371980 queries. users per second: 53374</pre>"
            ]
          },
          "metadata": {}
        },
        {
          "output_type": "display_data",
          "data": {
            "text/plain": [
              "recommendations finished on 404000/1371980 queries. users per second: 53389.4"
            ],
            "text/html": [
              "<pre>recommendations finished on 404000/1371980 queries. users per second: 53389.4</pre>"
            ]
          },
          "metadata": {}
        },
        {
          "output_type": "display_data",
          "data": {
            "text/plain": [
              "recommendations finished on 405000/1371980 queries. users per second: 53372.5"
            ],
            "text/html": [
              "<pre>recommendations finished on 405000/1371980 queries. users per second: 53372.5</pre>"
            ]
          },
          "metadata": {}
        },
        {
          "output_type": "display_data",
          "data": {
            "text/plain": [
              "recommendations finished on 406000/1371980 queries. users per second: 53353.5"
            ],
            "text/html": [
              "<pre>recommendations finished on 406000/1371980 queries. users per second: 53353.5</pre>"
            ]
          },
          "metadata": {}
        },
        {
          "output_type": "display_data",
          "data": {
            "text/plain": [
              "recommendations finished on 407000/1371980 queries. users per second: 53328.2"
            ],
            "text/html": [
              "<pre>recommendations finished on 407000/1371980 queries. users per second: 53328.2</pre>"
            ]
          },
          "metadata": {}
        },
        {
          "output_type": "display_data",
          "data": {
            "text/plain": [
              "recommendations finished on 408000/1371980 queries. users per second: 53342.8"
            ],
            "text/html": [
              "<pre>recommendations finished on 408000/1371980 queries. users per second: 53342.8</pre>"
            ]
          },
          "metadata": {}
        },
        {
          "output_type": "display_data",
          "data": {
            "text/plain": [
              "recommendations finished on 409000/1371980 queries. users per second: 53336.1"
            ],
            "text/html": [
              "<pre>recommendations finished on 409000/1371980 queries. users per second: 53336.1</pre>"
            ]
          },
          "metadata": {}
        },
        {
          "output_type": "display_data",
          "data": {
            "text/plain": [
              "recommendations finished on 410000/1371980 queries. users per second: 53339.1"
            ],
            "text/html": [
              "<pre>recommendations finished on 410000/1371980 queries. users per second: 53339.1</pre>"
            ]
          },
          "metadata": {}
        },
        {
          "output_type": "display_data",
          "data": {
            "text/plain": [
              "recommendations finished on 411000/1371980 queries. users per second: 53345.6"
            ],
            "text/html": [
              "<pre>recommendations finished on 411000/1371980 queries. users per second: 53345.6</pre>"
            ]
          },
          "metadata": {}
        },
        {
          "output_type": "display_data",
          "data": {
            "text/plain": [
              "recommendations finished on 412000/1371980 queries. users per second: 53316.4"
            ],
            "text/html": [
              "<pre>recommendations finished on 412000/1371980 queries. users per second: 53316.4</pre>"
            ]
          },
          "metadata": {}
        },
        {
          "output_type": "display_data",
          "data": {
            "text/plain": [
              "recommendations finished on 413000/1371980 queries. users per second: 53324.3"
            ],
            "text/html": [
              "<pre>recommendations finished on 413000/1371980 queries. users per second: 53324.3</pre>"
            ]
          },
          "metadata": {}
        },
        {
          "output_type": "display_data",
          "data": {
            "text/plain": [
              "recommendations finished on 414000/1371980 queries. users per second: 53277.8"
            ],
            "text/html": [
              "<pre>recommendations finished on 414000/1371980 queries. users per second: 53277.8</pre>"
            ]
          },
          "metadata": {}
        },
        {
          "output_type": "display_data",
          "data": {
            "text/plain": [
              "recommendations finished on 415000/1371980 queries. users per second: 53220.3"
            ],
            "text/html": [
              "<pre>recommendations finished on 415000/1371980 queries. users per second: 53220.3</pre>"
            ]
          },
          "metadata": {}
        },
        {
          "output_type": "display_data",
          "data": {
            "text/plain": [
              "recommendations finished on 416000/1371980 queries. users per second: 53225.8"
            ],
            "text/html": [
              "<pre>recommendations finished on 416000/1371980 queries. users per second: 53225.8</pre>"
            ]
          },
          "metadata": {}
        },
        {
          "output_type": "display_data",
          "data": {
            "text/plain": [
              "recommendations finished on 417000/1371980 queries. users per second: 53215.9"
            ],
            "text/html": [
              "<pre>recommendations finished on 417000/1371980 queries. users per second: 53215.9</pre>"
            ]
          },
          "metadata": {}
        },
        {
          "output_type": "display_data",
          "data": {
            "text/plain": [
              "recommendations finished on 418000/1371980 queries. users per second: 53204.7"
            ],
            "text/html": [
              "<pre>recommendations finished on 418000/1371980 queries. users per second: 53204.7</pre>"
            ]
          },
          "metadata": {}
        },
        {
          "output_type": "display_data",
          "data": {
            "text/plain": [
              "recommendations finished on 419000/1371980 queries. users per second: 53184.8"
            ],
            "text/html": [
              "<pre>recommendations finished on 419000/1371980 queries. users per second: 53184.8</pre>"
            ]
          },
          "metadata": {}
        },
        {
          "output_type": "display_data",
          "data": {
            "text/plain": [
              "recommendations finished on 420000/1371980 queries. users per second: 53192"
            ],
            "text/html": [
              "<pre>recommendations finished on 420000/1371980 queries. users per second: 53192</pre>"
            ]
          },
          "metadata": {}
        },
        {
          "output_type": "display_data",
          "data": {
            "text/plain": [
              "recommendations finished on 421000/1371980 queries. users per second: 53146.6"
            ],
            "text/html": [
              "<pre>recommendations finished on 421000/1371980 queries. users per second: 53146.6</pre>"
            ]
          },
          "metadata": {}
        },
        {
          "output_type": "display_data",
          "data": {
            "text/plain": [
              "recommendations finished on 422000/1371980 queries. users per second: 53146.9"
            ],
            "text/html": [
              "<pre>recommendations finished on 422000/1371980 queries. users per second: 53146.9</pre>"
            ]
          },
          "metadata": {}
        },
        {
          "output_type": "display_data",
          "data": {
            "text/plain": [
              "recommendations finished on 423000/1371980 queries. users per second: 53142.2"
            ],
            "text/html": [
              "<pre>recommendations finished on 423000/1371980 queries. users per second: 53142.2</pre>"
            ]
          },
          "metadata": {}
        },
        {
          "output_type": "display_data",
          "data": {
            "text/plain": [
              "recommendations finished on 424000/1371980 queries. users per second: 53161.9"
            ],
            "text/html": [
              "<pre>recommendations finished on 424000/1371980 queries. users per second: 53161.9</pre>"
            ]
          },
          "metadata": {}
        },
        {
          "output_type": "display_data",
          "data": {
            "text/plain": [
              "recommendations finished on 425000/1371980 queries. users per second: 53145.5"
            ],
            "text/html": [
              "<pre>recommendations finished on 425000/1371980 queries. users per second: 53145.5</pre>"
            ]
          },
          "metadata": {}
        },
        {
          "output_type": "display_data",
          "data": {
            "text/plain": [
              "recommendations finished on 426000/1371980 queries. users per second: 53140.6"
            ],
            "text/html": [
              "<pre>recommendations finished on 426000/1371980 queries. users per second: 53140.6</pre>"
            ]
          },
          "metadata": {}
        },
        {
          "output_type": "display_data",
          "data": {
            "text/plain": [
              "recommendations finished on 427000/1371980 queries. users per second: 53113.6"
            ],
            "text/html": [
              "<pre>recommendations finished on 427000/1371980 queries. users per second: 53113.6</pre>"
            ]
          },
          "metadata": {}
        },
        {
          "output_type": "display_data",
          "data": {
            "text/plain": [
              "recommendations finished on 428000/1371980 queries. users per second: 53084.5"
            ],
            "text/html": [
              "<pre>recommendations finished on 428000/1371980 queries. users per second: 53084.5</pre>"
            ]
          },
          "metadata": {}
        },
        {
          "output_type": "display_data",
          "data": {
            "text/plain": [
              "recommendations finished on 429000/1371980 queries. users per second: 53076.6"
            ],
            "text/html": [
              "<pre>recommendations finished on 429000/1371980 queries. users per second: 53076.6</pre>"
            ]
          },
          "metadata": {}
        },
        {
          "output_type": "display_data",
          "data": {
            "text/plain": [
              "recommendations finished on 430000/1371980 queries. users per second: 53079"
            ],
            "text/html": [
              "<pre>recommendations finished on 430000/1371980 queries. users per second: 53079</pre>"
            ]
          },
          "metadata": {}
        },
        {
          "output_type": "display_data",
          "data": {
            "text/plain": [
              "recommendations finished on 431000/1371980 queries. users per second: 53064.8"
            ],
            "text/html": [
              "<pre>recommendations finished on 431000/1371980 queries. users per second: 53064.8</pre>"
            ]
          },
          "metadata": {}
        },
        {
          "output_type": "display_data",
          "data": {
            "text/plain": [
              "recommendations finished on 432000/1371980 queries. users per second: 53076"
            ],
            "text/html": [
              "<pre>recommendations finished on 432000/1371980 queries. users per second: 53076</pre>"
            ]
          },
          "metadata": {}
        },
        {
          "output_type": "display_data",
          "data": {
            "text/plain": [
              "recommendations finished on 433000/1371980 queries. users per second: 53088.1"
            ],
            "text/html": [
              "<pre>recommendations finished on 433000/1371980 queries. users per second: 53088.1</pre>"
            ]
          },
          "metadata": {}
        },
        {
          "output_type": "display_data",
          "data": {
            "text/plain": [
              "recommendations finished on 434000/1371980 queries. users per second: 53073.9"
            ],
            "text/html": [
              "<pre>recommendations finished on 434000/1371980 queries. users per second: 53073.9</pre>"
            ]
          },
          "metadata": {}
        },
        {
          "output_type": "display_data",
          "data": {
            "text/plain": [
              "recommendations finished on 435000/1371980 queries. users per second: 53084.5"
            ],
            "text/html": [
              "<pre>recommendations finished on 435000/1371980 queries. users per second: 53084.5</pre>"
            ]
          },
          "metadata": {}
        },
        {
          "output_type": "display_data",
          "data": {
            "text/plain": [
              "recommendations finished on 436000/1371980 queries. users per second: 53074.2"
            ],
            "text/html": [
              "<pre>recommendations finished on 436000/1371980 queries. users per second: 53074.2</pre>"
            ]
          },
          "metadata": {}
        },
        {
          "output_type": "display_data",
          "data": {
            "text/plain": [
              "recommendations finished on 437000/1371980 queries. users per second: 53083.6"
            ],
            "text/html": [
              "<pre>recommendations finished on 437000/1371980 queries. users per second: 53083.6</pre>"
            ]
          },
          "metadata": {}
        },
        {
          "output_type": "display_data",
          "data": {
            "text/plain": [
              "recommendations finished on 438000/1371980 queries. users per second: 53066.9"
            ],
            "text/html": [
              "<pre>recommendations finished on 438000/1371980 queries. users per second: 53066.9</pre>"
            ]
          },
          "metadata": {}
        },
        {
          "output_type": "display_data",
          "data": {
            "text/plain": [
              "recommendations finished on 439000/1371980 queries. users per second: 53055.3"
            ],
            "text/html": [
              "<pre>recommendations finished on 439000/1371980 queries. users per second: 53055.3</pre>"
            ]
          },
          "metadata": {}
        },
        {
          "output_type": "display_data",
          "data": {
            "text/plain": [
              "recommendations finished on 440000/1371980 queries. users per second: 53042.2"
            ],
            "text/html": [
              "<pre>recommendations finished on 440000/1371980 queries. users per second: 53042.2</pre>"
            ]
          },
          "metadata": {}
        },
        {
          "output_type": "display_data",
          "data": {
            "text/plain": [
              "recommendations finished on 441000/1371980 queries. users per second: 53059.7"
            ],
            "text/html": [
              "<pre>recommendations finished on 441000/1371980 queries. users per second: 53059.7</pre>"
            ]
          },
          "metadata": {}
        },
        {
          "output_type": "display_data",
          "data": {
            "text/plain": [
              "recommendations finished on 442000/1371980 queries. users per second: 53032.6"
            ],
            "text/html": [
              "<pre>recommendations finished on 442000/1371980 queries. users per second: 53032.6</pre>"
            ]
          },
          "metadata": {}
        },
        {
          "output_type": "display_data",
          "data": {
            "text/plain": [
              "recommendations finished on 443000/1371980 queries. users per second: 53051"
            ],
            "text/html": [
              "<pre>recommendations finished on 443000/1371980 queries. users per second: 53051</pre>"
            ]
          },
          "metadata": {}
        },
        {
          "output_type": "display_data",
          "data": {
            "text/plain": [
              "recommendations finished on 444000/1371980 queries. users per second: 53018.8"
            ],
            "text/html": [
              "<pre>recommendations finished on 444000/1371980 queries. users per second: 53018.8</pre>"
            ]
          },
          "metadata": {}
        },
        {
          "output_type": "display_data",
          "data": {
            "text/plain": [
              "recommendations finished on 445000/1371980 queries. users per second: 53027.5"
            ],
            "text/html": [
              "<pre>recommendations finished on 445000/1371980 queries. users per second: 53027.5</pre>"
            ]
          },
          "metadata": {}
        },
        {
          "output_type": "display_data",
          "data": {
            "text/plain": [
              "recommendations finished on 446000/1371980 queries. users per second: 52993.4"
            ],
            "text/html": [
              "<pre>recommendations finished on 446000/1371980 queries. users per second: 52993.4</pre>"
            ]
          },
          "metadata": {}
        },
        {
          "output_type": "display_data",
          "data": {
            "text/plain": [
              "recommendations finished on 447000/1371980 queries. users per second: 52982.5"
            ],
            "text/html": [
              "<pre>recommendations finished on 447000/1371980 queries. users per second: 52982.5</pre>"
            ]
          },
          "metadata": {}
        },
        {
          "output_type": "display_data",
          "data": {
            "text/plain": [
              "recommendations finished on 448000/1371980 queries. users per second: 52987.9"
            ],
            "text/html": [
              "<pre>recommendations finished on 448000/1371980 queries. users per second: 52987.9</pre>"
            ]
          },
          "metadata": {}
        },
        {
          "output_type": "display_data",
          "data": {
            "text/plain": [
              "recommendations finished on 449000/1371980 queries. users per second: 52997.9"
            ],
            "text/html": [
              "<pre>recommendations finished on 449000/1371980 queries. users per second: 52997.9</pre>"
            ]
          },
          "metadata": {}
        },
        {
          "output_type": "display_data",
          "data": {
            "text/plain": [
              "recommendations finished on 450000/1371980 queries. users per second: 52963"
            ],
            "text/html": [
              "<pre>recommendations finished on 450000/1371980 queries. users per second: 52963</pre>"
            ]
          },
          "metadata": {}
        },
        {
          "output_type": "display_data",
          "data": {
            "text/plain": [
              "recommendations finished on 451000/1371980 queries. users per second: 52923.2"
            ],
            "text/html": [
              "<pre>recommendations finished on 451000/1371980 queries. users per second: 52923.2</pre>"
            ]
          },
          "metadata": {}
        },
        {
          "output_type": "display_data",
          "data": {
            "text/plain": [
              "recommendations finished on 452000/1371980 queries. users per second: 52908.9"
            ],
            "text/html": [
              "<pre>recommendations finished on 452000/1371980 queries. users per second: 52908.9</pre>"
            ]
          },
          "metadata": {}
        },
        {
          "output_type": "display_data",
          "data": {
            "text/plain": [
              "recommendations finished on 453000/1371980 queries. users per second: 52890.1"
            ],
            "text/html": [
              "<pre>recommendations finished on 453000/1371980 queries. users per second: 52890.1</pre>"
            ]
          },
          "metadata": {}
        },
        {
          "output_type": "display_data",
          "data": {
            "text/plain": [
              "recommendations finished on 454000/1371980 queries. users per second: 52865.3"
            ],
            "text/html": [
              "<pre>recommendations finished on 454000/1371980 queries. users per second: 52865.3</pre>"
            ]
          },
          "metadata": {}
        },
        {
          "output_type": "display_data",
          "data": {
            "text/plain": [
              "recommendations finished on 455000/1371980 queries. users per second: 52828.6"
            ],
            "text/html": [
              "<pre>recommendations finished on 455000/1371980 queries. users per second: 52828.6</pre>"
            ]
          },
          "metadata": {}
        },
        {
          "output_type": "display_data",
          "data": {
            "text/plain": [
              "recommendations finished on 456000/1371980 queries. users per second: 52821.5"
            ],
            "text/html": [
              "<pre>recommendations finished on 456000/1371980 queries. users per second: 52821.5</pre>"
            ]
          },
          "metadata": {}
        },
        {
          "output_type": "display_data",
          "data": {
            "text/plain": [
              "recommendations finished on 457000/1371980 queries. users per second: 52784.4"
            ],
            "text/html": [
              "<pre>recommendations finished on 457000/1371980 queries. users per second: 52784.4</pre>"
            ]
          },
          "metadata": {}
        },
        {
          "output_type": "display_data",
          "data": {
            "text/plain": [
              "recommendations finished on 458000/1371980 queries. users per second: 52747.2"
            ],
            "text/html": [
              "<pre>recommendations finished on 458000/1371980 queries. users per second: 52747.2</pre>"
            ]
          },
          "metadata": {}
        },
        {
          "output_type": "display_data",
          "data": {
            "text/plain": [
              "recommendations finished on 459000/1371980 queries. users per second: 52742.7"
            ],
            "text/html": [
              "<pre>recommendations finished on 459000/1371980 queries. users per second: 52742.7</pre>"
            ]
          },
          "metadata": {}
        },
        {
          "output_type": "display_data",
          "data": {
            "text/plain": [
              "recommendations finished on 460000/1371980 queries. users per second: 52726.6"
            ],
            "text/html": [
              "<pre>recommendations finished on 460000/1371980 queries. users per second: 52726.6</pre>"
            ]
          },
          "metadata": {}
        },
        {
          "output_type": "display_data",
          "data": {
            "text/plain": [
              "recommendations finished on 461000/1371980 queries. users per second: 52744.2"
            ],
            "text/html": [
              "<pre>recommendations finished on 461000/1371980 queries. users per second: 52744.2</pre>"
            ]
          },
          "metadata": {}
        },
        {
          "output_type": "display_data",
          "data": {
            "text/plain": [
              "recommendations finished on 462000/1371980 queries. users per second: 52734.3"
            ],
            "text/html": [
              "<pre>recommendations finished on 462000/1371980 queries. users per second: 52734.3</pre>"
            ]
          },
          "metadata": {}
        },
        {
          "output_type": "display_data",
          "data": {
            "text/plain": [
              "recommendations finished on 463000/1371980 queries. users per second: 52709.6"
            ],
            "text/html": [
              "<pre>recommendations finished on 463000/1371980 queries. users per second: 52709.6</pre>"
            ]
          },
          "metadata": {}
        },
        {
          "output_type": "display_data",
          "data": {
            "text/plain": [
              "recommendations finished on 464000/1371980 queries. users per second: 52680.5"
            ],
            "text/html": [
              "<pre>recommendations finished on 464000/1371980 queries. users per second: 52680.5</pre>"
            ]
          },
          "metadata": {}
        },
        {
          "output_type": "display_data",
          "data": {
            "text/plain": [
              "recommendations finished on 465000/1371980 queries. users per second: 52572.8"
            ],
            "text/html": [
              "<pre>recommendations finished on 465000/1371980 queries. users per second: 52572.8</pre>"
            ]
          },
          "metadata": {}
        },
        {
          "output_type": "display_data",
          "data": {
            "text/plain": [
              "recommendations finished on 466000/1371980 queries. users per second: 52555"
            ],
            "text/html": [
              "<pre>recommendations finished on 466000/1371980 queries. users per second: 52555</pre>"
            ]
          },
          "metadata": {}
        },
        {
          "output_type": "display_data",
          "data": {
            "text/plain": [
              "recommendations finished on 467000/1371980 queries. users per second: 52559.1"
            ],
            "text/html": [
              "<pre>recommendations finished on 467000/1371980 queries. users per second: 52559.1</pre>"
            ]
          },
          "metadata": {}
        },
        {
          "output_type": "display_data",
          "data": {
            "text/plain": [
              "recommendations finished on 468000/1371980 queries. users per second: 52555.6"
            ],
            "text/html": [
              "<pre>recommendations finished on 468000/1371980 queries. users per second: 52555.6</pre>"
            ]
          },
          "metadata": {}
        },
        {
          "output_type": "display_data",
          "data": {
            "text/plain": [
              "recommendations finished on 469000/1371980 queries. users per second: 52563.1"
            ],
            "text/html": [
              "<pre>recommendations finished on 469000/1371980 queries. users per second: 52563.1</pre>"
            ]
          },
          "metadata": {}
        },
        {
          "output_type": "display_data",
          "data": {
            "text/plain": [
              "recommendations finished on 470000/1371980 queries. users per second: 52562.4"
            ],
            "text/html": [
              "<pre>recommendations finished on 470000/1371980 queries. users per second: 52562.4</pre>"
            ]
          },
          "metadata": {}
        },
        {
          "output_type": "display_data",
          "data": {
            "text/plain": [
              "recommendations finished on 471000/1371980 queries. users per second: 52532.7"
            ],
            "text/html": [
              "<pre>recommendations finished on 471000/1371980 queries. users per second: 52532.7</pre>"
            ]
          },
          "metadata": {}
        },
        {
          "output_type": "display_data",
          "data": {
            "text/plain": [
              "recommendations finished on 472000/1371980 queries. users per second: 52509"
            ],
            "text/html": [
              "<pre>recommendations finished on 472000/1371980 queries. users per second: 52509</pre>"
            ]
          },
          "metadata": {}
        },
        {
          "output_type": "display_data",
          "data": {
            "text/plain": [
              "recommendations finished on 473000/1371980 queries. users per second: 52486"
            ],
            "text/html": [
              "<pre>recommendations finished on 473000/1371980 queries. users per second: 52486</pre>"
            ]
          },
          "metadata": {}
        },
        {
          "output_type": "display_data",
          "data": {
            "text/plain": [
              "recommendations finished on 474000/1371980 queries. users per second: 52467.5"
            ],
            "text/html": [
              "<pre>recommendations finished on 474000/1371980 queries. users per second: 52467.5</pre>"
            ]
          },
          "metadata": {}
        },
        {
          "output_type": "display_data",
          "data": {
            "text/plain": [
              "recommendations finished on 475000/1371980 queries. users per second: 52457.4"
            ],
            "text/html": [
              "<pre>recommendations finished on 475000/1371980 queries. users per second: 52457.4</pre>"
            ]
          },
          "metadata": {}
        },
        {
          "output_type": "display_data",
          "data": {
            "text/plain": [
              "recommendations finished on 476000/1371980 queries. users per second: 52459"
            ],
            "text/html": [
              "<pre>recommendations finished on 476000/1371980 queries. users per second: 52459</pre>"
            ]
          },
          "metadata": {}
        },
        {
          "output_type": "display_data",
          "data": {
            "text/plain": [
              "recommendations finished on 477000/1371980 queries. users per second: 52477.8"
            ],
            "text/html": [
              "<pre>recommendations finished on 477000/1371980 queries. users per second: 52477.8</pre>"
            ]
          },
          "metadata": {}
        },
        {
          "output_type": "display_data",
          "data": {
            "text/plain": [
              "recommendations finished on 478000/1371980 queries. users per second: 52476.2"
            ],
            "text/html": [
              "<pre>recommendations finished on 478000/1371980 queries. users per second: 52476.2</pre>"
            ]
          },
          "metadata": {}
        },
        {
          "output_type": "display_data",
          "data": {
            "text/plain": [
              "recommendations finished on 479000/1371980 queries. users per second: 52461.6"
            ],
            "text/html": [
              "<pre>recommendations finished on 479000/1371980 queries. users per second: 52461.6</pre>"
            ]
          },
          "metadata": {}
        },
        {
          "output_type": "display_data",
          "data": {
            "text/plain": [
              "recommendations finished on 480000/1371980 queries. users per second: 52451.6"
            ],
            "text/html": [
              "<pre>recommendations finished on 480000/1371980 queries. users per second: 52451.6</pre>"
            ]
          },
          "metadata": {}
        },
        {
          "output_type": "display_data",
          "data": {
            "text/plain": [
              "recommendations finished on 481000/1371980 queries. users per second: 52463.7"
            ],
            "text/html": [
              "<pre>recommendations finished on 481000/1371980 queries. users per second: 52463.7</pre>"
            ]
          },
          "metadata": {}
        },
        {
          "output_type": "display_data",
          "data": {
            "text/plain": [
              "recommendations finished on 482000/1371980 queries. users per second: 52461.7"
            ],
            "text/html": [
              "<pre>recommendations finished on 482000/1371980 queries. users per second: 52461.7</pre>"
            ]
          },
          "metadata": {}
        },
        {
          "output_type": "display_data",
          "data": {
            "text/plain": [
              "recommendations finished on 483000/1371980 queries. users per second: 52454.9"
            ],
            "text/html": [
              "<pre>recommendations finished on 483000/1371980 queries. users per second: 52454.9</pre>"
            ]
          },
          "metadata": {}
        },
        {
          "output_type": "display_data",
          "data": {
            "text/plain": [
              "recommendations finished on 484000/1371980 queries. users per second: 52466.6"
            ],
            "text/html": [
              "<pre>recommendations finished on 484000/1371980 queries. users per second: 52466.6</pre>"
            ]
          },
          "metadata": {}
        },
        {
          "output_type": "display_data",
          "data": {
            "text/plain": [
              "recommendations finished on 485000/1371980 queries. users per second: 52446.6"
            ],
            "text/html": [
              "<pre>recommendations finished on 485000/1371980 queries. users per second: 52446.6</pre>"
            ]
          },
          "metadata": {}
        },
        {
          "output_type": "display_data",
          "data": {
            "text/plain": [
              "recommendations finished on 486000/1371980 queries. users per second: 52469.5"
            ],
            "text/html": [
              "<pre>recommendations finished on 486000/1371980 queries. users per second: 52469.5</pre>"
            ]
          },
          "metadata": {}
        },
        {
          "output_type": "display_data",
          "data": {
            "text/plain": [
              "recommendations finished on 487000/1371980 queries. users per second: 52454.3"
            ],
            "text/html": [
              "<pre>recommendations finished on 487000/1371980 queries. users per second: 52454.3</pre>"
            ]
          },
          "metadata": {}
        },
        {
          "output_type": "display_data",
          "data": {
            "text/plain": [
              "recommendations finished on 488000/1371980 queries. users per second: 52470.8"
            ],
            "text/html": [
              "<pre>recommendations finished on 488000/1371980 queries. users per second: 52470.8</pre>"
            ]
          },
          "metadata": {}
        },
        {
          "output_type": "display_data",
          "data": {
            "text/plain": [
              "recommendations finished on 489000/1371980 queries. users per second: 52436.8"
            ],
            "text/html": [
              "<pre>recommendations finished on 489000/1371980 queries. users per second: 52436.8</pre>"
            ]
          },
          "metadata": {}
        },
        {
          "output_type": "display_data",
          "data": {
            "text/plain": [
              "recommendations finished on 490000/1371980 queries. users per second: 52454.8"
            ],
            "text/html": [
              "<pre>recommendations finished on 490000/1371980 queries. users per second: 52454.8</pre>"
            ]
          },
          "metadata": {}
        },
        {
          "output_type": "display_data",
          "data": {
            "text/plain": [
              "recommendations finished on 491000/1371980 queries. users per second: 52425.1"
            ],
            "text/html": [
              "<pre>recommendations finished on 491000/1371980 queries. users per second: 52425.1</pre>"
            ]
          },
          "metadata": {}
        },
        {
          "output_type": "display_data",
          "data": {
            "text/plain": [
              "recommendations finished on 492000/1371980 queries. users per second: 52418.9"
            ],
            "text/html": [
              "<pre>recommendations finished on 492000/1371980 queries. users per second: 52418.9</pre>"
            ]
          },
          "metadata": {}
        },
        {
          "output_type": "display_data",
          "data": {
            "text/plain": [
              "recommendations finished on 493000/1371980 queries. users per second: 52392.7"
            ],
            "text/html": [
              "<pre>recommendations finished on 493000/1371980 queries. users per second: 52392.7</pre>"
            ]
          },
          "metadata": {}
        },
        {
          "output_type": "display_data",
          "data": {
            "text/plain": [
              "recommendations finished on 494000/1371980 queries. users per second: 52406.8"
            ],
            "text/html": [
              "<pre>recommendations finished on 494000/1371980 queries. users per second: 52406.8</pre>"
            ]
          },
          "metadata": {}
        },
        {
          "output_type": "display_data",
          "data": {
            "text/plain": [
              "recommendations finished on 495000/1371980 queries. users per second: 52365.4"
            ],
            "text/html": [
              "<pre>recommendations finished on 495000/1371980 queries. users per second: 52365.4</pre>"
            ]
          },
          "metadata": {}
        },
        {
          "output_type": "display_data",
          "data": {
            "text/plain": [
              "recommendations finished on 496000/1371980 queries. users per second: 52379.9"
            ],
            "text/html": [
              "<pre>recommendations finished on 496000/1371980 queries. users per second: 52379.9</pre>"
            ]
          },
          "metadata": {}
        },
        {
          "output_type": "display_data",
          "data": {
            "text/plain": [
              "recommendations finished on 497000/1371980 queries. users per second: 52354.3"
            ],
            "text/html": [
              "<pre>recommendations finished on 497000/1371980 queries. users per second: 52354.3</pre>"
            ]
          },
          "metadata": {}
        },
        {
          "output_type": "display_data",
          "data": {
            "text/plain": [
              "recommendations finished on 498000/1371980 queries. users per second: 52371.5"
            ],
            "text/html": [
              "<pre>recommendations finished on 498000/1371980 queries. users per second: 52371.5</pre>"
            ]
          },
          "metadata": {}
        },
        {
          "output_type": "display_data",
          "data": {
            "text/plain": [
              "recommendations finished on 499000/1371980 queries. users per second: 52341.6"
            ],
            "text/html": [
              "<pre>recommendations finished on 499000/1371980 queries. users per second: 52341.6</pre>"
            ]
          },
          "metadata": {}
        },
        {
          "output_type": "display_data",
          "data": {
            "text/plain": [
              "recommendations finished on 500000/1371980 queries. users per second: 52359.6"
            ],
            "text/html": [
              "<pre>recommendations finished on 500000/1371980 queries. users per second: 52359.6</pre>"
            ]
          },
          "metadata": {}
        },
        {
          "output_type": "display_data",
          "data": {
            "text/plain": [
              "recommendations finished on 501000/1371980 queries. users per second: 52333.2"
            ],
            "text/html": [
              "<pre>recommendations finished on 501000/1371980 queries. users per second: 52333.2</pre>"
            ]
          },
          "metadata": {}
        },
        {
          "output_type": "display_data",
          "data": {
            "text/plain": [
              "recommendations finished on 502000/1371980 queries. users per second: 52349.6"
            ],
            "text/html": [
              "<pre>recommendations finished on 502000/1371980 queries. users per second: 52349.6</pre>"
            ]
          },
          "metadata": {}
        },
        {
          "output_type": "display_data",
          "data": {
            "text/plain": [
              "recommendations finished on 503000/1371980 queries. users per second: 52319.3"
            ],
            "text/html": [
              "<pre>recommendations finished on 503000/1371980 queries. users per second: 52319.3</pre>"
            ]
          },
          "metadata": {}
        },
        {
          "output_type": "display_data",
          "data": {
            "text/plain": [
              "recommendations finished on 504000/1371980 queries. users per second: 52330.5"
            ],
            "text/html": [
              "<pre>recommendations finished on 504000/1371980 queries. users per second: 52330.5</pre>"
            ]
          },
          "metadata": {}
        },
        {
          "output_type": "display_data",
          "data": {
            "text/plain": [
              "recommendations finished on 505000/1371980 queries. users per second: 52319.3"
            ],
            "text/html": [
              "<pre>recommendations finished on 505000/1371980 queries. users per second: 52319.3</pre>"
            ]
          },
          "metadata": {}
        },
        {
          "output_type": "display_data",
          "data": {
            "text/plain": [
              "recommendations finished on 506000/1371980 queries. users per second: 52298.8"
            ],
            "text/html": [
              "<pre>recommendations finished on 506000/1371980 queries. users per second: 52298.8</pre>"
            ]
          },
          "metadata": {}
        },
        {
          "output_type": "display_data",
          "data": {
            "text/plain": [
              "recommendations finished on 507000/1371980 queries. users per second: 52299.7"
            ],
            "text/html": [
              "<pre>recommendations finished on 507000/1371980 queries. users per second: 52299.7</pre>"
            ]
          },
          "metadata": {}
        },
        {
          "output_type": "display_data",
          "data": {
            "text/plain": [
              "recommendations finished on 508000/1371980 queries. users per second: 52313.3"
            ],
            "text/html": [
              "<pre>recommendations finished on 508000/1371980 queries. users per second: 52313.3</pre>"
            ]
          },
          "metadata": {}
        },
        {
          "output_type": "display_data",
          "data": {
            "text/plain": [
              "recommendations finished on 509000/1371980 queries. users per second: 52308.4"
            ],
            "text/html": [
              "<pre>recommendations finished on 509000/1371980 queries. users per second: 52308.4</pre>"
            ]
          },
          "metadata": {}
        },
        {
          "output_type": "display_data",
          "data": {
            "text/plain": [
              "recommendations finished on 510000/1371980 queries. users per second: 52301.8"
            ],
            "text/html": [
              "<pre>recommendations finished on 510000/1371980 queries. users per second: 52301.8</pre>"
            ]
          },
          "metadata": {}
        },
        {
          "output_type": "display_data",
          "data": {
            "text/plain": [
              "recommendations finished on 511000/1371980 queries. users per second: 52294.9"
            ],
            "text/html": [
              "<pre>recommendations finished on 511000/1371980 queries. users per second: 52294.9</pre>"
            ]
          },
          "metadata": {}
        },
        {
          "output_type": "display_data",
          "data": {
            "text/plain": [
              "recommendations finished on 512000/1371980 queries. users per second: 52297.4"
            ],
            "text/html": [
              "<pre>recommendations finished on 512000/1371980 queries. users per second: 52297.4</pre>"
            ]
          },
          "metadata": {}
        },
        {
          "output_type": "display_data",
          "data": {
            "text/plain": [
              "recommendations finished on 513000/1371980 queries. users per second: 52277.3"
            ],
            "text/html": [
              "<pre>recommendations finished on 513000/1371980 queries. users per second: 52277.3</pre>"
            ]
          },
          "metadata": {}
        },
        {
          "output_type": "display_data",
          "data": {
            "text/plain": [
              "recommendations finished on 514000/1371980 queries. users per second: 52244.2"
            ],
            "text/html": [
              "<pre>recommendations finished on 514000/1371980 queries. users per second: 52244.2</pre>"
            ]
          },
          "metadata": {}
        },
        {
          "output_type": "display_data",
          "data": {
            "text/plain": [
              "recommendations finished on 515000/1371980 queries. users per second: 52204.3"
            ],
            "text/html": [
              "<pre>recommendations finished on 515000/1371980 queries. users per second: 52204.3</pre>"
            ]
          },
          "metadata": {}
        },
        {
          "output_type": "display_data",
          "data": {
            "text/plain": [
              "recommendations finished on 516000/1371980 queries. users per second: 52203"
            ],
            "text/html": [
              "<pre>recommendations finished on 516000/1371980 queries. users per second: 52203</pre>"
            ]
          },
          "metadata": {}
        },
        {
          "output_type": "display_data",
          "data": {
            "text/plain": [
              "recommendations finished on 517000/1371980 queries. users per second: 52205.1"
            ],
            "text/html": [
              "<pre>recommendations finished on 517000/1371980 queries. users per second: 52205.1</pre>"
            ]
          },
          "metadata": {}
        },
        {
          "output_type": "display_data",
          "data": {
            "text/plain": [
              "recommendations finished on 518000/1371980 queries. users per second: 52194.2"
            ],
            "text/html": [
              "<pre>recommendations finished on 518000/1371980 queries. users per second: 52194.2</pre>"
            ]
          },
          "metadata": {}
        },
        {
          "output_type": "display_data",
          "data": {
            "text/plain": [
              "recommendations finished on 519000/1371980 queries. users per second: 52183.5"
            ],
            "text/html": [
              "<pre>recommendations finished on 519000/1371980 queries. users per second: 52183.5</pre>"
            ]
          },
          "metadata": {}
        },
        {
          "output_type": "display_data",
          "data": {
            "text/plain": [
              "recommendations finished on 520000/1371980 queries. users per second: 52184"
            ],
            "text/html": [
              "<pre>recommendations finished on 520000/1371980 queries. users per second: 52184</pre>"
            ]
          },
          "metadata": {}
        },
        {
          "output_type": "display_data",
          "data": {
            "text/plain": [
              "recommendations finished on 521000/1371980 queries. users per second: 52177.7"
            ],
            "text/html": [
              "<pre>recommendations finished on 521000/1371980 queries. users per second: 52177.7</pre>"
            ]
          },
          "metadata": {}
        },
        {
          "output_type": "display_data",
          "data": {
            "text/plain": [
              "recommendations finished on 522000/1371980 queries. users per second: 52156.2"
            ],
            "text/html": [
              "<pre>recommendations finished on 522000/1371980 queries. users per second: 52156.2</pre>"
            ]
          },
          "metadata": {}
        },
        {
          "output_type": "display_data",
          "data": {
            "text/plain": [
              "recommendations finished on 523000/1371980 queries. users per second: 52157.6"
            ],
            "text/html": [
              "<pre>recommendations finished on 523000/1371980 queries. users per second: 52157.6</pre>"
            ]
          },
          "metadata": {}
        },
        {
          "output_type": "display_data",
          "data": {
            "text/plain": [
              "recommendations finished on 524000/1371980 queries. users per second: 52174.2"
            ],
            "text/html": [
              "<pre>recommendations finished on 524000/1371980 queries. users per second: 52174.2</pre>"
            ]
          },
          "metadata": {}
        },
        {
          "output_type": "display_data",
          "data": {
            "text/plain": [
              "recommendations finished on 525000/1371980 queries. users per second: 52166.4"
            ],
            "text/html": [
              "<pre>recommendations finished on 525000/1371980 queries. users per second: 52166.4</pre>"
            ]
          },
          "metadata": {}
        },
        {
          "output_type": "display_data",
          "data": {
            "text/plain": [
              "recommendations finished on 526000/1371980 queries. users per second: 52154.3"
            ],
            "text/html": [
              "<pre>recommendations finished on 526000/1371980 queries. users per second: 52154.3</pre>"
            ]
          },
          "metadata": {}
        },
        {
          "output_type": "display_data",
          "data": {
            "text/plain": [
              "recommendations finished on 527000/1371980 queries. users per second: 52138.2"
            ],
            "text/html": [
              "<pre>recommendations finished on 527000/1371980 queries. users per second: 52138.2</pre>"
            ]
          },
          "metadata": {}
        },
        {
          "output_type": "display_data",
          "data": {
            "text/plain": [
              "recommendations finished on 528000/1371980 queries. users per second: 52155.8"
            ],
            "text/html": [
              "<pre>recommendations finished on 528000/1371980 queries. users per second: 52155.8</pre>"
            ]
          },
          "metadata": {}
        },
        {
          "output_type": "display_data",
          "data": {
            "text/plain": [
              "recommendations finished on 529000/1371980 queries. users per second: 52149.6"
            ],
            "text/html": [
              "<pre>recommendations finished on 529000/1371980 queries. users per second: 52149.6</pre>"
            ]
          },
          "metadata": {}
        },
        {
          "output_type": "display_data",
          "data": {
            "text/plain": [
              "recommendations finished on 530000/1371980 queries. users per second: 52126.1"
            ],
            "text/html": [
              "<pre>recommendations finished on 530000/1371980 queries. users per second: 52126.1</pre>"
            ]
          },
          "metadata": {}
        },
        {
          "output_type": "display_data",
          "data": {
            "text/plain": [
              "recommendations finished on 531000/1371980 queries. users per second: 52124.5"
            ],
            "text/html": [
              "<pre>recommendations finished on 531000/1371980 queries. users per second: 52124.5</pre>"
            ]
          },
          "metadata": {}
        },
        {
          "output_type": "display_data",
          "data": {
            "text/plain": [
              "recommendations finished on 532000/1371980 queries. users per second: 52120.7"
            ],
            "text/html": [
              "<pre>recommendations finished on 532000/1371980 queries. users per second: 52120.7</pre>"
            ]
          },
          "metadata": {}
        },
        {
          "output_type": "display_data",
          "data": {
            "text/plain": [
              "recommendations finished on 533000/1371980 queries. users per second: 52122.5"
            ],
            "text/html": [
              "<pre>recommendations finished on 533000/1371980 queries. users per second: 52122.5</pre>"
            ]
          },
          "metadata": {}
        },
        {
          "output_type": "display_data",
          "data": {
            "text/plain": [
              "recommendations finished on 534000/1371980 queries. users per second: 52108.6"
            ],
            "text/html": [
              "<pre>recommendations finished on 534000/1371980 queries. users per second: 52108.6</pre>"
            ]
          },
          "metadata": {}
        },
        {
          "output_type": "display_data",
          "data": {
            "text/plain": [
              "recommendations finished on 535000/1371980 queries. users per second: 52104.6"
            ],
            "text/html": [
              "<pre>recommendations finished on 535000/1371980 queries. users per second: 52104.6</pre>"
            ]
          },
          "metadata": {}
        },
        {
          "output_type": "display_data",
          "data": {
            "text/plain": [
              "recommendations finished on 536000/1371980 queries. users per second: 52095.3"
            ],
            "text/html": [
              "<pre>recommendations finished on 536000/1371980 queries. users per second: 52095.3</pre>"
            ]
          },
          "metadata": {}
        },
        {
          "output_type": "display_data",
          "data": {
            "text/plain": [
              "recommendations finished on 537000/1371980 queries. users per second: 52089.7"
            ],
            "text/html": [
              "<pre>recommendations finished on 537000/1371980 queries. users per second: 52089.7</pre>"
            ]
          },
          "metadata": {}
        },
        {
          "output_type": "display_data",
          "data": {
            "text/plain": [
              "recommendations finished on 538000/1371980 queries. users per second: 52073.3"
            ],
            "text/html": [
              "<pre>recommendations finished on 538000/1371980 queries. users per second: 52073.3</pre>"
            ]
          },
          "metadata": {}
        },
        {
          "output_type": "display_data",
          "data": {
            "text/plain": [
              "recommendations finished on 539000/1371980 queries. users per second: 52047.3"
            ],
            "text/html": [
              "<pre>recommendations finished on 539000/1371980 queries. users per second: 52047.3</pre>"
            ]
          },
          "metadata": {}
        },
        {
          "output_type": "display_data",
          "data": {
            "text/plain": [
              "recommendations finished on 540000/1371980 queries. users per second: 52064.6"
            ],
            "text/html": [
              "<pre>recommendations finished on 540000/1371980 queries. users per second: 52064.6</pre>"
            ]
          },
          "metadata": {}
        },
        {
          "output_type": "display_data",
          "data": {
            "text/plain": [
              "recommendations finished on 541000/1371980 queries. users per second: 52053.3"
            ],
            "text/html": [
              "<pre>recommendations finished on 541000/1371980 queries. users per second: 52053.3</pre>"
            ]
          },
          "metadata": {}
        },
        {
          "output_type": "display_data",
          "data": {
            "text/plain": [
              "recommendations finished on 542000/1371980 queries. users per second: 52045.6"
            ],
            "text/html": [
              "<pre>recommendations finished on 542000/1371980 queries. users per second: 52045.6</pre>"
            ]
          },
          "metadata": {}
        },
        {
          "output_type": "display_data",
          "data": {
            "text/plain": [
              "recommendations finished on 543000/1371980 queries. users per second: 52031.7"
            ],
            "text/html": [
              "<pre>recommendations finished on 543000/1371980 queries. users per second: 52031.7</pre>"
            ]
          },
          "metadata": {}
        },
        {
          "output_type": "display_data",
          "data": {
            "text/plain": [
              "recommendations finished on 544000/1371980 queries. users per second: 52032.3"
            ],
            "text/html": [
              "<pre>recommendations finished on 544000/1371980 queries. users per second: 52032.3</pre>"
            ]
          },
          "metadata": {}
        },
        {
          "output_type": "display_data",
          "data": {
            "text/plain": [
              "recommendations finished on 545000/1371980 queries. users per second: 52008"
            ],
            "text/html": [
              "<pre>recommendations finished on 545000/1371980 queries. users per second: 52008</pre>"
            ]
          },
          "metadata": {}
        },
        {
          "output_type": "display_data",
          "data": {
            "text/plain": [
              "recommendations finished on 546000/1371980 queries. users per second: 52023.9"
            ],
            "text/html": [
              "<pre>recommendations finished on 546000/1371980 queries. users per second: 52023.9</pre>"
            ]
          },
          "metadata": {}
        },
        {
          "output_type": "display_data",
          "data": {
            "text/plain": [
              "recommendations finished on 547000/1371980 queries. users per second: 52010.5"
            ],
            "text/html": [
              "<pre>recommendations finished on 547000/1371980 queries. users per second: 52010.5</pre>"
            ]
          },
          "metadata": {}
        },
        {
          "output_type": "display_data",
          "data": {
            "text/plain": [
              "recommendations finished on 548000/1371980 queries. users per second: 51991.5"
            ],
            "text/html": [
              "<pre>recommendations finished on 548000/1371980 queries. users per second: 51991.5</pre>"
            ]
          },
          "metadata": {}
        },
        {
          "output_type": "display_data",
          "data": {
            "text/plain": [
              "recommendations finished on 549000/1371980 queries. users per second: 51985.9"
            ],
            "text/html": [
              "<pre>recommendations finished on 549000/1371980 queries. users per second: 51985.9</pre>"
            ]
          },
          "metadata": {}
        },
        {
          "output_type": "display_data",
          "data": {
            "text/plain": [
              "recommendations finished on 550000/1371980 queries. users per second: 52002.1"
            ],
            "text/html": [
              "<pre>recommendations finished on 550000/1371980 queries. users per second: 52002.1</pre>"
            ]
          },
          "metadata": {}
        },
        {
          "output_type": "display_data",
          "data": {
            "text/plain": [
              "recommendations finished on 551000/1371980 queries. users per second: 51998.3"
            ],
            "text/html": [
              "<pre>recommendations finished on 551000/1371980 queries. users per second: 51998.3</pre>"
            ]
          },
          "metadata": {}
        },
        {
          "output_type": "display_data",
          "data": {
            "text/plain": [
              "recommendations finished on 552000/1371980 queries. users per second: 52000.9"
            ],
            "text/html": [
              "<pre>recommendations finished on 552000/1371980 queries. users per second: 52000.9</pre>"
            ]
          },
          "metadata": {}
        },
        {
          "output_type": "display_data",
          "data": {
            "text/plain": [
              "recommendations finished on 553000/1371980 queries. users per second: 52002"
            ],
            "text/html": [
              "<pre>recommendations finished on 553000/1371980 queries. users per second: 52002</pre>"
            ]
          },
          "metadata": {}
        },
        {
          "output_type": "display_data",
          "data": {
            "text/plain": [
              "recommendations finished on 554000/1371980 queries. users per second: 51998.5"
            ],
            "text/html": [
              "<pre>recommendations finished on 554000/1371980 queries. users per second: 51998.5</pre>"
            ]
          },
          "metadata": {}
        },
        {
          "output_type": "display_data",
          "data": {
            "text/plain": [
              "recommendations finished on 555000/1371980 queries. users per second: 52009.3"
            ],
            "text/html": [
              "<pre>recommendations finished on 555000/1371980 queries. users per second: 52009.3</pre>"
            ]
          },
          "metadata": {}
        },
        {
          "output_type": "display_data",
          "data": {
            "text/plain": [
              "recommendations finished on 556000/1371980 queries. users per second: 51992.5"
            ],
            "text/html": [
              "<pre>recommendations finished on 556000/1371980 queries. users per second: 51992.5</pre>"
            ]
          },
          "metadata": {}
        },
        {
          "output_type": "display_data",
          "data": {
            "text/plain": [
              "recommendations finished on 557000/1371980 queries. users per second: 51949.2"
            ],
            "text/html": [
              "<pre>recommendations finished on 557000/1371980 queries. users per second: 51949.2</pre>"
            ]
          },
          "metadata": {}
        },
        {
          "output_type": "display_data",
          "data": {
            "text/plain": [
              "recommendations finished on 558000/1371980 queries. users per second: 51967.5"
            ],
            "text/html": [
              "<pre>recommendations finished on 558000/1371980 queries. users per second: 51967.5</pre>"
            ]
          },
          "metadata": {}
        },
        {
          "output_type": "display_data",
          "data": {
            "text/plain": [
              "recommendations finished on 559000/1371980 queries. users per second: 51935"
            ],
            "text/html": [
              "<pre>recommendations finished on 559000/1371980 queries. users per second: 51935</pre>"
            ]
          },
          "metadata": {}
        },
        {
          "output_type": "display_data",
          "data": {
            "text/plain": [
              "recommendations finished on 560000/1371980 queries. users per second: 51953.3"
            ],
            "text/html": [
              "<pre>recommendations finished on 560000/1371980 queries. users per second: 51953.3</pre>"
            ]
          },
          "metadata": {}
        },
        {
          "output_type": "display_data",
          "data": {
            "text/plain": [
              "recommendations finished on 561000/1371980 queries. users per second: 51930.8"
            ],
            "text/html": [
              "<pre>recommendations finished on 561000/1371980 queries. users per second: 51930.8</pre>"
            ]
          },
          "metadata": {}
        },
        {
          "output_type": "display_data",
          "data": {
            "text/plain": [
              "recommendations finished on 562000/1371980 queries. users per second: 51923.4"
            ],
            "text/html": [
              "<pre>recommendations finished on 562000/1371980 queries. users per second: 51923.4</pre>"
            ]
          },
          "metadata": {}
        },
        {
          "output_type": "display_data",
          "data": {
            "text/plain": [
              "recommendations finished on 563000/1371980 queries. users per second: 51920.8"
            ],
            "text/html": [
              "<pre>recommendations finished on 563000/1371980 queries. users per second: 51920.8</pre>"
            ]
          },
          "metadata": {}
        },
        {
          "output_type": "display_data",
          "data": {
            "text/plain": [
              "recommendations finished on 564000/1371980 queries. users per second: 51944.9"
            ],
            "text/html": [
              "<pre>recommendations finished on 564000/1371980 queries. users per second: 51944.9</pre>"
            ]
          },
          "metadata": {}
        },
        {
          "output_type": "display_data",
          "data": {
            "text/plain": [
              "recommendations finished on 565000/1371980 queries. users per second: 51953.6"
            ],
            "text/html": [
              "<pre>recommendations finished on 565000/1371980 queries. users per second: 51953.6</pre>"
            ]
          },
          "metadata": {}
        },
        {
          "output_type": "display_data",
          "data": {
            "text/plain": [
              "recommendations finished on 566000/1371980 queries. users per second: 51916.6"
            ],
            "text/html": [
              "<pre>recommendations finished on 566000/1371980 queries. users per second: 51916.6</pre>"
            ]
          },
          "metadata": {}
        },
        {
          "output_type": "display_data",
          "data": {
            "text/plain": [
              "recommendations finished on 567000/1371980 queries. users per second: 51903.7"
            ],
            "text/html": [
              "<pre>recommendations finished on 567000/1371980 queries. users per second: 51903.7</pre>"
            ]
          },
          "metadata": {}
        },
        {
          "output_type": "display_data",
          "data": {
            "text/plain": [
              "recommendations finished on 568000/1371980 queries. users per second: 51922.1"
            ],
            "text/html": [
              "<pre>recommendations finished on 568000/1371980 queries. users per second: 51922.1</pre>"
            ]
          },
          "metadata": {}
        },
        {
          "output_type": "display_data",
          "data": {
            "text/plain": [
              "recommendations finished on 569000/1371980 queries. users per second: 51927.4"
            ],
            "text/html": [
              "<pre>recommendations finished on 569000/1371980 queries. users per second: 51927.4</pre>"
            ]
          },
          "metadata": {}
        },
        {
          "output_type": "display_data",
          "data": {
            "text/plain": [
              "recommendations finished on 570000/1371980 queries. users per second: 51934.4"
            ],
            "text/html": [
              "<pre>recommendations finished on 570000/1371980 queries. users per second: 51934.4</pre>"
            ]
          },
          "metadata": {}
        },
        {
          "output_type": "display_data",
          "data": {
            "text/plain": [
              "recommendations finished on 571000/1371980 queries. users per second: 51953.4"
            ],
            "text/html": [
              "<pre>recommendations finished on 571000/1371980 queries. users per second: 51953.4</pre>"
            ]
          },
          "metadata": {}
        },
        {
          "output_type": "display_data",
          "data": {
            "text/plain": [
              "recommendations finished on 572000/1371980 queries. users per second: 51926.1"
            ],
            "text/html": [
              "<pre>recommendations finished on 572000/1371980 queries. users per second: 51926.1</pre>"
            ]
          },
          "metadata": {}
        },
        {
          "output_type": "display_data",
          "data": {
            "text/plain": [
              "recommendations finished on 573000/1371980 queries. users per second: 51947.8"
            ],
            "text/html": [
              "<pre>recommendations finished on 573000/1371980 queries. users per second: 51947.8</pre>"
            ]
          },
          "metadata": {}
        },
        {
          "output_type": "display_data",
          "data": {
            "text/plain": [
              "recommendations finished on 574000/1371980 queries. users per second: 51938.6"
            ],
            "text/html": [
              "<pre>recommendations finished on 574000/1371980 queries. users per second: 51938.6</pre>"
            ]
          },
          "metadata": {}
        },
        {
          "output_type": "display_data",
          "data": {
            "text/plain": [
              "recommendations finished on 575000/1371980 queries. users per second: 51946.4"
            ],
            "text/html": [
              "<pre>recommendations finished on 575000/1371980 queries. users per second: 51946.4</pre>"
            ]
          },
          "metadata": {}
        },
        {
          "output_type": "display_data",
          "data": {
            "text/plain": [
              "recommendations finished on 576000/1371980 queries. users per second: 51917.3"
            ],
            "text/html": [
              "<pre>recommendations finished on 576000/1371980 queries. users per second: 51917.3</pre>"
            ]
          },
          "metadata": {}
        },
        {
          "output_type": "display_data",
          "data": {
            "text/plain": [
              "recommendations finished on 577000/1371980 queries. users per second: 51889"
            ],
            "text/html": [
              "<pre>recommendations finished on 577000/1371980 queries. users per second: 51889</pre>"
            ]
          },
          "metadata": {}
        },
        {
          "output_type": "display_data",
          "data": {
            "text/plain": [
              "recommendations finished on 578000/1371980 queries. users per second: 51881.4"
            ],
            "text/html": [
              "<pre>recommendations finished on 578000/1371980 queries. users per second: 51881.4</pre>"
            ]
          },
          "metadata": {}
        },
        {
          "output_type": "display_data",
          "data": {
            "text/plain": [
              "recommendations finished on 579000/1371980 queries. users per second: 51888.2"
            ],
            "text/html": [
              "<pre>recommendations finished on 579000/1371980 queries. users per second: 51888.2</pre>"
            ]
          },
          "metadata": {}
        },
        {
          "output_type": "display_data",
          "data": {
            "text/plain": [
              "recommendations finished on 580000/1371980 queries. users per second: 51867.8"
            ],
            "text/html": [
              "<pre>recommendations finished on 580000/1371980 queries. users per second: 51867.8</pre>"
            ]
          },
          "metadata": {}
        },
        {
          "output_type": "display_data",
          "data": {
            "text/plain": [
              "recommendations finished on 581000/1371980 queries. users per second: 51869.9"
            ],
            "text/html": [
              "<pre>recommendations finished on 581000/1371980 queries. users per second: 51869.9</pre>"
            ]
          },
          "metadata": {}
        },
        {
          "output_type": "display_data",
          "data": {
            "text/plain": [
              "recommendations finished on 582000/1371980 queries. users per second: 51872.1"
            ],
            "text/html": [
              "<pre>recommendations finished on 582000/1371980 queries. users per second: 51872.1</pre>"
            ]
          },
          "metadata": {}
        },
        {
          "output_type": "display_data",
          "data": {
            "text/plain": [
              "recommendations finished on 583000/1371980 queries. users per second: 51854.4"
            ],
            "text/html": [
              "<pre>recommendations finished on 583000/1371980 queries. users per second: 51854.4</pre>"
            ]
          },
          "metadata": {}
        },
        {
          "output_type": "display_data",
          "data": {
            "text/plain": [
              "recommendations finished on 584000/1371980 queries. users per second: 51845.8"
            ],
            "text/html": [
              "<pre>recommendations finished on 584000/1371980 queries. users per second: 51845.8</pre>"
            ]
          },
          "metadata": {}
        },
        {
          "output_type": "display_data",
          "data": {
            "text/plain": [
              "recommendations finished on 585000/1371980 queries. users per second: 51845.6"
            ],
            "text/html": [
              "<pre>recommendations finished on 585000/1371980 queries. users per second: 51845.6</pre>"
            ]
          },
          "metadata": {}
        },
        {
          "output_type": "display_data",
          "data": {
            "text/plain": [
              "recommendations finished on 586000/1371980 queries. users per second: 51838.5"
            ],
            "text/html": [
              "<pre>recommendations finished on 586000/1371980 queries. users per second: 51838.5</pre>"
            ]
          },
          "metadata": {}
        },
        {
          "output_type": "display_data",
          "data": {
            "text/plain": [
              "recommendations finished on 587000/1371980 queries. users per second: 51846.9"
            ],
            "text/html": [
              "<pre>recommendations finished on 587000/1371980 queries. users per second: 51846.9</pre>"
            ]
          },
          "metadata": {}
        },
        {
          "output_type": "display_data",
          "data": {
            "text/plain": [
              "recommendations finished on 588000/1371980 queries. users per second: 51854"
            ],
            "text/html": [
              "<pre>recommendations finished on 588000/1371980 queries. users per second: 51854</pre>"
            ]
          },
          "metadata": {}
        },
        {
          "output_type": "display_data",
          "data": {
            "text/plain": [
              "recommendations finished on 589000/1371980 queries. users per second: 51815.5"
            ],
            "text/html": [
              "<pre>recommendations finished on 589000/1371980 queries. users per second: 51815.5</pre>"
            ]
          },
          "metadata": {}
        },
        {
          "output_type": "display_data",
          "data": {
            "text/plain": [
              "recommendations finished on 590000/1371980 queries. users per second: 51810.1"
            ],
            "text/html": [
              "<pre>recommendations finished on 590000/1371980 queries. users per second: 51810.1</pre>"
            ]
          },
          "metadata": {}
        },
        {
          "output_type": "display_data",
          "data": {
            "text/plain": [
              "recommendations finished on 591000/1371980 queries. users per second: 51787.1"
            ],
            "text/html": [
              "<pre>recommendations finished on 591000/1371980 queries. users per second: 51787.1</pre>"
            ]
          },
          "metadata": {}
        },
        {
          "output_type": "display_data",
          "data": {
            "text/plain": [
              "recommendations finished on 592000/1371980 queries. users per second: 51767"
            ],
            "text/html": [
              "<pre>recommendations finished on 592000/1371980 queries. users per second: 51767</pre>"
            ]
          },
          "metadata": {}
        },
        {
          "output_type": "display_data",
          "data": {
            "text/plain": [
              "recommendations finished on 593000/1371980 queries. users per second: 51780.8"
            ],
            "text/html": [
              "<pre>recommendations finished on 593000/1371980 queries. users per second: 51780.8</pre>"
            ]
          },
          "metadata": {}
        },
        {
          "output_type": "display_data",
          "data": {
            "text/plain": [
              "recommendations finished on 594000/1371980 queries. users per second: 51773.3"
            ],
            "text/html": [
              "<pre>recommendations finished on 594000/1371980 queries. users per second: 51773.3</pre>"
            ]
          },
          "metadata": {}
        },
        {
          "output_type": "display_data",
          "data": {
            "text/plain": [
              "recommendations finished on 595000/1371980 queries. users per second: 51774.4"
            ],
            "text/html": [
              "<pre>recommendations finished on 595000/1371980 queries. users per second: 51774.4</pre>"
            ]
          },
          "metadata": {}
        },
        {
          "output_type": "display_data",
          "data": {
            "text/plain": [
              "recommendations finished on 596000/1371980 queries. users per second: 51769.7"
            ],
            "text/html": [
              "<pre>recommendations finished on 596000/1371980 queries. users per second: 51769.7</pre>"
            ]
          },
          "metadata": {}
        },
        {
          "output_type": "display_data",
          "data": {
            "text/plain": [
              "recommendations finished on 597000/1371980 queries. users per second: 51764"
            ],
            "text/html": [
              "<pre>recommendations finished on 597000/1371980 queries. users per second: 51764</pre>"
            ]
          },
          "metadata": {}
        },
        {
          "output_type": "display_data",
          "data": {
            "text/plain": [
              "recommendations finished on 598000/1371980 queries. users per second: 51767"
            ],
            "text/html": [
              "<pre>recommendations finished on 598000/1371980 queries. users per second: 51767</pre>"
            ]
          },
          "metadata": {}
        },
        {
          "output_type": "display_data",
          "data": {
            "text/plain": [
              "recommendations finished on 599000/1371980 queries. users per second: 51740"
            ],
            "text/html": [
              "<pre>recommendations finished on 599000/1371980 queries. users per second: 51740</pre>"
            ]
          },
          "metadata": {}
        },
        {
          "output_type": "display_data",
          "data": {
            "text/plain": [
              "recommendations finished on 600000/1371980 queries. users per second: 51721.3"
            ],
            "text/html": [
              "<pre>recommendations finished on 600000/1371980 queries. users per second: 51721.3</pre>"
            ]
          },
          "metadata": {}
        },
        {
          "output_type": "display_data",
          "data": {
            "text/plain": [
              "recommendations finished on 601000/1371980 queries. users per second: 51720.1"
            ],
            "text/html": [
              "<pre>recommendations finished on 601000/1371980 queries. users per second: 51720.1</pre>"
            ]
          },
          "metadata": {}
        },
        {
          "output_type": "display_data",
          "data": {
            "text/plain": [
              "recommendations finished on 602000/1371980 queries. users per second: 51718.8"
            ],
            "text/html": [
              "<pre>recommendations finished on 602000/1371980 queries. users per second: 51718.8</pre>"
            ]
          },
          "metadata": {}
        },
        {
          "output_type": "display_data",
          "data": {
            "text/plain": [
              "recommendations finished on 603000/1371980 queries. users per second: 51733.6"
            ],
            "text/html": [
              "<pre>recommendations finished on 603000/1371980 queries. users per second: 51733.6</pre>"
            ]
          },
          "metadata": {}
        },
        {
          "output_type": "display_data",
          "data": {
            "text/plain": [
              "recommendations finished on 604000/1371980 queries. users per second: 51721.4"
            ],
            "text/html": [
              "<pre>recommendations finished on 604000/1371980 queries. users per second: 51721.4</pre>"
            ]
          },
          "metadata": {}
        },
        {
          "output_type": "display_data",
          "data": {
            "text/plain": [
              "recommendations finished on 605000/1371980 queries. users per second: 51696.8"
            ],
            "text/html": [
              "<pre>recommendations finished on 605000/1371980 queries. users per second: 51696.8</pre>"
            ]
          },
          "metadata": {}
        },
        {
          "output_type": "display_data",
          "data": {
            "text/plain": [
              "recommendations finished on 606000/1371980 queries. users per second: 51673.2"
            ],
            "text/html": [
              "<pre>recommendations finished on 606000/1371980 queries. users per second: 51673.2</pre>"
            ]
          },
          "metadata": {}
        },
        {
          "output_type": "display_data",
          "data": {
            "text/plain": [
              "recommendations finished on 607000/1371980 queries. users per second: 51659.1"
            ],
            "text/html": [
              "<pre>recommendations finished on 607000/1371980 queries. users per second: 51659.1</pre>"
            ]
          },
          "metadata": {}
        },
        {
          "output_type": "display_data",
          "data": {
            "text/plain": [
              "recommendations finished on 608000/1371980 queries. users per second: 51650.5"
            ],
            "text/html": [
              "<pre>recommendations finished on 608000/1371980 queries. users per second: 51650.5</pre>"
            ]
          },
          "metadata": {}
        },
        {
          "output_type": "display_data",
          "data": {
            "text/plain": [
              "recommendations finished on 609000/1371980 queries. users per second: 51644.2"
            ],
            "text/html": [
              "<pre>recommendations finished on 609000/1371980 queries. users per second: 51644.2</pre>"
            ]
          },
          "metadata": {}
        },
        {
          "output_type": "display_data",
          "data": {
            "text/plain": [
              "recommendations finished on 610000/1371980 queries. users per second: 51640.3"
            ],
            "text/html": [
              "<pre>recommendations finished on 610000/1371980 queries. users per second: 51640.3</pre>"
            ]
          },
          "metadata": {}
        },
        {
          "output_type": "display_data",
          "data": {
            "text/plain": [
              "recommendations finished on 611000/1371980 queries. users per second: 51625"
            ],
            "text/html": [
              "<pre>recommendations finished on 611000/1371980 queries. users per second: 51625</pre>"
            ]
          },
          "metadata": {}
        },
        {
          "output_type": "display_data",
          "data": {
            "text/plain": [
              "recommendations finished on 612000/1371980 queries. users per second: 51602.9"
            ],
            "text/html": [
              "<pre>recommendations finished on 612000/1371980 queries. users per second: 51602.9</pre>"
            ]
          },
          "metadata": {}
        },
        {
          "output_type": "display_data",
          "data": {
            "text/plain": [
              "recommendations finished on 613000/1371980 queries. users per second: 51601.3"
            ],
            "text/html": [
              "<pre>recommendations finished on 613000/1371980 queries. users per second: 51601.3</pre>"
            ]
          },
          "metadata": {}
        },
        {
          "output_type": "display_data",
          "data": {
            "text/plain": [
              "recommendations finished on 614000/1371980 queries. users per second: 51602.2"
            ],
            "text/html": [
              "<pre>recommendations finished on 614000/1371980 queries. users per second: 51602.2</pre>"
            ]
          },
          "metadata": {}
        },
        {
          "output_type": "display_data",
          "data": {
            "text/plain": [
              "recommendations finished on 615000/1371980 queries. users per second: 51601.3"
            ],
            "text/html": [
              "<pre>recommendations finished on 615000/1371980 queries. users per second: 51601.3</pre>"
            ]
          },
          "metadata": {}
        },
        {
          "output_type": "display_data",
          "data": {
            "text/plain": [
              "recommendations finished on 616000/1371980 queries. users per second: 51582.7"
            ],
            "text/html": [
              "<pre>recommendations finished on 616000/1371980 queries. users per second: 51582.7</pre>"
            ]
          },
          "metadata": {}
        },
        {
          "output_type": "display_data",
          "data": {
            "text/plain": [
              "recommendations finished on 617000/1371980 queries. users per second: 51589.7"
            ],
            "text/html": [
              "<pre>recommendations finished on 617000/1371980 queries. users per second: 51589.7</pre>"
            ]
          },
          "metadata": {}
        },
        {
          "output_type": "display_data",
          "data": {
            "text/plain": [
              "recommendations finished on 618000/1371980 queries. users per second: 51571.8"
            ],
            "text/html": [
              "<pre>recommendations finished on 618000/1371980 queries. users per second: 51571.8</pre>"
            ]
          },
          "metadata": {}
        },
        {
          "output_type": "display_data",
          "data": {
            "text/plain": [
              "recommendations finished on 619000/1371980 queries. users per second: 51589.8"
            ],
            "text/html": [
              "<pre>recommendations finished on 619000/1371980 queries. users per second: 51589.8</pre>"
            ]
          },
          "metadata": {}
        },
        {
          "output_type": "display_data",
          "data": {
            "text/plain": [
              "recommendations finished on 620000/1371980 queries. users per second: 51604.6"
            ],
            "text/html": [
              "<pre>recommendations finished on 620000/1371980 queries. users per second: 51604.6</pre>"
            ]
          },
          "metadata": {}
        },
        {
          "output_type": "display_data",
          "data": {
            "text/plain": [
              "recommendations finished on 621000/1371980 queries. users per second: 51596.2"
            ],
            "text/html": [
              "<pre>recommendations finished on 621000/1371980 queries. users per second: 51596.2</pre>"
            ]
          },
          "metadata": {}
        },
        {
          "output_type": "display_data",
          "data": {
            "text/plain": [
              "recommendations finished on 622000/1371980 queries. users per second: 51607.5"
            ],
            "text/html": [
              "<pre>recommendations finished on 622000/1371980 queries. users per second: 51607.5</pre>"
            ]
          },
          "metadata": {}
        },
        {
          "output_type": "display_data",
          "data": {
            "text/plain": [
              "recommendations finished on 623000/1371980 queries. users per second: 51603.4"
            ],
            "text/html": [
              "<pre>recommendations finished on 623000/1371980 queries. users per second: 51603.4</pre>"
            ]
          },
          "metadata": {}
        },
        {
          "output_type": "display_data",
          "data": {
            "text/plain": [
              "recommendations finished on 624000/1371980 queries. users per second: 51585.2"
            ],
            "text/html": [
              "<pre>recommendations finished on 624000/1371980 queries. users per second: 51585.2</pre>"
            ]
          },
          "metadata": {}
        },
        {
          "output_type": "display_data",
          "data": {
            "text/plain": [
              "recommendations finished on 625000/1371980 queries. users per second: 51554.8"
            ],
            "text/html": [
              "<pre>recommendations finished on 625000/1371980 queries. users per second: 51554.8</pre>"
            ]
          },
          "metadata": {}
        },
        {
          "output_type": "display_data",
          "data": {
            "text/plain": [
              "recommendations finished on 626000/1371980 queries. users per second: 51556.2"
            ],
            "text/html": [
              "<pre>recommendations finished on 626000/1371980 queries. users per second: 51556.2</pre>"
            ]
          },
          "metadata": {}
        },
        {
          "output_type": "display_data",
          "data": {
            "text/plain": [
              "recommendations finished on 627000/1371980 queries. users per second: 51543.4"
            ],
            "text/html": [
              "<pre>recommendations finished on 627000/1371980 queries. users per second: 51543.4</pre>"
            ]
          },
          "metadata": {}
        },
        {
          "output_type": "display_data",
          "data": {
            "text/plain": [
              "recommendations finished on 628000/1371980 queries. users per second: 51552.9"
            ],
            "text/html": [
              "<pre>recommendations finished on 628000/1371980 queries. users per second: 51552.9</pre>"
            ]
          },
          "metadata": {}
        },
        {
          "output_type": "display_data",
          "data": {
            "text/plain": [
              "recommendations finished on 629000/1371980 queries. users per second: 51519"
            ],
            "text/html": [
              "<pre>recommendations finished on 629000/1371980 queries. users per second: 51519</pre>"
            ]
          },
          "metadata": {}
        },
        {
          "output_type": "display_data",
          "data": {
            "text/plain": [
              "recommendations finished on 630000/1371980 queries. users per second: 51514.3"
            ],
            "text/html": [
              "<pre>recommendations finished on 630000/1371980 queries. users per second: 51514.3</pre>"
            ]
          },
          "metadata": {}
        },
        {
          "output_type": "display_data",
          "data": {
            "text/plain": [
              "recommendations finished on 631000/1371980 queries. users per second: 51515.6"
            ],
            "text/html": [
              "<pre>recommendations finished on 631000/1371980 queries. users per second: 51515.6</pre>"
            ]
          },
          "metadata": {}
        },
        {
          "output_type": "display_data",
          "data": {
            "text/plain": [
              "recommendations finished on 632000/1371980 queries. users per second: 51503.8"
            ],
            "text/html": [
              "<pre>recommendations finished on 632000/1371980 queries. users per second: 51503.8</pre>"
            ]
          },
          "metadata": {}
        },
        {
          "output_type": "display_data",
          "data": {
            "text/plain": [
              "recommendations finished on 633000/1371980 queries. users per second: 51499"
            ],
            "text/html": [
              "<pre>recommendations finished on 633000/1371980 queries. users per second: 51499</pre>"
            ]
          },
          "metadata": {}
        },
        {
          "output_type": "display_data",
          "data": {
            "text/plain": [
              "recommendations finished on 634000/1371980 queries. users per second: 51489.8"
            ],
            "text/html": [
              "<pre>recommendations finished on 634000/1371980 queries. users per second: 51489.8</pre>"
            ]
          },
          "metadata": {}
        },
        {
          "output_type": "display_data",
          "data": {
            "text/plain": [
              "recommendations finished on 635000/1371980 queries. users per second: 51489.9"
            ],
            "text/html": [
              "<pre>recommendations finished on 635000/1371980 queries. users per second: 51489.9</pre>"
            ]
          },
          "metadata": {}
        },
        {
          "output_type": "display_data",
          "data": {
            "text/plain": [
              "recommendations finished on 636000/1371980 queries. users per second: 51486.9"
            ],
            "text/html": [
              "<pre>recommendations finished on 636000/1371980 queries. users per second: 51486.9</pre>"
            ]
          },
          "metadata": {}
        },
        {
          "output_type": "display_data",
          "data": {
            "text/plain": [
              "recommendations finished on 637000/1371980 queries. users per second: 51485.6"
            ],
            "text/html": [
              "<pre>recommendations finished on 637000/1371980 queries. users per second: 51485.6</pre>"
            ]
          },
          "metadata": {}
        },
        {
          "output_type": "display_data",
          "data": {
            "text/plain": [
              "recommendations finished on 638000/1371980 queries. users per second: 51467.8"
            ],
            "text/html": [
              "<pre>recommendations finished on 638000/1371980 queries. users per second: 51467.8</pre>"
            ]
          },
          "metadata": {}
        },
        {
          "output_type": "display_data",
          "data": {
            "text/plain": [
              "recommendations finished on 639000/1371980 queries. users per second: 51465.5"
            ],
            "text/html": [
              "<pre>recommendations finished on 639000/1371980 queries. users per second: 51465.5</pre>"
            ]
          },
          "metadata": {}
        },
        {
          "output_type": "display_data",
          "data": {
            "text/plain": [
              "recommendations finished on 640000/1371980 queries. users per second: 51442.8"
            ],
            "text/html": [
              "<pre>recommendations finished on 640000/1371980 queries. users per second: 51442.8</pre>"
            ]
          },
          "metadata": {}
        },
        {
          "output_type": "display_data",
          "data": {
            "text/plain": [
              "recommendations finished on 641000/1371980 queries. users per second: 51454.7"
            ],
            "text/html": [
              "<pre>recommendations finished on 641000/1371980 queries. users per second: 51454.7</pre>"
            ]
          },
          "metadata": {}
        },
        {
          "output_type": "display_data",
          "data": {
            "text/plain": [
              "recommendations finished on 642000/1371980 queries. users per second: 51431.1"
            ],
            "text/html": [
              "<pre>recommendations finished on 642000/1371980 queries. users per second: 51431.1</pre>"
            ]
          },
          "metadata": {}
        },
        {
          "output_type": "display_data",
          "data": {
            "text/plain": [
              "recommendations finished on 643000/1371980 queries. users per second: 51443"
            ],
            "text/html": [
              "<pre>recommendations finished on 643000/1371980 queries. users per second: 51443</pre>"
            ]
          },
          "metadata": {}
        },
        {
          "output_type": "display_data",
          "data": {
            "text/plain": [
              "recommendations finished on 644000/1371980 queries. users per second: 51422.5"
            ],
            "text/html": [
              "<pre>recommendations finished on 644000/1371980 queries. users per second: 51422.5</pre>"
            ]
          },
          "metadata": {}
        },
        {
          "output_type": "display_data",
          "data": {
            "text/plain": [
              "recommendations finished on 645000/1371980 queries. users per second: 51396.8"
            ],
            "text/html": [
              "<pre>recommendations finished on 645000/1371980 queries. users per second: 51396.8</pre>"
            ]
          },
          "metadata": {}
        },
        {
          "output_type": "display_data",
          "data": {
            "text/plain": [
              "recommendations finished on 646000/1371980 queries. users per second: 51375.4"
            ],
            "text/html": [
              "<pre>recommendations finished on 646000/1371980 queries. users per second: 51375.4</pre>"
            ]
          },
          "metadata": {}
        },
        {
          "output_type": "display_data",
          "data": {
            "text/plain": [
              "recommendations finished on 647000/1371980 queries. users per second: 51389.4"
            ],
            "text/html": [
              "<pre>recommendations finished on 647000/1371980 queries. users per second: 51389.4</pre>"
            ]
          },
          "metadata": {}
        },
        {
          "output_type": "display_data",
          "data": {
            "text/plain": [
              "recommendations finished on 648000/1371980 queries. users per second: 51375"
            ],
            "text/html": [
              "<pre>recommendations finished on 648000/1371980 queries. users per second: 51375</pre>"
            ]
          },
          "metadata": {}
        },
        {
          "output_type": "display_data",
          "data": {
            "text/plain": [
              "recommendations finished on 649000/1371980 queries. users per second: 51390.7"
            ],
            "text/html": [
              "<pre>recommendations finished on 649000/1371980 queries. users per second: 51390.7</pre>"
            ]
          },
          "metadata": {}
        },
        {
          "output_type": "display_data",
          "data": {
            "text/plain": [
              "recommendations finished on 650000/1371980 queries. users per second: 51379.6"
            ],
            "text/html": [
              "<pre>recommendations finished on 650000/1371980 queries. users per second: 51379.6</pre>"
            ]
          },
          "metadata": {}
        },
        {
          "output_type": "display_data",
          "data": {
            "text/plain": [
              "recommendations finished on 651000/1371980 queries. users per second: 51374.4"
            ],
            "text/html": [
              "<pre>recommendations finished on 651000/1371980 queries. users per second: 51374.4</pre>"
            ]
          },
          "metadata": {}
        },
        {
          "output_type": "display_data",
          "data": {
            "text/plain": [
              "recommendations finished on 652000/1371980 queries. users per second: 51367"
            ],
            "text/html": [
              "<pre>recommendations finished on 652000/1371980 queries. users per second: 51367</pre>"
            ]
          },
          "metadata": {}
        },
        {
          "output_type": "display_data",
          "data": {
            "text/plain": [
              "recommendations finished on 653000/1371980 queries. users per second: 51381.9"
            ],
            "text/html": [
              "<pre>recommendations finished on 653000/1371980 queries. users per second: 51381.9</pre>"
            ]
          },
          "metadata": {}
        },
        {
          "output_type": "display_data",
          "data": {
            "text/plain": [
              "recommendations finished on 654000/1371980 queries. users per second: 51372.1"
            ],
            "text/html": [
              "<pre>recommendations finished on 654000/1371980 queries. users per second: 51372.1</pre>"
            ]
          },
          "metadata": {}
        },
        {
          "output_type": "display_data",
          "data": {
            "text/plain": [
              "recommendations finished on 655000/1371980 queries. users per second: 51370.9"
            ],
            "text/html": [
              "<pre>recommendations finished on 655000/1371980 queries. users per second: 51370.9</pre>"
            ]
          },
          "metadata": {}
        },
        {
          "output_type": "display_data",
          "data": {
            "text/plain": [
              "recommendations finished on 656000/1371980 queries. users per second: 51355.4"
            ],
            "text/html": [
              "<pre>recommendations finished on 656000/1371980 queries. users per second: 51355.4</pre>"
            ]
          },
          "metadata": {}
        },
        {
          "output_type": "display_data",
          "data": {
            "text/plain": [
              "recommendations finished on 657000/1371980 queries. users per second: 51363.2"
            ],
            "text/html": [
              "<pre>recommendations finished on 657000/1371980 queries. users per second: 51363.2</pre>"
            ]
          },
          "metadata": {}
        },
        {
          "output_type": "display_data",
          "data": {
            "text/plain": [
              "recommendations finished on 658000/1371980 queries. users per second: 51350"
            ],
            "text/html": [
              "<pre>recommendations finished on 658000/1371980 queries. users per second: 51350</pre>"
            ]
          },
          "metadata": {}
        },
        {
          "output_type": "display_data",
          "data": {
            "text/plain": [
              "recommendations finished on 659000/1371980 queries. users per second: 51336.1"
            ],
            "text/html": [
              "<pre>recommendations finished on 659000/1371980 queries. users per second: 51336.1</pre>"
            ]
          },
          "metadata": {}
        },
        {
          "output_type": "display_data",
          "data": {
            "text/plain": [
              "recommendations finished on 660000/1371980 queries. users per second: 51318.2"
            ],
            "text/html": [
              "<pre>recommendations finished on 660000/1371980 queries. users per second: 51318.2</pre>"
            ]
          },
          "metadata": {}
        },
        {
          "output_type": "display_data",
          "data": {
            "text/plain": [
              "recommendations finished on 661000/1371980 queries. users per second: 51289.6"
            ],
            "text/html": [
              "<pre>recommendations finished on 661000/1371980 queries. users per second: 51289.6</pre>"
            ]
          },
          "metadata": {}
        },
        {
          "output_type": "display_data",
          "data": {
            "text/plain": [
              "recommendations finished on 662000/1371980 queries. users per second: 51294.1"
            ],
            "text/html": [
              "<pre>recommendations finished on 662000/1371980 queries. users per second: 51294.1</pre>"
            ]
          },
          "metadata": {}
        },
        {
          "output_type": "display_data",
          "data": {
            "text/plain": [
              "recommendations finished on 663000/1371980 queries. users per second: 51292.3"
            ],
            "text/html": [
              "<pre>recommendations finished on 663000/1371980 queries. users per second: 51292.3</pre>"
            ]
          },
          "metadata": {}
        },
        {
          "output_type": "display_data",
          "data": {
            "text/plain": [
              "recommendations finished on 664000/1371980 queries. users per second: 51287.8"
            ],
            "text/html": [
              "<pre>recommendations finished on 664000/1371980 queries. users per second: 51287.8</pre>"
            ]
          },
          "metadata": {}
        },
        {
          "output_type": "display_data",
          "data": {
            "text/plain": [
              "recommendations finished on 665000/1371980 queries. users per second: 51279.3"
            ],
            "text/html": [
              "<pre>recommendations finished on 665000/1371980 queries. users per second: 51279.3</pre>"
            ]
          },
          "metadata": {}
        },
        {
          "output_type": "display_data",
          "data": {
            "text/plain": [
              "recommendations finished on 666000/1371980 queries. users per second: 51279.8"
            ],
            "text/html": [
              "<pre>recommendations finished on 666000/1371980 queries. users per second: 51279.8</pre>"
            ]
          },
          "metadata": {}
        },
        {
          "output_type": "display_data",
          "data": {
            "text/plain": [
              "recommendations finished on 667000/1371980 queries. users per second: 51255.4"
            ],
            "text/html": [
              "<pre>recommendations finished on 667000/1371980 queries. users per second: 51255.4</pre>"
            ]
          },
          "metadata": {}
        },
        {
          "output_type": "display_data",
          "data": {
            "text/plain": [
              "recommendations finished on 668000/1371980 queries. users per second: 51259.7"
            ],
            "text/html": [
              "<pre>recommendations finished on 668000/1371980 queries. users per second: 51259.7</pre>"
            ]
          },
          "metadata": {}
        },
        {
          "output_type": "display_data",
          "data": {
            "text/plain": [
              "recommendations finished on 669000/1371980 queries. users per second: 51250"
            ],
            "text/html": [
              "<pre>recommendations finished on 669000/1371980 queries. users per second: 51250</pre>"
            ]
          },
          "metadata": {}
        },
        {
          "output_type": "display_data",
          "data": {
            "text/plain": [
              "recommendations finished on 670000/1371980 queries. users per second: 51244.5"
            ],
            "text/html": [
              "<pre>recommendations finished on 670000/1371980 queries. users per second: 51244.5</pre>"
            ]
          },
          "metadata": {}
        },
        {
          "output_type": "display_data",
          "data": {
            "text/plain": [
              "recommendations finished on 671000/1371980 queries. users per second: 51231.2"
            ],
            "text/html": [
              "<pre>recommendations finished on 671000/1371980 queries. users per second: 51231.2</pre>"
            ]
          },
          "metadata": {}
        },
        {
          "output_type": "display_data",
          "data": {
            "text/plain": [
              "recommendations finished on 672000/1371980 queries. users per second: 51200.6"
            ],
            "text/html": [
              "<pre>recommendations finished on 672000/1371980 queries. users per second: 51200.6</pre>"
            ]
          },
          "metadata": {}
        },
        {
          "output_type": "display_data",
          "data": {
            "text/plain": [
              "recommendations finished on 673000/1371980 queries. users per second: 51211.4"
            ],
            "text/html": [
              "<pre>recommendations finished on 673000/1371980 queries. users per second: 51211.4</pre>"
            ]
          },
          "metadata": {}
        },
        {
          "output_type": "display_data",
          "data": {
            "text/plain": [
              "recommendations finished on 674000/1371980 queries. users per second: 51204.6"
            ],
            "text/html": [
              "<pre>recommendations finished on 674000/1371980 queries. users per second: 51204.6</pre>"
            ]
          },
          "metadata": {}
        },
        {
          "output_type": "display_data",
          "data": {
            "text/plain": [
              "recommendations finished on 675000/1371980 queries. users per second: 51220.7"
            ],
            "text/html": [
              "<pre>recommendations finished on 675000/1371980 queries. users per second: 51220.7</pre>"
            ]
          },
          "metadata": {}
        },
        {
          "output_type": "display_data",
          "data": {
            "text/plain": [
              "recommendations finished on 676000/1371980 queries. users per second: 51211.4"
            ],
            "text/html": [
              "<pre>recommendations finished on 676000/1371980 queries. users per second: 51211.4</pre>"
            ]
          },
          "metadata": {}
        },
        {
          "output_type": "display_data",
          "data": {
            "text/plain": [
              "recommendations finished on 677000/1371980 queries. users per second: 51183.4"
            ],
            "text/html": [
              "<pre>recommendations finished on 677000/1371980 queries. users per second: 51183.4</pre>"
            ]
          },
          "metadata": {}
        },
        {
          "output_type": "display_data",
          "data": {
            "text/plain": [
              "recommendations finished on 678000/1371980 queries. users per second: 51178.2"
            ],
            "text/html": [
              "<pre>recommendations finished on 678000/1371980 queries. users per second: 51178.2</pre>"
            ]
          },
          "metadata": {}
        },
        {
          "output_type": "display_data",
          "data": {
            "text/plain": [
              "recommendations finished on 679000/1371980 queries. users per second: 51156.7"
            ],
            "text/html": [
              "<pre>recommendations finished on 679000/1371980 queries. users per second: 51156.7</pre>"
            ]
          },
          "metadata": {}
        },
        {
          "output_type": "display_data",
          "data": {
            "text/plain": [
              "recommendations finished on 680000/1371980 queries. users per second: 51136.5"
            ],
            "text/html": [
              "<pre>recommendations finished on 680000/1371980 queries. users per second: 51136.5</pre>"
            ]
          },
          "metadata": {}
        },
        {
          "output_type": "display_data",
          "data": {
            "text/plain": [
              "recommendations finished on 681000/1371980 queries. users per second: 51136.2"
            ],
            "text/html": [
              "<pre>recommendations finished on 681000/1371980 queries. users per second: 51136.2</pre>"
            ]
          },
          "metadata": {}
        },
        {
          "output_type": "display_data",
          "data": {
            "text/plain": [
              "recommendations finished on 682000/1371980 queries. users per second: 51123"
            ],
            "text/html": [
              "<pre>recommendations finished on 682000/1371980 queries. users per second: 51123</pre>"
            ]
          },
          "metadata": {}
        },
        {
          "output_type": "display_data",
          "data": {
            "text/plain": [
              "recommendations finished on 683000/1371980 queries. users per second: 51113.1"
            ],
            "text/html": [
              "<pre>recommendations finished on 683000/1371980 queries. users per second: 51113.1</pre>"
            ]
          },
          "metadata": {}
        },
        {
          "output_type": "display_data",
          "data": {
            "text/plain": [
              "recommendations finished on 684000/1371980 queries. users per second: 51111.2"
            ],
            "text/html": [
              "<pre>recommendations finished on 684000/1371980 queries. users per second: 51111.2</pre>"
            ]
          },
          "metadata": {}
        },
        {
          "output_type": "display_data",
          "data": {
            "text/plain": [
              "recommendations finished on 685000/1371980 queries. users per second: 51092"
            ],
            "text/html": [
              "<pre>recommendations finished on 685000/1371980 queries. users per second: 51092</pre>"
            ]
          },
          "metadata": {}
        },
        {
          "output_type": "display_data",
          "data": {
            "text/plain": [
              "recommendations finished on 686000/1371980 queries. users per second: 51104.5"
            ],
            "text/html": [
              "<pre>recommendations finished on 686000/1371980 queries. users per second: 51104.5</pre>"
            ]
          },
          "metadata": {}
        },
        {
          "output_type": "display_data",
          "data": {
            "text/plain": [
              "recommendations finished on 687000/1371980 queries. users per second: 51090.7"
            ],
            "text/html": [
              "<pre>recommendations finished on 687000/1371980 queries. users per second: 51090.7</pre>"
            ]
          },
          "metadata": {}
        },
        {
          "output_type": "display_data",
          "data": {
            "text/plain": [
              "recommendations finished on 688000/1371980 queries. users per second: 51080.6"
            ],
            "text/html": [
              "<pre>recommendations finished on 688000/1371980 queries. users per second: 51080.6</pre>"
            ]
          },
          "metadata": {}
        },
        {
          "output_type": "display_data",
          "data": {
            "text/plain": [
              "recommendations finished on 689000/1371980 queries. users per second: 51067.5"
            ],
            "text/html": [
              "<pre>recommendations finished on 689000/1371980 queries. users per second: 51067.5</pre>"
            ]
          },
          "metadata": {}
        },
        {
          "output_type": "display_data",
          "data": {
            "text/plain": [
              "recommendations finished on 690000/1371980 queries. users per second: 51072.9"
            ],
            "text/html": [
              "<pre>recommendations finished on 690000/1371980 queries. users per second: 51072.9</pre>"
            ]
          },
          "metadata": {}
        },
        {
          "output_type": "display_data",
          "data": {
            "text/plain": [
              "recommendations finished on 691000/1371980 queries. users per second: 51054.4"
            ],
            "text/html": [
              "<pre>recommendations finished on 691000/1371980 queries. users per second: 51054.4</pre>"
            ]
          },
          "metadata": {}
        },
        {
          "output_type": "display_data",
          "data": {
            "text/plain": [
              "recommendations finished on 692000/1371980 queries. users per second: 51065.6"
            ],
            "text/html": [
              "<pre>recommendations finished on 692000/1371980 queries. users per second: 51065.6</pre>"
            ]
          },
          "metadata": {}
        },
        {
          "output_type": "display_data",
          "data": {
            "text/plain": [
              "recommendations finished on 693000/1371980 queries. users per second: 51062.8"
            ],
            "text/html": [
              "<pre>recommendations finished on 693000/1371980 queries. users per second: 51062.8</pre>"
            ]
          },
          "metadata": {}
        },
        {
          "output_type": "display_data",
          "data": {
            "text/plain": [
              "recommendations finished on 694000/1371980 queries. users per second: 51061.4"
            ],
            "text/html": [
              "<pre>recommendations finished on 694000/1371980 queries. users per second: 51061.4</pre>"
            ]
          },
          "metadata": {}
        },
        {
          "output_type": "display_data",
          "data": {
            "text/plain": [
              "recommendations finished on 695000/1371980 queries. users per second: 51048.8"
            ],
            "text/html": [
              "<pre>recommendations finished on 695000/1371980 queries. users per second: 51048.8</pre>"
            ]
          },
          "metadata": {}
        },
        {
          "output_type": "display_data",
          "data": {
            "text/plain": [
              "recommendations finished on 696000/1371980 queries. users per second: 51042"
            ],
            "text/html": [
              "<pre>recommendations finished on 696000/1371980 queries. users per second: 51042</pre>"
            ]
          },
          "metadata": {}
        },
        {
          "output_type": "display_data",
          "data": {
            "text/plain": [
              "recommendations finished on 697000/1371980 queries. users per second: 51031.3"
            ],
            "text/html": [
              "<pre>recommendations finished on 697000/1371980 queries. users per second: 51031.3</pre>"
            ]
          },
          "metadata": {}
        },
        {
          "output_type": "display_data",
          "data": {
            "text/plain": [
              "recommendations finished on 698000/1371980 queries. users per second: 51021.9"
            ],
            "text/html": [
              "<pre>recommendations finished on 698000/1371980 queries. users per second: 51021.9</pre>"
            ]
          },
          "metadata": {}
        },
        {
          "output_type": "display_data",
          "data": {
            "text/plain": [
              "recommendations finished on 699000/1371980 queries. users per second: 51020.8"
            ],
            "text/html": [
              "<pre>recommendations finished on 699000/1371980 queries. users per second: 51020.8</pre>"
            ]
          },
          "metadata": {}
        },
        {
          "output_type": "display_data",
          "data": {
            "text/plain": [
              "recommendations finished on 700000/1371980 queries. users per second: 51034.7"
            ],
            "text/html": [
              "<pre>recommendations finished on 700000/1371980 queries. users per second: 51034.7</pre>"
            ]
          },
          "metadata": {}
        },
        {
          "output_type": "display_data",
          "data": {
            "text/plain": [
              "recommendations finished on 701000/1371980 queries. users per second: 51021.6"
            ],
            "text/html": [
              "<pre>recommendations finished on 701000/1371980 queries. users per second: 51021.6</pre>"
            ]
          },
          "metadata": {}
        },
        {
          "output_type": "display_data",
          "data": {
            "text/plain": [
              "recommendations finished on 702000/1371980 queries. users per second: 51010.2"
            ],
            "text/html": [
              "<pre>recommendations finished on 702000/1371980 queries. users per second: 51010.2</pre>"
            ]
          },
          "metadata": {}
        },
        {
          "output_type": "display_data",
          "data": {
            "text/plain": [
              "recommendations finished on 703000/1371980 queries. users per second: 50997.2"
            ],
            "text/html": [
              "<pre>recommendations finished on 703000/1371980 queries. users per second: 50997.2</pre>"
            ]
          },
          "metadata": {}
        },
        {
          "output_type": "display_data",
          "data": {
            "text/plain": [
              "recommendations finished on 704000/1371980 queries. users per second: 51004.5"
            ],
            "text/html": [
              "<pre>recommendations finished on 704000/1371980 queries. users per second: 51004.5</pre>"
            ]
          },
          "metadata": {}
        },
        {
          "output_type": "display_data",
          "data": {
            "text/plain": [
              "recommendations finished on 705000/1371980 queries. users per second: 50992.1"
            ],
            "text/html": [
              "<pre>recommendations finished on 705000/1371980 queries. users per second: 50992.1</pre>"
            ]
          },
          "metadata": {}
        },
        {
          "output_type": "display_data",
          "data": {
            "text/plain": [
              "recommendations finished on 706000/1371980 queries. users per second: 50998"
            ],
            "text/html": [
              "<pre>recommendations finished on 706000/1371980 queries. users per second: 50998</pre>"
            ]
          },
          "metadata": {}
        },
        {
          "output_type": "display_data",
          "data": {
            "text/plain": [
              "recommendations finished on 707000/1371980 queries. users per second: 50975.7"
            ],
            "text/html": [
              "<pre>recommendations finished on 707000/1371980 queries. users per second: 50975.7</pre>"
            ]
          },
          "metadata": {}
        },
        {
          "output_type": "display_data",
          "data": {
            "text/plain": [
              "recommendations finished on 708000/1371980 queries. users per second: 50973.8"
            ],
            "text/html": [
              "<pre>recommendations finished on 708000/1371980 queries. users per second: 50973.8</pre>"
            ]
          },
          "metadata": {}
        },
        {
          "output_type": "display_data",
          "data": {
            "text/plain": [
              "recommendations finished on 709000/1371980 queries. users per second: 50960.5"
            ],
            "text/html": [
              "<pre>recommendations finished on 709000/1371980 queries. users per second: 50960.5</pre>"
            ]
          },
          "metadata": {}
        },
        {
          "output_type": "display_data",
          "data": {
            "text/plain": [
              "recommendations finished on 710000/1371980 queries. users per second: 50971.5"
            ],
            "text/html": [
              "<pre>recommendations finished on 710000/1371980 queries. users per second: 50971.5</pre>"
            ]
          },
          "metadata": {}
        },
        {
          "output_type": "display_data",
          "data": {
            "text/plain": [
              "recommendations finished on 711000/1371980 queries. users per second: 50955.4"
            ],
            "text/html": [
              "<pre>recommendations finished on 711000/1371980 queries. users per second: 50955.4</pre>"
            ]
          },
          "metadata": {}
        },
        {
          "output_type": "display_data",
          "data": {
            "text/plain": [
              "recommendations finished on 712000/1371980 queries. users per second: 50927.3"
            ],
            "text/html": [
              "<pre>recommendations finished on 712000/1371980 queries. users per second: 50927.3</pre>"
            ]
          },
          "metadata": {}
        },
        {
          "output_type": "display_data",
          "data": {
            "text/plain": [
              "recommendations finished on 713000/1371980 queries. users per second: 50909.5"
            ],
            "text/html": [
              "<pre>recommendations finished on 713000/1371980 queries. users per second: 50909.5</pre>"
            ]
          },
          "metadata": {}
        },
        {
          "output_type": "display_data",
          "data": {
            "text/plain": [
              "recommendations finished on 714000/1371980 queries. users per second: 50898"
            ],
            "text/html": [
              "<pre>recommendations finished on 714000/1371980 queries. users per second: 50898</pre>"
            ]
          },
          "metadata": {}
        },
        {
          "output_type": "display_data",
          "data": {
            "text/plain": [
              "recommendations finished on 715000/1371980 queries. users per second: 50900.1"
            ],
            "text/html": [
              "<pre>recommendations finished on 715000/1371980 queries. users per second: 50900.1</pre>"
            ]
          },
          "metadata": {}
        },
        {
          "output_type": "display_data",
          "data": {
            "text/plain": [
              "recommendations finished on 716000/1371980 queries. users per second: 50913.1"
            ],
            "text/html": [
              "<pre>recommendations finished on 716000/1371980 queries. users per second: 50913.1</pre>"
            ]
          },
          "metadata": {}
        },
        {
          "output_type": "display_data",
          "data": {
            "text/plain": [
              "recommendations finished on 717000/1371980 queries. users per second: 50903.4"
            ],
            "text/html": [
              "<pre>recommendations finished on 717000/1371980 queries. users per second: 50903.4</pre>"
            ]
          },
          "metadata": {}
        },
        {
          "output_type": "display_data",
          "data": {
            "text/plain": [
              "recommendations finished on 718000/1371980 queries. users per second: 50896.5"
            ],
            "text/html": [
              "<pre>recommendations finished on 718000/1371980 queries. users per second: 50896.5</pre>"
            ]
          },
          "metadata": {}
        },
        {
          "output_type": "display_data",
          "data": {
            "text/plain": [
              "recommendations finished on 719000/1371980 queries. users per second: 50880.9"
            ],
            "text/html": [
              "<pre>recommendations finished on 719000/1371980 queries. users per second: 50880.9</pre>"
            ]
          },
          "metadata": {}
        },
        {
          "output_type": "display_data",
          "data": {
            "text/plain": [
              "recommendations finished on 720000/1371980 queries. users per second: 50885.6"
            ],
            "text/html": [
              "<pre>recommendations finished on 720000/1371980 queries. users per second: 50885.6</pre>"
            ]
          },
          "metadata": {}
        },
        {
          "output_type": "display_data",
          "data": {
            "text/plain": [
              "recommendations finished on 721000/1371980 queries. users per second: 50881.4"
            ],
            "text/html": [
              "<pre>recommendations finished on 721000/1371980 queries. users per second: 50881.4</pre>"
            ]
          },
          "metadata": {}
        },
        {
          "output_type": "display_data",
          "data": {
            "text/plain": [
              "recommendations finished on 722000/1371980 queries. users per second: 50878.3"
            ],
            "text/html": [
              "<pre>recommendations finished on 722000/1371980 queries. users per second: 50878.3</pre>"
            ]
          },
          "metadata": {}
        },
        {
          "output_type": "display_data",
          "data": {
            "text/plain": [
              "recommendations finished on 723000/1371980 queries. users per second: 50861.7"
            ],
            "text/html": [
              "<pre>recommendations finished on 723000/1371980 queries. users per second: 50861.7</pre>"
            ]
          },
          "metadata": {}
        },
        {
          "output_type": "display_data",
          "data": {
            "text/plain": [
              "recommendations finished on 724000/1371980 queries. users per second: 50865.9"
            ],
            "text/html": [
              "<pre>recommendations finished on 724000/1371980 queries. users per second: 50865.9</pre>"
            ]
          },
          "metadata": {}
        },
        {
          "output_type": "display_data",
          "data": {
            "text/plain": [
              "recommendations finished on 725000/1371980 queries. users per second: 50853.5"
            ],
            "text/html": [
              "<pre>recommendations finished on 725000/1371980 queries. users per second: 50853.5</pre>"
            ]
          },
          "metadata": {}
        },
        {
          "output_type": "display_data",
          "data": {
            "text/plain": [
              "recommendations finished on 726000/1371980 queries. users per second: 50859.8"
            ],
            "text/html": [
              "<pre>recommendations finished on 726000/1371980 queries. users per second: 50859.8</pre>"
            ]
          },
          "metadata": {}
        },
        {
          "output_type": "display_data",
          "data": {
            "text/plain": [
              "recommendations finished on 727000/1371980 queries. users per second: 50832.4"
            ],
            "text/html": [
              "<pre>recommendations finished on 727000/1371980 queries. users per second: 50832.4</pre>"
            ]
          },
          "metadata": {}
        },
        {
          "output_type": "display_data",
          "data": {
            "text/plain": [
              "recommendations finished on 728000/1371980 queries. users per second: 50834.7"
            ],
            "text/html": [
              "<pre>recommendations finished on 728000/1371980 queries. users per second: 50834.7</pre>"
            ]
          },
          "metadata": {}
        },
        {
          "output_type": "display_data",
          "data": {
            "text/plain": [
              "recommendations finished on 729000/1371980 queries. users per second: 50817"
            ],
            "text/html": [
              "<pre>recommendations finished on 729000/1371980 queries. users per second: 50817</pre>"
            ]
          },
          "metadata": {}
        },
        {
          "output_type": "display_data",
          "data": {
            "text/plain": [
              "recommendations finished on 730000/1371980 queries. users per second: 50815.7"
            ],
            "text/html": [
              "<pre>recommendations finished on 730000/1371980 queries. users per second: 50815.7</pre>"
            ]
          },
          "metadata": {}
        },
        {
          "output_type": "display_data",
          "data": {
            "text/plain": [
              "recommendations finished on 731000/1371980 queries. users per second: 50808.5"
            ],
            "text/html": [
              "<pre>recommendations finished on 731000/1371980 queries. users per second: 50808.5</pre>"
            ]
          },
          "metadata": {}
        },
        {
          "output_type": "display_data",
          "data": {
            "text/plain": [
              "recommendations finished on 732000/1371980 queries. users per second: 50797.7"
            ],
            "text/html": [
              "<pre>recommendations finished on 732000/1371980 queries. users per second: 50797.7</pre>"
            ]
          },
          "metadata": {}
        },
        {
          "output_type": "display_data",
          "data": {
            "text/plain": [
              "recommendations finished on 733000/1371980 queries. users per second: 50785.5"
            ],
            "text/html": [
              "<pre>recommendations finished on 733000/1371980 queries. users per second: 50785.5</pre>"
            ]
          },
          "metadata": {}
        },
        {
          "output_type": "display_data",
          "data": {
            "text/plain": [
              "recommendations finished on 734000/1371980 queries. users per second: 50781.1"
            ],
            "text/html": [
              "<pre>recommendations finished on 734000/1371980 queries. users per second: 50781.1</pre>"
            ]
          },
          "metadata": {}
        },
        {
          "output_type": "display_data",
          "data": {
            "text/plain": [
              "recommendations finished on 735000/1371980 queries. users per second: 50790.7"
            ],
            "text/html": [
              "<pre>recommendations finished on 735000/1371980 queries. users per second: 50790.7</pre>"
            ]
          },
          "metadata": {}
        },
        {
          "output_type": "display_data",
          "data": {
            "text/plain": [
              "recommendations finished on 736000/1371980 queries. users per second: 50786.2"
            ],
            "text/html": [
              "<pre>recommendations finished on 736000/1371980 queries. users per second: 50786.2</pre>"
            ]
          },
          "metadata": {}
        },
        {
          "output_type": "display_data",
          "data": {
            "text/plain": [
              "recommendations finished on 737000/1371980 queries. users per second: 50771.2"
            ],
            "text/html": [
              "<pre>recommendations finished on 737000/1371980 queries. users per second: 50771.2</pre>"
            ]
          },
          "metadata": {}
        },
        {
          "output_type": "display_data",
          "data": {
            "text/plain": [
              "recommendations finished on 738000/1371980 queries. users per second: 50757.7"
            ],
            "text/html": [
              "<pre>recommendations finished on 738000/1371980 queries. users per second: 50757.7</pre>"
            ]
          },
          "metadata": {}
        },
        {
          "output_type": "display_data",
          "data": {
            "text/plain": [
              "recommendations finished on 739000/1371980 queries. users per second: 50763.2"
            ],
            "text/html": [
              "<pre>recommendations finished on 739000/1371980 queries. users per second: 50763.2</pre>"
            ]
          },
          "metadata": {}
        },
        {
          "output_type": "display_data",
          "data": {
            "text/plain": [
              "recommendations finished on 740000/1371980 queries. users per second: 50766.6"
            ],
            "text/html": [
              "<pre>recommendations finished on 740000/1371980 queries. users per second: 50766.6</pre>"
            ]
          },
          "metadata": {}
        },
        {
          "output_type": "display_data",
          "data": {
            "text/plain": [
              "recommendations finished on 741000/1371980 queries. users per second: 50755.8"
            ],
            "text/html": [
              "<pre>recommendations finished on 741000/1371980 queries. users per second: 50755.8</pre>"
            ]
          },
          "metadata": {}
        },
        {
          "output_type": "display_data",
          "data": {
            "text/plain": [
              "recommendations finished on 742000/1371980 queries. users per second: 50758.7"
            ],
            "text/html": [
              "<pre>recommendations finished on 742000/1371980 queries. users per second: 50758.7</pre>"
            ]
          },
          "metadata": {}
        },
        {
          "output_type": "display_data",
          "data": {
            "text/plain": [
              "recommendations finished on 743000/1371980 queries. users per second: 50737.2"
            ],
            "text/html": [
              "<pre>recommendations finished on 743000/1371980 queries. users per second: 50737.2</pre>"
            ]
          },
          "metadata": {}
        },
        {
          "output_type": "display_data",
          "data": {
            "text/plain": [
              "recommendations finished on 744000/1371980 queries. users per second: 50726.3"
            ],
            "text/html": [
              "<pre>recommendations finished on 744000/1371980 queries. users per second: 50726.3</pre>"
            ]
          },
          "metadata": {}
        },
        {
          "output_type": "display_data",
          "data": {
            "text/plain": [
              "recommendations finished on 745000/1371980 queries. users per second: 50732.2"
            ],
            "text/html": [
              "<pre>recommendations finished on 745000/1371980 queries. users per second: 50732.2</pre>"
            ]
          },
          "metadata": {}
        },
        {
          "output_type": "display_data",
          "data": {
            "text/plain": [
              "recommendations finished on 746000/1371980 queries. users per second: 50717.6"
            ],
            "text/html": [
              "<pre>recommendations finished on 746000/1371980 queries. users per second: 50717.6</pre>"
            ]
          },
          "metadata": {}
        },
        {
          "output_type": "display_data",
          "data": {
            "text/plain": [
              "recommendations finished on 747000/1371980 queries. users per second: 50718.6"
            ],
            "text/html": [
              "<pre>recommendations finished on 747000/1371980 queries. users per second: 50718.6</pre>"
            ]
          },
          "metadata": {}
        },
        {
          "output_type": "display_data",
          "data": {
            "text/plain": [
              "recommendations finished on 748000/1371980 queries. users per second: 50701.1"
            ],
            "text/html": [
              "<pre>recommendations finished on 748000/1371980 queries. users per second: 50701.1</pre>"
            ]
          },
          "metadata": {}
        },
        {
          "output_type": "display_data",
          "data": {
            "text/plain": [
              "recommendations finished on 749000/1371980 queries. users per second: 50707.2"
            ],
            "text/html": [
              "<pre>recommendations finished on 749000/1371980 queries. users per second: 50707.2</pre>"
            ]
          },
          "metadata": {}
        },
        {
          "output_type": "display_data",
          "data": {
            "text/plain": [
              "recommendations finished on 750000/1371980 queries. users per second: 50698.3"
            ],
            "text/html": [
              "<pre>recommendations finished on 750000/1371980 queries. users per second: 50698.3</pre>"
            ]
          },
          "metadata": {}
        },
        {
          "output_type": "display_data",
          "data": {
            "text/plain": [
              "recommendations finished on 751000/1371980 queries. users per second: 50700.1"
            ],
            "text/html": [
              "<pre>recommendations finished on 751000/1371980 queries. users per second: 50700.1</pre>"
            ]
          },
          "metadata": {}
        },
        {
          "output_type": "display_data",
          "data": {
            "text/plain": [
              "recommendations finished on 752000/1371980 queries. users per second: 50705.9"
            ],
            "text/html": [
              "<pre>recommendations finished on 752000/1371980 queries. users per second: 50705.9</pre>"
            ]
          },
          "metadata": {}
        },
        {
          "output_type": "display_data",
          "data": {
            "text/plain": [
              "recommendations finished on 753000/1371980 queries. users per second: 50696.5"
            ],
            "text/html": [
              "<pre>recommendations finished on 753000/1371980 queries. users per second: 50696.5</pre>"
            ]
          },
          "metadata": {}
        },
        {
          "output_type": "display_data",
          "data": {
            "text/plain": [
              "recommendations finished on 754000/1371980 queries. users per second: 50691"
            ],
            "text/html": [
              "<pre>recommendations finished on 754000/1371980 queries. users per second: 50691</pre>"
            ]
          },
          "metadata": {}
        },
        {
          "output_type": "display_data",
          "data": {
            "text/plain": [
              "recommendations finished on 755000/1371980 queries. users per second: 50692"
            ],
            "text/html": [
              "<pre>recommendations finished on 755000/1371980 queries. users per second: 50692</pre>"
            ]
          },
          "metadata": {}
        },
        {
          "output_type": "display_data",
          "data": {
            "text/plain": [
              "recommendations finished on 756000/1371980 queries. users per second: 50686.6"
            ],
            "text/html": [
              "<pre>recommendations finished on 756000/1371980 queries. users per second: 50686.6</pre>"
            ]
          },
          "metadata": {}
        },
        {
          "output_type": "display_data",
          "data": {
            "text/plain": [
              "recommendations finished on 757000/1371980 queries. users per second: 50676.5"
            ],
            "text/html": [
              "<pre>recommendations finished on 757000/1371980 queries. users per second: 50676.5</pre>"
            ]
          },
          "metadata": {}
        },
        {
          "output_type": "display_data",
          "data": {
            "text/plain": [
              "recommendations finished on 758000/1371980 queries. users per second: 50663.5"
            ],
            "text/html": [
              "<pre>recommendations finished on 758000/1371980 queries. users per second: 50663.5</pre>"
            ]
          },
          "metadata": {}
        },
        {
          "output_type": "display_data",
          "data": {
            "text/plain": [
              "recommendations finished on 759000/1371980 queries. users per second: 50678.7"
            ],
            "text/html": [
              "<pre>recommendations finished on 759000/1371980 queries. users per second: 50678.7</pre>"
            ]
          },
          "metadata": {}
        },
        {
          "output_type": "display_data",
          "data": {
            "text/plain": [
              "recommendations finished on 760000/1371980 queries. users per second: 50663.9"
            ],
            "text/html": [
              "<pre>recommendations finished on 760000/1371980 queries. users per second: 50663.9</pre>"
            ]
          },
          "metadata": {}
        },
        {
          "output_type": "display_data",
          "data": {
            "text/plain": [
              "recommendations finished on 761000/1371980 queries. users per second: 50662.8"
            ],
            "text/html": [
              "<pre>recommendations finished on 761000/1371980 queries. users per second: 50662.8</pre>"
            ]
          },
          "metadata": {}
        },
        {
          "output_type": "display_data",
          "data": {
            "text/plain": [
              "recommendations finished on 762000/1371980 queries. users per second: 50661.9"
            ],
            "text/html": [
              "<pre>recommendations finished on 762000/1371980 queries. users per second: 50661.9</pre>"
            ]
          },
          "metadata": {}
        },
        {
          "output_type": "display_data",
          "data": {
            "text/plain": [
              "recommendations finished on 763000/1371980 queries. users per second: 50651.1"
            ],
            "text/html": [
              "<pre>recommendations finished on 763000/1371980 queries. users per second: 50651.1</pre>"
            ]
          },
          "metadata": {}
        },
        {
          "output_type": "display_data",
          "data": {
            "text/plain": [
              "recommendations finished on 764000/1371980 queries. users per second: 50649.9"
            ],
            "text/html": [
              "<pre>recommendations finished on 764000/1371980 queries. users per second: 50649.9</pre>"
            ]
          },
          "metadata": {}
        },
        {
          "output_type": "display_data",
          "data": {
            "text/plain": [
              "recommendations finished on 765000/1371980 queries. users per second: 50647.9"
            ],
            "text/html": [
              "<pre>recommendations finished on 765000/1371980 queries. users per second: 50647.9</pre>"
            ]
          },
          "metadata": {}
        },
        {
          "output_type": "display_data",
          "data": {
            "text/plain": [
              "recommendations finished on 766000/1371980 queries. users per second: 50640.9"
            ],
            "text/html": [
              "<pre>recommendations finished on 766000/1371980 queries. users per second: 50640.9</pre>"
            ]
          },
          "metadata": {}
        },
        {
          "output_type": "display_data",
          "data": {
            "text/plain": [
              "recommendations finished on 767000/1371980 queries. users per second: 50626.6"
            ],
            "text/html": [
              "<pre>recommendations finished on 767000/1371980 queries. users per second: 50626.6</pre>"
            ]
          },
          "metadata": {}
        },
        {
          "output_type": "display_data",
          "data": {
            "text/plain": [
              "recommendations finished on 768000/1371980 queries. users per second: 50609.5"
            ],
            "text/html": [
              "<pre>recommendations finished on 768000/1371980 queries. users per second: 50609.5</pre>"
            ]
          },
          "metadata": {}
        },
        {
          "output_type": "display_data",
          "data": {
            "text/plain": [
              "recommendations finished on 769000/1371980 queries. users per second: 50603"
            ],
            "text/html": [
              "<pre>recommendations finished on 769000/1371980 queries. users per second: 50603</pre>"
            ]
          },
          "metadata": {}
        },
        {
          "output_type": "display_data",
          "data": {
            "text/plain": [
              "recommendations finished on 770000/1371980 queries. users per second: 50606.9"
            ],
            "text/html": [
              "<pre>recommendations finished on 770000/1371980 queries. users per second: 50606.9</pre>"
            ]
          },
          "metadata": {}
        },
        {
          "output_type": "display_data",
          "data": {
            "text/plain": [
              "recommendations finished on 771000/1371980 queries. users per second: 50601.1"
            ],
            "text/html": [
              "<pre>recommendations finished on 771000/1371980 queries. users per second: 50601.1</pre>"
            ]
          },
          "metadata": {}
        },
        {
          "output_type": "display_data",
          "data": {
            "text/plain": [
              "recommendations finished on 772000/1371980 queries. users per second: 50603.9"
            ],
            "text/html": [
              "<pre>recommendations finished on 772000/1371980 queries. users per second: 50603.9</pre>"
            ]
          },
          "metadata": {}
        },
        {
          "output_type": "display_data",
          "data": {
            "text/plain": [
              "recommendations finished on 773000/1371980 queries. users per second: 50589.8"
            ],
            "text/html": [
              "<pre>recommendations finished on 773000/1371980 queries. users per second: 50589.8</pre>"
            ]
          },
          "metadata": {}
        },
        {
          "output_type": "display_data",
          "data": {
            "text/plain": [
              "recommendations finished on 774000/1371980 queries. users per second: 50577.8"
            ],
            "text/html": [
              "<pre>recommendations finished on 774000/1371980 queries. users per second: 50577.8</pre>"
            ]
          },
          "metadata": {}
        },
        {
          "output_type": "display_data",
          "data": {
            "text/plain": [
              "recommendations finished on 775000/1371980 queries. users per second: 50553.3"
            ],
            "text/html": [
              "<pre>recommendations finished on 775000/1371980 queries. users per second: 50553.3</pre>"
            ]
          },
          "metadata": {}
        },
        {
          "output_type": "display_data",
          "data": {
            "text/plain": [
              "recommendations finished on 776000/1371980 queries. users per second: 50551.4"
            ],
            "text/html": [
              "<pre>recommendations finished on 776000/1371980 queries. users per second: 50551.4</pre>"
            ]
          },
          "metadata": {}
        },
        {
          "output_type": "display_data",
          "data": {
            "text/plain": [
              "recommendations finished on 777000/1371980 queries. users per second: 50567.2"
            ],
            "text/html": [
              "<pre>recommendations finished on 777000/1371980 queries. users per second: 50567.2</pre>"
            ]
          },
          "metadata": {}
        },
        {
          "output_type": "display_data",
          "data": {
            "text/plain": [
              "recommendations finished on 778000/1371980 queries. users per second: 50570.5"
            ],
            "text/html": [
              "<pre>recommendations finished on 778000/1371980 queries. users per second: 50570.5</pre>"
            ]
          },
          "metadata": {}
        },
        {
          "output_type": "display_data",
          "data": {
            "text/plain": [
              "recommendations finished on 779000/1371980 queries. users per second: 50568.5"
            ],
            "text/html": [
              "<pre>recommendations finished on 779000/1371980 queries. users per second: 50568.5</pre>"
            ]
          },
          "metadata": {}
        },
        {
          "output_type": "display_data",
          "data": {
            "text/plain": [
              "recommendations finished on 780000/1371980 queries. users per second: 50553.9"
            ],
            "text/html": [
              "<pre>recommendations finished on 780000/1371980 queries. users per second: 50553.9</pre>"
            ]
          },
          "metadata": {}
        },
        {
          "output_type": "display_data",
          "data": {
            "text/plain": [
              "recommendations finished on 781000/1371980 queries. users per second: 50535.2"
            ],
            "text/html": [
              "<pre>recommendations finished on 781000/1371980 queries. users per second: 50535.2</pre>"
            ]
          },
          "metadata": {}
        },
        {
          "output_type": "display_data",
          "data": {
            "text/plain": [
              "recommendations finished on 782000/1371980 queries. users per second: 50515.5"
            ],
            "text/html": [
              "<pre>recommendations finished on 782000/1371980 queries. users per second: 50515.5</pre>"
            ]
          },
          "metadata": {}
        },
        {
          "output_type": "display_data",
          "data": {
            "text/plain": [
              "recommendations finished on 783000/1371980 queries. users per second: 50522.8"
            ],
            "text/html": [
              "<pre>recommendations finished on 783000/1371980 queries. users per second: 50522.8</pre>"
            ]
          },
          "metadata": {}
        },
        {
          "output_type": "display_data",
          "data": {
            "text/plain": [
              "recommendations finished on 784000/1371980 queries. users per second: 50515.9"
            ],
            "text/html": [
              "<pre>recommendations finished on 784000/1371980 queries. users per second: 50515.9</pre>"
            ]
          },
          "metadata": {}
        },
        {
          "output_type": "display_data",
          "data": {
            "text/plain": [
              "recommendations finished on 785000/1371980 queries. users per second: 50511.9"
            ],
            "text/html": [
              "<pre>recommendations finished on 785000/1371980 queries. users per second: 50511.9</pre>"
            ]
          },
          "metadata": {}
        },
        {
          "output_type": "display_data",
          "data": {
            "text/plain": [
              "recommendations finished on 786000/1371980 queries. users per second: 50493.8"
            ],
            "text/html": [
              "<pre>recommendations finished on 786000/1371980 queries. users per second: 50493.8</pre>"
            ]
          },
          "metadata": {}
        },
        {
          "output_type": "display_data",
          "data": {
            "text/plain": [
              "recommendations finished on 787000/1371980 queries. users per second: 50472.6"
            ],
            "text/html": [
              "<pre>recommendations finished on 787000/1371980 queries. users per second: 50472.6</pre>"
            ]
          },
          "metadata": {}
        },
        {
          "output_type": "display_data",
          "data": {
            "text/plain": [
              "recommendations finished on 788000/1371980 queries. users per second: 50456.3"
            ],
            "text/html": [
              "<pre>recommendations finished on 788000/1371980 queries. users per second: 50456.3</pre>"
            ]
          },
          "metadata": {}
        },
        {
          "output_type": "display_data",
          "data": {
            "text/plain": [
              "recommendations finished on 789000/1371980 queries. users per second: 50455.6"
            ],
            "text/html": [
              "<pre>recommendations finished on 789000/1371980 queries. users per second: 50455.6</pre>"
            ]
          },
          "metadata": {}
        },
        {
          "output_type": "display_data",
          "data": {
            "text/plain": [
              "recommendations finished on 790000/1371980 queries. users per second: 50452.8"
            ],
            "text/html": [
              "<pre>recommendations finished on 790000/1371980 queries. users per second: 50452.8</pre>"
            ]
          },
          "metadata": {}
        },
        {
          "output_type": "display_data",
          "data": {
            "text/plain": [
              "recommendations finished on 791000/1371980 queries. users per second: 50444.2"
            ],
            "text/html": [
              "<pre>recommendations finished on 791000/1371980 queries. users per second: 50444.2</pre>"
            ]
          },
          "metadata": {}
        },
        {
          "output_type": "display_data",
          "data": {
            "text/plain": [
              "recommendations finished on 792000/1371980 queries. users per second: 50445.4"
            ],
            "text/html": [
              "<pre>recommendations finished on 792000/1371980 queries. users per second: 50445.4</pre>"
            ]
          },
          "metadata": {}
        },
        {
          "output_type": "display_data",
          "data": {
            "text/plain": [
              "recommendations finished on 793000/1371980 queries. users per second: 50435.7"
            ],
            "text/html": [
              "<pre>recommendations finished on 793000/1371980 queries. users per second: 50435.7</pre>"
            ]
          },
          "metadata": {}
        },
        {
          "output_type": "display_data",
          "data": {
            "text/plain": [
              "recommendations finished on 794000/1371980 queries. users per second: 50431"
            ],
            "text/html": [
              "<pre>recommendations finished on 794000/1371980 queries. users per second: 50431</pre>"
            ]
          },
          "metadata": {}
        },
        {
          "output_type": "display_data",
          "data": {
            "text/plain": [
              "recommendations finished on 795000/1371980 queries. users per second: 50422.5"
            ],
            "text/html": [
              "<pre>recommendations finished on 795000/1371980 queries. users per second: 50422.5</pre>"
            ]
          },
          "metadata": {}
        },
        {
          "output_type": "display_data",
          "data": {
            "text/plain": [
              "recommendations finished on 796000/1371980 queries. users per second: 50403"
            ],
            "text/html": [
              "<pre>recommendations finished on 796000/1371980 queries. users per second: 50403</pre>"
            ]
          },
          "metadata": {}
        },
        {
          "output_type": "display_data",
          "data": {
            "text/plain": [
              "recommendations finished on 797000/1371980 queries. users per second: 50393.1"
            ],
            "text/html": [
              "<pre>recommendations finished on 797000/1371980 queries. users per second: 50393.1</pre>"
            ]
          },
          "metadata": {}
        },
        {
          "output_type": "display_data",
          "data": {
            "text/plain": [
              "recommendations finished on 798000/1371980 queries. users per second: 50388"
            ],
            "text/html": [
              "<pre>recommendations finished on 798000/1371980 queries. users per second: 50388</pre>"
            ]
          },
          "metadata": {}
        },
        {
          "output_type": "display_data",
          "data": {
            "text/plain": [
              "recommendations finished on 799000/1371980 queries. users per second: 50379.6"
            ],
            "text/html": [
              "<pre>recommendations finished on 799000/1371980 queries. users per second: 50379.6</pre>"
            ]
          },
          "metadata": {}
        },
        {
          "output_type": "display_data",
          "data": {
            "text/plain": [
              "recommendations finished on 800000/1371980 queries. users per second: 50367.9"
            ],
            "text/html": [
              "<pre>recommendations finished on 800000/1371980 queries. users per second: 50367.9</pre>"
            ]
          },
          "metadata": {}
        },
        {
          "output_type": "display_data",
          "data": {
            "text/plain": [
              "recommendations finished on 801000/1371980 queries. users per second: 50360.3"
            ],
            "text/html": [
              "<pre>recommendations finished on 801000/1371980 queries. users per second: 50360.3</pre>"
            ]
          },
          "metadata": {}
        },
        {
          "output_type": "display_data",
          "data": {
            "text/plain": [
              "recommendations finished on 802000/1371980 queries. users per second: 50348.2"
            ],
            "text/html": [
              "<pre>recommendations finished on 802000/1371980 queries. users per second: 50348.2</pre>"
            ]
          },
          "metadata": {}
        },
        {
          "output_type": "display_data",
          "data": {
            "text/plain": [
              "recommendations finished on 803000/1371980 queries. users per second: 50342.1"
            ],
            "text/html": [
              "<pre>recommendations finished on 803000/1371980 queries. users per second: 50342.1</pre>"
            ]
          },
          "metadata": {}
        },
        {
          "output_type": "display_data",
          "data": {
            "text/plain": [
              "recommendations finished on 804000/1371980 queries. users per second: 50356.7"
            ],
            "text/html": [
              "<pre>recommendations finished on 804000/1371980 queries. users per second: 50356.7</pre>"
            ]
          },
          "metadata": {}
        },
        {
          "output_type": "display_data",
          "data": {
            "text/plain": [
              "recommendations finished on 805000/1371980 queries. users per second: 50351.4"
            ],
            "text/html": [
              "<pre>recommendations finished on 805000/1371980 queries. users per second: 50351.4</pre>"
            ]
          },
          "metadata": {}
        },
        {
          "output_type": "display_data",
          "data": {
            "text/plain": [
              "recommendations finished on 806000/1371980 queries. users per second: 50334.5"
            ],
            "text/html": [
              "<pre>recommendations finished on 806000/1371980 queries. users per second: 50334.5</pre>"
            ]
          },
          "metadata": {}
        },
        {
          "output_type": "display_data",
          "data": {
            "text/plain": [
              "recommendations finished on 807000/1371980 queries. users per second: 50323.4"
            ],
            "text/html": [
              "<pre>recommendations finished on 807000/1371980 queries. users per second: 50323.4</pre>"
            ]
          },
          "metadata": {}
        },
        {
          "output_type": "display_data",
          "data": {
            "text/plain": [
              "recommendations finished on 808000/1371980 queries. users per second: 50320.2"
            ],
            "text/html": [
              "<pre>recommendations finished on 808000/1371980 queries. users per second: 50320.2</pre>"
            ]
          },
          "metadata": {}
        },
        {
          "output_type": "display_data",
          "data": {
            "text/plain": [
              "recommendations finished on 809000/1371980 queries. users per second: 50312"
            ],
            "text/html": [
              "<pre>recommendations finished on 809000/1371980 queries. users per second: 50312</pre>"
            ]
          },
          "metadata": {}
        },
        {
          "output_type": "display_data",
          "data": {
            "text/plain": [
              "recommendations finished on 810000/1371980 queries. users per second: 50305"
            ],
            "text/html": [
              "<pre>recommendations finished on 810000/1371980 queries. users per second: 50305</pre>"
            ]
          },
          "metadata": {}
        },
        {
          "output_type": "display_data",
          "data": {
            "text/plain": [
              "recommendations finished on 811000/1371980 queries. users per second: 50295.2"
            ],
            "text/html": [
              "<pre>recommendations finished on 811000/1371980 queries. users per second: 50295.2</pre>"
            ]
          },
          "metadata": {}
        },
        {
          "output_type": "display_data",
          "data": {
            "text/plain": [
              "recommendations finished on 812000/1371980 queries. users per second: 50277.8"
            ],
            "text/html": [
              "<pre>recommendations finished on 812000/1371980 queries. users per second: 50277.8</pre>"
            ]
          },
          "metadata": {}
        },
        {
          "output_type": "display_data",
          "data": {
            "text/plain": [
              "recommendations finished on 813000/1371980 queries. users per second: 50273.3"
            ],
            "text/html": [
              "<pre>recommendations finished on 813000/1371980 queries. users per second: 50273.3</pre>"
            ]
          },
          "metadata": {}
        },
        {
          "output_type": "display_data",
          "data": {
            "text/plain": [
              "recommendations finished on 814000/1371980 queries. users per second: 50272.9"
            ],
            "text/html": [
              "<pre>recommendations finished on 814000/1371980 queries. users per second: 50272.9</pre>"
            ]
          },
          "metadata": {}
        },
        {
          "output_type": "display_data",
          "data": {
            "text/plain": [
              "recommendations finished on 815000/1371980 queries. users per second: 50268.8"
            ],
            "text/html": [
              "<pre>recommendations finished on 815000/1371980 queries. users per second: 50268.8</pre>"
            ]
          },
          "metadata": {}
        },
        {
          "output_type": "display_data",
          "data": {
            "text/plain": [
              "recommendations finished on 816000/1371980 queries. users per second: 50264.7"
            ],
            "text/html": [
              "<pre>recommendations finished on 816000/1371980 queries. users per second: 50264.7</pre>"
            ]
          },
          "metadata": {}
        },
        {
          "output_type": "display_data",
          "data": {
            "text/plain": [
              "recommendations finished on 817000/1371980 queries. users per second: 50263.1"
            ],
            "text/html": [
              "<pre>recommendations finished on 817000/1371980 queries. users per second: 50263.1</pre>"
            ]
          },
          "metadata": {}
        },
        {
          "output_type": "display_data",
          "data": {
            "text/plain": [
              "recommendations finished on 818000/1371980 queries. users per second: 50244.7"
            ],
            "text/html": [
              "<pre>recommendations finished on 818000/1371980 queries. users per second: 50244.7</pre>"
            ]
          },
          "metadata": {}
        },
        {
          "output_type": "display_data",
          "data": {
            "text/plain": [
              "recommendations finished on 819000/1371980 queries. users per second: 50237"
            ],
            "text/html": [
              "<pre>recommendations finished on 819000/1371980 queries. users per second: 50237</pre>"
            ]
          },
          "metadata": {}
        },
        {
          "output_type": "display_data",
          "data": {
            "text/plain": [
              "recommendations finished on 820000/1371980 queries. users per second: 50233.5"
            ],
            "text/html": [
              "<pre>recommendations finished on 820000/1371980 queries. users per second: 50233.5</pre>"
            ]
          },
          "metadata": {}
        },
        {
          "output_type": "display_data",
          "data": {
            "text/plain": [
              "recommendations finished on 821000/1371980 queries. users per second: 50206.8"
            ],
            "text/html": [
              "<pre>recommendations finished on 821000/1371980 queries. users per second: 50206.8</pre>"
            ]
          },
          "metadata": {}
        },
        {
          "output_type": "display_data",
          "data": {
            "text/plain": [
              "recommendations finished on 822000/1371980 queries. users per second: 50168.9"
            ],
            "text/html": [
              "<pre>recommendations finished on 822000/1371980 queries. users per second: 50168.9</pre>"
            ]
          },
          "metadata": {}
        },
        {
          "output_type": "display_data",
          "data": {
            "text/plain": [
              "recommendations finished on 823000/1371980 queries. users per second: 50178.2"
            ],
            "text/html": [
              "<pre>recommendations finished on 823000/1371980 queries. users per second: 50178.2</pre>"
            ]
          },
          "metadata": {}
        },
        {
          "output_type": "display_data",
          "data": {
            "text/plain": [
              "recommendations finished on 824000/1371980 queries. users per second: 50180.3"
            ],
            "text/html": [
              "<pre>recommendations finished on 824000/1371980 queries. users per second: 50180.3</pre>"
            ]
          },
          "metadata": {}
        },
        {
          "output_type": "display_data",
          "data": {
            "text/plain": [
              "recommendations finished on 825000/1371980 queries. users per second: 50171.6"
            ],
            "text/html": [
              "<pre>recommendations finished on 825000/1371980 queries. users per second: 50171.6</pre>"
            ]
          },
          "metadata": {}
        },
        {
          "output_type": "display_data",
          "data": {
            "text/plain": [
              "recommendations finished on 826000/1371980 queries. users per second: 50164"
            ],
            "text/html": [
              "<pre>recommendations finished on 826000/1371980 queries. users per second: 50164</pre>"
            ]
          },
          "metadata": {}
        },
        {
          "output_type": "display_data",
          "data": {
            "text/plain": [
              "recommendations finished on 827000/1371980 queries. users per second: 50159.8"
            ],
            "text/html": [
              "<pre>recommendations finished on 827000/1371980 queries. users per second: 50159.8</pre>"
            ]
          },
          "metadata": {}
        },
        {
          "output_type": "display_data",
          "data": {
            "text/plain": [
              "recommendations finished on 828000/1371980 queries. users per second: 50148.8"
            ],
            "text/html": [
              "<pre>recommendations finished on 828000/1371980 queries. users per second: 50148.8</pre>"
            ]
          },
          "metadata": {}
        },
        {
          "output_type": "display_data",
          "data": {
            "text/plain": [
              "recommendations finished on 829000/1371980 queries. users per second: 50144.1"
            ],
            "text/html": [
              "<pre>recommendations finished on 829000/1371980 queries. users per second: 50144.1</pre>"
            ]
          },
          "metadata": {}
        },
        {
          "output_type": "display_data",
          "data": {
            "text/plain": [
              "recommendations finished on 830000/1371980 queries. users per second: 50133.6"
            ],
            "text/html": [
              "<pre>recommendations finished on 830000/1371980 queries. users per second: 50133.6</pre>"
            ]
          },
          "metadata": {}
        },
        {
          "output_type": "display_data",
          "data": {
            "text/plain": [
              "recommendations finished on 831000/1371980 queries. users per second: 50144.2"
            ],
            "text/html": [
              "<pre>recommendations finished on 831000/1371980 queries. users per second: 50144.2</pre>"
            ]
          },
          "metadata": {}
        },
        {
          "output_type": "display_data",
          "data": {
            "text/plain": [
              "recommendations finished on 832000/1371980 queries. users per second: 50141.2"
            ],
            "text/html": [
              "<pre>recommendations finished on 832000/1371980 queries. users per second: 50141.2</pre>"
            ]
          },
          "metadata": {}
        },
        {
          "output_type": "display_data",
          "data": {
            "text/plain": [
              "recommendations finished on 833000/1371980 queries. users per second: 50133.4"
            ],
            "text/html": [
              "<pre>recommendations finished on 833000/1371980 queries. users per second: 50133.4</pre>"
            ]
          },
          "metadata": {}
        },
        {
          "output_type": "display_data",
          "data": {
            "text/plain": [
              "recommendations finished on 834000/1371980 queries. users per second: 50130.7"
            ],
            "text/html": [
              "<pre>recommendations finished on 834000/1371980 queries. users per second: 50130.7</pre>"
            ]
          },
          "metadata": {}
        },
        {
          "output_type": "display_data",
          "data": {
            "text/plain": [
              "recommendations finished on 835000/1371980 queries. users per second: 50124.3"
            ],
            "text/html": [
              "<pre>recommendations finished on 835000/1371980 queries. users per second: 50124.3</pre>"
            ]
          },
          "metadata": {}
        },
        {
          "output_type": "display_data",
          "data": {
            "text/plain": [
              "recommendations finished on 836000/1371980 queries. users per second: 50123"
            ],
            "text/html": [
              "<pre>recommendations finished on 836000/1371980 queries. users per second: 50123</pre>"
            ]
          },
          "metadata": {}
        },
        {
          "output_type": "display_data",
          "data": {
            "text/plain": [
              "recommendations finished on 837000/1371980 queries. users per second: 50137.1"
            ],
            "text/html": [
              "<pre>recommendations finished on 837000/1371980 queries. users per second: 50137.1</pre>"
            ]
          },
          "metadata": {}
        },
        {
          "output_type": "display_data",
          "data": {
            "text/plain": [
              "recommendations finished on 838000/1371980 queries. users per second: 50126.5"
            ],
            "text/html": [
              "<pre>recommendations finished on 838000/1371980 queries. users per second: 50126.5</pre>"
            ]
          },
          "metadata": {}
        },
        {
          "output_type": "display_data",
          "data": {
            "text/plain": [
              "recommendations finished on 839000/1371980 queries. users per second: 50100.5"
            ],
            "text/html": [
              "<pre>recommendations finished on 839000/1371980 queries. users per second: 50100.5</pre>"
            ]
          },
          "metadata": {}
        },
        {
          "output_type": "display_data",
          "data": {
            "text/plain": [
              "recommendations finished on 840000/1371980 queries. users per second: 50094.9"
            ],
            "text/html": [
              "<pre>recommendations finished on 840000/1371980 queries. users per second: 50094.9</pre>"
            ]
          },
          "metadata": {}
        },
        {
          "output_type": "display_data",
          "data": {
            "text/plain": [
              "recommendations finished on 841000/1371980 queries. users per second: 50088"
            ],
            "text/html": [
              "<pre>recommendations finished on 841000/1371980 queries. users per second: 50088</pre>"
            ]
          },
          "metadata": {}
        },
        {
          "output_type": "display_data",
          "data": {
            "text/plain": [
              "recommendations finished on 842000/1371980 queries. users per second: 50085.3"
            ],
            "text/html": [
              "<pre>recommendations finished on 842000/1371980 queries. users per second: 50085.3</pre>"
            ]
          },
          "metadata": {}
        },
        {
          "output_type": "display_data",
          "data": {
            "text/plain": [
              "recommendations finished on 843000/1371980 queries. users per second: 50094.1"
            ],
            "text/html": [
              "<pre>recommendations finished on 843000/1371980 queries. users per second: 50094.1</pre>"
            ]
          },
          "metadata": {}
        },
        {
          "output_type": "display_data",
          "data": {
            "text/plain": [
              "recommendations finished on 844000/1371980 queries. users per second: 50080.9"
            ],
            "text/html": [
              "<pre>recommendations finished on 844000/1371980 queries. users per second: 50080.9</pre>"
            ]
          },
          "metadata": {}
        },
        {
          "output_type": "display_data",
          "data": {
            "text/plain": [
              "recommendations finished on 845000/1371980 queries. users per second: 50083.9"
            ],
            "text/html": [
              "<pre>recommendations finished on 845000/1371980 queries. users per second: 50083.9</pre>"
            ]
          },
          "metadata": {}
        },
        {
          "output_type": "display_data",
          "data": {
            "text/plain": [
              "recommendations finished on 846000/1371980 queries. users per second: 50068.8"
            ],
            "text/html": [
              "<pre>recommendations finished on 846000/1371980 queries. users per second: 50068.8</pre>"
            ]
          },
          "metadata": {}
        },
        {
          "output_type": "display_data",
          "data": {
            "text/plain": [
              "recommendations finished on 847000/1371980 queries. users per second: 50073.2"
            ],
            "text/html": [
              "<pre>recommendations finished on 847000/1371980 queries. users per second: 50073.2</pre>"
            ]
          },
          "metadata": {}
        },
        {
          "output_type": "display_data",
          "data": {
            "text/plain": [
              "recommendations finished on 848000/1371980 queries. users per second: 50057.8"
            ],
            "text/html": [
              "<pre>recommendations finished on 848000/1371980 queries. users per second: 50057.8</pre>"
            ]
          },
          "metadata": {}
        },
        {
          "output_type": "display_data",
          "data": {
            "text/plain": [
              "recommendations finished on 849000/1371980 queries. users per second: 50059.3"
            ],
            "text/html": [
              "<pre>recommendations finished on 849000/1371980 queries. users per second: 50059.3</pre>"
            ]
          },
          "metadata": {}
        },
        {
          "output_type": "display_data",
          "data": {
            "text/plain": [
              "recommendations finished on 850000/1371980 queries. users per second: 50050.9"
            ],
            "text/html": [
              "<pre>recommendations finished on 850000/1371980 queries. users per second: 50050.9</pre>"
            ]
          },
          "metadata": {}
        },
        {
          "output_type": "display_data",
          "data": {
            "text/plain": [
              "recommendations finished on 851000/1371980 queries. users per second: 50046.4"
            ],
            "text/html": [
              "<pre>recommendations finished on 851000/1371980 queries. users per second: 50046.4</pre>"
            ]
          },
          "metadata": {}
        },
        {
          "output_type": "display_data",
          "data": {
            "text/plain": [
              "recommendations finished on 852000/1371980 queries. users per second: 50022.6"
            ],
            "text/html": [
              "<pre>recommendations finished on 852000/1371980 queries. users per second: 50022.6</pre>"
            ]
          },
          "metadata": {}
        },
        {
          "output_type": "display_data",
          "data": {
            "text/plain": [
              "recommendations finished on 853000/1371980 queries. users per second: 50013.6"
            ],
            "text/html": [
              "<pre>recommendations finished on 853000/1371980 queries. users per second: 50013.6</pre>"
            ]
          },
          "metadata": {}
        },
        {
          "output_type": "display_data",
          "data": {
            "text/plain": [
              "recommendations finished on 854000/1371980 queries. users per second: 50006.5"
            ],
            "text/html": [
              "<pre>recommendations finished on 854000/1371980 queries. users per second: 50006.5</pre>"
            ]
          },
          "metadata": {}
        },
        {
          "output_type": "display_data",
          "data": {
            "text/plain": [
              "recommendations finished on 855000/1371980 queries. users per second: 50006.2"
            ],
            "text/html": [
              "<pre>recommendations finished on 855000/1371980 queries. users per second: 50006.2</pre>"
            ]
          },
          "metadata": {}
        },
        {
          "output_type": "display_data",
          "data": {
            "text/plain": [
              "recommendations finished on 856000/1371980 queries. users per second: 50004"
            ],
            "text/html": [
              "<pre>recommendations finished on 856000/1371980 queries. users per second: 50004</pre>"
            ]
          },
          "metadata": {}
        },
        {
          "output_type": "display_data",
          "data": {
            "text/plain": [
              "recommendations finished on 857000/1371980 queries. users per second: 50000.7"
            ],
            "text/html": [
              "<pre>recommendations finished on 857000/1371980 queries. users per second: 50000.7</pre>"
            ]
          },
          "metadata": {}
        },
        {
          "output_type": "display_data",
          "data": {
            "text/plain": [
              "recommendations finished on 858000/1371980 queries. users per second: 49983.6"
            ],
            "text/html": [
              "<pre>recommendations finished on 858000/1371980 queries. users per second: 49983.6</pre>"
            ]
          },
          "metadata": {}
        },
        {
          "output_type": "display_data",
          "data": {
            "text/plain": [
              "recommendations finished on 859000/1371980 queries. users per second: 49980.2"
            ],
            "text/html": [
              "<pre>recommendations finished on 859000/1371980 queries. users per second: 49980.2</pre>"
            ]
          },
          "metadata": {}
        },
        {
          "output_type": "display_data",
          "data": {
            "text/plain": [
              "recommendations finished on 860000/1371980 queries. users per second: 49979.5"
            ],
            "text/html": [
              "<pre>recommendations finished on 860000/1371980 queries. users per second: 49979.5</pre>"
            ]
          },
          "metadata": {}
        },
        {
          "output_type": "display_data",
          "data": {
            "text/plain": [
              "recommendations finished on 861000/1371980 queries. users per second: 49973.3"
            ],
            "text/html": [
              "<pre>recommendations finished on 861000/1371980 queries. users per second: 49973.3</pre>"
            ]
          },
          "metadata": {}
        },
        {
          "output_type": "display_data",
          "data": {
            "text/plain": [
              "recommendations finished on 862000/1371980 queries. users per second: 49983.7"
            ],
            "text/html": [
              "<pre>recommendations finished on 862000/1371980 queries. users per second: 49983.7</pre>"
            ]
          },
          "metadata": {}
        },
        {
          "output_type": "display_data",
          "data": {
            "text/plain": [
              "recommendations finished on 863000/1371980 queries. users per second: 49970.7"
            ],
            "text/html": [
              "<pre>recommendations finished on 863000/1371980 queries. users per second: 49970.7</pre>"
            ]
          },
          "metadata": {}
        },
        {
          "output_type": "display_data",
          "data": {
            "text/plain": [
              "recommendations finished on 864000/1371980 queries. users per second: 49945.2"
            ],
            "text/html": [
              "<pre>recommendations finished on 864000/1371980 queries. users per second: 49945.2</pre>"
            ]
          },
          "metadata": {}
        },
        {
          "output_type": "display_data",
          "data": {
            "text/plain": [
              "recommendations finished on 865000/1371980 queries. users per second: 49940.9"
            ],
            "text/html": [
              "<pre>recommendations finished on 865000/1371980 queries. users per second: 49940.9</pre>"
            ]
          },
          "metadata": {}
        },
        {
          "output_type": "display_data",
          "data": {
            "text/plain": [
              "recommendations finished on 866000/1371980 queries. users per second: 49936.3"
            ],
            "text/html": [
              "<pre>recommendations finished on 866000/1371980 queries. users per second: 49936.3</pre>"
            ]
          },
          "metadata": {}
        },
        {
          "output_type": "display_data",
          "data": {
            "text/plain": [
              "recommendations finished on 867000/1371980 queries. users per second: 49933.3"
            ],
            "text/html": [
              "<pre>recommendations finished on 867000/1371980 queries. users per second: 49933.3</pre>"
            ]
          },
          "metadata": {}
        },
        {
          "output_type": "display_data",
          "data": {
            "text/plain": [
              "recommendations finished on 868000/1371980 queries. users per second: 49929.3"
            ],
            "text/html": [
              "<pre>recommendations finished on 868000/1371980 queries. users per second: 49929.3</pre>"
            ]
          },
          "metadata": {}
        },
        {
          "output_type": "display_data",
          "data": {
            "text/plain": [
              "recommendations finished on 869000/1371980 queries. users per second: 49905.6"
            ],
            "text/html": [
              "<pre>recommendations finished on 869000/1371980 queries. users per second: 49905.6</pre>"
            ]
          },
          "metadata": {}
        },
        {
          "output_type": "display_data",
          "data": {
            "text/plain": [
              "recommendations finished on 870000/1371980 queries. users per second: 49896.3"
            ],
            "text/html": [
              "<pre>recommendations finished on 870000/1371980 queries. users per second: 49896.3</pre>"
            ]
          },
          "metadata": {}
        },
        {
          "output_type": "display_data",
          "data": {
            "text/plain": [
              "recommendations finished on 871000/1371980 queries. users per second: 49902.8"
            ],
            "text/html": [
              "<pre>recommendations finished on 871000/1371980 queries. users per second: 49902.8</pre>"
            ]
          },
          "metadata": {}
        },
        {
          "output_type": "display_data",
          "data": {
            "text/plain": [
              "recommendations finished on 872000/1371980 queries. users per second: 49914.4"
            ],
            "text/html": [
              "<pre>recommendations finished on 872000/1371980 queries. users per second: 49914.4</pre>"
            ]
          },
          "metadata": {}
        },
        {
          "output_type": "display_data",
          "data": {
            "text/plain": [
              "recommendations finished on 873000/1371980 queries. users per second: 49903.9"
            ],
            "text/html": [
              "<pre>recommendations finished on 873000/1371980 queries. users per second: 49903.9</pre>"
            ]
          },
          "metadata": {}
        },
        {
          "output_type": "display_data",
          "data": {
            "text/plain": [
              "recommendations finished on 874000/1371980 queries. users per second: 49905.4"
            ],
            "text/html": [
              "<pre>recommendations finished on 874000/1371980 queries. users per second: 49905.4</pre>"
            ]
          },
          "metadata": {}
        },
        {
          "output_type": "display_data",
          "data": {
            "text/plain": [
              "recommendations finished on 875000/1371980 queries. users per second: 49886.9"
            ],
            "text/html": [
              "<pre>recommendations finished on 875000/1371980 queries. users per second: 49886.9</pre>"
            ]
          },
          "metadata": {}
        },
        {
          "output_type": "display_data",
          "data": {
            "text/plain": [
              "recommendations finished on 876000/1371980 queries. users per second: 49888.5"
            ],
            "text/html": [
              "<pre>recommendations finished on 876000/1371980 queries. users per second: 49888.5</pre>"
            ]
          },
          "metadata": {}
        },
        {
          "output_type": "display_data",
          "data": {
            "text/plain": [
              "recommendations finished on 877000/1371980 queries. users per second: 49875.3"
            ],
            "text/html": [
              "<pre>recommendations finished on 877000/1371980 queries. users per second: 49875.3</pre>"
            ]
          },
          "metadata": {}
        },
        {
          "output_type": "display_data",
          "data": {
            "text/plain": [
              "recommendations finished on 878000/1371980 queries. users per second: 49871.8"
            ],
            "text/html": [
              "<pre>recommendations finished on 878000/1371980 queries. users per second: 49871.8</pre>"
            ]
          },
          "metadata": {}
        },
        {
          "output_type": "display_data",
          "data": {
            "text/plain": [
              "recommendations finished on 879000/1371980 queries. users per second: 49862.8"
            ],
            "text/html": [
              "<pre>recommendations finished on 879000/1371980 queries. users per second: 49862.8</pre>"
            ]
          },
          "metadata": {}
        },
        {
          "output_type": "display_data",
          "data": {
            "text/plain": [
              "recommendations finished on 880000/1371980 queries. users per second: 49858.3"
            ],
            "text/html": [
              "<pre>recommendations finished on 880000/1371980 queries. users per second: 49858.3</pre>"
            ]
          },
          "metadata": {}
        },
        {
          "output_type": "display_data",
          "data": {
            "text/plain": [
              "recommendations finished on 881000/1371980 queries. users per second: 49847.2"
            ],
            "text/html": [
              "<pre>recommendations finished on 881000/1371980 queries. users per second: 49847.2</pre>"
            ]
          },
          "metadata": {}
        },
        {
          "output_type": "display_data",
          "data": {
            "text/plain": [
              "recommendations finished on 882000/1371980 queries. users per second: 49837.9"
            ],
            "text/html": [
              "<pre>recommendations finished on 882000/1371980 queries. users per second: 49837.9</pre>"
            ]
          },
          "metadata": {}
        },
        {
          "output_type": "display_data",
          "data": {
            "text/plain": [
              "recommendations finished on 883000/1371980 queries. users per second: 49826.6"
            ],
            "text/html": [
              "<pre>recommendations finished on 883000/1371980 queries. users per second: 49826.6</pre>"
            ]
          },
          "metadata": {}
        },
        {
          "output_type": "display_data",
          "data": {
            "text/plain": [
              "recommendations finished on 884000/1371980 queries. users per second: 49813.5"
            ],
            "text/html": [
              "<pre>recommendations finished on 884000/1371980 queries. users per second: 49813.5</pre>"
            ]
          },
          "metadata": {}
        },
        {
          "output_type": "display_data",
          "data": {
            "text/plain": [
              "recommendations finished on 885000/1371980 queries. users per second: 49827"
            ],
            "text/html": [
              "<pre>recommendations finished on 885000/1371980 queries. users per second: 49827</pre>"
            ]
          },
          "metadata": {}
        },
        {
          "output_type": "display_data",
          "data": {
            "text/plain": [
              "recommendations finished on 886000/1371980 queries. users per second: 49811.6"
            ],
            "text/html": [
              "<pre>recommendations finished on 886000/1371980 queries. users per second: 49811.6</pre>"
            ]
          },
          "metadata": {}
        },
        {
          "output_type": "display_data",
          "data": {
            "text/plain": [
              "recommendations finished on 887000/1371980 queries. users per second: 49805.1"
            ],
            "text/html": [
              "<pre>recommendations finished on 887000/1371980 queries. users per second: 49805.1</pre>"
            ]
          },
          "metadata": {}
        },
        {
          "output_type": "display_data",
          "data": {
            "text/plain": [
              "recommendations finished on 888000/1371980 queries. users per second: 49795"
            ],
            "text/html": [
              "<pre>recommendations finished on 888000/1371980 queries. users per second: 49795</pre>"
            ]
          },
          "metadata": {}
        },
        {
          "output_type": "display_data",
          "data": {
            "text/plain": [
              "recommendations finished on 889000/1371980 queries. users per second: 49789.6"
            ],
            "text/html": [
              "<pre>recommendations finished on 889000/1371980 queries. users per second: 49789.6</pre>"
            ]
          },
          "metadata": {}
        },
        {
          "output_type": "display_data",
          "data": {
            "text/plain": [
              "recommendations finished on 890000/1371980 queries. users per second: 49785.6"
            ],
            "text/html": [
              "<pre>recommendations finished on 890000/1371980 queries. users per second: 49785.6</pre>"
            ]
          },
          "metadata": {}
        },
        {
          "output_type": "display_data",
          "data": {
            "text/plain": [
              "recommendations finished on 891000/1371980 queries. users per second: 49769.2"
            ],
            "text/html": [
              "<pre>recommendations finished on 891000/1371980 queries. users per second: 49769.2</pre>"
            ]
          },
          "metadata": {}
        },
        {
          "output_type": "display_data",
          "data": {
            "text/plain": [
              "recommendations finished on 892000/1371980 queries. users per second: 49778"
            ],
            "text/html": [
              "<pre>recommendations finished on 892000/1371980 queries. users per second: 49778</pre>"
            ]
          },
          "metadata": {}
        },
        {
          "output_type": "display_data",
          "data": {
            "text/plain": [
              "recommendations finished on 893000/1371980 queries. users per second: 49771"
            ],
            "text/html": [
              "<pre>recommendations finished on 893000/1371980 queries. users per second: 49771</pre>"
            ]
          },
          "metadata": {}
        },
        {
          "output_type": "display_data",
          "data": {
            "text/plain": [
              "recommendations finished on 894000/1371980 queries. users per second: 49783.7"
            ],
            "text/html": [
              "<pre>recommendations finished on 894000/1371980 queries. users per second: 49783.7</pre>"
            ]
          },
          "metadata": {}
        },
        {
          "output_type": "display_data",
          "data": {
            "text/plain": [
              "recommendations finished on 895000/1371980 queries. users per second: 49769"
            ],
            "text/html": [
              "<pre>recommendations finished on 895000/1371980 queries. users per second: 49769</pre>"
            ]
          },
          "metadata": {}
        },
        {
          "output_type": "display_data",
          "data": {
            "text/plain": [
              "recommendations finished on 896000/1371980 queries. users per second: 49756.7"
            ],
            "text/html": [
              "<pre>recommendations finished on 896000/1371980 queries. users per second: 49756.7</pre>"
            ]
          },
          "metadata": {}
        },
        {
          "output_type": "display_data",
          "data": {
            "text/plain": [
              "recommendations finished on 897000/1371980 queries. users per second: 49752.1"
            ],
            "text/html": [
              "<pre>recommendations finished on 897000/1371980 queries. users per second: 49752.1</pre>"
            ]
          },
          "metadata": {}
        },
        {
          "output_type": "display_data",
          "data": {
            "text/plain": [
              "recommendations finished on 898000/1371980 queries. users per second: 49740.3"
            ],
            "text/html": [
              "<pre>recommendations finished on 898000/1371980 queries. users per second: 49740.3</pre>"
            ]
          },
          "metadata": {}
        },
        {
          "output_type": "display_data",
          "data": {
            "text/plain": [
              "recommendations finished on 899000/1371980 queries. users per second: 49733.8"
            ],
            "text/html": [
              "<pre>recommendations finished on 899000/1371980 queries. users per second: 49733.8</pre>"
            ]
          },
          "metadata": {}
        },
        {
          "output_type": "display_data",
          "data": {
            "text/plain": [
              "recommendations finished on 900000/1371980 queries. users per second: 49713.1"
            ],
            "text/html": [
              "<pre>recommendations finished on 900000/1371980 queries. users per second: 49713.1</pre>"
            ]
          },
          "metadata": {}
        },
        {
          "output_type": "display_data",
          "data": {
            "text/plain": [
              "recommendations finished on 901000/1371980 queries. users per second: 49713.2"
            ],
            "text/html": [
              "<pre>recommendations finished on 901000/1371980 queries. users per second: 49713.2</pre>"
            ]
          },
          "metadata": {}
        },
        {
          "output_type": "display_data",
          "data": {
            "text/plain": [
              "recommendations finished on 902000/1371980 queries. users per second: 49704.3"
            ],
            "text/html": [
              "<pre>recommendations finished on 902000/1371980 queries. users per second: 49704.3</pre>"
            ]
          },
          "metadata": {}
        },
        {
          "output_type": "display_data",
          "data": {
            "text/plain": [
              "recommendations finished on 903000/1371980 queries. users per second: 49702.5"
            ],
            "text/html": [
              "<pre>recommendations finished on 903000/1371980 queries. users per second: 49702.5</pre>"
            ]
          },
          "metadata": {}
        },
        {
          "output_type": "display_data",
          "data": {
            "text/plain": [
              "recommendations finished on 904000/1371980 queries. users per second: 49697"
            ],
            "text/html": [
              "<pre>recommendations finished on 904000/1371980 queries. users per second: 49697</pre>"
            ]
          },
          "metadata": {}
        },
        {
          "output_type": "display_data",
          "data": {
            "text/plain": [
              "recommendations finished on 905000/1371980 queries. users per second: 49689.4"
            ],
            "text/html": [
              "<pre>recommendations finished on 905000/1371980 queries. users per second: 49689.4</pre>"
            ]
          },
          "metadata": {}
        },
        {
          "output_type": "display_data",
          "data": {
            "text/plain": [
              "recommendations finished on 906000/1371980 queries. users per second: 49682.8"
            ],
            "text/html": [
              "<pre>recommendations finished on 906000/1371980 queries. users per second: 49682.8</pre>"
            ]
          },
          "metadata": {}
        },
        {
          "output_type": "display_data",
          "data": {
            "text/plain": [
              "recommendations finished on 907000/1371980 queries. users per second: 49678.4"
            ],
            "text/html": [
              "<pre>recommendations finished on 907000/1371980 queries. users per second: 49678.4</pre>"
            ]
          },
          "metadata": {}
        },
        {
          "output_type": "display_data",
          "data": {
            "text/plain": [
              "recommendations finished on 908000/1371980 queries. users per second: 49666"
            ],
            "text/html": [
              "<pre>recommendations finished on 908000/1371980 queries. users per second: 49666</pre>"
            ]
          },
          "metadata": {}
        },
        {
          "output_type": "display_data",
          "data": {
            "text/plain": [
              "recommendations finished on 909000/1371980 queries. users per second: 49660"
            ],
            "text/html": [
              "<pre>recommendations finished on 909000/1371980 queries. users per second: 49660</pre>"
            ]
          },
          "metadata": {}
        },
        {
          "output_type": "display_data",
          "data": {
            "text/plain": [
              "recommendations finished on 910000/1371980 queries. users per second: 49659.4"
            ],
            "text/html": [
              "<pre>recommendations finished on 910000/1371980 queries. users per second: 49659.4</pre>"
            ]
          },
          "metadata": {}
        },
        {
          "output_type": "display_data",
          "data": {
            "text/plain": [
              "recommendations finished on 911000/1371980 queries. users per second: 49650.5"
            ],
            "text/html": [
              "<pre>recommendations finished on 911000/1371980 queries. users per second: 49650.5</pre>"
            ]
          },
          "metadata": {}
        },
        {
          "output_type": "display_data",
          "data": {
            "text/plain": [
              "recommendations finished on 912000/1371980 queries. users per second: 49640.6"
            ],
            "text/html": [
              "<pre>recommendations finished on 912000/1371980 queries. users per second: 49640.6</pre>"
            ]
          },
          "metadata": {}
        },
        {
          "output_type": "display_data",
          "data": {
            "text/plain": [
              "recommendations finished on 913000/1371980 queries. users per second: 49639.3"
            ],
            "text/html": [
              "<pre>recommendations finished on 913000/1371980 queries. users per second: 49639.3</pre>"
            ]
          },
          "metadata": {}
        },
        {
          "output_type": "display_data",
          "data": {
            "text/plain": [
              "recommendations finished on 914000/1371980 queries. users per second: 49634.2"
            ],
            "text/html": [
              "<pre>recommendations finished on 914000/1371980 queries. users per second: 49634.2</pre>"
            ]
          },
          "metadata": {}
        },
        {
          "output_type": "display_data",
          "data": {
            "text/plain": [
              "recommendations finished on 915000/1371980 queries. users per second: 49600.4"
            ],
            "text/html": [
              "<pre>recommendations finished on 915000/1371980 queries. users per second: 49600.4</pre>"
            ]
          },
          "metadata": {}
        },
        {
          "output_type": "display_data",
          "data": {
            "text/plain": [
              "recommendations finished on 916000/1371980 queries. users per second: 49596.8"
            ],
            "text/html": [
              "<pre>recommendations finished on 916000/1371980 queries. users per second: 49596.8</pre>"
            ]
          },
          "metadata": {}
        },
        {
          "output_type": "display_data",
          "data": {
            "text/plain": [
              "recommendations finished on 917000/1371980 queries. users per second: 49559.3"
            ],
            "text/html": [
              "<pre>recommendations finished on 917000/1371980 queries. users per second: 49559.3</pre>"
            ]
          },
          "metadata": {}
        },
        {
          "output_type": "display_data",
          "data": {
            "text/plain": [
              "recommendations finished on 918000/1371980 queries. users per second: 49556.4"
            ],
            "text/html": [
              "<pre>recommendations finished on 918000/1371980 queries. users per second: 49556.4</pre>"
            ]
          },
          "metadata": {}
        },
        {
          "output_type": "display_data",
          "data": {
            "text/plain": [
              "recommendations finished on 919000/1371980 queries. users per second: 49559.5"
            ],
            "text/html": [
              "<pre>recommendations finished on 919000/1371980 queries. users per second: 49559.5</pre>"
            ]
          },
          "metadata": {}
        },
        {
          "output_type": "display_data",
          "data": {
            "text/plain": [
              "recommendations finished on 920000/1371980 queries. users per second: 49548"
            ],
            "text/html": [
              "<pre>recommendations finished on 920000/1371980 queries. users per second: 49548</pre>"
            ]
          },
          "metadata": {}
        },
        {
          "output_type": "display_data",
          "data": {
            "text/plain": [
              "recommendations finished on 921000/1371980 queries. users per second: 49545.4"
            ],
            "text/html": [
              "<pre>recommendations finished on 921000/1371980 queries. users per second: 49545.4</pre>"
            ]
          },
          "metadata": {}
        },
        {
          "output_type": "display_data",
          "data": {
            "text/plain": [
              "recommendations finished on 922000/1371980 queries. users per second: 49535.4"
            ],
            "text/html": [
              "<pre>recommendations finished on 922000/1371980 queries. users per second: 49535.4</pre>"
            ]
          },
          "metadata": {}
        },
        {
          "output_type": "display_data",
          "data": {
            "text/plain": [
              "recommendations finished on 923000/1371980 queries. users per second: 49522.1"
            ],
            "text/html": [
              "<pre>recommendations finished on 923000/1371980 queries. users per second: 49522.1</pre>"
            ]
          },
          "metadata": {}
        },
        {
          "output_type": "display_data",
          "data": {
            "text/plain": [
              "recommendations finished on 924000/1371980 queries. users per second: 49514.9"
            ],
            "text/html": [
              "<pre>recommendations finished on 924000/1371980 queries. users per second: 49514.9</pre>"
            ]
          },
          "metadata": {}
        },
        {
          "output_type": "display_data",
          "data": {
            "text/plain": [
              "recommendations finished on 925000/1371980 queries. users per second: 49508.6"
            ],
            "text/html": [
              "<pre>recommendations finished on 925000/1371980 queries. users per second: 49508.6</pre>"
            ]
          },
          "metadata": {}
        },
        {
          "output_type": "display_data",
          "data": {
            "text/plain": [
              "recommendations finished on 926000/1371980 queries. users per second: 49519.5"
            ],
            "text/html": [
              "<pre>recommendations finished on 926000/1371980 queries. users per second: 49519.5</pre>"
            ]
          },
          "metadata": {}
        },
        {
          "output_type": "display_data",
          "data": {
            "text/plain": [
              "recommendations finished on 927000/1371980 queries. users per second: 49523.5"
            ],
            "text/html": [
              "<pre>recommendations finished on 927000/1371980 queries. users per second: 49523.5</pre>"
            ]
          },
          "metadata": {}
        },
        {
          "output_type": "display_data",
          "data": {
            "text/plain": [
              "recommendations finished on 928000/1371980 queries. users per second: 49507"
            ],
            "text/html": [
              "<pre>recommendations finished on 928000/1371980 queries. users per second: 49507</pre>"
            ]
          },
          "metadata": {}
        },
        {
          "output_type": "display_data",
          "data": {
            "text/plain": [
              "recommendations finished on 929000/1371980 queries. users per second: 49502.9"
            ],
            "text/html": [
              "<pre>recommendations finished on 929000/1371980 queries. users per second: 49502.9</pre>"
            ]
          },
          "metadata": {}
        },
        {
          "output_type": "display_data",
          "data": {
            "text/plain": [
              "recommendations finished on 930000/1371980 queries. users per second: 49488.4"
            ],
            "text/html": [
              "<pre>recommendations finished on 930000/1371980 queries. users per second: 49488.4</pre>"
            ]
          },
          "metadata": {}
        },
        {
          "output_type": "display_data",
          "data": {
            "text/plain": [
              "recommendations finished on 931000/1371980 queries. users per second: 49486.1"
            ],
            "text/html": [
              "<pre>recommendations finished on 931000/1371980 queries. users per second: 49486.1</pre>"
            ]
          },
          "metadata": {}
        },
        {
          "output_type": "display_data",
          "data": {
            "text/plain": [
              "recommendations finished on 932000/1371980 queries. users per second: 49477.9"
            ],
            "text/html": [
              "<pre>recommendations finished on 932000/1371980 queries. users per second: 49477.9</pre>"
            ]
          },
          "metadata": {}
        },
        {
          "output_type": "display_data",
          "data": {
            "text/plain": [
              "recommendations finished on 933000/1371980 queries. users per second: 49469.6"
            ],
            "text/html": [
              "<pre>recommendations finished on 933000/1371980 queries. users per second: 49469.6</pre>"
            ]
          },
          "metadata": {}
        },
        {
          "output_type": "display_data",
          "data": {
            "text/plain": [
              "recommendations finished on 934000/1371980 queries. users per second: 49477.4"
            ],
            "text/html": [
              "<pre>recommendations finished on 934000/1371980 queries. users per second: 49477.4</pre>"
            ]
          },
          "metadata": {}
        },
        {
          "output_type": "display_data",
          "data": {
            "text/plain": [
              "recommendations finished on 935000/1371980 queries. users per second: 49471.2"
            ],
            "text/html": [
              "<pre>recommendations finished on 935000/1371980 queries. users per second: 49471.2</pre>"
            ]
          },
          "metadata": {}
        },
        {
          "output_type": "display_data",
          "data": {
            "text/plain": [
              "recommendations finished on 936000/1371980 queries. users per second: 49467.8"
            ],
            "text/html": [
              "<pre>recommendations finished on 936000/1371980 queries. users per second: 49467.8</pre>"
            ]
          },
          "metadata": {}
        },
        {
          "output_type": "display_data",
          "data": {
            "text/plain": [
              "recommendations finished on 937000/1371980 queries. users per second: 49460"
            ],
            "text/html": [
              "<pre>recommendations finished on 937000/1371980 queries. users per second: 49460</pre>"
            ]
          },
          "metadata": {}
        },
        {
          "output_type": "display_data",
          "data": {
            "text/plain": [
              "recommendations finished on 938000/1371980 queries. users per second: 49444.9"
            ],
            "text/html": [
              "<pre>recommendations finished on 938000/1371980 queries. users per second: 49444.9</pre>"
            ]
          },
          "metadata": {}
        },
        {
          "output_type": "display_data",
          "data": {
            "text/plain": [
              "recommendations finished on 939000/1371980 queries. users per second: 49432.3"
            ],
            "text/html": [
              "<pre>recommendations finished on 939000/1371980 queries. users per second: 49432.3</pre>"
            ]
          },
          "metadata": {}
        },
        {
          "output_type": "display_data",
          "data": {
            "text/plain": [
              "recommendations finished on 940000/1371980 queries. users per second: 49441.6"
            ],
            "text/html": [
              "<pre>recommendations finished on 940000/1371980 queries. users per second: 49441.6</pre>"
            ]
          },
          "metadata": {}
        },
        {
          "output_type": "display_data",
          "data": {
            "text/plain": [
              "recommendations finished on 941000/1371980 queries. users per second: 49435.4"
            ],
            "text/html": [
              "<pre>recommendations finished on 941000/1371980 queries. users per second: 49435.4</pre>"
            ]
          },
          "metadata": {}
        },
        {
          "output_type": "display_data",
          "data": {
            "text/plain": [
              "recommendations finished on 942000/1371980 queries. users per second: 49446"
            ],
            "text/html": [
              "<pre>recommendations finished on 942000/1371980 queries. users per second: 49446</pre>"
            ]
          },
          "metadata": {}
        },
        {
          "output_type": "display_data",
          "data": {
            "text/plain": [
              "recommendations finished on 943000/1371980 queries. users per second: 49441"
            ],
            "text/html": [
              "<pre>recommendations finished on 943000/1371980 queries. users per second: 49441</pre>"
            ]
          },
          "metadata": {}
        },
        {
          "output_type": "display_data",
          "data": {
            "text/plain": [
              "recommendations finished on 944000/1371980 queries. users per second: 49429.7"
            ],
            "text/html": [
              "<pre>recommendations finished on 944000/1371980 queries. users per second: 49429.7</pre>"
            ]
          },
          "metadata": {}
        },
        {
          "output_type": "display_data",
          "data": {
            "text/plain": [
              "recommendations finished on 945000/1371980 queries. users per second: 49416.3"
            ],
            "text/html": [
              "<pre>recommendations finished on 945000/1371980 queries. users per second: 49416.3</pre>"
            ]
          },
          "metadata": {}
        },
        {
          "output_type": "display_data",
          "data": {
            "text/plain": [
              "recommendations finished on 946000/1371980 queries. users per second: 49416.9"
            ],
            "text/html": [
              "<pre>recommendations finished on 946000/1371980 queries. users per second: 49416.9</pre>"
            ]
          },
          "metadata": {}
        },
        {
          "output_type": "display_data",
          "data": {
            "text/plain": [
              "recommendations finished on 947000/1371980 queries. users per second: 49416.5"
            ],
            "text/html": [
              "<pre>recommendations finished on 947000/1371980 queries. users per second: 49416.5</pre>"
            ]
          },
          "metadata": {}
        },
        {
          "output_type": "display_data",
          "data": {
            "text/plain": [
              "recommendations finished on 948000/1371980 queries. users per second: 49411.4"
            ],
            "text/html": [
              "<pre>recommendations finished on 948000/1371980 queries. users per second: 49411.4</pre>"
            ]
          },
          "metadata": {}
        },
        {
          "output_type": "display_data",
          "data": {
            "text/plain": [
              "recommendations finished on 949000/1371980 queries. users per second: 49402.5"
            ],
            "text/html": [
              "<pre>recommendations finished on 949000/1371980 queries. users per second: 49402.5</pre>"
            ]
          },
          "metadata": {}
        },
        {
          "output_type": "display_data",
          "data": {
            "text/plain": [
              "recommendations finished on 950000/1371980 queries. users per second: 49391.1"
            ],
            "text/html": [
              "<pre>recommendations finished on 950000/1371980 queries. users per second: 49391.1</pre>"
            ]
          },
          "metadata": {}
        },
        {
          "output_type": "display_data",
          "data": {
            "text/plain": [
              "recommendations finished on 951000/1371980 queries. users per second: 49383.5"
            ],
            "text/html": [
              "<pre>recommendations finished on 951000/1371980 queries. users per second: 49383.5</pre>"
            ]
          },
          "metadata": {}
        },
        {
          "output_type": "display_data",
          "data": {
            "text/plain": [
              "recommendations finished on 952000/1371980 queries. users per second: 49375.7"
            ],
            "text/html": [
              "<pre>recommendations finished on 952000/1371980 queries. users per second: 49375.7</pre>"
            ]
          },
          "metadata": {}
        },
        {
          "output_type": "display_data",
          "data": {
            "text/plain": [
              "recommendations finished on 953000/1371980 queries. users per second: 49371.7"
            ],
            "text/html": [
              "<pre>recommendations finished on 953000/1371980 queries. users per second: 49371.7</pre>"
            ]
          },
          "metadata": {}
        },
        {
          "output_type": "display_data",
          "data": {
            "text/plain": [
              "recommendations finished on 954000/1371980 queries. users per second: 49362.8"
            ],
            "text/html": [
              "<pre>recommendations finished on 954000/1371980 queries. users per second: 49362.8</pre>"
            ]
          },
          "metadata": {}
        },
        {
          "output_type": "display_data",
          "data": {
            "text/plain": [
              "recommendations finished on 955000/1371980 queries. users per second: 49362.2"
            ],
            "text/html": [
              "<pre>recommendations finished on 955000/1371980 queries. users per second: 49362.2</pre>"
            ]
          },
          "metadata": {}
        },
        {
          "output_type": "display_data",
          "data": {
            "text/plain": [
              "recommendations finished on 956000/1371980 queries. users per second: 49357.9"
            ],
            "text/html": [
              "<pre>recommendations finished on 956000/1371980 queries. users per second: 49357.9</pre>"
            ]
          },
          "metadata": {}
        },
        {
          "output_type": "display_data",
          "data": {
            "text/plain": [
              "recommendations finished on 957000/1371980 queries. users per second: 49340.2"
            ],
            "text/html": [
              "<pre>recommendations finished on 957000/1371980 queries. users per second: 49340.2</pre>"
            ]
          },
          "metadata": {}
        },
        {
          "output_type": "display_data",
          "data": {
            "text/plain": [
              "recommendations finished on 958000/1371980 queries. users per second: 49311.1"
            ],
            "text/html": [
              "<pre>recommendations finished on 958000/1371980 queries. users per second: 49311.1</pre>"
            ]
          },
          "metadata": {}
        },
        {
          "output_type": "display_data",
          "data": {
            "text/plain": [
              "recommendations finished on 959000/1371980 queries. users per second: 49259.9"
            ],
            "text/html": [
              "<pre>recommendations finished on 959000/1371980 queries. users per second: 49259.9</pre>"
            ]
          },
          "metadata": {}
        },
        {
          "output_type": "display_data",
          "data": {
            "text/plain": [
              "recommendations finished on 960000/1371980 queries. users per second: 49239.3"
            ],
            "text/html": [
              "<pre>recommendations finished on 960000/1371980 queries. users per second: 49239.3</pre>"
            ]
          },
          "metadata": {}
        },
        {
          "output_type": "display_data",
          "data": {
            "text/plain": [
              "recommendations finished on 961000/1371980 queries. users per second: 49249.5"
            ],
            "text/html": [
              "<pre>recommendations finished on 961000/1371980 queries. users per second: 49249.5</pre>"
            ]
          },
          "metadata": {}
        },
        {
          "output_type": "display_data",
          "data": {
            "text/plain": [
              "recommendations finished on 962000/1371980 queries. users per second: 49244.1"
            ],
            "text/html": [
              "<pre>recommendations finished on 962000/1371980 queries. users per second: 49244.1</pre>"
            ]
          },
          "metadata": {}
        },
        {
          "output_type": "display_data",
          "data": {
            "text/plain": [
              "recommendations finished on 963000/1371980 queries. users per second: 49256.6"
            ],
            "text/html": [
              "<pre>recommendations finished on 963000/1371980 queries. users per second: 49256.6</pre>"
            ]
          },
          "metadata": {}
        },
        {
          "output_type": "display_data",
          "data": {
            "text/plain": [
              "recommendations finished on 964000/1371980 queries. users per second: 49242.3"
            ],
            "text/html": [
              "<pre>recommendations finished on 964000/1371980 queries. users per second: 49242.3</pre>"
            ]
          },
          "metadata": {}
        },
        {
          "output_type": "display_data",
          "data": {
            "text/plain": [
              "recommendations finished on 965000/1371980 queries. users per second: 49233.6"
            ],
            "text/html": [
              "<pre>recommendations finished on 965000/1371980 queries. users per second: 49233.6</pre>"
            ]
          },
          "metadata": {}
        },
        {
          "output_type": "display_data",
          "data": {
            "text/plain": [
              "recommendations finished on 966000/1371980 queries. users per second: 49232.7"
            ],
            "text/html": [
              "<pre>recommendations finished on 966000/1371980 queries. users per second: 49232.7</pre>"
            ]
          },
          "metadata": {}
        },
        {
          "output_type": "display_data",
          "data": {
            "text/plain": [
              "recommendations finished on 967000/1371980 queries. users per second: 49202.2"
            ],
            "text/html": [
              "<pre>recommendations finished on 967000/1371980 queries. users per second: 49202.2</pre>"
            ]
          },
          "metadata": {}
        },
        {
          "output_type": "display_data",
          "data": {
            "text/plain": [
              "recommendations finished on 968000/1371980 queries. users per second: 49205.4"
            ],
            "text/html": [
              "<pre>recommendations finished on 968000/1371980 queries. users per second: 49205.4</pre>"
            ]
          },
          "metadata": {}
        },
        {
          "output_type": "display_data",
          "data": {
            "text/plain": [
              "recommendations finished on 969000/1371980 queries. users per second: 49191.2"
            ],
            "text/html": [
              "<pre>recommendations finished on 969000/1371980 queries. users per second: 49191.2</pre>"
            ]
          },
          "metadata": {}
        },
        {
          "output_type": "display_data",
          "data": {
            "text/plain": [
              "recommendations finished on 970000/1371980 queries. users per second: 49194.7"
            ],
            "text/html": [
              "<pre>recommendations finished on 970000/1371980 queries. users per second: 49194.7</pre>"
            ]
          },
          "metadata": {}
        },
        {
          "output_type": "display_data",
          "data": {
            "text/plain": [
              "recommendations finished on 971000/1371980 queries. users per second: 49181.5"
            ],
            "text/html": [
              "<pre>recommendations finished on 971000/1371980 queries. users per second: 49181.5</pre>"
            ]
          },
          "metadata": {}
        },
        {
          "output_type": "display_data",
          "data": {
            "text/plain": [
              "recommendations finished on 972000/1371980 queries. users per second: 49164.9"
            ],
            "text/html": [
              "<pre>recommendations finished on 972000/1371980 queries. users per second: 49164.9</pre>"
            ]
          },
          "metadata": {}
        },
        {
          "output_type": "display_data",
          "data": {
            "text/plain": [
              "recommendations finished on 973000/1371980 queries. users per second: 49162"
            ],
            "text/html": [
              "<pre>recommendations finished on 973000/1371980 queries. users per second: 49162</pre>"
            ]
          },
          "metadata": {}
        },
        {
          "output_type": "display_data",
          "data": {
            "text/plain": [
              "recommendations finished on 974000/1371980 queries. users per second: 49172.9"
            ],
            "text/html": [
              "<pre>recommendations finished on 974000/1371980 queries. users per second: 49172.9</pre>"
            ]
          },
          "metadata": {}
        },
        {
          "output_type": "display_data",
          "data": {
            "text/plain": [
              "recommendations finished on 975000/1371980 queries. users per second: 49161.8"
            ],
            "text/html": [
              "<pre>recommendations finished on 975000/1371980 queries. users per second: 49161.8</pre>"
            ]
          },
          "metadata": {}
        },
        {
          "output_type": "display_data",
          "data": {
            "text/plain": [
              "recommendations finished on 976000/1371980 queries. users per second: 49157.6"
            ],
            "text/html": [
              "<pre>recommendations finished on 976000/1371980 queries. users per second: 49157.6</pre>"
            ]
          },
          "metadata": {}
        },
        {
          "output_type": "display_data",
          "data": {
            "text/plain": [
              "recommendations finished on 977000/1371980 queries. users per second: 49145.8"
            ],
            "text/html": [
              "<pre>recommendations finished on 977000/1371980 queries. users per second: 49145.8</pre>"
            ]
          },
          "metadata": {}
        },
        {
          "output_type": "display_data",
          "data": {
            "text/plain": [
              "recommendations finished on 978000/1371980 queries. users per second: 49148.8"
            ],
            "text/html": [
              "<pre>recommendations finished on 978000/1371980 queries. users per second: 49148.8</pre>"
            ]
          },
          "metadata": {}
        },
        {
          "output_type": "display_data",
          "data": {
            "text/plain": [
              "recommendations finished on 979000/1371980 queries. users per second: 49137.5"
            ],
            "text/html": [
              "<pre>recommendations finished on 979000/1371980 queries. users per second: 49137.5</pre>"
            ]
          },
          "metadata": {}
        },
        {
          "output_type": "display_data",
          "data": {
            "text/plain": [
              "recommendations finished on 980000/1371980 queries. users per second: 49138.5"
            ],
            "text/html": [
              "<pre>recommendations finished on 980000/1371980 queries. users per second: 49138.5</pre>"
            ]
          },
          "metadata": {}
        },
        {
          "output_type": "display_data",
          "data": {
            "text/plain": [
              "recommendations finished on 981000/1371980 queries. users per second: 49127.4"
            ],
            "text/html": [
              "<pre>recommendations finished on 981000/1371980 queries. users per second: 49127.4</pre>"
            ]
          },
          "metadata": {}
        },
        {
          "output_type": "display_data",
          "data": {
            "text/plain": [
              "recommendations finished on 982000/1371980 queries. users per second: 49127.6"
            ],
            "text/html": [
              "<pre>recommendations finished on 982000/1371980 queries. users per second: 49127.6</pre>"
            ]
          },
          "metadata": {}
        },
        {
          "output_type": "display_data",
          "data": {
            "text/plain": [
              "recommendations finished on 983000/1371980 queries. users per second: 49133"
            ],
            "text/html": [
              "<pre>recommendations finished on 983000/1371980 queries. users per second: 49133</pre>"
            ]
          },
          "metadata": {}
        },
        {
          "output_type": "display_data",
          "data": {
            "text/plain": [
              "recommendations finished on 984000/1371980 queries. users per second: 49127"
            ],
            "text/html": [
              "<pre>recommendations finished on 984000/1371980 queries. users per second: 49127</pre>"
            ]
          },
          "metadata": {}
        },
        {
          "output_type": "display_data",
          "data": {
            "text/plain": [
              "recommendations finished on 985000/1371980 queries. users per second: 49117.8"
            ],
            "text/html": [
              "<pre>recommendations finished on 985000/1371980 queries. users per second: 49117.8</pre>"
            ]
          },
          "metadata": {}
        },
        {
          "output_type": "display_data",
          "data": {
            "text/plain": [
              "recommendations finished on 986000/1371980 queries. users per second: 49112.7"
            ],
            "text/html": [
              "<pre>recommendations finished on 986000/1371980 queries. users per second: 49112.7</pre>"
            ]
          },
          "metadata": {}
        },
        {
          "output_type": "display_data",
          "data": {
            "text/plain": [
              "recommendations finished on 987000/1371980 queries. users per second: 49104.6"
            ],
            "text/html": [
              "<pre>recommendations finished on 987000/1371980 queries. users per second: 49104.6</pre>"
            ]
          },
          "metadata": {}
        },
        {
          "output_type": "display_data",
          "data": {
            "text/plain": [
              "recommendations finished on 988000/1371980 queries. users per second: 49081.5"
            ],
            "text/html": [
              "<pre>recommendations finished on 988000/1371980 queries. users per second: 49081.5</pre>"
            ]
          },
          "metadata": {}
        },
        {
          "output_type": "display_data",
          "data": {
            "text/plain": [
              "recommendations finished on 989000/1371980 queries. users per second: 49063.7"
            ],
            "text/html": [
              "<pre>recommendations finished on 989000/1371980 queries. users per second: 49063.7</pre>"
            ]
          },
          "metadata": {}
        },
        {
          "output_type": "display_data",
          "data": {
            "text/plain": [
              "recommendations finished on 990000/1371980 queries. users per second: 49062.6"
            ],
            "text/html": [
              "<pre>recommendations finished on 990000/1371980 queries. users per second: 49062.6</pre>"
            ]
          },
          "metadata": {}
        },
        {
          "output_type": "display_data",
          "data": {
            "text/plain": [
              "recommendations finished on 991000/1371980 queries. users per second: 49036"
            ],
            "text/html": [
              "<pre>recommendations finished on 991000/1371980 queries. users per second: 49036</pre>"
            ]
          },
          "metadata": {}
        },
        {
          "output_type": "display_data",
          "data": {
            "text/plain": [
              "recommendations finished on 992000/1371980 queries. users per second: 49022.8"
            ],
            "text/html": [
              "<pre>recommendations finished on 992000/1371980 queries. users per second: 49022.8</pre>"
            ]
          },
          "metadata": {}
        },
        {
          "output_type": "display_data",
          "data": {
            "text/plain": [
              "recommendations finished on 993000/1371980 queries. users per second: 49025.6"
            ],
            "text/html": [
              "<pre>recommendations finished on 993000/1371980 queries. users per second: 49025.6</pre>"
            ]
          },
          "metadata": {}
        },
        {
          "output_type": "display_data",
          "data": {
            "text/plain": [
              "recommendations finished on 994000/1371980 queries. users per second: 49016"
            ],
            "text/html": [
              "<pre>recommendations finished on 994000/1371980 queries. users per second: 49016</pre>"
            ]
          },
          "metadata": {}
        },
        {
          "output_type": "display_data",
          "data": {
            "text/plain": [
              "recommendations finished on 995000/1371980 queries. users per second: 49009.3"
            ],
            "text/html": [
              "<pre>recommendations finished on 995000/1371980 queries. users per second: 49009.3</pre>"
            ]
          },
          "metadata": {}
        },
        {
          "output_type": "display_data",
          "data": {
            "text/plain": [
              "recommendations finished on 996000/1371980 queries. users per second: 48999.6"
            ],
            "text/html": [
              "<pre>recommendations finished on 996000/1371980 queries. users per second: 48999.6</pre>"
            ]
          },
          "metadata": {}
        },
        {
          "output_type": "display_data",
          "data": {
            "text/plain": [
              "recommendations finished on 997000/1371980 queries. users per second: 48992.8"
            ],
            "text/html": [
              "<pre>recommendations finished on 997000/1371980 queries. users per second: 48992.8</pre>"
            ]
          },
          "metadata": {}
        },
        {
          "output_type": "display_data",
          "data": {
            "text/plain": [
              "recommendations finished on 998000/1371980 queries. users per second: 48983.5"
            ],
            "text/html": [
              "<pre>recommendations finished on 998000/1371980 queries. users per second: 48983.5</pre>"
            ]
          },
          "metadata": {}
        },
        {
          "output_type": "display_data",
          "data": {
            "text/plain": [
              "recommendations finished on 999000/1371980 queries. users per second: 48983.4"
            ],
            "text/html": [
              "<pre>recommendations finished on 999000/1371980 queries. users per second: 48983.4</pre>"
            ]
          },
          "metadata": {}
        },
        {
          "output_type": "display_data",
          "data": {
            "text/plain": [
              "recommendations finished on 1000000/1371980 queries. users per second: 48978.7"
            ],
            "text/html": [
              "<pre>recommendations finished on 1000000/1371980 queries. users per second: 48978.7</pre>"
            ]
          },
          "metadata": {}
        },
        {
          "output_type": "display_data",
          "data": {
            "text/plain": [
              "recommendations finished on 1001000/1371980 queries. users per second: 48968.4"
            ],
            "text/html": [
              "<pre>recommendations finished on 1001000/1371980 queries. users per second: 48968.4</pre>"
            ]
          },
          "metadata": {}
        },
        {
          "output_type": "display_data",
          "data": {
            "text/plain": [
              "recommendations finished on 1002000/1371980 queries. users per second: 48951.1"
            ],
            "text/html": [
              "<pre>recommendations finished on 1002000/1371980 queries. users per second: 48951.1</pre>"
            ]
          },
          "metadata": {}
        },
        {
          "output_type": "display_data",
          "data": {
            "text/plain": [
              "recommendations finished on 1003000/1371980 queries. users per second: 48954.3"
            ],
            "text/html": [
              "<pre>recommendations finished on 1003000/1371980 queries. users per second: 48954.3</pre>"
            ]
          },
          "metadata": {}
        },
        {
          "output_type": "display_data",
          "data": {
            "text/plain": [
              "recommendations finished on 1004000/1371980 queries. users per second: 48951.7"
            ],
            "text/html": [
              "<pre>recommendations finished on 1004000/1371980 queries. users per second: 48951.7</pre>"
            ]
          },
          "metadata": {}
        },
        {
          "output_type": "display_data",
          "data": {
            "text/plain": [
              "recommendations finished on 1005000/1371980 queries. users per second: 48949.2"
            ],
            "text/html": [
              "<pre>recommendations finished on 1005000/1371980 queries. users per second: 48949.2</pre>"
            ]
          },
          "metadata": {}
        },
        {
          "output_type": "display_data",
          "data": {
            "text/plain": [
              "recommendations finished on 1006000/1371980 queries. users per second: 48935.1"
            ],
            "text/html": [
              "<pre>recommendations finished on 1006000/1371980 queries. users per second: 48935.1</pre>"
            ]
          },
          "metadata": {}
        },
        {
          "output_type": "display_data",
          "data": {
            "text/plain": [
              "recommendations finished on 1007000/1371980 queries. users per second: 48928.7"
            ],
            "text/html": [
              "<pre>recommendations finished on 1007000/1371980 queries. users per second: 48928.7</pre>"
            ]
          },
          "metadata": {}
        },
        {
          "output_type": "display_data",
          "data": {
            "text/plain": [
              "recommendations finished on 1008000/1371980 queries. users per second: 48926"
            ],
            "text/html": [
              "<pre>recommendations finished on 1008000/1371980 queries. users per second: 48926</pre>"
            ]
          },
          "metadata": {}
        },
        {
          "output_type": "display_data",
          "data": {
            "text/plain": [
              "recommendations finished on 1009000/1371980 queries. users per second: 48922.5"
            ],
            "text/html": [
              "<pre>recommendations finished on 1009000/1371980 queries. users per second: 48922.5</pre>"
            ]
          },
          "metadata": {}
        },
        {
          "output_type": "display_data",
          "data": {
            "text/plain": [
              "recommendations finished on 1010000/1371980 queries. users per second: 48905.1"
            ],
            "text/html": [
              "<pre>recommendations finished on 1010000/1371980 queries. users per second: 48905.1</pre>"
            ]
          },
          "metadata": {}
        },
        {
          "output_type": "display_data",
          "data": {
            "text/plain": [
              "recommendations finished on 1011000/1371980 queries. users per second: 48888.7"
            ],
            "text/html": [
              "<pre>recommendations finished on 1011000/1371980 queries. users per second: 48888.7</pre>"
            ]
          },
          "metadata": {}
        },
        {
          "output_type": "display_data",
          "data": {
            "text/plain": [
              "recommendations finished on 1012000/1371980 queries. users per second: 48893.2"
            ],
            "text/html": [
              "<pre>recommendations finished on 1012000/1371980 queries. users per second: 48893.2</pre>"
            ]
          },
          "metadata": {}
        },
        {
          "output_type": "display_data",
          "data": {
            "text/plain": [
              "recommendations finished on 1013000/1371980 queries. users per second: 48893.1"
            ],
            "text/html": [
              "<pre>recommendations finished on 1013000/1371980 queries. users per second: 48893.1</pre>"
            ]
          },
          "metadata": {}
        },
        {
          "output_type": "display_data",
          "data": {
            "text/plain": [
              "recommendations finished on 1014000/1371980 queries. users per second: 48901.3"
            ],
            "text/html": [
              "<pre>recommendations finished on 1014000/1371980 queries. users per second: 48901.3</pre>"
            ]
          },
          "metadata": {}
        },
        {
          "output_type": "display_data",
          "data": {
            "text/plain": [
              "recommendations finished on 1015000/1371980 queries. users per second: 48895.6"
            ],
            "text/html": [
              "<pre>recommendations finished on 1015000/1371980 queries. users per second: 48895.6</pre>"
            ]
          },
          "metadata": {}
        },
        {
          "output_type": "display_data",
          "data": {
            "text/plain": [
              "recommendations finished on 1016000/1371980 queries. users per second: 48881.7"
            ],
            "text/html": [
              "<pre>recommendations finished on 1016000/1371980 queries. users per second: 48881.7</pre>"
            ]
          },
          "metadata": {}
        },
        {
          "output_type": "display_data",
          "data": {
            "text/plain": [
              "recommendations finished on 1017000/1371980 queries. users per second: 48863.5"
            ],
            "text/html": [
              "<pre>recommendations finished on 1017000/1371980 queries. users per second: 48863.5</pre>"
            ]
          },
          "metadata": {}
        },
        {
          "output_type": "display_data",
          "data": {
            "text/plain": [
              "recommendations finished on 1018000/1371980 queries. users per second: 48863.7"
            ],
            "text/html": [
              "<pre>recommendations finished on 1018000/1371980 queries. users per second: 48863.7</pre>"
            ]
          },
          "metadata": {}
        },
        {
          "output_type": "display_data",
          "data": {
            "text/plain": [
              "recommendations finished on 1019000/1371980 queries. users per second: 48858.6"
            ],
            "text/html": [
              "<pre>recommendations finished on 1019000/1371980 queries. users per second: 48858.6</pre>"
            ]
          },
          "metadata": {}
        },
        {
          "output_type": "display_data",
          "data": {
            "text/plain": [
              "recommendations finished on 1020000/1371980 queries. users per second: 48860.8"
            ],
            "text/html": [
              "<pre>recommendations finished on 1020000/1371980 queries. users per second: 48860.8</pre>"
            ]
          },
          "metadata": {}
        },
        {
          "output_type": "display_data",
          "data": {
            "text/plain": [
              "recommendations finished on 1021000/1371980 queries. users per second: 48846.5"
            ],
            "text/html": [
              "<pre>recommendations finished on 1021000/1371980 queries. users per second: 48846.5</pre>"
            ]
          },
          "metadata": {}
        },
        {
          "output_type": "display_data",
          "data": {
            "text/plain": [
              "recommendations finished on 1022000/1371980 queries. users per second: 48849.1"
            ],
            "text/html": [
              "<pre>recommendations finished on 1022000/1371980 queries. users per second: 48849.1</pre>"
            ]
          },
          "metadata": {}
        },
        {
          "output_type": "display_data",
          "data": {
            "text/plain": [
              "recommendations finished on 1023000/1371980 queries. users per second: 48836.4"
            ],
            "text/html": [
              "<pre>recommendations finished on 1023000/1371980 queries. users per second: 48836.4</pre>"
            ]
          },
          "metadata": {}
        },
        {
          "output_type": "display_data",
          "data": {
            "text/plain": [
              "recommendations finished on 1024000/1371980 queries. users per second: 48837.1"
            ],
            "text/html": [
              "<pre>recommendations finished on 1024000/1371980 queries. users per second: 48837.1</pre>"
            ]
          },
          "metadata": {}
        },
        {
          "output_type": "display_data",
          "data": {
            "text/plain": [
              "recommendations finished on 1025000/1371980 queries. users per second: 48826.6"
            ],
            "text/html": [
              "<pre>recommendations finished on 1025000/1371980 queries. users per second: 48826.6</pre>"
            ]
          },
          "metadata": {}
        },
        {
          "output_type": "display_data",
          "data": {
            "text/plain": [
              "recommendations finished on 1026000/1371980 queries. users per second: 48819.6"
            ],
            "text/html": [
              "<pre>recommendations finished on 1026000/1371980 queries. users per second: 48819.6</pre>"
            ]
          },
          "metadata": {}
        },
        {
          "output_type": "display_data",
          "data": {
            "text/plain": [
              "recommendations finished on 1027000/1371980 queries. users per second: 48813"
            ],
            "text/html": [
              "<pre>recommendations finished on 1027000/1371980 queries. users per second: 48813</pre>"
            ]
          },
          "metadata": {}
        },
        {
          "output_type": "display_data",
          "data": {
            "text/plain": [
              "recommendations finished on 1028000/1371980 queries. users per second: 48808.3"
            ],
            "text/html": [
              "<pre>recommendations finished on 1028000/1371980 queries. users per second: 48808.3</pre>"
            ]
          },
          "metadata": {}
        },
        {
          "output_type": "display_data",
          "data": {
            "text/plain": [
              "recommendations finished on 1029000/1371980 queries. users per second: 48809.3"
            ],
            "text/html": [
              "<pre>recommendations finished on 1029000/1371980 queries. users per second: 48809.3</pre>"
            ]
          },
          "metadata": {}
        },
        {
          "output_type": "display_data",
          "data": {
            "text/plain": [
              "recommendations finished on 1030000/1371980 queries. users per second: 48800.5"
            ],
            "text/html": [
              "<pre>recommendations finished on 1030000/1371980 queries. users per second: 48800.5</pre>"
            ]
          },
          "metadata": {}
        },
        {
          "output_type": "display_data",
          "data": {
            "text/plain": [
              "recommendations finished on 1031000/1371980 queries. users per second: 48793.7"
            ],
            "text/html": [
              "<pre>recommendations finished on 1031000/1371980 queries. users per second: 48793.7</pre>"
            ]
          },
          "metadata": {}
        },
        {
          "output_type": "display_data",
          "data": {
            "text/plain": [
              "recommendations finished on 1032000/1371980 queries. users per second: 48791"
            ],
            "text/html": [
              "<pre>recommendations finished on 1032000/1371980 queries. users per second: 48791</pre>"
            ]
          },
          "metadata": {}
        },
        {
          "output_type": "display_data",
          "data": {
            "text/plain": [
              "recommendations finished on 1033000/1371980 queries. users per second: 48776.9"
            ],
            "text/html": [
              "<pre>recommendations finished on 1033000/1371980 queries. users per second: 48776.9</pre>"
            ]
          },
          "metadata": {}
        },
        {
          "output_type": "display_data",
          "data": {
            "text/plain": [
              "recommendations finished on 1034000/1371980 queries. users per second: 48777.1"
            ],
            "text/html": [
              "<pre>recommendations finished on 1034000/1371980 queries. users per second: 48777.1</pre>"
            ]
          },
          "metadata": {}
        },
        {
          "output_type": "display_data",
          "data": {
            "text/plain": [
              "recommendations finished on 1035000/1371980 queries. users per second: 48763.5"
            ],
            "text/html": [
              "<pre>recommendations finished on 1035000/1371980 queries. users per second: 48763.5</pre>"
            ]
          },
          "metadata": {}
        },
        {
          "output_type": "display_data",
          "data": {
            "text/plain": [
              "recommendations finished on 1036000/1371980 queries. users per second: 48761.9"
            ],
            "text/html": [
              "<pre>recommendations finished on 1036000/1371980 queries. users per second: 48761.9</pre>"
            ]
          },
          "metadata": {}
        },
        {
          "output_type": "display_data",
          "data": {
            "text/plain": [
              "recommendations finished on 1037000/1371980 queries. users per second: 48759.3"
            ],
            "text/html": [
              "<pre>recommendations finished on 1037000/1371980 queries. users per second: 48759.3</pre>"
            ]
          },
          "metadata": {}
        },
        {
          "output_type": "display_data",
          "data": {
            "text/plain": [
              "recommendations finished on 1038000/1371980 queries. users per second: 48754.1"
            ],
            "text/html": [
              "<pre>recommendations finished on 1038000/1371980 queries. users per second: 48754.1</pre>"
            ]
          },
          "metadata": {}
        },
        {
          "output_type": "display_data",
          "data": {
            "text/plain": [
              "recommendations finished on 1039000/1371980 queries. users per second: 48744.3"
            ],
            "text/html": [
              "<pre>recommendations finished on 1039000/1371980 queries. users per second: 48744.3</pre>"
            ]
          },
          "metadata": {}
        },
        {
          "output_type": "display_data",
          "data": {
            "text/plain": [
              "recommendations finished on 1040000/1371980 queries. users per second: 48744.3"
            ],
            "text/html": [
              "<pre>recommendations finished on 1040000/1371980 queries. users per second: 48744.3</pre>"
            ]
          },
          "metadata": {}
        },
        {
          "output_type": "display_data",
          "data": {
            "text/plain": [
              "recommendations finished on 1041000/1371980 queries. users per second: 48743.4"
            ],
            "text/html": [
              "<pre>recommendations finished on 1041000/1371980 queries. users per second: 48743.4</pre>"
            ]
          },
          "metadata": {}
        },
        {
          "output_type": "display_data",
          "data": {
            "text/plain": [
              "recommendations finished on 1042000/1371980 queries. users per second: 48741.8"
            ],
            "text/html": [
              "<pre>recommendations finished on 1042000/1371980 queries. users per second: 48741.8</pre>"
            ]
          },
          "metadata": {}
        },
        {
          "output_type": "display_data",
          "data": {
            "text/plain": [
              "recommendations finished on 1043000/1371980 queries. users per second: 48737.2"
            ],
            "text/html": [
              "<pre>recommendations finished on 1043000/1371980 queries. users per second: 48737.2</pre>"
            ]
          },
          "metadata": {}
        },
        {
          "output_type": "display_data",
          "data": {
            "text/plain": [
              "recommendations finished on 1044000/1371980 queries. users per second: 48729.2"
            ],
            "text/html": [
              "<pre>recommendations finished on 1044000/1371980 queries. users per second: 48729.2</pre>"
            ]
          },
          "metadata": {}
        },
        {
          "output_type": "display_data",
          "data": {
            "text/plain": [
              "recommendations finished on 1045000/1371980 queries. users per second: 48712"
            ],
            "text/html": [
              "<pre>recommendations finished on 1045000/1371980 queries. users per second: 48712</pre>"
            ]
          },
          "metadata": {}
        },
        {
          "output_type": "display_data",
          "data": {
            "text/plain": [
              "recommendations finished on 1046000/1371980 queries. users per second: 48704.3"
            ],
            "text/html": [
              "<pre>recommendations finished on 1046000/1371980 queries. users per second: 48704.3</pre>"
            ]
          },
          "metadata": {}
        },
        {
          "output_type": "display_data",
          "data": {
            "text/plain": [
              "recommendations finished on 1047000/1371980 queries. users per second: 48694"
            ],
            "text/html": [
              "<pre>recommendations finished on 1047000/1371980 queries. users per second: 48694</pre>"
            ]
          },
          "metadata": {}
        },
        {
          "output_type": "display_data",
          "data": {
            "text/plain": [
              "recommendations finished on 1048000/1371980 queries. users per second: 48692.3"
            ],
            "text/html": [
              "<pre>recommendations finished on 1048000/1371980 queries. users per second: 48692.3</pre>"
            ]
          },
          "metadata": {}
        },
        {
          "output_type": "display_data",
          "data": {
            "text/plain": [
              "recommendations finished on 1049000/1371980 queries. users per second: 48679.2"
            ],
            "text/html": [
              "<pre>recommendations finished on 1049000/1371980 queries. users per second: 48679.2</pre>"
            ]
          },
          "metadata": {}
        },
        {
          "output_type": "display_data",
          "data": {
            "text/plain": [
              "recommendations finished on 1050000/1371980 queries. users per second: 48670.5"
            ],
            "text/html": [
              "<pre>recommendations finished on 1050000/1371980 queries. users per second: 48670.5</pre>"
            ]
          },
          "metadata": {}
        },
        {
          "output_type": "display_data",
          "data": {
            "text/plain": [
              "recommendations finished on 1051000/1371980 queries. users per second: 48665.4"
            ],
            "text/html": [
              "<pre>recommendations finished on 1051000/1371980 queries. users per second: 48665.4</pre>"
            ]
          },
          "metadata": {}
        },
        {
          "output_type": "display_data",
          "data": {
            "text/plain": [
              "recommendations finished on 1052000/1371980 queries. users per second: 48659"
            ],
            "text/html": [
              "<pre>recommendations finished on 1052000/1371980 queries. users per second: 48659</pre>"
            ]
          },
          "metadata": {}
        },
        {
          "output_type": "display_data",
          "data": {
            "text/plain": [
              "recommendations finished on 1053000/1371980 queries. users per second: 48644"
            ],
            "text/html": [
              "<pre>recommendations finished on 1053000/1371980 queries. users per second: 48644</pre>"
            ]
          },
          "metadata": {}
        },
        {
          "output_type": "display_data",
          "data": {
            "text/plain": [
              "recommendations finished on 1054000/1371980 queries. users per second: 48635.8"
            ],
            "text/html": [
              "<pre>recommendations finished on 1054000/1371980 queries. users per second: 48635.8</pre>"
            ]
          },
          "metadata": {}
        },
        {
          "output_type": "display_data",
          "data": {
            "text/plain": [
              "recommendations finished on 1055000/1371980 queries. users per second: 48636.9"
            ],
            "text/html": [
              "<pre>recommendations finished on 1055000/1371980 queries. users per second: 48636.9</pre>"
            ]
          },
          "metadata": {}
        },
        {
          "output_type": "display_data",
          "data": {
            "text/plain": [
              "recommendations finished on 1056000/1371980 queries. users per second: 48630.1"
            ],
            "text/html": [
              "<pre>recommendations finished on 1056000/1371980 queries. users per second: 48630.1</pre>"
            ]
          },
          "metadata": {}
        },
        {
          "output_type": "display_data",
          "data": {
            "text/plain": [
              "recommendations finished on 1057000/1371980 queries. users per second: 48618.7"
            ],
            "text/html": [
              "<pre>recommendations finished on 1057000/1371980 queries. users per second: 48618.7</pre>"
            ]
          },
          "metadata": {}
        },
        {
          "output_type": "display_data",
          "data": {
            "text/plain": [
              "recommendations finished on 1058000/1371980 queries. users per second: 48617.6"
            ],
            "text/html": [
              "<pre>recommendations finished on 1058000/1371980 queries. users per second: 48617.6</pre>"
            ]
          },
          "metadata": {}
        },
        {
          "output_type": "display_data",
          "data": {
            "text/plain": [
              "recommendations finished on 1059000/1371980 queries. users per second: 48605.1"
            ],
            "text/html": [
              "<pre>recommendations finished on 1059000/1371980 queries. users per second: 48605.1</pre>"
            ]
          },
          "metadata": {}
        },
        {
          "output_type": "display_data",
          "data": {
            "text/plain": [
              "recommendations finished on 1060000/1371980 queries. users per second: 48598.5"
            ],
            "text/html": [
              "<pre>recommendations finished on 1060000/1371980 queries. users per second: 48598.5</pre>"
            ]
          },
          "metadata": {}
        },
        {
          "output_type": "display_data",
          "data": {
            "text/plain": [
              "recommendations finished on 1061000/1371980 queries. users per second: 48601.5"
            ],
            "text/html": [
              "<pre>recommendations finished on 1061000/1371980 queries. users per second: 48601.5</pre>"
            ]
          },
          "metadata": {}
        },
        {
          "output_type": "display_data",
          "data": {
            "text/plain": [
              "recommendations finished on 1062000/1371980 queries. users per second: 48595.9"
            ],
            "text/html": [
              "<pre>recommendations finished on 1062000/1371980 queries. users per second: 48595.9</pre>"
            ]
          },
          "metadata": {}
        },
        {
          "output_type": "display_data",
          "data": {
            "text/plain": [
              "recommendations finished on 1063000/1371980 queries. users per second: 48593.2"
            ],
            "text/html": [
              "<pre>recommendations finished on 1063000/1371980 queries. users per second: 48593.2</pre>"
            ]
          },
          "metadata": {}
        },
        {
          "output_type": "display_data",
          "data": {
            "text/plain": [
              "recommendations finished on 1064000/1371980 queries. users per second: 48582.8"
            ],
            "text/html": [
              "<pre>recommendations finished on 1064000/1371980 queries. users per second: 48582.8</pre>"
            ]
          },
          "metadata": {}
        },
        {
          "output_type": "display_data",
          "data": {
            "text/plain": [
              "recommendations finished on 1065000/1371980 queries. users per second: 48580.2"
            ],
            "text/html": [
              "<pre>recommendations finished on 1065000/1371980 queries. users per second: 48580.2</pre>"
            ]
          },
          "metadata": {}
        },
        {
          "output_type": "display_data",
          "data": {
            "text/plain": [
              "recommendations finished on 1066000/1371980 queries. users per second: 48575.9"
            ],
            "text/html": [
              "<pre>recommendations finished on 1066000/1371980 queries. users per second: 48575.9</pre>"
            ]
          },
          "metadata": {}
        },
        {
          "output_type": "display_data",
          "data": {
            "text/plain": [
              "recommendations finished on 1067000/1371980 queries. users per second: 48574.8"
            ],
            "text/html": [
              "<pre>recommendations finished on 1067000/1371980 queries. users per second: 48574.8</pre>"
            ]
          },
          "metadata": {}
        },
        {
          "output_type": "display_data",
          "data": {
            "text/plain": [
              "recommendations finished on 1068000/1371980 queries. users per second: 48574.6"
            ],
            "text/html": [
              "<pre>recommendations finished on 1068000/1371980 queries. users per second: 48574.6</pre>"
            ]
          },
          "metadata": {}
        },
        {
          "output_type": "display_data",
          "data": {
            "text/plain": [
              "recommendations finished on 1069000/1371980 queries. users per second: 48576.2"
            ],
            "text/html": [
              "<pre>recommendations finished on 1069000/1371980 queries. users per second: 48576.2</pre>"
            ]
          },
          "metadata": {}
        },
        {
          "output_type": "display_data",
          "data": {
            "text/plain": [
              "recommendations finished on 1070000/1371980 queries. users per second: 48574.8"
            ],
            "text/html": [
              "<pre>recommendations finished on 1070000/1371980 queries. users per second: 48574.8</pre>"
            ]
          },
          "metadata": {}
        },
        {
          "output_type": "display_data",
          "data": {
            "text/plain": [
              "recommendations finished on 1071000/1371980 queries. users per second: 48571.4"
            ],
            "text/html": [
              "<pre>recommendations finished on 1071000/1371980 queries. users per second: 48571.4</pre>"
            ]
          },
          "metadata": {}
        },
        {
          "output_type": "display_data",
          "data": {
            "text/plain": [
              "recommendations finished on 1072000/1371980 queries. users per second: 48571.9"
            ],
            "text/html": [
              "<pre>recommendations finished on 1072000/1371980 queries. users per second: 48571.9</pre>"
            ]
          },
          "metadata": {}
        },
        {
          "output_type": "display_data",
          "data": {
            "text/plain": [
              "recommendations finished on 1073000/1371980 queries. users per second: 48571"
            ],
            "text/html": [
              "<pre>recommendations finished on 1073000/1371980 queries. users per second: 48571</pre>"
            ]
          },
          "metadata": {}
        },
        {
          "output_type": "display_data",
          "data": {
            "text/plain": [
              "recommendations finished on 1074000/1371980 queries. users per second: 48566"
            ],
            "text/html": [
              "<pre>recommendations finished on 1074000/1371980 queries. users per second: 48566</pre>"
            ]
          },
          "metadata": {}
        },
        {
          "output_type": "display_data",
          "data": {
            "text/plain": [
              "recommendations finished on 1075000/1371980 queries. users per second: 48549.2"
            ],
            "text/html": [
              "<pre>recommendations finished on 1075000/1371980 queries. users per second: 48549.2</pre>"
            ]
          },
          "metadata": {}
        },
        {
          "output_type": "display_data",
          "data": {
            "text/plain": [
              "recommendations finished on 1076000/1371980 queries. users per second: 48514.5"
            ],
            "text/html": [
              "<pre>recommendations finished on 1076000/1371980 queries. users per second: 48514.5</pre>"
            ]
          },
          "metadata": {}
        },
        {
          "output_type": "display_data",
          "data": {
            "text/plain": [
              "recommendations finished on 1077000/1371980 queries. users per second: 48483.2"
            ],
            "text/html": [
              "<pre>recommendations finished on 1077000/1371980 queries. users per second: 48483.2</pre>"
            ]
          },
          "metadata": {}
        },
        {
          "output_type": "display_data",
          "data": {
            "text/plain": [
              "recommendations finished on 1078000/1371980 queries. users per second: 48480.6"
            ],
            "text/html": [
              "<pre>recommendations finished on 1078000/1371980 queries. users per second: 48480.6</pre>"
            ]
          },
          "metadata": {}
        },
        {
          "output_type": "display_data",
          "data": {
            "text/plain": [
              "recommendations finished on 1079000/1371980 queries. users per second: 48476.3"
            ],
            "text/html": [
              "<pre>recommendations finished on 1079000/1371980 queries. users per second: 48476.3</pre>"
            ]
          },
          "metadata": {}
        },
        {
          "output_type": "display_data",
          "data": {
            "text/plain": [
              "recommendations finished on 1080000/1371980 queries. users per second: 48469.4"
            ],
            "text/html": [
              "<pre>recommendations finished on 1080000/1371980 queries. users per second: 48469.4</pre>"
            ]
          },
          "metadata": {}
        },
        {
          "output_type": "display_data",
          "data": {
            "text/plain": [
              "recommendations finished on 1081000/1371980 queries. users per second: 48471.1"
            ],
            "text/html": [
              "<pre>recommendations finished on 1081000/1371980 queries. users per second: 48471.1</pre>"
            ]
          },
          "metadata": {}
        },
        {
          "output_type": "display_data",
          "data": {
            "text/plain": [
              "recommendations finished on 1082000/1371980 queries. users per second: 48468.3"
            ],
            "text/html": [
              "<pre>recommendations finished on 1082000/1371980 queries. users per second: 48468.3</pre>"
            ]
          },
          "metadata": {}
        },
        {
          "output_type": "display_data",
          "data": {
            "text/plain": [
              "recommendations finished on 1083000/1371980 queries. users per second: 48461"
            ],
            "text/html": [
              "<pre>recommendations finished on 1083000/1371980 queries. users per second: 48461</pre>"
            ]
          },
          "metadata": {}
        },
        {
          "output_type": "display_data",
          "data": {
            "text/plain": [
              "recommendations finished on 1084000/1371980 queries. users per second: 48455.7"
            ],
            "text/html": [
              "<pre>recommendations finished on 1084000/1371980 queries. users per second: 48455.7</pre>"
            ]
          },
          "metadata": {}
        },
        {
          "output_type": "display_data",
          "data": {
            "text/plain": [
              "recommendations finished on 1085000/1371980 queries. users per second: 48453.2"
            ],
            "text/html": [
              "<pre>recommendations finished on 1085000/1371980 queries. users per second: 48453.2</pre>"
            ]
          },
          "metadata": {}
        },
        {
          "output_type": "display_data",
          "data": {
            "text/plain": [
              "recommendations finished on 1086000/1371980 queries. users per second: 48443"
            ],
            "text/html": [
              "<pre>recommendations finished on 1086000/1371980 queries. users per second: 48443</pre>"
            ]
          },
          "metadata": {}
        },
        {
          "output_type": "display_data",
          "data": {
            "text/plain": [
              "recommendations finished on 1087000/1371980 queries. users per second: 48439.1"
            ],
            "text/html": [
              "<pre>recommendations finished on 1087000/1371980 queries. users per second: 48439.1</pre>"
            ]
          },
          "metadata": {}
        },
        {
          "output_type": "display_data",
          "data": {
            "text/plain": [
              "recommendations finished on 1088000/1371980 queries. users per second: 48424.5"
            ],
            "text/html": [
              "<pre>recommendations finished on 1088000/1371980 queries. users per second: 48424.5</pre>"
            ]
          },
          "metadata": {}
        },
        {
          "output_type": "display_data",
          "data": {
            "text/plain": [
              "recommendations finished on 1089000/1371980 queries. users per second: 48410.2"
            ],
            "text/html": [
              "<pre>recommendations finished on 1089000/1371980 queries. users per second: 48410.2</pre>"
            ]
          },
          "metadata": {}
        },
        {
          "output_type": "display_data",
          "data": {
            "text/plain": [
              "recommendations finished on 1090000/1371980 queries. users per second: 48404.2"
            ],
            "text/html": [
              "<pre>recommendations finished on 1090000/1371980 queries. users per second: 48404.2</pre>"
            ]
          },
          "metadata": {}
        },
        {
          "output_type": "display_data",
          "data": {
            "text/plain": [
              "recommendations finished on 1091000/1371980 queries. users per second: 48399.4"
            ],
            "text/html": [
              "<pre>recommendations finished on 1091000/1371980 queries. users per second: 48399.4</pre>"
            ]
          },
          "metadata": {}
        },
        {
          "output_type": "display_data",
          "data": {
            "text/plain": [
              "recommendations finished on 1092000/1371980 queries. users per second: 48406.3"
            ],
            "text/html": [
              "<pre>recommendations finished on 1092000/1371980 queries. users per second: 48406.3</pre>"
            ]
          },
          "metadata": {}
        },
        {
          "output_type": "display_data",
          "data": {
            "text/plain": [
              "recommendations finished on 1093000/1371980 queries. users per second: 48401.2"
            ],
            "text/html": [
              "<pre>recommendations finished on 1093000/1371980 queries. users per second: 48401.2</pre>"
            ]
          },
          "metadata": {}
        },
        {
          "output_type": "display_data",
          "data": {
            "text/plain": [
              "recommendations finished on 1094000/1371980 queries. users per second: 48401.3"
            ],
            "text/html": [
              "<pre>recommendations finished on 1094000/1371980 queries. users per second: 48401.3</pre>"
            ]
          },
          "metadata": {}
        },
        {
          "output_type": "display_data",
          "data": {
            "text/plain": [
              "recommendations finished on 1095000/1371980 queries. users per second: 48395.3"
            ],
            "text/html": [
              "<pre>recommendations finished on 1095000/1371980 queries. users per second: 48395.3</pre>"
            ]
          },
          "metadata": {}
        },
        {
          "output_type": "display_data",
          "data": {
            "text/plain": [
              "recommendations finished on 1096000/1371980 queries. users per second: 48391.1"
            ],
            "text/html": [
              "<pre>recommendations finished on 1096000/1371980 queries. users per second: 48391.1</pre>"
            ]
          },
          "metadata": {}
        },
        {
          "output_type": "display_data",
          "data": {
            "text/plain": [
              "recommendations finished on 1097000/1371980 queries. users per second: 48386.7"
            ],
            "text/html": [
              "<pre>recommendations finished on 1097000/1371980 queries. users per second: 48386.7</pre>"
            ]
          },
          "metadata": {}
        },
        {
          "output_type": "display_data",
          "data": {
            "text/plain": [
              "recommendations finished on 1098000/1371980 queries. users per second: 48379.6"
            ],
            "text/html": [
              "<pre>recommendations finished on 1098000/1371980 queries. users per second: 48379.6</pre>"
            ]
          },
          "metadata": {}
        },
        {
          "output_type": "display_data",
          "data": {
            "text/plain": [
              "recommendations finished on 1099000/1371980 queries. users per second: 48369.7"
            ],
            "text/html": [
              "<pre>recommendations finished on 1099000/1371980 queries. users per second: 48369.7</pre>"
            ]
          },
          "metadata": {}
        },
        {
          "output_type": "display_data",
          "data": {
            "text/plain": [
              "recommendations finished on 1100000/1371980 queries. users per second: 48360.8"
            ],
            "text/html": [
              "<pre>recommendations finished on 1100000/1371980 queries. users per second: 48360.8</pre>"
            ]
          },
          "metadata": {}
        },
        {
          "output_type": "display_data",
          "data": {
            "text/plain": [
              "recommendations finished on 1101000/1371980 queries. users per second: 48357.4"
            ],
            "text/html": [
              "<pre>recommendations finished on 1101000/1371980 queries. users per second: 48357.4</pre>"
            ]
          },
          "metadata": {}
        },
        {
          "output_type": "display_data",
          "data": {
            "text/plain": [
              "recommendations finished on 1102000/1371980 queries. users per second: 48352.6"
            ],
            "text/html": [
              "<pre>recommendations finished on 1102000/1371980 queries. users per second: 48352.6</pre>"
            ]
          },
          "metadata": {}
        },
        {
          "output_type": "display_data",
          "data": {
            "text/plain": [
              "recommendations finished on 1103000/1371980 queries. users per second: 48349.2"
            ],
            "text/html": [
              "<pre>recommendations finished on 1103000/1371980 queries. users per second: 48349.2</pre>"
            ]
          },
          "metadata": {}
        },
        {
          "output_type": "display_data",
          "data": {
            "text/plain": [
              "recommendations finished on 1104000/1371980 queries. users per second: 48344.5"
            ],
            "text/html": [
              "<pre>recommendations finished on 1104000/1371980 queries. users per second: 48344.5</pre>"
            ]
          },
          "metadata": {}
        },
        {
          "output_type": "display_data",
          "data": {
            "text/plain": [
              "recommendations finished on 1105000/1371980 queries. users per second: 48332.7"
            ],
            "text/html": [
              "<pre>recommendations finished on 1105000/1371980 queries. users per second: 48332.7</pre>"
            ]
          },
          "metadata": {}
        },
        {
          "output_type": "display_data",
          "data": {
            "text/plain": [
              "recommendations finished on 1106000/1371980 queries. users per second: 48328.2"
            ],
            "text/html": [
              "<pre>recommendations finished on 1106000/1371980 queries. users per second: 48328.2</pre>"
            ]
          },
          "metadata": {}
        },
        {
          "output_type": "display_data",
          "data": {
            "text/plain": [
              "recommendations finished on 1107000/1371980 queries. users per second: 48327.8"
            ],
            "text/html": [
              "<pre>recommendations finished on 1107000/1371980 queries. users per second: 48327.8</pre>"
            ]
          },
          "metadata": {}
        },
        {
          "output_type": "display_data",
          "data": {
            "text/plain": [
              "recommendations finished on 1108000/1371980 queries. users per second: 48327"
            ],
            "text/html": [
              "<pre>recommendations finished on 1108000/1371980 queries. users per second: 48327</pre>"
            ]
          },
          "metadata": {}
        },
        {
          "output_type": "display_data",
          "data": {
            "text/plain": [
              "recommendations finished on 1109000/1371980 queries. users per second: 48320.8"
            ],
            "text/html": [
              "<pre>recommendations finished on 1109000/1371980 queries. users per second: 48320.8</pre>"
            ]
          },
          "metadata": {}
        },
        {
          "output_type": "display_data",
          "data": {
            "text/plain": [
              "recommendations finished on 1110000/1371980 queries. users per second: 48308.7"
            ],
            "text/html": [
              "<pre>recommendations finished on 1110000/1371980 queries. users per second: 48308.7</pre>"
            ]
          },
          "metadata": {}
        },
        {
          "output_type": "display_data",
          "data": {
            "text/plain": [
              "recommendations finished on 1111000/1371980 queries. users per second: 48305.1"
            ],
            "text/html": [
              "<pre>recommendations finished on 1111000/1371980 queries. users per second: 48305.1</pre>"
            ]
          },
          "metadata": {}
        },
        {
          "output_type": "display_data",
          "data": {
            "text/plain": [
              "recommendations finished on 1112000/1371980 queries. users per second: 48290.9"
            ],
            "text/html": [
              "<pre>recommendations finished on 1112000/1371980 queries. users per second: 48290.9</pre>"
            ]
          },
          "metadata": {}
        },
        {
          "output_type": "display_data",
          "data": {
            "text/plain": [
              "recommendations finished on 1113000/1371980 queries. users per second: 48292.1"
            ],
            "text/html": [
              "<pre>recommendations finished on 1113000/1371980 queries. users per second: 48292.1</pre>"
            ]
          },
          "metadata": {}
        },
        {
          "output_type": "display_data",
          "data": {
            "text/plain": [
              "recommendations finished on 1114000/1371980 queries. users per second: 48295.4"
            ],
            "text/html": [
              "<pre>recommendations finished on 1114000/1371980 queries. users per second: 48295.4</pre>"
            ]
          },
          "metadata": {}
        },
        {
          "output_type": "display_data",
          "data": {
            "text/plain": [
              "recommendations finished on 1115000/1371980 queries. users per second: 48293.2"
            ],
            "text/html": [
              "<pre>recommendations finished on 1115000/1371980 queries. users per second: 48293.2</pre>"
            ]
          },
          "metadata": {}
        },
        {
          "output_type": "display_data",
          "data": {
            "text/plain": [
              "recommendations finished on 1116000/1371980 queries. users per second: 48291.2"
            ],
            "text/html": [
              "<pre>recommendations finished on 1116000/1371980 queries. users per second: 48291.2</pre>"
            ]
          },
          "metadata": {}
        },
        {
          "output_type": "display_data",
          "data": {
            "text/plain": [
              "recommendations finished on 1117000/1371980 queries. users per second: 48289.8"
            ],
            "text/html": [
              "<pre>recommendations finished on 1117000/1371980 queries. users per second: 48289.8</pre>"
            ]
          },
          "metadata": {}
        },
        {
          "output_type": "display_data",
          "data": {
            "text/plain": [
              "recommendations finished on 1118000/1371980 queries. users per second: 48284.2"
            ],
            "text/html": [
              "<pre>recommendations finished on 1118000/1371980 queries. users per second: 48284.2</pre>"
            ]
          },
          "metadata": {}
        },
        {
          "output_type": "display_data",
          "data": {
            "text/plain": [
              "recommendations finished on 1119000/1371980 queries. users per second: 48285.7"
            ],
            "text/html": [
              "<pre>recommendations finished on 1119000/1371980 queries. users per second: 48285.7</pre>"
            ]
          },
          "metadata": {}
        },
        {
          "output_type": "display_data",
          "data": {
            "text/plain": [
              "recommendations finished on 1120000/1371980 queries. users per second: 48281.9"
            ],
            "text/html": [
              "<pre>recommendations finished on 1120000/1371980 queries. users per second: 48281.9</pre>"
            ]
          },
          "metadata": {}
        },
        {
          "output_type": "display_data",
          "data": {
            "text/plain": [
              "recommendations finished on 1121000/1371980 queries. users per second: 48269"
            ],
            "text/html": [
              "<pre>recommendations finished on 1121000/1371980 queries. users per second: 48269</pre>"
            ]
          },
          "metadata": {}
        },
        {
          "output_type": "display_data",
          "data": {
            "text/plain": [
              "recommendations finished on 1122000/1371980 queries. users per second: 48261.7"
            ],
            "text/html": [
              "<pre>recommendations finished on 1122000/1371980 queries. users per second: 48261.7</pre>"
            ]
          },
          "metadata": {}
        },
        {
          "output_type": "display_data",
          "data": {
            "text/plain": [
              "recommendations finished on 1123000/1371980 queries. users per second: 48256.2"
            ],
            "text/html": [
              "<pre>recommendations finished on 1123000/1371980 queries. users per second: 48256.2</pre>"
            ]
          },
          "metadata": {}
        },
        {
          "output_type": "display_data",
          "data": {
            "text/plain": [
              "recommendations finished on 1124000/1371980 queries. users per second: 48254.7"
            ],
            "text/html": [
              "<pre>recommendations finished on 1124000/1371980 queries. users per second: 48254.7</pre>"
            ]
          },
          "metadata": {}
        },
        {
          "output_type": "display_data",
          "data": {
            "text/plain": [
              "recommendations finished on 1125000/1371980 queries. users per second: 48244.4"
            ],
            "text/html": [
              "<pre>recommendations finished on 1125000/1371980 queries. users per second: 48244.4</pre>"
            ]
          },
          "metadata": {}
        },
        {
          "output_type": "display_data",
          "data": {
            "text/plain": [
              "recommendations finished on 1126000/1371980 queries. users per second: 48243.6"
            ],
            "text/html": [
              "<pre>recommendations finished on 1126000/1371980 queries. users per second: 48243.6</pre>"
            ]
          },
          "metadata": {}
        },
        {
          "output_type": "display_data",
          "data": {
            "text/plain": [
              "recommendations finished on 1127000/1371980 queries. users per second: 48226.1"
            ],
            "text/html": [
              "<pre>recommendations finished on 1127000/1371980 queries. users per second: 48226.1</pre>"
            ]
          },
          "metadata": {}
        },
        {
          "output_type": "display_data",
          "data": {
            "text/plain": [
              "recommendations finished on 1128000/1371980 queries. users per second: 48228.8"
            ],
            "text/html": [
              "<pre>recommendations finished on 1128000/1371980 queries. users per second: 48228.8</pre>"
            ]
          },
          "metadata": {}
        },
        {
          "output_type": "display_data",
          "data": {
            "text/plain": [
              "recommendations finished on 1129000/1371980 queries. users per second: 48219.8"
            ],
            "text/html": [
              "<pre>recommendations finished on 1129000/1371980 queries. users per second: 48219.8</pre>"
            ]
          },
          "metadata": {}
        },
        {
          "output_type": "display_data",
          "data": {
            "text/plain": [
              "recommendations finished on 1130000/1371980 queries. users per second: 48219.3"
            ],
            "text/html": [
              "<pre>recommendations finished on 1130000/1371980 queries. users per second: 48219.3</pre>"
            ]
          },
          "metadata": {}
        },
        {
          "output_type": "display_data",
          "data": {
            "text/plain": [
              "recommendations finished on 1131000/1371980 queries. users per second: 48218.5"
            ],
            "text/html": [
              "<pre>recommendations finished on 1131000/1371980 queries. users per second: 48218.5</pre>"
            ]
          },
          "metadata": {}
        },
        {
          "output_type": "display_data",
          "data": {
            "text/plain": [
              "recommendations finished on 1132000/1371980 queries. users per second: 48195"
            ],
            "text/html": [
              "<pre>recommendations finished on 1132000/1371980 queries. users per second: 48195</pre>"
            ]
          },
          "metadata": {}
        },
        {
          "output_type": "display_data",
          "data": {
            "text/plain": [
              "recommendations finished on 1133000/1371980 queries. users per second: 48192.2"
            ],
            "text/html": [
              "<pre>recommendations finished on 1133000/1371980 queries. users per second: 48192.2</pre>"
            ]
          },
          "metadata": {}
        },
        {
          "output_type": "display_data",
          "data": {
            "text/plain": [
              "recommendations finished on 1134000/1371980 queries. users per second: 48188.8"
            ],
            "text/html": [
              "<pre>recommendations finished on 1134000/1371980 queries. users per second: 48188.8</pre>"
            ]
          },
          "metadata": {}
        },
        {
          "output_type": "display_data",
          "data": {
            "text/plain": [
              "recommendations finished on 1135000/1371980 queries. users per second: 48182.6"
            ],
            "text/html": [
              "<pre>recommendations finished on 1135000/1371980 queries. users per second: 48182.6</pre>"
            ]
          },
          "metadata": {}
        },
        {
          "output_type": "display_data",
          "data": {
            "text/plain": [
              "recommendations finished on 1136000/1371980 queries. users per second: 48180"
            ],
            "text/html": [
              "<pre>recommendations finished on 1136000/1371980 queries. users per second: 48180</pre>"
            ]
          },
          "metadata": {}
        },
        {
          "output_type": "display_data",
          "data": {
            "text/plain": [
              "recommendations finished on 1137000/1371980 queries. users per second: 48175.8"
            ],
            "text/html": [
              "<pre>recommendations finished on 1137000/1371980 queries. users per second: 48175.8</pre>"
            ]
          },
          "metadata": {}
        },
        {
          "output_type": "display_data",
          "data": {
            "text/plain": [
              "recommendations finished on 1138000/1371980 queries. users per second: 48172.6"
            ],
            "text/html": [
              "<pre>recommendations finished on 1138000/1371980 queries. users per second: 48172.6</pre>"
            ]
          },
          "metadata": {}
        },
        {
          "output_type": "display_data",
          "data": {
            "text/plain": [
              "recommendations finished on 1139000/1371980 queries. users per second: 48168"
            ],
            "text/html": [
              "<pre>recommendations finished on 1139000/1371980 queries. users per second: 48168</pre>"
            ]
          },
          "metadata": {}
        },
        {
          "output_type": "display_data",
          "data": {
            "text/plain": [
              "recommendations finished on 1140000/1371980 queries. users per second: 48166.5"
            ],
            "text/html": [
              "<pre>recommendations finished on 1140000/1371980 queries. users per second: 48166.5</pre>"
            ]
          },
          "metadata": {}
        },
        {
          "output_type": "display_data",
          "data": {
            "text/plain": [
              "recommendations finished on 1141000/1371980 queries. users per second: 48162.5"
            ],
            "text/html": [
              "<pre>recommendations finished on 1141000/1371980 queries. users per second: 48162.5</pre>"
            ]
          },
          "metadata": {}
        },
        {
          "output_type": "display_data",
          "data": {
            "text/plain": [
              "recommendations finished on 1142000/1371980 queries. users per second: 48158.1"
            ],
            "text/html": [
              "<pre>recommendations finished on 1142000/1371980 queries. users per second: 48158.1</pre>"
            ]
          },
          "metadata": {}
        },
        {
          "output_type": "display_data",
          "data": {
            "text/plain": [
              "recommendations finished on 1143000/1371980 queries. users per second: 48151.8"
            ],
            "text/html": [
              "<pre>recommendations finished on 1143000/1371980 queries. users per second: 48151.8</pre>"
            ]
          },
          "metadata": {}
        },
        {
          "output_type": "display_data",
          "data": {
            "text/plain": [
              "recommendations finished on 1144000/1371980 queries. users per second: 48138"
            ],
            "text/html": [
              "<pre>recommendations finished on 1144000/1371980 queries. users per second: 48138</pre>"
            ]
          },
          "metadata": {}
        },
        {
          "output_type": "display_data",
          "data": {
            "text/plain": [
              "recommendations finished on 1145000/1371980 queries. users per second: 48127.3"
            ],
            "text/html": [
              "<pre>recommendations finished on 1145000/1371980 queries. users per second: 48127.3</pre>"
            ]
          },
          "metadata": {}
        },
        {
          "output_type": "display_data",
          "data": {
            "text/plain": [
              "recommendations finished on 1146000/1371980 queries. users per second: 48121.4"
            ],
            "text/html": [
              "<pre>recommendations finished on 1146000/1371980 queries. users per second: 48121.4</pre>"
            ]
          },
          "metadata": {}
        },
        {
          "output_type": "display_data",
          "data": {
            "text/plain": [
              "recommendations finished on 1147000/1371980 queries. users per second: 48117.4"
            ],
            "text/html": [
              "<pre>recommendations finished on 1147000/1371980 queries. users per second: 48117.4</pre>"
            ]
          },
          "metadata": {}
        },
        {
          "output_type": "display_data",
          "data": {
            "text/plain": [
              "recommendations finished on 1148000/1371980 queries. users per second: 48113.5"
            ],
            "text/html": [
              "<pre>recommendations finished on 1148000/1371980 queries. users per second: 48113.5</pre>"
            ]
          },
          "metadata": {}
        },
        {
          "output_type": "display_data",
          "data": {
            "text/plain": [
              "recommendations finished on 1149000/1371980 queries. users per second: 48109.2"
            ],
            "text/html": [
              "<pre>recommendations finished on 1149000/1371980 queries. users per second: 48109.2</pre>"
            ]
          },
          "metadata": {}
        },
        {
          "output_type": "display_data",
          "data": {
            "text/plain": [
              "recommendations finished on 1150000/1371980 queries. users per second: 48107.2"
            ],
            "text/html": [
              "<pre>recommendations finished on 1150000/1371980 queries. users per second: 48107.2</pre>"
            ]
          },
          "metadata": {}
        },
        {
          "output_type": "display_data",
          "data": {
            "text/plain": [
              "recommendations finished on 1151000/1371980 queries. users per second: 48104.1"
            ],
            "text/html": [
              "<pre>recommendations finished on 1151000/1371980 queries. users per second: 48104.1</pre>"
            ]
          },
          "metadata": {}
        },
        {
          "output_type": "display_data",
          "data": {
            "text/plain": [
              "recommendations finished on 1152000/1371980 queries. users per second: 48092.5"
            ],
            "text/html": [
              "<pre>recommendations finished on 1152000/1371980 queries. users per second: 48092.5</pre>"
            ]
          },
          "metadata": {}
        },
        {
          "output_type": "display_data",
          "data": {
            "text/plain": [
              "recommendations finished on 1153000/1371980 queries. users per second: 48095.4"
            ],
            "text/html": [
              "<pre>recommendations finished on 1153000/1371980 queries. users per second: 48095.4</pre>"
            ]
          },
          "metadata": {}
        },
        {
          "output_type": "display_data",
          "data": {
            "text/plain": [
              "recommendations finished on 1154000/1371980 queries. users per second: 48088.7"
            ],
            "text/html": [
              "<pre>recommendations finished on 1154000/1371980 queries. users per second: 48088.7</pre>"
            ]
          },
          "metadata": {}
        },
        {
          "output_type": "display_data",
          "data": {
            "text/plain": [
              "recommendations finished on 1155000/1371980 queries. users per second: 48072.7"
            ],
            "text/html": [
              "<pre>recommendations finished on 1155000/1371980 queries. users per second: 48072.7</pre>"
            ]
          },
          "metadata": {}
        },
        {
          "output_type": "display_data",
          "data": {
            "text/plain": [
              "recommendations finished on 1156000/1371980 queries. users per second: 48058.4"
            ],
            "text/html": [
              "<pre>recommendations finished on 1156000/1371980 queries. users per second: 48058.4</pre>"
            ]
          },
          "metadata": {}
        },
        {
          "output_type": "display_data",
          "data": {
            "text/plain": [
              "recommendations finished on 1157000/1371980 queries. users per second: 48043.3"
            ],
            "text/html": [
              "<pre>recommendations finished on 1157000/1371980 queries. users per second: 48043.3</pre>"
            ]
          },
          "metadata": {}
        },
        {
          "output_type": "display_data",
          "data": {
            "text/plain": [
              "recommendations finished on 1158000/1371980 queries. users per second: 48033.4"
            ],
            "text/html": [
              "<pre>recommendations finished on 1158000/1371980 queries. users per second: 48033.4</pre>"
            ]
          },
          "metadata": {}
        },
        {
          "output_type": "display_data",
          "data": {
            "text/plain": [
              "recommendations finished on 1159000/1371980 queries. users per second: 48027.7"
            ],
            "text/html": [
              "<pre>recommendations finished on 1159000/1371980 queries. users per second: 48027.7</pre>"
            ]
          },
          "metadata": {}
        },
        {
          "output_type": "display_data",
          "data": {
            "text/plain": [
              "recommendations finished on 1160000/1371980 queries. users per second: 48026.5"
            ],
            "text/html": [
              "<pre>recommendations finished on 1160000/1371980 queries. users per second: 48026.5</pre>"
            ]
          },
          "metadata": {}
        },
        {
          "output_type": "display_data",
          "data": {
            "text/plain": [
              "recommendations finished on 1161000/1371980 queries. users per second: 48026.7"
            ],
            "text/html": [
              "<pre>recommendations finished on 1161000/1371980 queries. users per second: 48026.7</pre>"
            ]
          },
          "metadata": {}
        },
        {
          "output_type": "display_data",
          "data": {
            "text/plain": [
              "recommendations finished on 1162000/1371980 queries. users per second: 48025.6"
            ],
            "text/html": [
              "<pre>recommendations finished on 1162000/1371980 queries. users per second: 48025.6</pre>"
            ]
          },
          "metadata": {}
        },
        {
          "output_type": "display_data",
          "data": {
            "text/plain": [
              "recommendations finished on 1163000/1371980 queries. users per second: 48020.8"
            ],
            "text/html": [
              "<pre>recommendations finished on 1163000/1371980 queries. users per second: 48020.8</pre>"
            ]
          },
          "metadata": {}
        },
        {
          "output_type": "display_data",
          "data": {
            "text/plain": [
              "recommendations finished on 1164000/1371980 queries. users per second: 48010.6"
            ],
            "text/html": [
              "<pre>recommendations finished on 1164000/1371980 queries. users per second: 48010.6</pre>"
            ]
          },
          "metadata": {}
        },
        {
          "output_type": "display_data",
          "data": {
            "text/plain": [
              "recommendations finished on 1165000/1371980 queries. users per second: 47997.8"
            ],
            "text/html": [
              "<pre>recommendations finished on 1165000/1371980 queries. users per second: 47997.8</pre>"
            ]
          },
          "metadata": {}
        },
        {
          "output_type": "display_data",
          "data": {
            "text/plain": [
              "recommendations finished on 1166000/1371980 queries. users per second: 48002.3"
            ],
            "text/html": [
              "<pre>recommendations finished on 1166000/1371980 queries. users per second: 48002.3</pre>"
            ]
          },
          "metadata": {}
        },
        {
          "output_type": "display_data",
          "data": {
            "text/plain": [
              "recommendations finished on 1167000/1371980 queries. users per second: 47993.7"
            ],
            "text/html": [
              "<pre>recommendations finished on 1167000/1371980 queries. users per second: 47993.7</pre>"
            ]
          },
          "metadata": {}
        },
        {
          "output_type": "display_data",
          "data": {
            "text/plain": [
              "recommendations finished on 1168000/1371980 queries. users per second: 47987"
            ],
            "text/html": [
              "<pre>recommendations finished on 1168000/1371980 queries. users per second: 47987</pre>"
            ]
          },
          "metadata": {}
        },
        {
          "output_type": "display_data",
          "data": {
            "text/plain": [
              "recommendations finished on 1169000/1371980 queries. users per second: 47982.5"
            ],
            "text/html": [
              "<pre>recommendations finished on 1169000/1371980 queries. users per second: 47982.5</pre>"
            ]
          },
          "metadata": {}
        },
        {
          "output_type": "display_data",
          "data": {
            "text/plain": [
              "recommendations finished on 1170000/1371980 queries. users per second: 47986.9"
            ],
            "text/html": [
              "<pre>recommendations finished on 1170000/1371980 queries. users per second: 47986.9</pre>"
            ]
          },
          "metadata": {}
        },
        {
          "output_type": "display_data",
          "data": {
            "text/plain": [
              "recommendations finished on 1171000/1371980 queries. users per second: 47984.2"
            ],
            "text/html": [
              "<pre>recommendations finished on 1171000/1371980 queries. users per second: 47984.2</pre>"
            ]
          },
          "metadata": {}
        },
        {
          "output_type": "display_data",
          "data": {
            "text/plain": [
              "recommendations finished on 1172000/1371980 queries. users per second: 47962.6"
            ],
            "text/html": [
              "<pre>recommendations finished on 1172000/1371980 queries. users per second: 47962.6</pre>"
            ]
          },
          "metadata": {}
        },
        {
          "output_type": "display_data",
          "data": {
            "text/plain": [
              "recommendations finished on 1173000/1371980 queries. users per second: 47946.3"
            ],
            "text/html": [
              "<pre>recommendations finished on 1173000/1371980 queries. users per second: 47946.3</pre>"
            ]
          },
          "metadata": {}
        },
        {
          "output_type": "display_data",
          "data": {
            "text/plain": [
              "recommendations finished on 1174000/1371980 queries. users per second: 47944.5"
            ],
            "text/html": [
              "<pre>recommendations finished on 1174000/1371980 queries. users per second: 47944.5</pre>"
            ]
          },
          "metadata": {}
        },
        {
          "output_type": "display_data",
          "data": {
            "text/plain": [
              "recommendations finished on 1175000/1371980 queries. users per second: 47940.2"
            ],
            "text/html": [
              "<pre>recommendations finished on 1175000/1371980 queries. users per second: 47940.2</pre>"
            ]
          },
          "metadata": {}
        },
        {
          "output_type": "display_data",
          "data": {
            "text/plain": [
              "recommendations finished on 1176000/1371980 queries. users per second: 47931.8"
            ],
            "text/html": [
              "<pre>recommendations finished on 1176000/1371980 queries. users per second: 47931.8</pre>"
            ]
          },
          "metadata": {}
        },
        {
          "output_type": "display_data",
          "data": {
            "text/plain": [
              "recommendations finished on 1177000/1371980 queries. users per second: 47926.9"
            ],
            "text/html": [
              "<pre>recommendations finished on 1177000/1371980 queries. users per second: 47926.9</pre>"
            ]
          },
          "metadata": {}
        },
        {
          "output_type": "display_data",
          "data": {
            "text/plain": [
              "recommendations finished on 1178000/1371980 queries. users per second: 47926.8"
            ],
            "text/html": [
              "<pre>recommendations finished on 1178000/1371980 queries. users per second: 47926.8</pre>"
            ]
          },
          "metadata": {}
        },
        {
          "output_type": "display_data",
          "data": {
            "text/plain": [
              "recommendations finished on 1179000/1371980 queries. users per second: 47925.5"
            ],
            "text/html": [
              "<pre>recommendations finished on 1179000/1371980 queries. users per second: 47925.5</pre>"
            ]
          },
          "metadata": {}
        },
        {
          "output_type": "display_data",
          "data": {
            "text/plain": [
              "recommendations finished on 1180000/1371980 queries. users per second: 47916.5"
            ],
            "text/html": [
              "<pre>recommendations finished on 1180000/1371980 queries. users per second: 47916.5</pre>"
            ]
          },
          "metadata": {}
        },
        {
          "output_type": "display_data",
          "data": {
            "text/plain": [
              "recommendations finished on 1181000/1371980 queries. users per second: 47915.6"
            ],
            "text/html": [
              "<pre>recommendations finished on 1181000/1371980 queries. users per second: 47915.6</pre>"
            ]
          },
          "metadata": {}
        },
        {
          "output_type": "display_data",
          "data": {
            "text/plain": [
              "recommendations finished on 1182000/1371980 queries. users per second: 47906.6"
            ],
            "text/html": [
              "<pre>recommendations finished on 1182000/1371980 queries. users per second: 47906.6</pre>"
            ]
          },
          "metadata": {}
        },
        {
          "output_type": "display_data",
          "data": {
            "text/plain": [
              "recommendations finished on 1183000/1371980 queries. users per second: 47906.3"
            ],
            "text/html": [
              "<pre>recommendations finished on 1183000/1371980 queries. users per second: 47906.3</pre>"
            ]
          },
          "metadata": {}
        },
        {
          "output_type": "display_data",
          "data": {
            "text/plain": [
              "recommendations finished on 1184000/1371980 queries. users per second: 47902.4"
            ],
            "text/html": [
              "<pre>recommendations finished on 1184000/1371980 queries. users per second: 47902.4</pre>"
            ]
          },
          "metadata": {}
        },
        {
          "output_type": "display_data",
          "data": {
            "text/plain": [
              "recommendations finished on 1185000/1371980 queries. users per second: 47897.4"
            ],
            "text/html": [
              "<pre>recommendations finished on 1185000/1371980 queries. users per second: 47897.4</pre>"
            ]
          },
          "metadata": {}
        },
        {
          "output_type": "display_data",
          "data": {
            "text/plain": [
              "recommendations finished on 1186000/1371980 queries. users per second: 47886.9"
            ],
            "text/html": [
              "<pre>recommendations finished on 1186000/1371980 queries. users per second: 47886.9</pre>"
            ]
          },
          "metadata": {}
        },
        {
          "output_type": "display_data",
          "data": {
            "text/plain": [
              "recommendations finished on 1187000/1371980 queries. users per second: 47874.6"
            ],
            "text/html": [
              "<pre>recommendations finished on 1187000/1371980 queries. users per second: 47874.6</pre>"
            ]
          },
          "metadata": {}
        },
        {
          "output_type": "display_data",
          "data": {
            "text/plain": [
              "recommendations finished on 1188000/1371980 queries. users per second: 47859.5"
            ],
            "text/html": [
              "<pre>recommendations finished on 1188000/1371980 queries. users per second: 47859.5</pre>"
            ]
          },
          "metadata": {}
        },
        {
          "output_type": "display_data",
          "data": {
            "text/plain": [
              "recommendations finished on 1189000/1371980 queries. users per second: 47857.4"
            ],
            "text/html": [
              "<pre>recommendations finished on 1189000/1371980 queries. users per second: 47857.4</pre>"
            ]
          },
          "metadata": {}
        },
        {
          "output_type": "display_data",
          "data": {
            "text/plain": [
              "recommendations finished on 1190000/1371980 queries. users per second: 47853.2"
            ],
            "text/html": [
              "<pre>recommendations finished on 1190000/1371980 queries. users per second: 47853.2</pre>"
            ]
          },
          "metadata": {}
        },
        {
          "output_type": "display_data",
          "data": {
            "text/plain": [
              "recommendations finished on 1191000/1371980 queries. users per second: 47846.6"
            ],
            "text/html": [
              "<pre>recommendations finished on 1191000/1371980 queries. users per second: 47846.6</pre>"
            ]
          },
          "metadata": {}
        },
        {
          "output_type": "display_data",
          "data": {
            "text/plain": [
              "recommendations finished on 1192000/1371980 queries. users per second: 47844"
            ],
            "text/html": [
              "<pre>recommendations finished on 1192000/1371980 queries. users per second: 47844</pre>"
            ]
          },
          "metadata": {}
        },
        {
          "output_type": "display_data",
          "data": {
            "text/plain": [
              "recommendations finished on 1193000/1371980 queries. users per second: 47837.1"
            ],
            "text/html": [
              "<pre>recommendations finished on 1193000/1371980 queries. users per second: 47837.1</pre>"
            ]
          },
          "metadata": {}
        },
        {
          "output_type": "display_data",
          "data": {
            "text/plain": [
              "recommendations finished on 1194000/1371980 queries. users per second: 47837.5"
            ],
            "text/html": [
              "<pre>recommendations finished on 1194000/1371980 queries. users per second: 47837.5</pre>"
            ]
          },
          "metadata": {}
        },
        {
          "output_type": "display_data",
          "data": {
            "text/plain": [
              "recommendations finished on 1195000/1371980 queries. users per second: 47836.2"
            ],
            "text/html": [
              "<pre>recommendations finished on 1195000/1371980 queries. users per second: 47836.2</pre>"
            ]
          },
          "metadata": {}
        },
        {
          "output_type": "display_data",
          "data": {
            "text/plain": [
              "recommendations finished on 1196000/1371980 queries. users per second: 47827.6"
            ],
            "text/html": [
              "<pre>recommendations finished on 1196000/1371980 queries. users per second: 47827.6</pre>"
            ]
          },
          "metadata": {}
        },
        {
          "output_type": "display_data",
          "data": {
            "text/plain": [
              "recommendations finished on 1197000/1371980 queries. users per second: 47828.7"
            ],
            "text/html": [
              "<pre>recommendations finished on 1197000/1371980 queries. users per second: 47828.7</pre>"
            ]
          },
          "metadata": {}
        },
        {
          "output_type": "display_data",
          "data": {
            "text/plain": [
              "recommendations finished on 1198000/1371980 queries. users per second: 47821.6"
            ],
            "text/html": [
              "<pre>recommendations finished on 1198000/1371980 queries. users per second: 47821.6</pre>"
            ]
          },
          "metadata": {}
        },
        {
          "output_type": "display_data",
          "data": {
            "text/plain": [
              "recommendations finished on 1199000/1371980 queries. users per second: 47819.5"
            ],
            "text/html": [
              "<pre>recommendations finished on 1199000/1371980 queries. users per second: 47819.5</pre>"
            ]
          },
          "metadata": {}
        },
        {
          "output_type": "display_data",
          "data": {
            "text/plain": [
              "recommendations finished on 1200000/1371980 queries. users per second: 47811.6"
            ],
            "text/html": [
              "<pre>recommendations finished on 1200000/1371980 queries. users per second: 47811.6</pre>"
            ]
          },
          "metadata": {}
        },
        {
          "output_type": "display_data",
          "data": {
            "text/plain": [
              "recommendations finished on 1201000/1371980 queries. users per second: 47810.8"
            ],
            "text/html": [
              "<pre>recommendations finished on 1201000/1371980 queries. users per second: 47810.8</pre>"
            ]
          },
          "metadata": {}
        },
        {
          "output_type": "display_data",
          "data": {
            "text/plain": [
              "recommendations finished on 1202000/1371980 queries. users per second: 47803.6"
            ],
            "text/html": [
              "<pre>recommendations finished on 1202000/1371980 queries. users per second: 47803.6</pre>"
            ]
          },
          "metadata": {}
        },
        {
          "output_type": "display_data",
          "data": {
            "text/plain": [
              "recommendations finished on 1203000/1371980 queries. users per second: 47802.8"
            ],
            "text/html": [
              "<pre>recommendations finished on 1203000/1371980 queries. users per second: 47802.8</pre>"
            ]
          },
          "metadata": {}
        },
        {
          "output_type": "display_data",
          "data": {
            "text/plain": [
              "recommendations finished on 1204000/1371980 queries. users per second: 47792.4"
            ],
            "text/html": [
              "<pre>recommendations finished on 1204000/1371980 queries. users per second: 47792.4</pre>"
            ]
          },
          "metadata": {}
        },
        {
          "output_type": "display_data",
          "data": {
            "text/plain": [
              "recommendations finished on 1205000/1371980 queries. users per second: 47791.6"
            ],
            "text/html": [
              "<pre>recommendations finished on 1205000/1371980 queries. users per second: 47791.6</pre>"
            ]
          },
          "metadata": {}
        },
        {
          "output_type": "display_data",
          "data": {
            "text/plain": [
              "recommendations finished on 1206000/1371980 queries. users per second: 47784.8"
            ],
            "text/html": [
              "<pre>recommendations finished on 1206000/1371980 queries. users per second: 47784.8</pre>"
            ]
          },
          "metadata": {}
        },
        {
          "output_type": "display_data",
          "data": {
            "text/plain": [
              "recommendations finished on 1207000/1371980 queries. users per second: 47781.4"
            ],
            "text/html": [
              "<pre>recommendations finished on 1207000/1371980 queries. users per second: 47781.4</pre>"
            ]
          },
          "metadata": {}
        },
        {
          "output_type": "display_data",
          "data": {
            "text/plain": [
              "recommendations finished on 1208000/1371980 queries. users per second: 47757"
            ],
            "text/html": [
              "<pre>recommendations finished on 1208000/1371980 queries. users per second: 47757</pre>"
            ]
          },
          "metadata": {}
        },
        {
          "output_type": "display_data",
          "data": {
            "text/plain": [
              "recommendations finished on 1209000/1371980 queries. users per second: 47753.2"
            ],
            "text/html": [
              "<pre>recommendations finished on 1209000/1371980 queries. users per second: 47753.2</pre>"
            ]
          },
          "metadata": {}
        },
        {
          "output_type": "display_data",
          "data": {
            "text/plain": [
              "recommendations finished on 1210000/1371980 queries. users per second: 47751.9"
            ],
            "text/html": [
              "<pre>recommendations finished on 1210000/1371980 queries. users per second: 47751.9</pre>"
            ]
          },
          "metadata": {}
        },
        {
          "output_type": "display_data",
          "data": {
            "text/plain": [
              "recommendations finished on 1211000/1371980 queries. users per second: 47745.7"
            ],
            "text/html": [
              "<pre>recommendations finished on 1211000/1371980 queries. users per second: 47745.7</pre>"
            ]
          },
          "metadata": {}
        },
        {
          "output_type": "display_data",
          "data": {
            "text/plain": [
              "recommendations finished on 1212000/1371980 queries. users per second: 47747.7"
            ],
            "text/html": [
              "<pre>recommendations finished on 1212000/1371980 queries. users per second: 47747.7</pre>"
            ]
          },
          "metadata": {}
        },
        {
          "output_type": "display_data",
          "data": {
            "text/plain": [
              "recommendations finished on 1213000/1371980 queries. users per second: 47746.3"
            ],
            "text/html": [
              "<pre>recommendations finished on 1213000/1371980 queries. users per second: 47746.3</pre>"
            ]
          },
          "metadata": {}
        },
        {
          "output_type": "display_data",
          "data": {
            "text/plain": [
              "recommendations finished on 1214000/1371980 queries. users per second: 47741.4"
            ],
            "text/html": [
              "<pre>recommendations finished on 1214000/1371980 queries. users per second: 47741.4</pre>"
            ]
          },
          "metadata": {}
        },
        {
          "output_type": "display_data",
          "data": {
            "text/plain": [
              "recommendations finished on 1215000/1371980 queries. users per second: 47737.1"
            ],
            "text/html": [
              "<pre>recommendations finished on 1215000/1371980 queries. users per second: 47737.1</pre>"
            ]
          },
          "metadata": {}
        },
        {
          "output_type": "display_data",
          "data": {
            "text/plain": [
              "recommendations finished on 1216000/1371980 queries. users per second: 47733.4"
            ],
            "text/html": [
              "<pre>recommendations finished on 1216000/1371980 queries. users per second: 47733.4</pre>"
            ]
          },
          "metadata": {}
        },
        {
          "output_type": "display_data",
          "data": {
            "text/plain": [
              "recommendations finished on 1217000/1371980 queries. users per second: 47729"
            ],
            "text/html": [
              "<pre>recommendations finished on 1217000/1371980 queries. users per second: 47729</pre>"
            ]
          },
          "metadata": {}
        },
        {
          "output_type": "display_data",
          "data": {
            "text/plain": [
              "recommendations finished on 1218000/1371980 queries. users per second: 47721.3"
            ],
            "text/html": [
              "<pre>recommendations finished on 1218000/1371980 queries. users per second: 47721.3</pre>"
            ]
          },
          "metadata": {}
        },
        {
          "output_type": "display_data",
          "data": {
            "text/plain": [
              "recommendations finished on 1219000/1371980 queries. users per second: 47709.4"
            ],
            "text/html": [
              "<pre>recommendations finished on 1219000/1371980 queries. users per second: 47709.4</pre>"
            ]
          },
          "metadata": {}
        },
        {
          "output_type": "display_data",
          "data": {
            "text/plain": [
              "recommendations finished on 1220000/1371980 queries. users per second: 47696.3"
            ],
            "text/html": [
              "<pre>recommendations finished on 1220000/1371980 queries. users per second: 47696.3</pre>"
            ]
          },
          "metadata": {}
        },
        {
          "output_type": "display_data",
          "data": {
            "text/plain": [
              "recommendations finished on 1221000/1371980 queries. users per second: 47690.4"
            ],
            "text/html": [
              "<pre>recommendations finished on 1221000/1371980 queries. users per second: 47690.4</pre>"
            ]
          },
          "metadata": {}
        },
        {
          "output_type": "display_data",
          "data": {
            "text/plain": [
              "recommendations finished on 1222000/1371980 queries. users per second: 47684.6"
            ],
            "text/html": [
              "<pre>recommendations finished on 1222000/1371980 queries. users per second: 47684.6</pre>"
            ]
          },
          "metadata": {}
        },
        {
          "output_type": "display_data",
          "data": {
            "text/plain": [
              "recommendations finished on 1223000/1371980 queries. users per second: 47690.6"
            ],
            "text/html": [
              "<pre>recommendations finished on 1223000/1371980 queries. users per second: 47690.6</pre>"
            ]
          },
          "metadata": {}
        },
        {
          "output_type": "display_data",
          "data": {
            "text/plain": [
              "recommendations finished on 1224000/1371980 queries. users per second: 47688.6"
            ],
            "text/html": [
              "<pre>recommendations finished on 1224000/1371980 queries. users per second: 47688.6</pre>"
            ]
          },
          "metadata": {}
        },
        {
          "output_type": "display_data",
          "data": {
            "text/plain": [
              "recommendations finished on 1225000/1371980 queries. users per second: 47684.1"
            ],
            "text/html": [
              "<pre>recommendations finished on 1225000/1371980 queries. users per second: 47684.1</pre>"
            ]
          },
          "metadata": {}
        },
        {
          "output_type": "display_data",
          "data": {
            "text/plain": [
              "recommendations finished on 1226000/1371980 queries. users per second: 47683.5"
            ],
            "text/html": [
              "<pre>recommendations finished on 1226000/1371980 queries. users per second: 47683.5</pre>"
            ]
          },
          "metadata": {}
        },
        {
          "output_type": "display_data",
          "data": {
            "text/plain": [
              "recommendations finished on 1227000/1371980 queries. users per second: 47678.1"
            ],
            "text/html": [
              "<pre>recommendations finished on 1227000/1371980 queries. users per second: 47678.1</pre>"
            ]
          },
          "metadata": {}
        },
        {
          "output_type": "display_data",
          "data": {
            "text/plain": [
              "recommendations finished on 1228000/1371980 queries. users per second: 47677.6"
            ],
            "text/html": [
              "<pre>recommendations finished on 1228000/1371980 queries. users per second: 47677.6</pre>"
            ]
          },
          "metadata": {}
        },
        {
          "output_type": "display_data",
          "data": {
            "text/plain": [
              "recommendations finished on 1229000/1371980 queries. users per second: 47673.7"
            ],
            "text/html": [
              "<pre>recommendations finished on 1229000/1371980 queries. users per second: 47673.7</pre>"
            ]
          },
          "metadata": {}
        },
        {
          "output_type": "display_data",
          "data": {
            "text/plain": [
              "recommendations finished on 1230000/1371980 queries. users per second: 47665.2"
            ],
            "text/html": [
              "<pre>recommendations finished on 1230000/1371980 queries. users per second: 47665.2</pre>"
            ]
          },
          "metadata": {}
        },
        {
          "output_type": "display_data",
          "data": {
            "text/plain": [
              "recommendations finished on 1231000/1371980 queries. users per second: 47660.6"
            ],
            "text/html": [
              "<pre>recommendations finished on 1231000/1371980 queries. users per second: 47660.6</pre>"
            ]
          },
          "metadata": {}
        },
        {
          "output_type": "display_data",
          "data": {
            "text/plain": [
              "recommendations finished on 1232000/1371980 queries. users per second: 47655.5"
            ],
            "text/html": [
              "<pre>recommendations finished on 1232000/1371980 queries. users per second: 47655.5</pre>"
            ]
          },
          "metadata": {}
        },
        {
          "output_type": "display_data",
          "data": {
            "text/plain": [
              "recommendations finished on 1233000/1371980 queries. users per second: 47646.8"
            ],
            "text/html": [
              "<pre>recommendations finished on 1233000/1371980 queries. users per second: 47646.8</pre>"
            ]
          },
          "metadata": {}
        },
        {
          "output_type": "display_data",
          "data": {
            "text/plain": [
              "recommendations finished on 1234000/1371980 queries. users per second: 47643.3"
            ],
            "text/html": [
              "<pre>recommendations finished on 1234000/1371980 queries. users per second: 47643.3</pre>"
            ]
          },
          "metadata": {}
        },
        {
          "output_type": "display_data",
          "data": {
            "text/plain": [
              "recommendations finished on 1235000/1371980 queries. users per second: 47637.3"
            ],
            "text/html": [
              "<pre>recommendations finished on 1235000/1371980 queries. users per second: 47637.3</pre>"
            ]
          },
          "metadata": {}
        },
        {
          "output_type": "display_data",
          "data": {
            "text/plain": [
              "recommendations finished on 1236000/1371980 queries. users per second: 47632.8"
            ],
            "text/html": [
              "<pre>recommendations finished on 1236000/1371980 queries. users per second: 47632.8</pre>"
            ]
          },
          "metadata": {}
        },
        {
          "output_type": "display_data",
          "data": {
            "text/plain": [
              "recommendations finished on 1237000/1371980 queries. users per second: 47629.7"
            ],
            "text/html": [
              "<pre>recommendations finished on 1237000/1371980 queries. users per second: 47629.7</pre>"
            ]
          },
          "metadata": {}
        },
        {
          "output_type": "display_data",
          "data": {
            "text/plain": [
              "recommendations finished on 1238000/1371980 queries. users per second: 47628.5"
            ],
            "text/html": [
              "<pre>recommendations finished on 1238000/1371980 queries. users per second: 47628.5</pre>"
            ]
          },
          "metadata": {}
        },
        {
          "output_type": "display_data",
          "data": {
            "text/plain": [
              "recommendations finished on 1239000/1371980 queries. users per second: 47613.8"
            ],
            "text/html": [
              "<pre>recommendations finished on 1239000/1371980 queries. users per second: 47613.8</pre>"
            ]
          },
          "metadata": {}
        },
        {
          "output_type": "display_data",
          "data": {
            "text/plain": [
              "recommendations finished on 1240000/1371980 queries. users per second: 47603.3"
            ],
            "text/html": [
              "<pre>recommendations finished on 1240000/1371980 queries. users per second: 47603.3</pre>"
            ]
          },
          "metadata": {}
        },
        {
          "output_type": "display_data",
          "data": {
            "text/plain": [
              "recommendations finished on 1241000/1371980 queries. users per second: 47598.9"
            ],
            "text/html": [
              "<pre>recommendations finished on 1241000/1371980 queries. users per second: 47598.9</pre>"
            ]
          },
          "metadata": {}
        },
        {
          "output_type": "display_data",
          "data": {
            "text/plain": [
              "recommendations finished on 1242000/1371980 queries. users per second: 47593"
            ],
            "text/html": [
              "<pre>recommendations finished on 1242000/1371980 queries. users per second: 47593</pre>"
            ]
          },
          "metadata": {}
        },
        {
          "output_type": "display_data",
          "data": {
            "text/plain": [
              "recommendations finished on 1243000/1371980 queries. users per second: 47582.8"
            ],
            "text/html": [
              "<pre>recommendations finished on 1243000/1371980 queries. users per second: 47582.8</pre>"
            ]
          },
          "metadata": {}
        },
        {
          "output_type": "display_data",
          "data": {
            "text/plain": [
              "recommendations finished on 1244000/1371980 queries. users per second: 47586.4"
            ],
            "text/html": [
              "<pre>recommendations finished on 1244000/1371980 queries. users per second: 47586.4</pre>"
            ]
          },
          "metadata": {}
        },
        {
          "output_type": "display_data",
          "data": {
            "text/plain": [
              "recommendations finished on 1245000/1371980 queries. users per second: 47584.9"
            ],
            "text/html": [
              "<pre>recommendations finished on 1245000/1371980 queries. users per second: 47584.9</pre>"
            ]
          },
          "metadata": {}
        },
        {
          "output_type": "display_data",
          "data": {
            "text/plain": [
              "recommendations finished on 1246000/1371980 queries. users per second: 47582.2"
            ],
            "text/html": [
              "<pre>recommendations finished on 1246000/1371980 queries. users per second: 47582.2</pre>"
            ]
          },
          "metadata": {}
        },
        {
          "output_type": "display_data",
          "data": {
            "text/plain": [
              "recommendations finished on 1247000/1371980 queries. users per second: 47581.6"
            ],
            "text/html": [
              "<pre>recommendations finished on 1247000/1371980 queries. users per second: 47581.6</pre>"
            ]
          },
          "metadata": {}
        },
        {
          "output_type": "display_data",
          "data": {
            "text/plain": [
              "recommendations finished on 1248000/1371980 queries. users per second: 47566.2"
            ],
            "text/html": [
              "<pre>recommendations finished on 1248000/1371980 queries. users per second: 47566.2</pre>"
            ]
          },
          "metadata": {}
        },
        {
          "output_type": "display_data",
          "data": {
            "text/plain": [
              "recommendations finished on 1249000/1371980 queries. users per second: 47566.9"
            ],
            "text/html": [
              "<pre>recommendations finished on 1249000/1371980 queries. users per second: 47566.9</pre>"
            ]
          },
          "metadata": {}
        },
        {
          "output_type": "display_data",
          "data": {
            "text/plain": [
              "recommendations finished on 1250000/1371980 queries. users per second: 47565.9"
            ],
            "text/html": [
              "<pre>recommendations finished on 1250000/1371980 queries. users per second: 47565.9</pre>"
            ]
          },
          "metadata": {}
        },
        {
          "output_type": "display_data",
          "data": {
            "text/plain": [
              "recommendations finished on 1251000/1371980 queries. users per second: 47566.1"
            ],
            "text/html": [
              "<pre>recommendations finished on 1251000/1371980 queries. users per second: 47566.1</pre>"
            ]
          },
          "metadata": {}
        },
        {
          "output_type": "display_data",
          "data": {
            "text/plain": [
              "recommendations finished on 1252000/1371980 queries. users per second: 47547.1"
            ],
            "text/html": [
              "<pre>recommendations finished on 1252000/1371980 queries. users per second: 47547.1</pre>"
            ]
          },
          "metadata": {}
        },
        {
          "output_type": "display_data",
          "data": {
            "text/plain": [
              "recommendations finished on 1253000/1371980 queries. users per second: 47550.4"
            ],
            "text/html": [
              "<pre>recommendations finished on 1253000/1371980 queries. users per second: 47550.4</pre>"
            ]
          },
          "metadata": {}
        },
        {
          "output_type": "display_data",
          "data": {
            "text/plain": [
              "recommendations finished on 1254000/1371980 queries. users per second: 47547.7"
            ],
            "text/html": [
              "<pre>recommendations finished on 1254000/1371980 queries. users per second: 47547.7</pre>"
            ]
          },
          "metadata": {}
        },
        {
          "output_type": "display_data",
          "data": {
            "text/plain": [
              "recommendations finished on 1255000/1371980 queries. users per second: 47553.8"
            ],
            "text/html": [
              "<pre>recommendations finished on 1255000/1371980 queries. users per second: 47553.8</pre>"
            ]
          },
          "metadata": {}
        },
        {
          "output_type": "display_data",
          "data": {
            "text/plain": [
              "recommendations finished on 1256000/1371980 queries. users per second: 47541.6"
            ],
            "text/html": [
              "<pre>recommendations finished on 1256000/1371980 queries. users per second: 47541.6</pre>"
            ]
          },
          "metadata": {}
        },
        {
          "output_type": "display_data",
          "data": {
            "text/plain": [
              "recommendations finished on 1257000/1371980 queries. users per second: 47539.7"
            ],
            "text/html": [
              "<pre>recommendations finished on 1257000/1371980 queries. users per second: 47539.7</pre>"
            ]
          },
          "metadata": {}
        },
        {
          "output_type": "display_data",
          "data": {
            "text/plain": [
              "recommendations finished on 1258000/1371980 queries. users per second: 47538.8"
            ],
            "text/html": [
              "<pre>recommendations finished on 1258000/1371980 queries. users per second: 47538.8</pre>"
            ]
          },
          "metadata": {}
        },
        {
          "output_type": "display_data",
          "data": {
            "text/plain": [
              "recommendations finished on 1259000/1371980 queries. users per second: 47536.5"
            ],
            "text/html": [
              "<pre>recommendations finished on 1259000/1371980 queries. users per second: 47536.5</pre>"
            ]
          },
          "metadata": {}
        },
        {
          "output_type": "display_data",
          "data": {
            "text/plain": [
              "recommendations finished on 1260000/1371980 queries. users per second: 47539.5"
            ],
            "text/html": [
              "<pre>recommendations finished on 1260000/1371980 queries. users per second: 47539.5</pre>"
            ]
          },
          "metadata": {}
        },
        {
          "output_type": "display_data",
          "data": {
            "text/plain": [
              "recommendations finished on 1261000/1371980 queries. users per second: 47524"
            ],
            "text/html": [
              "<pre>recommendations finished on 1261000/1371980 queries. users per second: 47524</pre>"
            ]
          },
          "metadata": {}
        },
        {
          "output_type": "display_data",
          "data": {
            "text/plain": [
              "recommendations finished on 1262000/1371980 queries. users per second: 47517.5"
            ],
            "text/html": [
              "<pre>recommendations finished on 1262000/1371980 queries. users per second: 47517.5</pre>"
            ]
          },
          "metadata": {}
        },
        {
          "output_type": "display_data",
          "data": {
            "text/plain": [
              "recommendations finished on 1263000/1371980 queries. users per second: 47513.7"
            ],
            "text/html": [
              "<pre>recommendations finished on 1263000/1371980 queries. users per second: 47513.7</pre>"
            ]
          },
          "metadata": {}
        },
        {
          "output_type": "display_data",
          "data": {
            "text/plain": [
              "recommendations finished on 1264000/1371980 queries. users per second: 47508"
            ],
            "text/html": [
              "<pre>recommendations finished on 1264000/1371980 queries. users per second: 47508</pre>"
            ]
          },
          "metadata": {}
        },
        {
          "output_type": "display_data",
          "data": {
            "text/plain": [
              "recommendations finished on 1265000/1371980 queries. users per second: 47504.2"
            ],
            "text/html": [
              "<pre>recommendations finished on 1265000/1371980 queries. users per second: 47504.2</pre>"
            ]
          },
          "metadata": {}
        },
        {
          "output_type": "display_data",
          "data": {
            "text/plain": [
              "recommendations finished on 1266000/1371980 queries. users per second: 47497.3"
            ],
            "text/html": [
              "<pre>recommendations finished on 1266000/1371980 queries. users per second: 47497.3</pre>"
            ]
          },
          "metadata": {}
        },
        {
          "output_type": "display_data",
          "data": {
            "text/plain": [
              "recommendations finished on 1267000/1371980 queries. users per second: 47487.4"
            ],
            "text/html": [
              "<pre>recommendations finished on 1267000/1371980 queries. users per second: 47487.4</pre>"
            ]
          },
          "metadata": {}
        },
        {
          "output_type": "display_data",
          "data": {
            "text/plain": [
              "recommendations finished on 1268000/1371980 queries. users per second: 47485.7"
            ],
            "text/html": [
              "<pre>recommendations finished on 1268000/1371980 queries. users per second: 47485.7</pre>"
            ]
          },
          "metadata": {}
        },
        {
          "output_type": "display_data",
          "data": {
            "text/plain": [
              "recommendations finished on 1269000/1371980 queries. users per second: 47477.3"
            ],
            "text/html": [
              "<pre>recommendations finished on 1269000/1371980 queries. users per second: 47477.3</pre>"
            ]
          },
          "metadata": {}
        },
        {
          "output_type": "display_data",
          "data": {
            "text/plain": [
              "recommendations finished on 1270000/1371980 queries. users per second: 47469.3"
            ],
            "text/html": [
              "<pre>recommendations finished on 1270000/1371980 queries. users per second: 47469.3</pre>"
            ]
          },
          "metadata": {}
        },
        {
          "output_type": "display_data",
          "data": {
            "text/plain": [
              "recommendations finished on 1271000/1371980 queries. users per second: 47461"
            ],
            "text/html": [
              "<pre>recommendations finished on 1271000/1371980 queries. users per second: 47461</pre>"
            ]
          },
          "metadata": {}
        },
        {
          "output_type": "display_data",
          "data": {
            "text/plain": [
              "recommendations finished on 1272000/1371980 queries. users per second: 47462"
            ],
            "text/html": [
              "<pre>recommendations finished on 1272000/1371980 queries. users per second: 47462</pre>"
            ]
          },
          "metadata": {}
        },
        {
          "output_type": "display_data",
          "data": {
            "text/plain": [
              "recommendations finished on 1273000/1371980 queries. users per second: 47463.7"
            ],
            "text/html": [
              "<pre>recommendations finished on 1273000/1371980 queries. users per second: 47463.7</pre>"
            ]
          },
          "metadata": {}
        },
        {
          "output_type": "display_data",
          "data": {
            "text/plain": [
              "recommendations finished on 1274000/1371980 queries. users per second: 47461"
            ],
            "text/html": [
              "<pre>recommendations finished on 1274000/1371980 queries. users per second: 47461</pre>"
            ]
          },
          "metadata": {}
        },
        {
          "output_type": "display_data",
          "data": {
            "text/plain": [
              "recommendations finished on 1275000/1371980 queries. users per second: 47455.5"
            ],
            "text/html": [
              "<pre>recommendations finished on 1275000/1371980 queries. users per second: 47455.5</pre>"
            ]
          },
          "metadata": {}
        },
        {
          "output_type": "display_data",
          "data": {
            "text/plain": [
              "recommendations finished on 1276000/1371980 queries. users per second: 47447.2"
            ],
            "text/html": [
              "<pre>recommendations finished on 1276000/1371980 queries. users per second: 47447.2</pre>"
            ]
          },
          "metadata": {}
        },
        {
          "output_type": "display_data",
          "data": {
            "text/plain": [
              "recommendations finished on 1277000/1371980 queries. users per second: 47440.9"
            ],
            "text/html": [
              "<pre>recommendations finished on 1277000/1371980 queries. users per second: 47440.9</pre>"
            ]
          },
          "metadata": {}
        },
        {
          "output_type": "display_data",
          "data": {
            "text/plain": [
              "recommendations finished on 1278000/1371980 queries. users per second: 47433.4"
            ],
            "text/html": [
              "<pre>recommendations finished on 1278000/1371980 queries. users per second: 47433.4</pre>"
            ]
          },
          "metadata": {}
        },
        {
          "output_type": "display_data",
          "data": {
            "text/plain": [
              "recommendations finished on 1279000/1371980 queries. users per second: 47428.2"
            ],
            "text/html": [
              "<pre>recommendations finished on 1279000/1371980 queries. users per second: 47428.2</pre>"
            ]
          },
          "metadata": {}
        },
        {
          "output_type": "display_data",
          "data": {
            "text/plain": [
              "recommendations finished on 1280000/1371980 queries. users per second: 47421.6"
            ],
            "text/html": [
              "<pre>recommendations finished on 1280000/1371980 queries. users per second: 47421.6</pre>"
            ]
          },
          "metadata": {}
        },
        {
          "output_type": "display_data",
          "data": {
            "text/plain": [
              "recommendations finished on 1281000/1371980 queries. users per second: 47416.3"
            ],
            "text/html": [
              "<pre>recommendations finished on 1281000/1371980 queries. users per second: 47416.3</pre>"
            ]
          },
          "metadata": {}
        },
        {
          "output_type": "display_data",
          "data": {
            "text/plain": [
              "recommendations finished on 1282000/1371980 queries. users per second: 47404.3"
            ],
            "text/html": [
              "<pre>recommendations finished on 1282000/1371980 queries. users per second: 47404.3</pre>"
            ]
          },
          "metadata": {}
        },
        {
          "output_type": "display_data",
          "data": {
            "text/plain": [
              "recommendations finished on 1283000/1371980 queries. users per second: 47401.6"
            ],
            "text/html": [
              "<pre>recommendations finished on 1283000/1371980 queries. users per second: 47401.6</pre>"
            ]
          },
          "metadata": {}
        },
        {
          "output_type": "display_data",
          "data": {
            "text/plain": [
              "recommendations finished on 1284000/1371980 queries. users per second: 47400.9"
            ],
            "text/html": [
              "<pre>recommendations finished on 1284000/1371980 queries. users per second: 47400.9</pre>"
            ]
          },
          "metadata": {}
        },
        {
          "output_type": "display_data",
          "data": {
            "text/plain": [
              "recommendations finished on 1285000/1371980 queries. users per second: 47400.4"
            ],
            "text/html": [
              "<pre>recommendations finished on 1285000/1371980 queries. users per second: 47400.4</pre>"
            ]
          },
          "metadata": {}
        },
        {
          "output_type": "display_data",
          "data": {
            "text/plain": [
              "recommendations finished on 1286000/1371980 queries. users per second: 47397.4"
            ],
            "text/html": [
              "<pre>recommendations finished on 1286000/1371980 queries. users per second: 47397.4</pre>"
            ]
          },
          "metadata": {}
        },
        {
          "output_type": "display_data",
          "data": {
            "text/plain": [
              "recommendations finished on 1287000/1371980 queries. users per second: 47396"
            ],
            "text/html": [
              "<pre>recommendations finished on 1287000/1371980 queries. users per second: 47396</pre>"
            ]
          },
          "metadata": {}
        },
        {
          "output_type": "display_data",
          "data": {
            "text/plain": [
              "recommendations finished on 1288000/1371980 queries. users per second: 47397.8"
            ],
            "text/html": [
              "<pre>recommendations finished on 1288000/1371980 queries. users per second: 47397.8</pre>"
            ]
          },
          "metadata": {}
        },
        {
          "output_type": "display_data",
          "data": {
            "text/plain": [
              "recommendations finished on 1289000/1371980 queries. users per second: 47399.5"
            ],
            "text/html": [
              "<pre>recommendations finished on 1289000/1371980 queries. users per second: 47399.5</pre>"
            ]
          },
          "metadata": {}
        },
        {
          "output_type": "display_data",
          "data": {
            "text/plain": [
              "recommendations finished on 1290000/1371980 queries. users per second: 47394.3"
            ],
            "text/html": [
              "<pre>recommendations finished on 1290000/1371980 queries. users per second: 47394.3</pre>"
            ]
          },
          "metadata": {}
        },
        {
          "output_type": "display_data",
          "data": {
            "text/plain": [
              "recommendations finished on 1291000/1371980 queries. users per second: 47385"
            ],
            "text/html": [
              "<pre>recommendations finished on 1291000/1371980 queries. users per second: 47385</pre>"
            ]
          },
          "metadata": {}
        },
        {
          "output_type": "display_data",
          "data": {
            "text/plain": [
              "recommendations finished on 1292000/1371980 queries. users per second: 47386.7"
            ],
            "text/html": [
              "<pre>recommendations finished on 1292000/1371980 queries. users per second: 47386.7</pre>"
            ]
          },
          "metadata": {}
        },
        {
          "output_type": "display_data",
          "data": {
            "text/plain": [
              "recommendations finished on 1293000/1371980 queries. users per second: 47380.7"
            ],
            "text/html": [
              "<pre>recommendations finished on 1293000/1371980 queries. users per second: 47380.7</pre>"
            ]
          },
          "metadata": {}
        },
        {
          "output_type": "display_data",
          "data": {
            "text/plain": [
              "recommendations finished on 1294000/1371980 queries. users per second: 47373.5"
            ],
            "text/html": [
              "<pre>recommendations finished on 1294000/1371980 queries. users per second: 47373.5</pre>"
            ]
          },
          "metadata": {}
        },
        {
          "output_type": "display_data",
          "data": {
            "text/plain": [
              "recommendations finished on 1295000/1371980 queries. users per second: 47372.9"
            ],
            "text/html": [
              "<pre>recommendations finished on 1295000/1371980 queries. users per second: 47372.9</pre>"
            ]
          },
          "metadata": {}
        },
        {
          "output_type": "display_data",
          "data": {
            "text/plain": [
              "recommendations finished on 1296000/1371980 queries. users per second: 47365.9"
            ],
            "text/html": [
              "<pre>recommendations finished on 1296000/1371980 queries. users per second: 47365.9</pre>"
            ]
          },
          "metadata": {}
        },
        {
          "output_type": "display_data",
          "data": {
            "text/plain": [
              "recommendations finished on 1297000/1371980 queries. users per second: 47362.6"
            ],
            "text/html": [
              "<pre>recommendations finished on 1297000/1371980 queries. users per second: 47362.6</pre>"
            ]
          },
          "metadata": {}
        },
        {
          "output_type": "display_data",
          "data": {
            "text/plain": [
              "recommendations finished on 1298000/1371980 queries. users per second: 47363"
            ],
            "text/html": [
              "<pre>recommendations finished on 1298000/1371980 queries. users per second: 47363</pre>"
            ]
          },
          "metadata": {}
        },
        {
          "output_type": "display_data",
          "data": {
            "text/plain": [
              "recommendations finished on 1299000/1371980 queries. users per second: 47360.1"
            ],
            "text/html": [
              "<pre>recommendations finished on 1299000/1371980 queries. users per second: 47360.1</pre>"
            ]
          },
          "metadata": {}
        },
        {
          "output_type": "display_data",
          "data": {
            "text/plain": [
              "recommendations finished on 1300000/1371980 queries. users per second: 47353.5"
            ],
            "text/html": [
              "<pre>recommendations finished on 1300000/1371980 queries. users per second: 47353.5</pre>"
            ]
          },
          "metadata": {}
        },
        {
          "output_type": "display_data",
          "data": {
            "text/plain": [
              "recommendations finished on 1301000/1371980 queries. users per second: 47343.7"
            ],
            "text/html": [
              "<pre>recommendations finished on 1301000/1371980 queries. users per second: 47343.7</pre>"
            ]
          },
          "metadata": {}
        },
        {
          "output_type": "display_data",
          "data": {
            "text/plain": [
              "recommendations finished on 1302000/1371980 queries. users per second: 47344.3"
            ],
            "text/html": [
              "<pre>recommendations finished on 1302000/1371980 queries. users per second: 47344.3</pre>"
            ]
          },
          "metadata": {}
        },
        {
          "output_type": "display_data",
          "data": {
            "text/plain": [
              "recommendations finished on 1303000/1371980 queries. users per second: 47342"
            ],
            "text/html": [
              "<pre>recommendations finished on 1303000/1371980 queries. users per second: 47342</pre>"
            ]
          },
          "metadata": {}
        },
        {
          "output_type": "display_data",
          "data": {
            "text/plain": [
              "recommendations finished on 1304000/1371980 queries. users per second: 47344.5"
            ],
            "text/html": [
              "<pre>recommendations finished on 1304000/1371980 queries. users per second: 47344.5</pre>"
            ]
          },
          "metadata": {}
        },
        {
          "output_type": "display_data",
          "data": {
            "text/plain": [
              "recommendations finished on 1305000/1371980 queries. users per second: 47341.3"
            ],
            "text/html": [
              "<pre>recommendations finished on 1305000/1371980 queries. users per second: 47341.3</pre>"
            ]
          },
          "metadata": {}
        },
        {
          "output_type": "display_data",
          "data": {
            "text/plain": [
              "recommendations finished on 1306000/1371980 queries. users per second: 47335.1"
            ],
            "text/html": [
              "<pre>recommendations finished on 1306000/1371980 queries. users per second: 47335.1</pre>"
            ]
          },
          "metadata": {}
        },
        {
          "output_type": "display_data",
          "data": {
            "text/plain": [
              "recommendations finished on 1307000/1371980 queries. users per second: 47332.1"
            ],
            "text/html": [
              "<pre>recommendations finished on 1307000/1371980 queries. users per second: 47332.1</pre>"
            ]
          },
          "metadata": {}
        },
        {
          "output_type": "display_data",
          "data": {
            "text/plain": [
              "recommendations finished on 1308000/1371980 queries. users per second: 47331.8"
            ],
            "text/html": [
              "<pre>recommendations finished on 1308000/1371980 queries. users per second: 47331.8</pre>"
            ]
          },
          "metadata": {}
        },
        {
          "output_type": "display_data",
          "data": {
            "text/plain": [
              "recommendations finished on 1309000/1371980 queries. users per second: 47331"
            ],
            "text/html": [
              "<pre>recommendations finished on 1309000/1371980 queries. users per second: 47331</pre>"
            ]
          },
          "metadata": {}
        },
        {
          "output_type": "display_data",
          "data": {
            "text/plain": [
              "recommendations finished on 1310000/1371980 queries. users per second: 47325.7"
            ],
            "text/html": [
              "<pre>recommendations finished on 1310000/1371980 queries. users per second: 47325.7</pre>"
            ]
          },
          "metadata": {}
        },
        {
          "output_type": "display_data",
          "data": {
            "text/plain": [
              "recommendations finished on 1311000/1371980 queries. users per second: 47319"
            ],
            "text/html": [
              "<pre>recommendations finished on 1311000/1371980 queries. users per second: 47319</pre>"
            ]
          },
          "metadata": {}
        },
        {
          "output_type": "display_data",
          "data": {
            "text/plain": [
              "recommendations finished on 1312000/1371980 queries. users per second: 47315.2"
            ],
            "text/html": [
              "<pre>recommendations finished on 1312000/1371980 queries. users per second: 47315.2</pre>"
            ]
          },
          "metadata": {}
        },
        {
          "output_type": "display_data",
          "data": {
            "text/plain": [
              "recommendations finished on 1313000/1371980 queries. users per second: 47309.3"
            ],
            "text/html": [
              "<pre>recommendations finished on 1313000/1371980 queries. users per second: 47309.3</pre>"
            ]
          },
          "metadata": {}
        },
        {
          "output_type": "display_data",
          "data": {
            "text/plain": [
              "recommendations finished on 1314000/1371980 queries. users per second: 47303.4"
            ],
            "text/html": [
              "<pre>recommendations finished on 1314000/1371980 queries. users per second: 47303.4</pre>"
            ]
          },
          "metadata": {}
        },
        {
          "output_type": "display_data",
          "data": {
            "text/plain": [
              "recommendations finished on 1315000/1371980 queries. users per second: 47300.4"
            ],
            "text/html": [
              "<pre>recommendations finished on 1315000/1371980 queries. users per second: 47300.4</pre>"
            ]
          },
          "metadata": {}
        },
        {
          "output_type": "display_data",
          "data": {
            "text/plain": [
              "recommendations finished on 1316000/1371980 queries. users per second: 47297.2"
            ],
            "text/html": [
              "<pre>recommendations finished on 1316000/1371980 queries. users per second: 47297.2</pre>"
            ]
          },
          "metadata": {}
        },
        {
          "output_type": "display_data",
          "data": {
            "text/plain": [
              "recommendations finished on 1317000/1371980 queries. users per second: 47294.4"
            ],
            "text/html": [
              "<pre>recommendations finished on 1317000/1371980 queries. users per second: 47294.4</pre>"
            ]
          },
          "metadata": {}
        },
        {
          "output_type": "display_data",
          "data": {
            "text/plain": [
              "recommendations finished on 1318000/1371980 queries. users per second: 47293.1"
            ],
            "text/html": [
              "<pre>recommendations finished on 1318000/1371980 queries. users per second: 47293.1</pre>"
            ]
          },
          "metadata": {}
        },
        {
          "output_type": "display_data",
          "data": {
            "text/plain": [
              "recommendations finished on 1319000/1371980 queries. users per second: 47286.1"
            ],
            "text/html": [
              "<pre>recommendations finished on 1319000/1371980 queries. users per second: 47286.1</pre>"
            ]
          },
          "metadata": {}
        },
        {
          "output_type": "display_data",
          "data": {
            "text/plain": [
              "recommendations finished on 1320000/1371980 queries. users per second: 47283.4"
            ],
            "text/html": [
              "<pre>recommendations finished on 1320000/1371980 queries. users per second: 47283.4</pre>"
            ]
          },
          "metadata": {}
        },
        {
          "output_type": "display_data",
          "data": {
            "text/plain": [
              "recommendations finished on 1321000/1371980 queries. users per second: 47284.1"
            ],
            "text/html": [
              "<pre>recommendations finished on 1321000/1371980 queries. users per second: 47284.1</pre>"
            ]
          },
          "metadata": {}
        },
        {
          "output_type": "display_data",
          "data": {
            "text/plain": [
              "recommendations finished on 1322000/1371980 queries. users per second: 47280.2"
            ],
            "text/html": [
              "<pre>recommendations finished on 1322000/1371980 queries. users per second: 47280.2</pre>"
            ]
          },
          "metadata": {}
        },
        {
          "output_type": "display_data",
          "data": {
            "text/plain": [
              "recommendations finished on 1323000/1371980 queries. users per second: 47277"
            ],
            "text/html": [
              "<pre>recommendations finished on 1323000/1371980 queries. users per second: 47277</pre>"
            ]
          },
          "metadata": {}
        },
        {
          "output_type": "display_data",
          "data": {
            "text/plain": [
              "recommendations finished on 1324000/1371980 queries. users per second: 47265.7"
            ],
            "text/html": [
              "<pre>recommendations finished on 1324000/1371980 queries. users per second: 47265.7</pre>"
            ]
          },
          "metadata": {}
        },
        {
          "output_type": "display_data",
          "data": {
            "text/plain": [
              "recommendations finished on 1325000/1371980 queries. users per second: 47256"
            ],
            "text/html": [
              "<pre>recommendations finished on 1325000/1371980 queries. users per second: 47256</pre>"
            ]
          },
          "metadata": {}
        },
        {
          "output_type": "display_data",
          "data": {
            "text/plain": [
              "recommendations finished on 1326000/1371980 queries. users per second: 47254.8"
            ],
            "text/html": [
              "<pre>recommendations finished on 1326000/1371980 queries. users per second: 47254.8</pre>"
            ]
          },
          "metadata": {}
        },
        {
          "output_type": "display_data",
          "data": {
            "text/plain": [
              "recommendations finished on 1327000/1371980 queries. users per second: 47250.2"
            ],
            "text/html": [
              "<pre>recommendations finished on 1327000/1371980 queries. users per second: 47250.2</pre>"
            ]
          },
          "metadata": {}
        },
        {
          "output_type": "display_data",
          "data": {
            "text/plain": [
              "recommendations finished on 1328000/1371980 queries. users per second: 47245.9"
            ],
            "text/html": [
              "<pre>recommendations finished on 1328000/1371980 queries. users per second: 47245.9</pre>"
            ]
          },
          "metadata": {}
        },
        {
          "output_type": "display_data",
          "data": {
            "text/plain": [
              "recommendations finished on 1329000/1371980 queries. users per second: 47223.8"
            ],
            "text/html": [
              "<pre>recommendations finished on 1329000/1371980 queries. users per second: 47223.8</pre>"
            ]
          },
          "metadata": {}
        },
        {
          "output_type": "display_data",
          "data": {
            "text/plain": [
              "recommendations finished on 1330000/1371980 queries. users per second: 47220.1"
            ],
            "text/html": [
              "<pre>recommendations finished on 1330000/1371980 queries. users per second: 47220.1</pre>"
            ]
          },
          "metadata": {}
        },
        {
          "output_type": "display_data",
          "data": {
            "text/plain": [
              "recommendations finished on 1331000/1371980 queries. users per second: 47222.3"
            ],
            "text/html": [
              "<pre>recommendations finished on 1331000/1371980 queries. users per second: 47222.3</pre>"
            ]
          },
          "metadata": {}
        },
        {
          "output_type": "display_data",
          "data": {
            "text/plain": [
              "recommendations finished on 1332000/1371980 queries. users per second: 47223"
            ],
            "text/html": [
              "<pre>recommendations finished on 1332000/1371980 queries. users per second: 47223</pre>"
            ]
          },
          "metadata": {}
        },
        {
          "output_type": "display_data",
          "data": {
            "text/plain": [
              "recommendations finished on 1333000/1371980 queries. users per second: 47216.9"
            ],
            "text/html": [
              "<pre>recommendations finished on 1333000/1371980 queries. users per second: 47216.9</pre>"
            ]
          },
          "metadata": {}
        },
        {
          "output_type": "display_data",
          "data": {
            "text/plain": [
              "recommendations finished on 1334000/1371980 queries. users per second: 47217.1"
            ],
            "text/html": [
              "<pre>recommendations finished on 1334000/1371980 queries. users per second: 47217.1</pre>"
            ]
          },
          "metadata": {}
        },
        {
          "output_type": "display_data",
          "data": {
            "text/plain": [
              "recommendations finished on 1335000/1371980 queries. users per second: 47212.3"
            ],
            "text/html": [
              "<pre>recommendations finished on 1335000/1371980 queries. users per second: 47212.3</pre>"
            ]
          },
          "metadata": {}
        },
        {
          "output_type": "display_data",
          "data": {
            "text/plain": [
              "recommendations finished on 1336000/1371980 queries. users per second: 47211.8"
            ],
            "text/html": [
              "<pre>recommendations finished on 1336000/1371980 queries. users per second: 47211.8</pre>"
            ]
          },
          "metadata": {}
        },
        {
          "output_type": "display_data",
          "data": {
            "text/plain": [
              "recommendations finished on 1337000/1371980 queries. users per second: 47205.2"
            ],
            "text/html": [
              "<pre>recommendations finished on 1337000/1371980 queries. users per second: 47205.2</pre>"
            ]
          },
          "metadata": {}
        },
        {
          "output_type": "display_data",
          "data": {
            "text/plain": [
              "recommendations finished on 1338000/1371980 queries. users per second: 47206.8"
            ],
            "text/html": [
              "<pre>recommendations finished on 1338000/1371980 queries. users per second: 47206.8</pre>"
            ]
          },
          "metadata": {}
        },
        {
          "output_type": "display_data",
          "data": {
            "text/plain": [
              "recommendations finished on 1339000/1371980 queries. users per second: 47194.2"
            ],
            "text/html": [
              "<pre>recommendations finished on 1339000/1371980 queries. users per second: 47194.2</pre>"
            ]
          },
          "metadata": {}
        },
        {
          "output_type": "display_data",
          "data": {
            "text/plain": [
              "recommendations finished on 1340000/1371980 queries. users per second: 47194.6"
            ],
            "text/html": [
              "<pre>recommendations finished on 1340000/1371980 queries. users per second: 47194.6</pre>"
            ]
          },
          "metadata": {}
        },
        {
          "output_type": "display_data",
          "data": {
            "text/plain": [
              "recommendations finished on 1341000/1371980 queries. users per second: 47191.4"
            ],
            "text/html": [
              "<pre>recommendations finished on 1341000/1371980 queries. users per second: 47191.4</pre>"
            ]
          },
          "metadata": {}
        },
        {
          "output_type": "display_data",
          "data": {
            "text/plain": [
              "recommendations finished on 1342000/1371980 queries. users per second: 47188"
            ],
            "text/html": [
              "<pre>recommendations finished on 1342000/1371980 queries. users per second: 47188</pre>"
            ]
          },
          "metadata": {}
        },
        {
          "output_type": "display_data",
          "data": {
            "text/plain": [
              "recommendations finished on 1343000/1371980 queries. users per second: 47173.7"
            ],
            "text/html": [
              "<pre>recommendations finished on 1343000/1371980 queries. users per second: 47173.7</pre>"
            ]
          },
          "metadata": {}
        },
        {
          "output_type": "display_data",
          "data": {
            "text/plain": [
              "recommendations finished on 1344000/1371980 queries. users per second: 47174.8"
            ],
            "text/html": [
              "<pre>recommendations finished on 1344000/1371980 queries. users per second: 47174.8</pre>"
            ]
          },
          "metadata": {}
        },
        {
          "output_type": "display_data",
          "data": {
            "text/plain": [
              "recommendations finished on 1345000/1371980 queries. users per second: 47169"
            ],
            "text/html": [
              "<pre>recommendations finished on 1345000/1371980 queries. users per second: 47169</pre>"
            ]
          },
          "metadata": {}
        },
        {
          "output_type": "display_data",
          "data": {
            "text/plain": [
              "recommendations finished on 1346000/1371980 queries. users per second: 47163"
            ],
            "text/html": [
              "<pre>recommendations finished on 1346000/1371980 queries. users per second: 47163</pre>"
            ]
          },
          "metadata": {}
        },
        {
          "output_type": "display_data",
          "data": {
            "text/plain": [
              "recommendations finished on 1347000/1371980 queries. users per second: 47153.8"
            ],
            "text/html": [
              "<pre>recommendations finished on 1347000/1371980 queries. users per second: 47153.8</pre>"
            ]
          },
          "metadata": {}
        },
        {
          "output_type": "display_data",
          "data": {
            "text/plain": [
              "recommendations finished on 1348000/1371980 queries. users per second: 47143.6"
            ],
            "text/html": [
              "<pre>recommendations finished on 1348000/1371980 queries. users per second: 47143.6</pre>"
            ]
          },
          "metadata": {}
        },
        {
          "output_type": "display_data",
          "data": {
            "text/plain": [
              "recommendations finished on 1349000/1371980 queries. users per second: 47144.8"
            ],
            "text/html": [
              "<pre>recommendations finished on 1349000/1371980 queries. users per second: 47144.8</pre>"
            ]
          },
          "metadata": {}
        },
        {
          "output_type": "display_data",
          "data": {
            "text/plain": [
              "recommendations finished on 1350000/1371980 queries. users per second: 47145.1"
            ],
            "text/html": [
              "<pre>recommendations finished on 1350000/1371980 queries. users per second: 47145.1</pre>"
            ]
          },
          "metadata": {}
        },
        {
          "output_type": "display_data",
          "data": {
            "text/plain": [
              "recommendations finished on 1351000/1371980 queries. users per second: 47142.7"
            ],
            "text/html": [
              "<pre>recommendations finished on 1351000/1371980 queries. users per second: 47142.7</pre>"
            ]
          },
          "metadata": {}
        },
        {
          "output_type": "display_data",
          "data": {
            "text/plain": [
              "recommendations finished on 1352000/1371980 queries. users per second: 47136.6"
            ],
            "text/html": [
              "<pre>recommendations finished on 1352000/1371980 queries. users per second: 47136.6</pre>"
            ]
          },
          "metadata": {}
        },
        {
          "output_type": "display_data",
          "data": {
            "text/plain": [
              "recommendations finished on 1353000/1371980 queries. users per second: 47137.6"
            ],
            "text/html": [
              "<pre>recommendations finished on 1353000/1371980 queries. users per second: 47137.6</pre>"
            ]
          },
          "metadata": {}
        },
        {
          "output_type": "display_data",
          "data": {
            "text/plain": [
              "recommendations finished on 1354000/1371980 queries. users per second: 47131"
            ],
            "text/html": [
              "<pre>recommendations finished on 1354000/1371980 queries. users per second: 47131</pre>"
            ]
          },
          "metadata": {}
        },
        {
          "output_type": "display_data",
          "data": {
            "text/plain": [
              "recommendations finished on 1355000/1371980 queries. users per second: 47132.8"
            ],
            "text/html": [
              "<pre>recommendations finished on 1355000/1371980 queries. users per second: 47132.8</pre>"
            ]
          },
          "metadata": {}
        },
        {
          "output_type": "display_data",
          "data": {
            "text/plain": [
              "recommendations finished on 1356000/1371980 queries. users per second: 47129.2"
            ],
            "text/html": [
              "<pre>recommendations finished on 1356000/1371980 queries. users per second: 47129.2</pre>"
            ]
          },
          "metadata": {}
        },
        {
          "output_type": "display_data",
          "data": {
            "text/plain": [
              "recommendations finished on 1357000/1371980 queries. users per second: 47126.7"
            ],
            "text/html": [
              "<pre>recommendations finished on 1357000/1371980 queries. users per second: 47126.7</pre>"
            ]
          },
          "metadata": {}
        },
        {
          "output_type": "display_data",
          "data": {
            "text/plain": [
              "recommendations finished on 1358000/1371980 queries. users per second: 47121.7"
            ],
            "text/html": [
              "<pre>recommendations finished on 1358000/1371980 queries. users per second: 47121.7</pre>"
            ]
          },
          "metadata": {}
        },
        {
          "output_type": "display_data",
          "data": {
            "text/plain": [
              "recommendations finished on 1359000/1371980 queries. users per second: 47106.4"
            ],
            "text/html": [
              "<pre>recommendations finished on 1359000/1371980 queries. users per second: 47106.4</pre>"
            ]
          },
          "metadata": {}
        },
        {
          "output_type": "display_data",
          "data": {
            "text/plain": [
              "recommendations finished on 1360000/1371980 queries. users per second: 47091.2"
            ],
            "text/html": [
              "<pre>recommendations finished on 1360000/1371980 queries. users per second: 47091.2</pre>"
            ]
          },
          "metadata": {}
        },
        {
          "output_type": "display_data",
          "data": {
            "text/plain": [
              "recommendations finished on 1361000/1371980 queries. users per second: 47075.1"
            ],
            "text/html": [
              "<pre>recommendations finished on 1361000/1371980 queries. users per second: 47075.1</pre>"
            ]
          },
          "metadata": {}
        },
        {
          "output_type": "display_data",
          "data": {
            "text/plain": [
              "recommendations finished on 1362000/1371980 queries. users per second: 47061.4"
            ],
            "text/html": [
              "<pre>recommendations finished on 1362000/1371980 queries. users per second: 47061.4</pre>"
            ]
          },
          "metadata": {}
        },
        {
          "output_type": "display_data",
          "data": {
            "text/plain": [
              "recommendations finished on 1363000/1371980 queries. users per second: 47045.1"
            ],
            "text/html": [
              "<pre>recommendations finished on 1363000/1371980 queries. users per second: 47045.1</pre>"
            ]
          },
          "metadata": {}
        },
        {
          "output_type": "display_data",
          "data": {
            "text/plain": [
              "recommendations finished on 1364000/1371980 queries. users per second: 47025.9"
            ],
            "text/html": [
              "<pre>recommendations finished on 1364000/1371980 queries. users per second: 47025.9</pre>"
            ]
          },
          "metadata": {}
        },
        {
          "output_type": "display_data",
          "data": {
            "text/plain": [
              "recommendations finished on 1365000/1371980 queries. users per second: 47008.6"
            ],
            "text/html": [
              "<pre>recommendations finished on 1365000/1371980 queries. users per second: 47008.6</pre>"
            ]
          },
          "metadata": {}
        },
        {
          "output_type": "display_data",
          "data": {
            "text/plain": [
              "recommendations finished on 1366000/1371980 queries. users per second: 46994.5"
            ],
            "text/html": [
              "<pre>recommendations finished on 1366000/1371980 queries. users per second: 46994.5</pre>"
            ]
          },
          "metadata": {}
        },
        {
          "output_type": "display_data",
          "data": {
            "text/plain": [
              "recommendations finished on 1367000/1371980 queries. users per second: 46979.6"
            ],
            "text/html": [
              "<pre>recommendations finished on 1367000/1371980 queries. users per second: 46979.6</pre>"
            ]
          },
          "metadata": {}
        },
        {
          "output_type": "display_data",
          "data": {
            "text/plain": [
              "recommendations finished on 1368000/1371980 queries. users per second: 46965.1"
            ],
            "text/html": [
              "<pre>recommendations finished on 1368000/1371980 queries. users per second: 46965.1</pre>"
            ]
          },
          "metadata": {}
        },
        {
          "output_type": "display_data",
          "data": {
            "text/plain": [
              "recommendations finished on 1369000/1371980 queries. users per second: 46949.8"
            ],
            "text/html": [
              "<pre>recommendations finished on 1369000/1371980 queries. users per second: 46949.8</pre>"
            ]
          },
          "metadata": {}
        },
        {
          "output_type": "display_data",
          "data": {
            "text/plain": [
              "recommendations finished on 1370000/1371980 queries. users per second: 46935.6"
            ],
            "text/html": [
              "<pre>recommendations finished on 1370000/1371980 queries. users per second: 46935.6</pre>"
            ]
          },
          "metadata": {}
        },
        {
          "output_type": "display_data",
          "data": {
            "text/plain": [
              "recommendations finished on 1371000/1371980 queries. users per second: 46918"
            ],
            "text/html": [
              "<pre>recommendations finished on 1371000/1371980 queries. users per second: 46918</pre>"
            ]
          },
          "metadata": {}
        },
        {
          "output_type": "stream",
          "name": "stdout",
          "text": [
            "+-------------------------------+------------+----------------------+------+\n",
            "|          customer_id          | article_id |        score         | rank |\n",
            "+-------------------------------+------------+----------------------+------+\n",
            "| 00000dbacae5abe5e23885899a... | 688537004  | 0.007973055839538574 |  1   |\n",
            "| 00000dbacae5abe5e23885899a... | 688537011  | 0.007073909044265747 |  2   |\n",
            "| 00000dbacae5abe5e23885899a... | 684209013  | 0.00698101282119751  |  3   |\n",
            "| 00000dbacae5abe5e23885899a... | 684209004  | 0.006326706409454346 |  4   |\n",
            "| 00000dbacae5abe5e23885899a... | 599580017  | 0.006084579229354859 |  5   |\n",
            "| 00000dbacae5abe5e23885899a... | 684209001  | 0.005404087305068969 |  6   |\n",
            "| 00000dbacae5abe5e23885899a... | 599580020  | 0.005303386449813843 |  7   |\n",
            "| 00000dbacae5abe5e23885899a... | 692930003  | 0.004866806268692017 |  8   |\n",
            "| 00000dbacae5abe5e23885899a... | 684341001  | 0.004700958728790283 |  9   |\n",
            "| 00000dbacae5abe5e23885899a... | 689109003  | 0.004520153999328614 |  10  |\n",
            "| 00000dbacae5abe5e23885899a... | 554450036  | 0.004374058246612549 |  11  |\n",
            "| 00000dbacae5abe5e23885899a... | 866383001  | 0.004061751365661621 |  12  |\n",
            "| 0000423b00ade91418cceaf3b2... | 688537004  | 0.007973055839538574 |  1   |\n",
            "| 0000423b00ade91418cceaf3b2... | 688537011  | 0.007073909044265747 |  2   |\n",
            "| 0000423b00ade91418cceaf3b2... | 684209013  | 0.00698101282119751  |  3   |\n",
            "| 0000423b00ade91418cceaf3b2... | 684209004  | 0.006326706409454346 |  4   |\n",
            "| 0000423b00ade91418cceaf3b2... | 599580017  | 0.006084579229354859 |  5   |\n",
            "| 0000423b00ade91418cceaf3b2... | 684209001  | 0.005404087305068969 |  6   |\n",
            "| 0000423b00ade91418cceaf3b2... | 599580020  | 0.005303386449813843 |  7   |\n",
            "| 0000423b00ade91418cceaf3b2... | 692930003  | 0.004866806268692017 |  8   |\n",
            "| 0000423b00ade91418cceaf3b2... | 684341001  | 0.004700958728790283 |  9   |\n",
            "| 0000423b00ade91418cceaf3b2... | 689109003  | 0.004520153999328614 |  10  |\n",
            "| 0000423b00ade91418cceaf3b2... | 554450036  | 0.004374058246612549 |  11  |\n",
            "| 0000423b00ade91418cceaf3b2... | 866383001  | 0.004061751365661621 |  12  |\n",
            "| 000058a12d5b43e67d225668fa... | 688537004  | 0.007973055839538574 |  1   |\n",
            "| 000058a12d5b43e67d225668fa... | 688537011  | 0.007073909044265747 |  2   |\n",
            "| 000058a12d5b43e67d225668fa... | 684209013  | 0.00698101282119751  |  3   |\n",
            "| 000058a12d5b43e67d225668fa... | 684209004  | 0.006326706409454346 |  4   |\n",
            "| 000058a12d5b43e67d225668fa... | 599580017  | 0.006084579229354859 |  5   |\n",
            "| 000058a12d5b43e67d225668fa... | 684209001  | 0.005404087305068969 |  6   |\n",
            "+-------------------------------+------------+----------------------+------+\n",
            "[16463760 rows x 4 columns]\n",
            "\n"
          ]
        }
      ]
    },
    {
      "cell_type": "code",
      "source": [
        "df_rec = recom.to_dataframe()\n",
        "print(df_rec.shape)\n",
        "df_rec.head()"
      ],
      "metadata": {
        "colab": {
          "base_uri": "https://localhost:8080/",
          "height": 225
        },
        "id": "ZW2LXHT-677t",
        "outputId": "29c2b6a4-6ae8-4fe1-810a-d7a4b385d199"
      },
      "execution_count": 190,
      "outputs": [
        {
          "output_type": "stream",
          "name": "stdout",
          "text": [
            "(16463760, 4)\n"
          ]
        },
        {
          "output_type": "execute_result",
          "data": {
            "text/plain": [
              "                                         customer_id  article_id     score  \\\n",
              "0  00000dbacae5abe5e23885899a1fa44253a17956c6d1c3...   688537004  0.007973   \n",
              "1  00000dbacae5abe5e23885899a1fa44253a17956c6d1c3...   688537011  0.007074   \n",
              "2  00000dbacae5abe5e23885899a1fa44253a17956c6d1c3...   684209013  0.006981   \n",
              "3  00000dbacae5abe5e23885899a1fa44253a17956c6d1c3...   684209004  0.006327   \n",
              "4  00000dbacae5abe5e23885899a1fa44253a17956c6d1c3...   599580017  0.006085   \n",
              "\n",
              "   rank  \n",
              "0     1  \n",
              "1     2  \n",
              "2     3  \n",
              "3     4  \n",
              "4     5  "
            ],
            "text/html": [
              "\n",
              "  <div id=\"df-bf9b10fd-4ca4-47b7-8667-ebcf5d8b3f2f\">\n",
              "    <div class=\"colab-df-container\">\n",
              "      <div>\n",
              "<style scoped>\n",
              "    .dataframe tbody tr th:only-of-type {\n",
              "        vertical-align: middle;\n",
              "    }\n",
              "\n",
              "    .dataframe tbody tr th {\n",
              "        vertical-align: top;\n",
              "    }\n",
              "\n",
              "    .dataframe thead th {\n",
              "        text-align: right;\n",
              "    }\n",
              "</style>\n",
              "<table border=\"1\" class=\"dataframe\">\n",
              "  <thead>\n",
              "    <tr style=\"text-align: right;\">\n",
              "      <th></th>\n",
              "      <th>customer_id</th>\n",
              "      <th>article_id</th>\n",
              "      <th>score</th>\n",
              "      <th>rank</th>\n",
              "    </tr>\n",
              "  </thead>\n",
              "  <tbody>\n",
              "    <tr>\n",
              "      <th>0</th>\n",
              "      <td>00000dbacae5abe5e23885899a1fa44253a17956c6d1c3...</td>\n",
              "      <td>688537004</td>\n",
              "      <td>0.007973</td>\n",
              "      <td>1</td>\n",
              "    </tr>\n",
              "    <tr>\n",
              "      <th>1</th>\n",
              "      <td>00000dbacae5abe5e23885899a1fa44253a17956c6d1c3...</td>\n",
              "      <td>688537011</td>\n",
              "      <td>0.007074</td>\n",
              "      <td>2</td>\n",
              "    </tr>\n",
              "    <tr>\n",
              "      <th>2</th>\n",
              "      <td>00000dbacae5abe5e23885899a1fa44253a17956c6d1c3...</td>\n",
              "      <td>684209013</td>\n",
              "      <td>0.006981</td>\n",
              "      <td>3</td>\n",
              "    </tr>\n",
              "    <tr>\n",
              "      <th>3</th>\n",
              "      <td>00000dbacae5abe5e23885899a1fa44253a17956c6d1c3...</td>\n",
              "      <td>684209004</td>\n",
              "      <td>0.006327</td>\n",
              "      <td>4</td>\n",
              "    </tr>\n",
              "    <tr>\n",
              "      <th>4</th>\n",
              "      <td>00000dbacae5abe5e23885899a1fa44253a17956c6d1c3...</td>\n",
              "      <td>599580017</td>\n",
              "      <td>0.006085</td>\n",
              "      <td>5</td>\n",
              "    </tr>\n",
              "  </tbody>\n",
              "</table>\n",
              "</div>\n",
              "      <button class=\"colab-df-convert\" onclick=\"convertToInteractive('df-bf9b10fd-4ca4-47b7-8667-ebcf5d8b3f2f')\"\n",
              "              title=\"Convert this dataframe to an interactive table.\"\n",
              "              style=\"display:none;\">\n",
              "        \n",
              "  <svg xmlns=\"http://www.w3.org/2000/svg\" height=\"24px\"viewBox=\"0 0 24 24\"\n",
              "       width=\"24px\">\n",
              "    <path d=\"M0 0h24v24H0V0z\" fill=\"none\"/>\n",
              "    <path d=\"M18.56 5.44l.94 2.06.94-2.06 2.06-.94-2.06-.94-.94-2.06-.94 2.06-2.06.94zm-11 1L8.5 8.5l.94-2.06 2.06-.94-2.06-.94L8.5 2.5l-.94 2.06-2.06.94zm10 10l.94 2.06.94-2.06 2.06-.94-2.06-.94-.94-2.06-.94 2.06-2.06.94z\"/><path d=\"M17.41 7.96l-1.37-1.37c-.4-.4-.92-.59-1.43-.59-.52 0-1.04.2-1.43.59L10.3 9.45l-7.72 7.72c-.78.78-.78 2.05 0 2.83L4 21.41c.39.39.9.59 1.41.59.51 0 1.02-.2 1.41-.59l7.78-7.78 2.81-2.81c.8-.78.8-2.07 0-2.86zM5.41 20L4 18.59l7.72-7.72 1.47 1.35L5.41 20z\"/>\n",
              "  </svg>\n",
              "      </button>\n",
              "      \n",
              "  <style>\n",
              "    .colab-df-container {\n",
              "      display:flex;\n",
              "      flex-wrap:wrap;\n",
              "      gap: 12px;\n",
              "    }\n",
              "\n",
              "    .colab-df-convert {\n",
              "      background-color: #E8F0FE;\n",
              "      border: none;\n",
              "      border-radius: 50%;\n",
              "      cursor: pointer;\n",
              "      display: none;\n",
              "      fill: #1967D2;\n",
              "      height: 32px;\n",
              "      padding: 0 0 0 0;\n",
              "      width: 32px;\n",
              "    }\n",
              "\n",
              "    .colab-df-convert:hover {\n",
              "      background-color: #E2EBFA;\n",
              "      box-shadow: 0px 1px 2px rgba(60, 64, 67, 0.3), 0px 1px 3px 1px rgba(60, 64, 67, 0.15);\n",
              "      fill: #174EA6;\n",
              "    }\n",
              "\n",
              "    [theme=dark] .colab-df-convert {\n",
              "      background-color: #3B4455;\n",
              "      fill: #D2E3FC;\n",
              "    }\n",
              "\n",
              "    [theme=dark] .colab-df-convert:hover {\n",
              "      background-color: #434B5C;\n",
              "      box-shadow: 0px 1px 3px 1px rgba(0, 0, 0, 0.15);\n",
              "      filter: drop-shadow(0px 1px 2px rgba(0, 0, 0, 0.3));\n",
              "      fill: #FFFFFF;\n",
              "    }\n",
              "  </style>\n",
              "\n",
              "      <script>\n",
              "        const buttonEl =\n",
              "          document.querySelector('#df-bf9b10fd-4ca4-47b7-8667-ebcf5d8b3f2f button.colab-df-convert');\n",
              "        buttonEl.style.display =\n",
              "          google.colab.kernel.accessAllowed ? 'block' : 'none';\n",
              "\n",
              "        async function convertToInteractive(key) {\n",
              "          const element = document.querySelector('#df-bf9b10fd-4ca4-47b7-8667-ebcf5d8b3f2f');\n",
              "          const dataTable =\n",
              "            await google.colab.kernel.invokeFunction('convertToInteractive',\n",
              "                                                     [key], {});\n",
              "          if (!dataTable) return;\n",
              "\n",
              "          const docLinkHtml = 'Like what you see? Visit the ' +\n",
              "            '<a target=\"_blank\" href=https://colab.research.google.com/notebooks/data_table.ipynb>data table notebook</a>'\n",
              "            + ' to learn more about interactive tables.';\n",
              "          element.innerHTML = '';\n",
              "          dataTable['output_type'] = 'display_data';\n",
              "          await google.colab.output.renderOutput(dataTable, element);\n",
              "          const docLink = document.createElement('div');\n",
              "          docLink.innerHTML = docLinkHtml;\n",
              "          element.appendChild(docLink);\n",
              "        }\n",
              "      </script>\n",
              "    </div>\n",
              "  </div>\n",
              "  "
            ]
          },
          "metadata": {},
          "execution_count": 190
        }
      ]
    },
    {
      "cell_type": "code",
      "source": [
        "df_rec['recommend_item'] = df_rec.groupby(['customer_id'])['article_id'].transform(lambda x: '\\n'.join(x.astype(str)))\n",
        "df_output = df_rec[['customer_id', 'recommend_item']].drop_duplicates().sort_values('customer_id').set_index('customer_id')"
      ],
      "metadata": {
        "id": "gk3r6Rqg5qcA"
      },
      "execution_count": 196,
      "outputs": []
    },
    {
      "cell_type": "code",
      "source": [],
      "metadata": {
        "id": "5LYQv62g9HZO"
      },
      "execution_count": 198,
      "outputs": []
    },
    {
      "cell_type": "code",
      "source": [],
      "metadata": {
        "id": "5SJkl-DG9Isf"
      },
      "execution_count": null,
      "outputs": []
    }
  ]
}